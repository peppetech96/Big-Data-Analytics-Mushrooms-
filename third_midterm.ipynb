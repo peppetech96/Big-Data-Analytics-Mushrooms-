{
 "cells": [
  {
   "cell_type": "code",
   "execution_count": 2,
   "metadata": {
    "cell_id": "00000-33e5c763-4d1c-4cd0-b2f1-bf53b8370054",
    "colab": {
     "base_uri": "https://localhost:8080/"
    },
    "deepnote_cell_type": "code",
    "deepnote_to_be_reexecuted": false,
    "executionInfo": {
     "elapsed": 19844,
     "status": "ok",
     "timestamp": 1639480594054,
     "user": {
      "displayName": "Michele Zoncheddu",
      "photoUrl": "https://lh3.googleusercontent.com/a/default-user=s64",
      "userId": "04369211257019616469"
     },
     "user_tz": -60
    },
    "execution_millis": 11266,
    "execution_start": 1639414605009,
    "id": "lsC7sWukmm2k",
    "outputId": "f11fadb9-52b2-492c-d56c-84453298e7a2",
    "source_hash": "57d09916",
    "tags": []
   },
   "outputs": [
    {
     "name": "stdout",
     "output_type": "stream",
     "text": [
      "Requirement already satisfied: jupyter in /usr/local/lib/python3.7/dist-packages (1.0.0)\n",
      "Requirement already satisfied: ipywidgets in /usr/local/lib/python3.7/dist-packages (7.6.5)\n",
      "Requirement already satisfied: qtconsole in /usr/local/lib/python3.7/dist-packages (from jupyter) (5.2.1)\n",
      "Requirement already satisfied: notebook in /usr/local/lib/python3.7/dist-packages (from jupyter) (5.3.1)\n",
      "Requirement already satisfied: ipykernel in /usr/local/lib/python3.7/dist-packages (from jupyter) (4.10.1)\n",
      "Requirement already satisfied: jupyter-console in /usr/local/lib/python3.7/dist-packages (from jupyter) (5.2.0)\n",
      "Requirement already satisfied: nbconvert in /usr/local/lib/python3.7/dist-packages (from jupyter) (5.6.1)\n",
      "Requirement already satisfied: ipython-genutils~=0.2.0 in /usr/local/lib/python3.7/dist-packages (from ipywidgets) (0.2.0)\n",
      "Requirement already satisfied: ipython>=4.0.0 in /usr/local/lib/python3.7/dist-packages (from ipywidgets) (5.5.0)\n",
      "Requirement already satisfied: traitlets>=4.3.1 in /usr/local/lib/python3.7/dist-packages (from ipywidgets) (5.1.1)\n",
      "Requirement already satisfied: jupyterlab-widgets>=1.0.0 in /usr/local/lib/python3.7/dist-packages (from ipywidgets) (1.0.2)\n",
      "Requirement already satisfied: nbformat>=4.2.0 in /usr/local/lib/python3.7/dist-packages (from ipywidgets) (5.1.3)\n",
      "Requirement already satisfied: widgetsnbextension~=3.5.0 in /usr/local/lib/python3.7/dist-packages (from ipywidgets) (3.5.2)\n",
      "Requirement already satisfied: tornado>=4.0 in /usr/local/lib/python3.7/dist-packages (from ipykernel->jupyter) (5.1.1)\n",
      "Requirement already satisfied: jupyter-client in /usr/local/lib/python3.7/dist-packages (from ipykernel->jupyter) (5.3.5)\n",
      "Requirement already satisfied: pexpect in /usr/local/lib/python3.7/dist-packages (from ipython>=4.0.0->ipywidgets) (4.8.0)\n",
      "Requirement already satisfied: decorator in /usr/local/lib/python3.7/dist-packages (from ipython>=4.0.0->ipywidgets) (4.4.2)\n",
      "Requirement already satisfied: pickleshare in /usr/local/lib/python3.7/dist-packages (from ipython>=4.0.0->ipywidgets) (0.7.5)\n",
      "Requirement already satisfied: prompt-toolkit<2.0.0,>=1.0.4 in /usr/local/lib/python3.7/dist-packages (from ipython>=4.0.0->ipywidgets) (1.0.18)\n",
      "Requirement already satisfied: simplegeneric>0.8 in /usr/local/lib/python3.7/dist-packages (from ipython>=4.0.0->ipywidgets) (0.8.1)\n",
      "Requirement already satisfied: pygments in /usr/local/lib/python3.7/dist-packages (from ipython>=4.0.0->ipywidgets) (2.6.1)\n",
      "Requirement already satisfied: setuptools>=18.5 in /usr/local/lib/python3.7/dist-packages (from ipython>=4.0.0->ipywidgets) (57.4.0)\n",
      "Requirement already satisfied: jsonschema!=2.5.0,>=2.4 in /usr/local/lib/python3.7/dist-packages (from nbformat>=4.2.0->ipywidgets) (2.6.0)\n",
      "Requirement already satisfied: jupyter-core in /usr/local/lib/python3.7/dist-packages (from nbformat>=4.2.0->ipywidgets) (4.9.1)\n",
      "Requirement already satisfied: six>=1.9.0 in /usr/local/lib/python3.7/dist-packages (from prompt-toolkit<2.0.0,>=1.0.4->ipython>=4.0.0->ipywidgets) (1.15.0)\n",
      "Requirement already satisfied: wcwidth in /usr/local/lib/python3.7/dist-packages (from prompt-toolkit<2.0.0,>=1.0.4->ipython>=4.0.0->ipywidgets) (0.2.5)\n",
      "Requirement already satisfied: jinja2 in /usr/local/lib/python3.7/dist-packages (from notebook->jupyter) (2.11.3)\n",
      "Requirement already satisfied: Send2Trash in /usr/local/lib/python3.7/dist-packages (from notebook->jupyter) (1.8.0)\n",
      "Requirement already satisfied: terminado>=0.8.1 in /usr/local/lib/python3.7/dist-packages (from notebook->jupyter) (0.12.1)\n",
      "Requirement already satisfied: python-dateutil>=2.1 in /usr/local/lib/python3.7/dist-packages (from jupyter-client->ipykernel->jupyter) (2.8.2)\n",
      "Requirement already satisfied: pyzmq>=13 in /usr/local/lib/python3.7/dist-packages (from jupyter-client->ipykernel->jupyter) (22.3.0)\n",
      "Requirement already satisfied: ptyprocess in /usr/local/lib/python3.7/dist-packages (from terminado>=0.8.1->notebook->jupyter) (0.7.0)\n",
      "Requirement already satisfied: MarkupSafe>=0.23 in /usr/local/lib/python3.7/dist-packages (from jinja2->notebook->jupyter) (2.0.1)\n",
      "Requirement already satisfied: defusedxml in /usr/local/lib/python3.7/dist-packages (from nbconvert->jupyter) (0.7.1)\n",
      "Requirement already satisfied: pandocfilters>=1.4.1 in /usr/local/lib/python3.7/dist-packages (from nbconvert->jupyter) (1.5.0)\n",
      "Requirement already satisfied: entrypoints>=0.2.2 in /usr/local/lib/python3.7/dist-packages (from nbconvert->jupyter) (0.3)\n",
      "Requirement already satisfied: mistune<2,>=0.8.1 in /usr/local/lib/python3.7/dist-packages (from nbconvert->jupyter) (0.8.4)\n",
      "Requirement already satisfied: testpath in /usr/local/lib/python3.7/dist-packages (from nbconvert->jupyter) (0.5.0)\n",
      "Requirement already satisfied: bleach in /usr/local/lib/python3.7/dist-packages (from nbconvert->jupyter) (4.1.0)\n",
      "Requirement already satisfied: webencodings in /usr/local/lib/python3.7/dist-packages (from bleach->nbconvert->jupyter) (0.5.1)\n",
      "Requirement already satisfied: packaging in /usr/local/lib/python3.7/dist-packages (from bleach->nbconvert->jupyter) (21.3)\n",
      "Requirement already satisfied: pyparsing!=3.0.5,>=2.0.2 in /usr/local/lib/python3.7/dist-packages (from packaging->bleach->nbconvert->jupyter) (3.0.6)\n",
      "Requirement already satisfied: qtpy in /usr/local/lib/python3.7/dist-packages (from qtconsole->jupyter) (1.11.2)\n",
      "Requirement already satisfied: pydotplus in /usr/local/lib/python3.7/dist-packages (2.0.2)\n",
      "Requirement already satisfied: pyparsing>=2.0.1 in /usr/local/lib/python3.7/dist-packages (from pydotplus) (3.0.6)\n",
      "Requirement already satisfied: shap in /usr/local/lib/python3.7/dist-packages (0.40.0)\n",
      "Requirement already satisfied: numpy in /usr/local/lib/python3.7/dist-packages (from shap) (1.19.5)\n",
      "Requirement already satisfied: cloudpickle in /usr/local/lib/python3.7/dist-packages (from shap) (1.3.0)\n",
      "Requirement already satisfied: numba in /usr/local/lib/python3.7/dist-packages (from shap) (0.51.2)\n",
      "Requirement already satisfied: scipy in /usr/local/lib/python3.7/dist-packages (from shap) (1.4.1)\n",
      "Requirement already satisfied: tqdm>4.25.0 in /usr/local/lib/python3.7/dist-packages (from shap) (4.62.3)\n",
      "Requirement already satisfied: pandas in /usr/local/lib/python3.7/dist-packages (from shap) (1.1.5)\n",
      "Requirement already satisfied: packaging>20.9 in /usr/local/lib/python3.7/dist-packages (from shap) (21.3)\n",
      "Requirement already satisfied: slicer==0.0.7 in /usr/local/lib/python3.7/dist-packages (from shap) (0.0.7)\n",
      "Requirement already satisfied: scikit-learn in /usr/local/lib/python3.7/dist-packages (from shap) (1.0.1)\n",
      "Requirement already satisfied: pyparsing!=3.0.5,>=2.0.2 in /usr/local/lib/python3.7/dist-packages (from packaging>20.9->shap) (3.0.6)\n",
      "Requirement already satisfied: setuptools in /usr/local/lib/python3.7/dist-packages (from numba->shap) (57.4.0)\n",
      "Requirement already satisfied: llvmlite<0.35,>=0.34.0.dev0 in /usr/local/lib/python3.7/dist-packages (from numba->shap) (0.34.0)\n",
      "Requirement already satisfied: python-dateutil>=2.7.3 in /usr/local/lib/python3.7/dist-packages (from pandas->shap) (2.8.2)\n",
      "Requirement already satisfied: pytz>=2017.2 in /usr/local/lib/python3.7/dist-packages (from pandas->shap) (2018.9)\n",
      "Requirement already satisfied: six>=1.5 in /usr/local/lib/python3.7/dist-packages (from python-dateutil>=2.7.3->pandas->shap) (1.15.0)\n",
      "Requirement already satisfied: threadpoolctl>=2.0.0 in /usr/local/lib/python3.7/dist-packages (from scikit-learn->shap) (3.0.0)\n",
      "Requirement already satisfied: joblib>=0.11 in /usr/local/lib/python3.7/dist-packages (from scikit-learn->shap) (1.1.0)\n"
     ]
    }
   ],
   "source": [
    "!pip install jupyter ipywidgets\n",
    "!pip install pydotplus\n",
    "!pip install shap\n",
    "\n",
    "import matplotlib.pyplot as plt\n",
    "import numpy as np\n",
    "import pandas as pd\n",
    "import pydotplus\n",
    "import shap\n",
    "import tempfile\n",
    "\n",
    "from IPython.core.display import display, HTML\n",
    "from IPython.display import Image\n",
    "from sklearn.model_selection import train_test_split\n",
    "from sklearn.metrics import accuracy_score\n",
    "from sklearn.neighbors import KNeighborsClassifier\n",
    "from sklearn.tree import DecisionTreeClassifier\n",
    "from sklearn import tree"
   ]
  },
  {
   "cell_type": "markdown",
   "metadata": {
    "cell_id": "00038-b6694884-5b19-4c50-b832-1ab25934f1ce",
    "deepnote_cell_type": "markdown",
    "id": "gP_-F6HWmm2n",
    "tags": []
   },
   "source": [
    "The ```choose_rand_interval``` function choose a 100 sized random interval  of samples from test set.\n",
    "\n",
    "The ```plot_heatmap_randSample``` function comuputes the SHAP values on a chosen random interval on the test set and plot the heatmap."
   ]
  },
  {
   "cell_type": "code",
   "execution_count": 3,
   "metadata": {
    "cell_id": "00021-6a77144e-8a84-44f7-9d82-b622f2738651",
    "deepnote_cell_type": "code",
    "deepnote_output_heights": [
     null,
     null,
     null,
     346
    ],
    "deepnote_to_be_reexecuted": false,
    "executionInfo": {
     "elapsed": 26,
     "status": "ok",
     "timestamp": 1639480594056,
     "user": {
      "displayName": "Michele Zoncheddu",
      "photoUrl": "https://lh3.googleusercontent.com/a/default-user=s64",
      "userId": "04369211257019616469"
     },
     "user_tz": -60
    },
    "execution_millis": 9440385,
    "execution_start": 1639414616391,
    "id": "1EwkIZ9hmm2r",
    "source_hash": "de87054f",
    "tags": []
   },
   "outputs": [],
   "source": [
    "# let's choose a random interval\n",
    "import random \n",
    "\n",
    "def choose_rand_interval(seed, sample):\n",
    "    random.seed(seed)\n",
    "    a = random.randint(0, sample.shape[0])\n",
    "    b = a + 100\n",
    "    return (a, b)\n",
    "\n",
    "\n",
    "def plot_heatmap_randSample(seed, sample, clf):\n",
    "    # compute shap_values using a random interval on the test_set\n",
    "    interval = choose_rand_interval(seed, sample)\n",
    "    kernel_explainer = shap.KernelExplainer(clf.predict, sample[interval[0]: interval[1]])\n",
    "    shap_values = kernel_explainer.shap_values(sample[ interval[0]: interval[1]])\n",
    "\n",
    "    print(interval[0], interval[1])\n",
    "\n",
    "    # plotting heatmap\n",
    "    shap.plots.heatmap(\n",
    "        shap.Explanation(\n",
    "                values=shap_values[:100],\n",
    "                feature_names=sample.columns.tolist()\n",
    "            )\n",
    "        )"
   ]
  },
  {
   "cell_type": "code",
   "execution_count": 4,
   "metadata": {
    "cell_id": "00029-1773631d-072a-4249-ac76-eb6fb60c383f",
    "deepnote_cell_type": "code",
    "deepnote_output_heights": [
     21.1875
    ],
    "deepnote_to_be_reexecuted": false,
    "executionInfo": {
     "elapsed": 22,
     "status": "ok",
     "timestamp": 1639480594057,
     "user": {
      "displayName": "Michele Zoncheddu",
      "photoUrl": "https://lh3.googleusercontent.com/a/default-user=s64",
      "userId": "04369211257019616469"
     },
     "user_tz": -60
    },
    "execution_millis": 9361542,
    "execution_start": 1639414616399,
    "id": "RbEkwGTUmm2t",
    "source_hash": "576fc04f",
    "tags": []
   },
   "outputs": [],
   "source": [
    "def get_randInstance(seed, sample):\n",
    "    random.seed(seed)\n",
    "    return random.randint(0, sample.shape[0])"
   ]
  },
  {
   "cell_type": "code",
   "execution_count": 5,
   "metadata": {
    "cell_id": "00005-86a21966-564b-405c-af46-3cc74a293ef6",
    "deepnote_cell_type": "code",
    "executionInfo": {
     "elapsed": 21,
     "status": "ok",
     "timestamp": 1639480594057,
     "user": {
      "displayName": "Michele Zoncheddu",
      "photoUrl": "https://lh3.googleusercontent.com/a/default-user=s64",
      "userId": "04369211257019616469"
     },
     "user_tz": -60
    },
    "id": "Y_4du32Jmm2u",
    "tags": []
   },
   "outputs": [],
   "source": [
    "def simple_SHAP(df_shap, df):\n",
    "    # Make a copy of the input data\n",
    "    shap_v = pd.DataFrame(df_shap)\n",
    "    feature_list = df.columns\n",
    "    shap_v.columns = feature_list\n",
    "    df_v = df.copy().reset_index().drop('index',axis=1)\n",
    "    \n",
    "    # Determine the correlation in order to plot with different colors\n",
    "    corr_list = list()\n",
    "    for i in feature_list:\n",
    "        b = np.corrcoef(shap_v[i],df_v[i])[1][0]\n",
    "        corr_list.append(b)\n",
    "    corr_df = pd.concat([pd.Series(feature_list),pd.Series(corr_list)],axis=1).fillna(0)\n",
    "    # Make a data frame. Column 1 is the feature, and Column 2 is the correlation coefficient\n",
    "    corr_df.columns  = ['Variable','Corr']\n",
    "    corr_df['Sign'] = np.where(corr_df['Corr']>0,'red','blue')\n",
    "    \n",
    "    # Plot it\n",
    "    shap_abs = np.abs(shap_v)\n",
    "    k=pd.DataFrame(shap_abs.mean()).reset_index()\n",
    "    k.columns = ['Variable','SHAP_abs']\n",
    "    k2 = k.merge(corr_df,left_on = 'Variable',right_on='Variable', how='inner')\n",
    "    k2 = k2.sort_values(by='SHAP_abs',ascending = True)\n",
    "    colorlist = k2['Sign']\n",
    "    ax = k2.plot.barh(x='Variable',y='SHAP_abs',color = colorlist, figsize=(5,6),legend=False)\n",
    "    ax.set_xlabel(\"SHAP Value (Red = Positive Impact)\")"
   ]
  },
  {
   "cell_type": "markdown",
   "metadata": {
    "cell_id": "00004-f6c413fd-87e2-492c-90a7-888db19f7f2e",
    "deepnote_cell_type": "markdown",
    "id": "EZmTr3OHmm2v",
    "tags": []
   },
   "source": [
    "## Brief recall on models used on classification 📊"
   ]
  },
  {
   "cell_type": "markdown",
   "metadata": {
    "cell_id": "00005-87f6249f-80f3-4c71-ad00-31c4406c1b27",
    "deepnote_cell_type": "markdown",
    "id": "LmAb8gimmm2y",
    "tags": []
   },
   "source": [
    "During the classification task, we have trained essentially 5 models:\n",
    "- K-Nearest Neighbors (KNN)\n",
    "- Naive Bayes (NB)\n",
    "- Support Vector Machine (SVM)\n",
    "- Random Forest (RF)\n",
    "- Decision Tree (DT)\n",
    "\n",
    "on two versions of the mushrooms dataset:\n",
    "\n",
    "- the ```original dataset```: the original one, \n",
    "- the ```reduced dataset```: have been removed all the features that **might be hard/impossible to see or to determine** such as the odor, the root of the stalk, the color of the spores, the population, and the habitat.\n",
    "\n"
   ]
  },
  {
   "cell_type": "markdown",
   "metadata": {
    "cell_id": "00006-1705e266-464a-4883-9961-6a336104bda6",
    "deepnote_cell_type": "markdown",
    "id": "dryJ1xrWmm2z",
    "tags": []
   },
   "source": [
    "## What we are going to analyze 👨‍💻 🔍"
   ]
  },
  {
   "cell_type": "markdown",
   "metadata": {
    "cell_id": "00004-ae3b1658-9478-414b-99f6-f1b99ce7fba2",
    "deepnote_cell_type": "markdown",
    "id": "naLMsxQjmm21",
    "tags": []
   },
   "source": [
    "We decide to make an analysis of explainability only for the models:\n",
    "- **K-Nearest Neighbors (KNN)** as a **black-box model**\n",
    "- **Decision Tree** as a **white-box model**\n",
    "\n",
    "on the **original dataset** with reduced dimensionality perfomed by **Recursive Feature Elimination** during the training phase in the classification.\n",
    "\n",
    "We chose:\n",
    "- **K-Nearest Neighbors** because it was the best in terms of performance on recall on poisonous class, so there were very few false edible on test; \n",
    "- **Decision Tree** since it achieves a very good perfomances on recall score on poisonous class, and beacuse it is simple to explain by showing its structure, that easily describes the rules it is composed of."
   ]
  },
  {
   "cell_type": "markdown",
   "metadata": {
    "cell_id": "00002-51fde3f0-8207-472c-90fd-a169724c9e10",
    "deepnote_cell_type": "markdown",
    "id": "pa2EtHlimm22",
    "tags": []
   },
   "source": [
    "## Explanation of KNN"
   ]
  },
  {
   "cell_type": "markdown",
   "metadata": {
    "cell_id": "00013-ce5a94b2-cfe9-4be5-b8b5-a6be4fa358e5",
    "deepnote_cell_type": "markdown",
    "id": "9mof6RQOmm22",
    "tags": []
   },
   "source": [
    "In this section, we are going to analyze the explainablity of KNN model with SHAP.\n",
    "In particular, using SHAP we perfomed two kind of analysis:\n",
    "- **global interpretability**: the collective SHAP values can show how much each feature contributes, either positively or negatively, to the target variable.\n",
    "- **local interpretability**: interpret the prediction of the model on specific records that are correctly/incorrectly classified.\n"
   ]
  },
  {
   "cell_type": "markdown",
   "metadata": {
    "cell_id": "00006-64f3c9a9-a573-4148-853d-d263c99b062c",
    "deepnote_cell_type": "markdown",
    "id": "Gsv_dSeomm22",
    "tags": []
   },
   "source": [
    "### Best KNN model"
   ]
  },
  {
   "cell_type": "code",
   "execution_count": 6,
   "metadata": {
    "cell_id": "00000-f22f9fb7-8df8-4d08-a742-6c2aebbff67b",
    "deepnote_cell_type": "code",
    "deepnote_to_be_reexecuted": false,
    "executionInfo": {
     "elapsed": 19,
     "status": "ok",
     "timestamp": 1639480594058,
     "user": {
      "displayName": "Michele Zoncheddu",
      "photoUrl": "https://lh3.googleusercontent.com/a/default-user=s64",
      "userId": "04369211257019616469"
     },
     "user_tz": -60
    },
    "execution_millis": 1579694,
    "execution_start": 1639414616455,
    "id": "zG4pCFidmm23",
    "source_hash": "59a5261c",
    "tags": []
   },
   "outputs": [],
   "source": [
    "knn_features = [\n",
    "    'edible',\n",
    "    'bruises',\n",
    "    'odor_f',\n",
    "    'odor_n', \n",
    "    'odor_p',\n",
    "    'stalk-color-below-ring_y',\n",
    "    'spore-print-color_r'\n",
    "]"
   ]
  },
  {
   "cell_type": "markdown",
   "metadata": {
    "cell_id": "00002-5ab22e53-e542-4401-b067-c816062a7a6c",
    "deepnote_cell_type": "markdown",
    "id": "REQQ8h3Hmm23",
    "tags": []
   },
   "source": [
    "Let's read the mushrooms one-hot encoded dataset to make an analysis of explainability. We will consider the dataset with only the relevant features obtained from RFE."
   ]
  },
  {
   "cell_type": "code",
   "execution_count": 7,
   "metadata": {
    "colab": {
     "base_uri": "https://localhost:8080/"
    },
    "executionInfo": {
     "elapsed": 1374,
     "status": "ok",
     "timestamp": 1639480595415,
     "user": {
      "displayName": "Michele Zoncheddu",
      "photoUrl": "https://lh3.googleusercontent.com/a/default-user=s64",
      "userId": "04369211257019616469"
     },
     "user_tz": -60
    },
    "id": "zPykZyRynRQf",
    "outputId": "dce00ccc-2e65-45e1-c56f-1c9314288e70"
   },
   "outputs": [
    {
     "name": "stdout",
     "output_type": "stream",
     "text": [
      "Drive already mounted at /content/drive; to attempt to forcibly remount, call drive.mount(\"/content/drive\", force_remount=True).\n"
     ]
    }
   ],
   "source": [
    "from google.colab import drive\n",
    "drive.mount('/content/drive')"
   ]
  },
  {
   "cell_type": "code",
   "execution_count": 8,
   "metadata": {
    "cell_id": "00000-98a7c316-1c16-4717-b212-7f87c173419a",
    "deepnote_cell_type": "code",
    "deepnote_to_be_reexecuted": false,
    "executionInfo": {
     "elapsed": 430,
     "status": "ok",
     "timestamp": 1639480595842,
     "user": {
      "displayName": "Michele Zoncheddu",
      "photoUrl": "https://lh3.googleusercontent.com/a/default-user=s64",
      "userId": "04369211257019616469"
     },
     "user_tz": -60
    },
    "execution_millis": 107,
    "execution_start": 1639414616456,
    "id": "3D0w_CwNmm24",
    "source_hash": "8caeb013",
    "tags": []
   },
   "outputs": [],
   "source": [
    "mushrooms_ohe = pd.read_csv('/content/drive/MyDrive/BDA/explanation/mushrooms_ohe.csv')\n",
    "mushrooms_ohe = mushrooms_ohe[knn_features]\n",
    "label = mushrooms_ohe.pop('edible')"
   ]
  },
  {
   "cell_type": "markdown",
   "metadata": {
    "cell_id": "00005-3597f816-a40e-467d-a070-6c6b99529951",
    "deepnote_cell_type": "markdown",
    "id": "5zd6AS7Zmm25",
    "tags": []
   },
   "source": [
    "Let's split the dataset into train and test."
   ]
  },
  {
   "cell_type": "code",
   "execution_count": 9,
   "metadata": {
    "cell_id": "00003-2672eaa7-d018-4e83-bb38-1ffc4d51c25f",
    "deepnote_cell_type": "code",
    "deepnote_to_be_reexecuted": false,
    "executionInfo": {
     "elapsed": 14,
     "status": "ok",
     "timestamp": 1639480595842,
     "user": {
      "displayName": "Michele Zoncheddu",
      "photoUrl": "https://lh3.googleusercontent.com/a/default-user=s64",
      "userId": "04369211257019616469"
     },
     "user_tz": -60
    },
    "execution_millis": 0,
    "execution_start": 1639414616564,
    "id": "3Xhr5FMXmm25",
    "source_hash": "5a755eee",
    "tags": []
   },
   "outputs": [],
   "source": [
    "train_set, test_set, train_label, test_label = \\\n",
    "    train_test_split(\n",
    "        mushrooms_ohe, label, stratify=label, test_size=0.3, random_state=42\n",
    "    )"
   ]
  },
  {
   "cell_type": "markdown",
   "metadata": {
    "cell_id": "00014-045b401a-6bb1-4457-81e1-af92bd9d6f81",
    "deepnote_cell_type": "markdown",
    "id": "mUjkJdNHmm25",
    "tags": []
   },
   "source": [
    "Let's train the model with its best configuration from classification notebook."
   ]
  },
  {
   "cell_type": "code",
   "execution_count": 10,
   "metadata": {
    "cell_id": "00002-fea579a7-0c9b-468a-8d6b-7ba1816e02c1",
    "deepnote_cell_type": "code",
    "deepnote_to_be_reexecuted": false,
    "executionInfo": {
     "elapsed": 13,
     "status": "ok",
     "timestamp": 1639480595843,
     "user": {
      "displayName": "Michele Zoncheddu",
      "photoUrl": "https://lh3.googleusercontent.com/a/default-user=s64",
      "userId": "04369211257019616469"
     },
     "user_tz": -60
    },
    "execution_millis": 0,
    "execution_start": 1639414616564,
    "id": "rMlwrwahmm26",
    "source_hash": "553c1d0f",
    "tags": []
   },
   "outputs": [],
   "source": [
    "best_knn_params = {\n",
    "    'algorithm': 'auto',\n",
    "    'metric': 'jaccard',\n",
    "    'n_neighbors': 23\n",
    "}\n",
    "\n",
    "knn = KNeighborsClassifier(**best_knn_params).fit(train_set, train_label)"
   ]
  },
  {
   "cell_type": "markdown",
   "metadata": {
    "cell_id": "00008-a2c9f6fe-ab0c-4543-881d-d7a2df4b6322",
    "deepnote_cell_type": "markdown",
    "id": "fouXOyNgmm26",
    "tags": []
   },
   "source": [
    "### Using SHAP Kernel Explainer"
   ]
  },
  {
   "cell_type": "markdown",
   "metadata": {
    "cell_id": "00017-e6318d32-b3bb-4569-aa57-2dce188f411a",
    "deepnote_cell_type": "markdown",
    "id": "W59w3lSvmm26",
    "tags": []
   },
   "source": [
    "Since **K-Nearest Neighbors is a ML non-tree-based model**, it may be explainaed using **KernelExplainer with SHAP**.\n",
    "\n",
    "We decided to perfom the analys on 300 samples for time reason."
   ]
  },
  {
   "cell_type": "code",
   "execution_count": 11,
   "metadata": {
    "cell_id": "00006-08d85d12-9f33-4a05-9c2d-85b2bcd20891",
    "colab": {
     "base_uri": "https://localhost:8080/"
    },
    "deepnote_cell_type": "code",
    "deepnote_output_heights": [
     null,
     611
    ],
    "deepnote_to_be_reexecuted": false,
    "executionInfo": {
     "elapsed": 11,
     "status": "ok",
     "timestamp": 1639480595844,
     "user": {
      "displayName": "Michele Zoncheddu",
      "photoUrl": "https://lh3.googleusercontent.com/a/default-user=s64",
      "userId": "04369211257019616469"
     },
     "user_tz": -60
    },
    "execution_millis": 60,
    "execution_start": 1639414616570,
    "id": "3WdWCi2omm27",
    "outputId": "319656f6-7809-4224-9877-dce602abbe92",
    "source_hash": "1fd6ea29",
    "tags": []
   },
   "outputs": [
    {
     "name": "stderr",
     "output_type": "stream",
     "text": [
      "X does not have valid feature names, but KNeighborsClassifier was fitted with feature names\n",
      "Using 300 background data samples could cause slower run times. Consider using shap.sample(data, K) or shap.kmeans(data, K) to summarize the background as K samples.\n"
     ]
    }
   ],
   "source": [
    "kernel_explainer = shap.KernelExplainer(knn.predict, test_set[:300])\n",
    "#knn_shap_values = kernel_explainer.shap_values(test_set[:300])\n",
    "#np.savetxt('knn_shap_values.txt', knn_shap_values)\n",
    "knn_shap_values = np.loadtxt('/content/drive/MyDrive/BDA/explanation/knn_shap_values.txt')"
   ]
  },
  {
   "cell_type": "markdown",
   "metadata": {
    "cell_id": "00020-91e1cdc5-6c9d-43f1-8ca2-ca8c87967c9c",
    "deepnote_cell_type": "markdown",
    "id": "W0-LYfE6mm28",
    "tags": []
   },
   "source": [
    "First let's focus on **Global Interpretability**"
   ]
  },
  {
   "cell_type": "markdown",
   "metadata": {
    "cell_id": "00010-42358460-2b70-4043-bd01-976a99dcac1e",
    "deepnote_cell_type": "markdown",
    "id": "Fe_2K4Y7mm3J",
    "tags": []
   },
   "source": [
    "### Variable Importance Plot for Global Interpretability"
   ]
  },
  {
   "cell_type": "markdown",
   "metadata": {
    "cell_id": "00022-6adcc802-6f51-4f41-a17e-442dc33c4a4e",
    "deepnote_cell_type": "markdown",
    "id": "fbTVHvhYmm3J",
    "tags": []
   },
   "source": [
    "The ```shap.summary_plot``` function with plot_type=\"bar\" produces the variable importance plot.\n",
    "\n",
    "This  plot lists the **most significant features in descending order** with their corresponding **mean absolute SHAP values**. The top variables contribute more to the model than the bottom ones and thus have high predictive power."
   ]
  },
  {
   "cell_type": "code",
   "execution_count": 12,
   "metadata": {
    "cell_id": "00007-0b705b1f-79e1-43e9-bc2c-6966275b282a",
    "colab": {
     "base_uri": "https://localhost:8080/",
     "height": 277
    },
    "deepnote_cell_type": "code",
    "deepnote_output_heights": [
     243.76666259765625
    ],
    "deepnote_to_be_reexecuted": false,
    "executionInfo": {
     "elapsed": 474,
     "status": "ok",
     "timestamp": 1639480596310,
     "user": {
      "displayName": "Michele Zoncheddu",
      "photoUrl": "https://lh3.googleusercontent.com/a/default-user=s64",
      "userId": "04369211257019616469"
     },
     "user_tz": -60
    },
    "execution_millis": 233,
    "execution_start": 1639414616779,
    "id": "vDSB3FWgmm3J",
    "outputId": "6f889eba-0cec-4a84-b2b2-2a74c9bb5c62",
    "source_hash": "f07f7b03",
    "tags": []
   },
   "outputs": [
    {
     "data": {
      "image/png": "[encoded data removed]",
      "text/plain": [
       "<Figure size 576x280.8 with 1 Axes>"
      ]
     },
     "metadata": {
      "needs_background": "light"
     },
     "output_type": "display_data"
    }
   ],
   "source": [
    "shap.summary_plot(knn_shap_values, test_set, plot_type='bar')"
   ]
  },
  {
   "cell_type": "markdown",
   "metadata": {
    "cell_id": "00024-b9cff02c-1386-4e86-a484-fd9e25afb2e6",
    "deepnote_cell_type": "markdown",
    "id": "65DE0eFcmm3K",
    "tags": []
   },
   "source": [
    "As we can see from the above plot, the high predictive power variable is **odor = None**, followed by the **presence of bruises** and **odor_f = foul**"
   ]
  },
  {
   "cell_type": "markdown",
   "metadata": {
    "cell_id": "00025-90d7a9f1-dbc9-4f62-bca0-0fee5da99357",
    "deepnote_cell_type": "markdown",
    "id": "xxWbaWNUmm3K",
    "tags": []
   },
   "source": [
    "To **analyze the relationship** of the **most significant features** and the **target value**, we produced the following plot:\n",
    "\n",
    "This plot is made by the records in the test data and it shows **positive** and **negative relationship** among the **relevant features** and the **edibililty target**. \n",
    "\n",
    "The **colors** shows whether the **impact** of the **feature** is **positive** (red) or **negative** (blue). Here we have **only boolean values** so we have only two colors.\n",
    "\n",
    "Like before, the features are ranked in descending order and the **maginitude of impact** of each feature can be inferred by looking at the **horizontal location**: the longer are the bars, the higher is the predictive power (SHAP value)."
   ]
  },
  {
   "cell_type": "code",
   "execution_count": 13,
   "metadata": {
    "cell_id": "00009-fa401e6b-d2f4-4e7d-bc40-79e93e689005",
    "colab": {
     "base_uri": "https://localhost:8080/",
     "height": 388
    },
    "deepnote_cell_type": "code",
    "deepnote_output_heights": [
     373
    ],
    "deepnote_to_be_reexecuted": false,
    "executionInfo": {
     "elapsed": 585,
     "status": "ok",
     "timestamp": 1639480596874,
     "user": {
      "displayName": "Michele Zoncheddu",
      "photoUrl": "https://lh3.googleusercontent.com/a/default-user=s64",
      "userId": "04369211257019616469"
     },
     "user_tz": -60
    },
    "execution_millis": 505,
    "execution_start": 1639414617606,
    "id": "GPNSl7n1mm3K",
    "outputId": "06d05740-160c-46d0-8788-52177a00dba5",
    "source_hash": "3e527f3f",
    "tags": []
   },
   "outputs": [
    {
     "data": {
      "image/png": "[encoded data removed]",
      "text/plain": [
       "<Figure size 360x432 with 1 Axes>"
      ]
     },
     "metadata": {
      "needs_background": "light"
     },
     "output_type": "display_data"
    }
   ],
   "source": [
    "simple_SHAP(knn_shap_values, test_set[:300])"
   ]
  },
  {
   "cell_type": "markdown",
   "metadata": {
    "cell_id": "00027-cb6b7834-8f67-4435-a526-076caa62874a",
    "deepnote_cell_type": "markdown",
    "id": "60krcimGmm3O",
    "tags": []
   },
   "source": [
    "We can say that **the absence of odor** has an **high and positive impact on the edibility prediction**. The **high** comes from the high SHAP value, and the **positive** impact is indicated by the red color. The **same** holds for **bruises**.\n",
    "\n",
    "In contrast, **foul odor** is **lower** in predictive power and **negatively correlated with the edibility** (see blue color)."
   ]
  },
  {
   "cell_type": "markdown",
   "metadata": {
    "cell_id": "00015-b4f557de-a317-485d-8e59-dac528407e33",
    "deepnote_cell_type": "markdown",
    "id": "3iGeatTvmm3O",
    "tags": []
   },
   "source": [
    "### SHAP Dependence Plot for Global Interpretability"
   ]
  },
  {
   "cell_type": "markdown",
   "metadata": {
    "cell_id": "00032-63cf33f2-ef00-42c8-a2fd-ecd15cd29f49",
    "deepnote_cell_type": "markdown",
    "id": "zNVqMcCAmm3P",
    "tags": []
   },
   "source": [
    "The **partial dependence plot** shows the marginal effect one or two features have on the prediction of the model.\n",
    "\n",
    "It tells whether the **relationship between the target and a feature** is **linear**, **monotonic** or **more complex**."
   ]
  },
  {
   "cell_type": "code",
   "execution_count": 14,
   "metadata": {
    "cell_id": "00010-df840760-98ef-4a3d-9e51-fca245a8987d",
    "colab": {
     "base_uri": "https://localhost:8080/",
     "height": 341
    },
    "deepnote_cell_type": "code",
    "deepnote_output_heights": [
     null,
     326
    ],
    "deepnote_to_be_reexecuted": false,
    "executionInfo": {
     "elapsed": 97,
     "status": "ok",
     "timestamp": 1639480596893,
     "user": {
      "displayName": "Michele Zoncheddu",
      "photoUrl": "https://lh3.googleusercontent.com/a/default-user=s64",
      "userId": "04369211257019616469"
     },
     "user_tz": -60
    },
    "execution_millis": 293,
    "execution_start": 1639414618062,
    "id": "MrdUg-EMmm3Q",
    "outputId": "5c0004d4-8b23-4edb-cd0a-49a26fb484a3",
    "source_hash": "4ff44581",
    "tags": []
   },
   "outputs": [
    {
     "data": {
      "image/png": "[encoded data removed]",
      "text/plain": [
       "<Figure size 540x360 with 2 Axes>"
      ]
     },
     "metadata": {
      "needs_background": "light"
     },
     "output_type": "display_data"
    }
   ],
   "source": [
    "shap.dependence_plot(\"odor_n\", knn_shap_values, test_set[:300])"
   ]
  },
  {
   "cell_type": "markdown",
   "metadata": {
    "cell_id": "00035-67042aa1-e40a-4be3-b3b4-58520f0f44dd",
    "deepnote_cell_type": "markdown",
    "id": "FkxpWJiemm3Q",
    "tags": []
   },
   "source": [
    "The following plot shows there is a **linear and positive trend** between **odor_n** and the **edibilty**, and **odor_n** interacts with bruises."
   ]
  },
  {
   "cell_type": "code",
   "execution_count": 15,
   "metadata": {
    "cell_id": "00017-7b95a9c7-c565-4b0b-8ff9-bba3b2ac0b0d",
    "colab": {
     "base_uri": "https://localhost:8080/",
     "height": 341
    },
    "deepnote_cell_type": "code",
    "deepnote_output_heights": [
     null,
     326
    ],
    "deepnote_to_be_reexecuted": false,
    "executionInfo": {
     "elapsed": 638,
     "status": "ok",
     "timestamp": 1639480597480,
     "user": {
      "displayName": "Michele Zoncheddu",
      "photoUrl": "https://lh3.googleusercontent.com/a/default-user=s64",
      "userId": "04369211257019616469"
     },
     "user_tz": -60
    },
    "execution_millis": 391,
    "execution_start": 1639414618361,
    "id": "wSZ8tSgImm3R",
    "outputId": "6fe29e00-fd6d-41ec-f2a0-3c44086c2325",
    "source_hash": "c0ffde51",
    "tags": []
   },
   "outputs": [
    {
     "data": {
      "image/png": "[encoded data removed]",
      "text/plain": [
       "<Figure size 540x360 with 2 Axes>"
      ]
     },
     "metadata": {
      "needs_background": "light"
     },
     "output_type": "display_data"
    }
   ],
   "source": [
    "shap.dependence_plot(\"bruises\", knn_shap_values, test_set[:300])"
   ]
  },
  {
   "cell_type": "markdown",
   "metadata": {
    "cell_id": "00036-1f972577-dfab-418c-a196-45e7326ea126",
    "deepnote_cell_type": "markdown",
    "id": "mt4Ps1DWmm3R",
    "tags": []
   },
   "source": [
    "The following plot shows there is a **approximately linear and very weak positive trend** between **bruises** and the **edibilty**, and **bruises** interacts with odor_n."
   ]
  },
  {
   "cell_type": "markdown",
   "metadata": {
    "cell_id": "00017-84d9285c-4863-4688-9bbc-b23790b581ea",
    "deepnote_cell_type": "markdown",
    "id": "YTa2723Smm3R",
    "tags": []
   },
   "source": [
    "### Heatmap plot"
   ]
  },
  {
   "cell_type": "markdown",
   "metadata": {
    "cell_id": "00038-a43daac7-57a8-448e-af45-aff204f0333d",
    "deepnote_cell_type": "markdown",
    "id": "VB7SkaQpmm3R",
    "tags": []
   },
   "source": [
    "In the following blocks, we are going to analyze the heatmap plots that are used to visualize the magnitude of data in two dimensions.\n",
    "\n",
    "The ```heatmap plot``` function takes in input a matrix of SHAP values and creates a plot with the instances on the X-axis, the relevant features in the Y-axis, and the SHAP values encoded on a color scale.\n",
    "By default the samples are ordered using ```shap.order.hclust```, which orders the samples based on a hierarchical clustering by their explanation similarity. \n",
    "\n",
    "The heatmap plot also shows  the f(x) curve (on the top) that is the model predictions for the instances. "
   ]
  },
  {
   "cell_type": "code",
   "execution_count": 16,
   "metadata": {
    "cell_id": "00022-7d984d45-ab7e-4daa-a3e3-e2babebdeaa0",
    "colab": {
     "base_uri": "https://localhost:8080/",
     "height": 1000,
     "referenced_widgets": [
      "2c935cd1f6764a53bf03c444a43d68c0",
      "7ed1aba40f1c4d359b334ec1faa4689d",
      "68e732db36774257aee3a9e60b7dbf2e",
      "7757893f3eb849e19645ac43eab1ad21",
      "2cdf7489ffd3450bbd0a2d0fa5fbcffe",
      "a6d80599ec004cac90a0f4ab97481289",
      "08904dc98cbf45a99a1c66241ef4dd99",
      "c1bf2349edaf4a52b1b2cf3f56b3bc67",
      "44300a14c5044a9789dc75722d9bd25f",
      "e47e82eae6ec43dbb00b52c2894e33c1",
      "7323e186040c4caf8c16e84d0effc37b"
     ]
    },
    "deepnote_cell_type": "code",
    "deepnote_output_heights": [
     null,
     null,
     null,
     346
    ],
    "deepnote_to_be_reexecuted": false,
    "executionInfo": {
     "elapsed": 48456,
     "status": "ok",
     "timestamp": 1639480645917,
     "user": {
      "displayName": "Michele Zoncheddu",
      "photoUrl": "https://lh3.googleusercontent.com/a/default-user=s64",
      "userId": "04369211257019616469"
     },
     "user_tz": -60
    },
    "execution_millis": 50272,
    "execution_start": 1639414618761,
    "id": "W01ZuJjMmm3R",
    "outputId": "cb2a30fc-d8b0-4006-8b93-7d19e6b3cd25",
    "source_hash": "6935a5cd",
    "tags": []
   },
   "outputs": [
    {
     "name": "stderr",
     "output_type": "stream",
     "text": [
      "X does not have valid feature names, but KNeighborsClassifier was fitted with feature names\n"
     ]
    },
    {
     "data": {
      "application/vnd.jupyter.widget-view+json": {
       "model_id": "2c935cd1f6764a53bf03c444a43d68c0",
       "version_major": 2,
       "version_minor": 0
      },
      "text/plain": [
       "  0%|          | 0/100 [00:00<?, ?it/s]"
      ]
     },
     "metadata": {},
     "output_type": "display_data"
    },
    {
     "name": "stderr",
     "output_type": "stream",
     "text": [
      "X does not have valid feature names, but KNeighborsClassifier was fitted with feature names\n",
      "X does not have valid feature names, but KNeighborsClassifier was fitted with feature names\n",
      "X does not have valid feature names, but KNeighborsClassifier was fitted with feature names\n",
      "X does not have valid feature names, but KNeighborsClassifier was fitted with feature names\n",
      "X does not have valid feature names, but KNeighborsClassifier was fitted with feature names\n",
      "X does not have valid feature names, but KNeighborsClassifier was fitted with feature names\n",
      "X does not have valid feature names, but KNeighborsClassifier was fitted with feature names\n",
      "X does not have valid feature names, but KNeighborsClassifier was fitted with feature names\n",
      "X does not have valid feature names, but KNeighborsClassifier was fitted with feature names\n",
      "X does not have valid feature names, but KNeighborsClassifier was fitted with feature names\n",
      "X does not have valid feature names, but KNeighborsClassifier was fitted with feature names\n",
      "X does not have valid feature names, but KNeighborsClassifier was fitted with feature names\n",
      "X does not have valid feature names, but KNeighborsClassifier was fitted with feature names\n",
      "X does not have valid feature names, but KNeighborsClassifier was fitted with feature names\n",
      "X does not have valid feature names, but KNeighborsClassifier was fitted with feature names\n",
      "X does not have valid feature names, but KNeighborsClassifier was fitted with feature names\n",
      "X does not have valid feature names, but KNeighborsClassifier was fitted with feature names\n",
      "X does not have valid feature names, but KNeighborsClassifier was fitted with feature names\n",
      "X does not have valid feature names, but KNeighborsClassifier was fitted with feature names\n",
      "X does not have valid feature names, but KNeighborsClassifier was fitted with feature names\n",
      "X does not have valid feature names, but KNeighborsClassifier was fitted with feature names\n",
      "X does not have valid feature names, but KNeighborsClassifier was fitted with feature names\n",
      "X does not have valid feature names, but KNeighborsClassifier was fitted with feature names\n",
      "X does not have valid feature names, but KNeighborsClassifier was fitted with feature names\n",
      "X does not have valid feature names, but KNeighborsClassifier was fitted with feature names\n",
      "X does not have valid feature names, but KNeighborsClassifier was fitted with feature names\n",
      "X does not have valid feature names, but KNeighborsClassifier was fitted with feature names\n",
      "X does not have valid feature names, but KNeighborsClassifier was fitted with feature names\n",
      "X does not have valid feature names, but KNeighborsClassifier was fitted with feature names\n",
      "X does not have valid feature names, but KNeighborsClassifier was fitted with feature names\n",
      "X does not have valid feature names, but KNeighborsClassifier was fitted with feature names\n",
      "X does not have valid feature names, but KNeighborsClassifier was fitted with feature names\n",
      "X does not have valid feature names, but KNeighborsClassifier was fitted with feature names\n",
      "X does not have valid feature names, but KNeighborsClassifier was fitted with feature names\n",
      "X does not have valid feature names, but KNeighborsClassifier was fitted with feature names\n",
      "X does not have valid feature names, but KNeighborsClassifier was fitted with feature names\n",
      "X does not have valid feature names, but KNeighborsClassifier was fitted with feature names\n",
      "X does not have valid feature names, but KNeighborsClassifier was fitted with feature names\n",
      "X does not have valid feature names, but KNeighborsClassifier was fitted with feature names\n",
      "X does not have valid feature names, but KNeighborsClassifier was fitted with feature names\n",
      "X does not have valid feature names, but KNeighborsClassifier was fitted with feature names\n",
      "X does not have valid feature names, but KNeighborsClassifier was fitted with feature names\n",
      "X does not have valid feature names, but KNeighborsClassifier was fitted with feature names\n",
      "X does not have valid feature names, but KNeighborsClassifier was fitted with feature names\n",
      "X does not have valid feature names, but KNeighborsClassifier was fitted with feature names\n",
      "X does not have valid feature names, but KNeighborsClassifier was fitted with feature names\n",
      "X does not have valid feature names, but KNeighborsClassifier was fitted with feature names\n",
      "X does not have valid feature names, but KNeighborsClassifier was fitted with feature names\n",
      "X does not have valid feature names, but KNeighborsClassifier was fitted with feature names\n",
      "X does not have valid feature names, but KNeighborsClassifier was fitted with feature names\n",
      "X does not have valid feature names, but KNeighborsClassifier was fitted with feature names\n",
      "X does not have valid feature names, but KNeighborsClassifier was fitted with feature names\n",
      "X does not have valid feature names, but KNeighborsClassifier was fitted with feature names\n",
      "X does not have valid feature names, but KNeighborsClassifier was fitted with feature names\n",
      "X does not have valid feature names, but KNeighborsClassifier was fitted with feature names\n",
      "X does not have valid feature names, but KNeighborsClassifier was fitted with feature names\n",
      "X does not have valid feature names, but KNeighborsClassifier was fitted with feature names\n",
      "X does not have valid feature names, but KNeighborsClassifier was fitted with feature names\n",
      "X does not have valid feature names, but KNeighborsClassifier was fitted with feature names\n",
      "X does not have valid feature names, but KNeighborsClassifier was fitted with feature names\n",
      "X does not have valid feature names, but KNeighborsClassifier was fitted with feature names\n",
      "X does not have valid feature names, but KNeighborsClassifier was fitted with feature names\n",
      "X does not have valid feature names, but KNeighborsClassifier was fitted with feature names\n",
      "X does not have valid feature names, but KNeighborsClassifier was fitted with feature names\n",
      "X does not have valid feature names, but KNeighborsClassifier was fitted with feature names\n",
      "X does not have valid feature names, but KNeighborsClassifier was fitted with feature names\n",
      "X does not have valid feature names, but KNeighborsClassifier was fitted with feature names\n",
      "X does not have valid feature names, but KNeighborsClassifier was fitted with feature names\n",
      "X does not have valid feature names, but KNeighborsClassifier was fitted with feature names\n",
      "X does not have valid feature names, but KNeighborsClassifier was fitted with feature names\n",
      "X does not have valid feature names, but KNeighborsClassifier was fitted with feature names\n",
      "X does not have valid feature names, but KNeighborsClassifier was fitted with feature names\n",
      "X does not have valid feature names, but KNeighborsClassifier was fitted with feature names\n",
      "X does not have valid feature names, but KNeighborsClassifier was fitted with feature names\n",
      "X does not have valid feature names, but KNeighborsClassifier was fitted with feature names\n",
      "X does not have valid feature names, but KNeighborsClassifier was fitted with feature names\n",
      "X does not have valid feature names, but KNeighborsClassifier was fitted with feature names\n",
      "X does not have valid feature names, but KNeighborsClassifier was fitted with feature names\n",
      "X does not have valid feature names, but KNeighborsClassifier was fitted with feature names\n",
      "X does not have valid feature names, but KNeighborsClassifier was fitted with feature names\n",
      "X does not have valid feature names, but KNeighborsClassifier was fitted with feature names\n",
      "X does not have valid feature names, but KNeighborsClassifier was fitted with feature names\n",
      "X does not have valid feature names, but KNeighborsClassifier was fitted with feature names\n",
      "X does not have valid feature names, but KNeighborsClassifier was fitted with feature names\n",
      "X does not have valid feature names, but KNeighborsClassifier was fitted with feature names\n",
      "X does not have valid feature names, but KNeighborsClassifier was fitted with feature names\n",
      "X does not have valid feature names, but KNeighborsClassifier was fitted with feature names\n",
      "X does not have valid feature names, but KNeighborsClassifier was fitted with feature names\n",
      "X does not have valid feature names, but KNeighborsClassifier was fitted with feature names\n",
      "X does not have valid feature names, but KNeighborsClassifier was fitted with feature names\n",
      "X does not have valid feature names, but KNeighborsClassifier was fitted with feature names\n",
      "X does not have valid feature names, but KNeighborsClassifier was fitted with feature names\n",
      "X does not have valid feature names, but KNeighborsClassifier was fitted with feature names\n",
      "X does not have valid feature names, but KNeighborsClassifier was fitted with feature names\n",
      "X does not have valid feature names, but KNeighborsClassifier was fitted with feature names\n",
      "X does not have valid feature names, but KNeighborsClassifier was fitted with feature names\n",
      "X does not have valid feature names, but KNeighborsClassifier was fitted with feature names\n",
      "X does not have valid feature names, but KNeighborsClassifier was fitted with feature names\n",
      "X does not have valid feature names, but KNeighborsClassifier was fitted with feature names\n",
      "X does not have valid feature names, but KNeighborsClassifier was fitted with feature names\n",
      "X does not have valid feature names, but KNeighborsClassifier was fitted with feature names\n",
      "X does not have valid feature names, but KNeighborsClassifier was fitted with feature names\n",
      "X does not have valid feature names, but KNeighborsClassifier was fitted with feature names\n",
      "X does not have valid feature names, but KNeighborsClassifier was fitted with feature names\n",
      "X does not have valid feature names, but KNeighborsClassifier was fitted with feature names\n",
      "X does not have valid feature names, but KNeighborsClassifier was fitted with feature names\n",
      "X does not have valid feature names, but KNeighborsClassifier was fitted with feature names\n",
      "X does not have valid feature names, but KNeighborsClassifier was fitted with feature names\n",
      "X does not have valid feature names, but KNeighborsClassifier was fitted with feature names\n",
      "X does not have valid feature names, but KNeighborsClassifier was fitted with feature names\n",
      "X does not have valid feature names, but KNeighborsClassifier was fitted with feature names\n",
      "X does not have valid feature names, but KNeighborsClassifier was fitted with feature names\n",
      "X does not have valid feature names, but KNeighborsClassifier was fitted with feature names\n",
      "X does not have valid feature names, but KNeighborsClassifier was fitted with feature names\n",
      "X does not have valid feature names, but KNeighborsClassifier was fitted with feature names\n",
      "X does not have valid feature names, but KNeighborsClassifier was fitted with feature names\n",
      "X does not have valid feature names, but KNeighborsClassifier was fitted with feature names\n",
      "X does not have valid feature names, but KNeighborsClassifier was fitted with feature names\n",
      "X does not have valid feature names, but KNeighborsClassifier was fitted with feature names\n",
      "X does not have valid feature names, but KNeighborsClassifier was fitted with feature names\n",
      "X does not have valid feature names, but KNeighborsClassifier was fitted with feature names\n",
      "X does not have valid feature names, but KNeighborsClassifier was fitted with feature names\n",
      "X does not have valid feature names, but KNeighborsClassifier was fitted with feature names\n",
      "X does not have valid feature names, but KNeighborsClassifier was fitted with feature names\n",
      "X does not have valid feature names, but KNeighborsClassifier was fitted with feature names\n",
      "X does not have valid feature names, but KNeighborsClassifier was fitted with feature names\n",
      "X does not have valid feature names, but KNeighborsClassifier was fitted with feature names\n",
      "X does not have valid feature names, but KNeighborsClassifier was fitted with feature names\n",
      "X does not have valid feature names, but KNeighborsClassifier was fitted with feature names\n",
      "X does not have valid feature names, but KNeighborsClassifier was fitted with feature names\n",
      "X does not have valid feature names, but KNeighborsClassifier was fitted with feature names\n",
      "X does not have valid feature names, but KNeighborsClassifier was fitted with feature names\n",
      "X does not have valid feature names, but KNeighborsClassifier was fitted with feature names\n",
      "X does not have valid feature names, but KNeighborsClassifier was fitted with feature names\n",
      "X does not have valid feature names, but KNeighborsClassifier was fitted with feature names\n",
      "X does not have valid feature names, but KNeighborsClassifier was fitted with feature names\n",
      "X does not have valid feature names, but KNeighborsClassifier was fitted with feature names\n",
      "X does not have valid feature names, but KNeighborsClassifier was fitted with feature names\n",
      "X does not have valid feature names, but KNeighborsClassifier was fitted with feature names\n",
      "X does not have valid feature names, but KNeighborsClassifier was fitted with feature names\n",
      "X does not have valid feature names, but KNeighborsClassifier was fitted with feature names\n",
      "X does not have valid feature names, but KNeighborsClassifier was fitted with feature names\n",
      "X does not have valid feature names, but KNeighborsClassifier was fitted with feature names\n",
      "X does not have valid feature names, but KNeighborsClassifier was fitted with feature names\n",
      "X does not have valid feature names, but KNeighborsClassifier was fitted with feature names\n",
      "X does not have valid feature names, but KNeighborsClassifier was fitted with feature names\n",
      "X does not have valid feature names, but KNeighborsClassifier was fitted with feature names\n",
      "X does not have valid feature names, but KNeighborsClassifier was fitted with feature names\n",
      "X does not have valid feature names, but KNeighborsClassifier was fitted with feature names\n",
      "X does not have valid feature names, but KNeighborsClassifier was fitted with feature names\n",
      "X does not have valid feature names, but KNeighborsClassifier was fitted with feature names\n",
      "X does not have valid feature names, but KNeighborsClassifier was fitted with feature names\n",
      "X does not have valid feature names, but KNeighborsClassifier was fitted with feature names\n",
      "X does not have valid feature names, but KNeighborsClassifier was fitted with feature names\n",
      "X does not have valid feature names, but KNeighborsClassifier was fitted with feature names\n",
      "X does not have valid feature names, but KNeighborsClassifier was fitted with feature names\n",
      "X does not have valid feature names, but KNeighborsClassifier was fitted with feature names\n",
      "X does not have valid feature names, but KNeighborsClassifier was fitted with feature names\n",
      "X does not have valid feature names, but KNeighborsClassifier was fitted with feature names\n",
      "X does not have valid feature names, but KNeighborsClassifier was fitted with feature names\n",
      "X does not have valid feature names, but KNeighborsClassifier was fitted with feature names\n",
      "X does not have valid feature names, but KNeighborsClassifier was fitted with feature names\n",
      "X does not have valid feature names, but KNeighborsClassifier was fitted with feature names\n",
      "X does not have valid feature names, but KNeighborsClassifier was fitted with feature names\n",
      "X does not have valid feature names, but KNeighborsClassifier was fitted with feature names\n",
      "X does not have valid feature names, but KNeighborsClassifier was fitted with feature names\n",
      "X does not have valid feature names, but KNeighborsClassifier was fitted with feature names\n",
      "X does not have valid feature names, but KNeighborsClassifier was fitted with feature names\n",
      "X does not have valid feature names, but KNeighborsClassifier was fitted with feature names\n",
      "X does not have valid feature names, but KNeighborsClassifier was fitted with feature names\n",
      "X does not have valid feature names, but KNeighborsClassifier was fitted with feature names\n",
      "X does not have valid feature names, but KNeighborsClassifier was fitted with feature names\n",
      "X does not have valid feature names, but KNeighborsClassifier was fitted with feature names\n",
      "X does not have valid feature names, but KNeighborsClassifier was fitted with feature names\n",
      "X does not have valid feature names, but KNeighborsClassifier was fitted with feature names\n",
      "X does not have valid feature names, but KNeighborsClassifier was fitted with feature names\n",
      "X does not have valid feature names, but KNeighborsClassifier was fitted with feature names\n",
      "X does not have valid feature names, but KNeighborsClassifier was fitted with feature names\n",
      "X does not have valid feature names, but KNeighborsClassifier was fitted with feature names\n",
      "X does not have valid feature names, but KNeighborsClassifier was fitted with feature names\n",
      "X does not have valid feature names, but KNeighborsClassifier was fitted with feature names\n",
      "X does not have valid feature names, but KNeighborsClassifier was fitted with feature names\n",
      "X does not have valid feature names, but KNeighborsClassifier was fitted with feature names\n",
      "X does not have valid feature names, but KNeighborsClassifier was fitted with feature names\n",
      "X does not have valid feature names, but KNeighborsClassifier was fitted with feature names\n",
      "X does not have valid feature names, but KNeighborsClassifier was fitted with feature names\n",
      "X does not have valid feature names, but KNeighborsClassifier was fitted with feature names\n",
      "X does not have valid feature names, but KNeighborsClassifier was fitted with feature names\n",
      "X does not have valid feature names, but KNeighborsClassifier was fitted with feature names\n",
      "X does not have valid feature names, but KNeighborsClassifier was fitted with feature names\n",
      "X does not have valid feature names, but KNeighborsClassifier was fitted with feature names\n",
      "X does not have valid feature names, but KNeighborsClassifier was fitted with feature names\n",
      "X does not have valid feature names, but KNeighborsClassifier was fitted with feature names\n",
      "X does not have valid feature names, but KNeighborsClassifier was fitted with feature names\n",
      "X does not have valid feature names, but KNeighborsClassifier was fitted with feature names\n",
      "X does not have valid feature names, but KNeighborsClassifier was fitted with feature names\n",
      "X does not have valid feature names, but KNeighborsClassifier was fitted with feature names\n",
      "X does not have valid feature names, but KNeighborsClassifier was fitted with feature names\n",
      "X does not have valid feature names, but KNeighborsClassifier was fitted with feature names\n",
      "X does not have valid feature names, but KNeighborsClassifier was fitted with feature names\n"
     ]
    },
    {
     "name": "stdout",
     "output_type": "stream",
     "text": [
      "2247 2347\n"
     ]
    },
    {
     "data": {
      "image/png": "[encoded data removed]",
      "text/plain": [
       "<Figure size 576x396 with 2 Axes>"
      ]
     },
     "metadata": {
      "needs_background": "light"
     },
     "output_type": "display_data"
    }
   ],
   "source": [
    "plot_heatmap_randSample(35, test_set, knn)"
   ]
  },
  {
   "cell_type": "markdown",
   "metadata": {
    "cell_id": "00043-904300c8-5d85-4d62-926e-195fee3ea4b0",
    "deepnote_cell_type": "markdown",
    "id": "_h0AiaS4mm3S",
    "tags": []
   },
   "source": [
    "As we can see this plot show how edibility is mostly affected by the top 3 relevant features:\n",
    "\n",
    "- Instances [0, 40]: odor_none, bruises and odor_foul have negative impact, then f(x) goes to 0.\n",
    "- Instances [50, 60]: odor_none has a medium negative impact, bruises have a high positive impact and odor_foul have medium positive impact, then f(x) goes to 1.\n",
    "\n",
    "- Instances [60, 90]: odor_none has a medium/high positive impact, bruises and odor_foul have for the first half low/medium negative impact and low/medium positive impact, then f(x) goes to 1.\n",
    "\n",
    "When all of them have low positive impact and spore_print_color_r has very high negative impact, then f(x) goes to 0.\n"
   ]
  },
  {
   "cell_type": "markdown",
   "metadata": {
    "cell_id": "00044-8bbfe22e-de38-4dad-ab96-bc335edcadc1",
    "deepnote_cell_type": "markdown",
    "id": "4lssZ0YXmm3S",
    "tags": []
   },
   "source": [
    "In the following block, we repeat the analys on a differt range."
   ]
  },
  {
   "cell_type": "code",
   "execution_count": null,
   "metadata": {
    "cell_id": "00023-6dacc3e6-2945-4cd4-ad21-7723d9d0e8b2",
    "colab": {
     "base_uri": "https://localhost:8080/",
     "height": 950,
     "referenced_widgets": [
      "c00a729d50654742b405dec72382e84a",
      "0da12c42cf8042caa87a0a6459e93365",
      "0ae63f9a1eb64499be9f838be4b5adc5",
      "36ad999a0b7440f2942f6e1c3eac7ede",
      "ae5dd1f57d6044f5a2c6eb4c66800cb2",
      "3bd4655a4a0341998ee6ab9949a8870c",
      "6bfe0882901c401c9c21a22e11dfe022",
      "2fb4c43efb3a4391ac255e1a442644b5",
      "f426d12609a74cf7a1a9995a5e9bb0f0",
      "f17de656a61d4f6a816e5098c31cee74",
      "d2d1c9209637425eb4f8831989072970"
     ]
    },
    "deepnote_cell_type": "code",
    "deepnote_output_heights": [
     null,
     null,
     null,
     345.04998779296875
    ],
    "deepnote_to_be_reexecuted": false,
    "execution_millis": 29766,
    "execution_start": 1639414669035,
    "id": "GKHB9lm8mm3S",
    "outputId": "2b3f0141-beb1-452c-80dd-68dc9cf741f1",
    "source_hash": "f69d8d71",
    "tags": []
   },
   "outputs": [
    {
     "name": "stderr",
     "output_type": "stream",
     "text": [
      "X does not have valid feature names, but KNeighborsClassifier was fitted with feature names\n"
     ]
    },
    {
     "data": {
      "application/vnd.jupyter.widget-view+json": {
       "model_id": "c00a729d50654742b405dec72382e84a",
       "version_major": 2,
       "version_minor": 0
      },
      "text/plain": [
       "  0%|          | 0/100 [00:00<?, ?it/s]"
      ]
     },
     "metadata": {},
     "output_type": "display_data"
    },
    {
     "name": "stderr",
     "output_type": "stream",
     "text": [
      "X does not have valid feature names, but KNeighborsClassifier was fitted with feature names\n",
      "X does not have valid feature names, but KNeighborsClassifier was fitted with feature names\n",
      "X does not have valid feature names, but KNeighborsClassifier was fitted with feature names\n",
      "X does not have valid feature names, but KNeighborsClassifier was fitted with feature names\n",
      "X does not have valid feature names, but KNeighborsClassifier was fitted with feature names\n",
      "X does not have valid feature names, but KNeighborsClassifier was fitted with feature names\n",
      "X does not have valid feature names, but KNeighborsClassifier was fitted with feature names\n",
      "X does not have valid feature names, but KNeighborsClassifier was fitted with feature names\n",
      "X does not have valid feature names, but KNeighborsClassifier was fitted with feature names\n",
      "X does not have valid feature names, but KNeighborsClassifier was fitted with feature names\n",
      "X does not have valid feature names, but KNeighborsClassifier was fitted with feature names\n",
      "X does not have valid feature names, but KNeighborsClassifier was fitted with feature names\n",
      "X does not have valid feature names, but KNeighborsClassifier was fitted with feature names\n",
      "X does not have valid feature names, but KNeighborsClassifier was fitted with feature names\n",
      "X does not have valid feature names, but KNeighborsClassifier was fitted with feature names\n",
      "X does not have valid feature names, but KNeighborsClassifier was fitted with feature names\n",
      "X does not have valid feature names, but KNeighborsClassifier was fitted with feature names\n",
      "X does not have valid feature names, but KNeighborsClassifier was fitted with feature names\n",
      "X does not have valid feature names, but KNeighborsClassifier was fitted with feature names\n",
      "X does not have valid feature names, but KNeighborsClassifier was fitted with feature names\n",
      "X does not have valid feature names, but KNeighborsClassifier was fitted with feature names\n",
      "X does not have valid feature names, but KNeighborsClassifier was fitted with feature names\n",
      "X does not have valid feature names, but KNeighborsClassifier was fitted with feature names\n",
      "X does not have valid feature names, but KNeighborsClassifier was fitted with feature names\n",
      "X does not have valid feature names, but KNeighborsClassifier was fitted with feature names\n",
      "X does not have valid feature names, but KNeighborsClassifier was fitted with feature names\n",
      "X does not have valid feature names, but KNeighborsClassifier was fitted with feature names\n",
      "X does not have valid feature names, but KNeighborsClassifier was fitted with feature names\n",
      "X does not have valid feature names, but KNeighborsClassifier was fitted with feature names\n",
      "X does not have valid feature names, but KNeighborsClassifier was fitted with feature names\n",
      "X does not have valid feature names, but KNeighborsClassifier was fitted with feature names\n",
      "X does not have valid feature names, but KNeighborsClassifier was fitted with feature names\n",
      "X does not have valid feature names, but KNeighborsClassifier was fitted with feature names\n",
      "X does not have valid feature names, but KNeighborsClassifier was fitted with feature names\n",
      "X does not have valid feature names, but KNeighborsClassifier was fitted with feature names\n",
      "X does not have valid feature names, but KNeighborsClassifier was fitted with feature names\n",
      "X does not have valid feature names, but KNeighborsClassifier was fitted with feature names\n",
      "X does not have valid feature names, but KNeighborsClassifier was fitted with feature names\n",
      "X does not have valid feature names, but KNeighborsClassifier was fitted with feature names\n",
      "X does not have valid feature names, but KNeighborsClassifier was fitted with feature names\n",
      "X does not have valid feature names, but KNeighborsClassifier was fitted with feature names\n",
      "X does not have valid feature names, but KNeighborsClassifier was fitted with feature names\n",
      "X does not have valid feature names, but KNeighborsClassifier was fitted with feature names\n",
      "X does not have valid feature names, but KNeighborsClassifier was fitted with feature names\n",
      "X does not have valid feature names, but KNeighborsClassifier was fitted with feature names\n",
      "X does not have valid feature names, but KNeighborsClassifier was fitted with feature names\n",
      "X does not have valid feature names, but KNeighborsClassifier was fitted with feature names\n",
      "X does not have valid feature names, but KNeighborsClassifier was fitted with feature names\n",
      "X does not have valid feature names, but KNeighborsClassifier was fitted with feature names\n",
      "X does not have valid feature names, but KNeighborsClassifier was fitted with feature names\n",
      "X does not have valid feature names, but KNeighborsClassifier was fitted with feature names\n",
      "X does not have valid feature names, but KNeighborsClassifier was fitted with feature names\n"
     ]
    }
   ],
   "source": [
    "plot_heatmap_randSample(55, test_set, knn)"
   ]
  },
  {
   "cell_type": "markdown",
   "metadata": {
    "cell_id": "00046-b22f9245-b1fe-4984-8794-6dfeddbaf26b",
    "deepnote_cell_type": "markdown",
    "id": "Of_T1P8cmm3T",
    "tags": []
   },
   "source": [
    "As we can see this plot show how edibility is mostly affected by the top 3 features:\n",
    "\n",
    "- Instances [0, 50]: odor_none high/medium positive impact, bruises and odor_foul first have low/nill negative impact and then low positive impact , then f(x) goes to 1.\n",
    "- Instances [50, 55]: odor_none has a high negative impact, bruises and odor have medium positive impact, then f(x) goes to 0.\n",
    "- Instances [55, 75]: odor_none has a medium negative impact, bruises have a high positive impact and odor_foul have medium positive impact, then f(x) goes to 1.\n",
    "\n",
    "In the rest of the instances 2/3 of the top 3 relevant features have medium/high negative impact, then f(x) tends to 0.\n"
   ]
  },
  {
   "cell_type": "markdown",
   "metadata": {
    "cell_id": "00019-3d4a7e34-53c2-43d3-97da-3f53d8a4bae4",
    "deepnote_cell_type": "markdown",
    "id": "Dvthdu6pmm3T",
    "tags": []
   },
   "source": [
    "### Individual SHAP Value Plot for Local Interpretability"
   ]
  },
  {
   "cell_type": "markdown",
   "metadata": {
    "cell_id": "00049-43c25945-d7fd-4aac-991c-fb2b516a3325",
    "deepnote_cell_type": "markdown",
    "id": "QCsoZjWdmm3U",
    "tags": []
   },
   "source": [
    "Let's randomly choose a few observations for local explanability:"
   ]
  },
  {
   "cell_type": "markdown",
   "metadata": {
    "cell_id": "00026-f1ec409f-66b5-41d8-9e4e-89a14dc95cb9",
    "deepnote_cell_type": "text-cell-h3",
    "id": "Y5tjuUuOmm3V",
    "is_collapsed": false,
    "tags": []
   },
   "source": [
    "### Local explainers single records"
   ]
  },
  {
   "cell_type": "markdown",
   "metadata": {
    "cell_id": "00051-653b28bc-449c-4ff6-a308-245c863bd9e2",
    "deepnote_cell_type": "markdown",
    "id": "kxyX9TCamm3V",
    "tags": []
   },
   "source": [
    "The function shap.force_plot() takes in input:\n",
    "- the **base value**: that is the average of the prediction over the test set"
   ]
  },
  {
   "cell_type": "markdown",
   "metadata": {
    "cell_id": "00052-67ae9da6-6180-4b34-8b30-248612cda3f7",
    "deepnote_cell_type": "markdown",
    "id": "HSt-IUpRmm3V",
    "tags": []
   },
   "source": [
    "#### Explanability on correctly classified records ✅"
   ]
  },
  {
   "cell_type": "markdown",
   "metadata": {
    "cell_id": "00052-41173666-fbe4-49cf-a4ff-1a1e9d256a79",
    "deepnote_cell_type": "markdown",
    "id": "KEfWHSt1mm3V",
    "tags": []
   },
   "source": [
    "Let's locally explain the prediction of 3 samples that are correctly classified using ```shap.force_plot```"
   ]
  },
  {
   "cell_type": "code",
   "execution_count": null,
   "metadata": {
    "cell_id": "00019-67301138-5e58-4b54-afe3-6e8859e0c08d",
    "deepnote_cell_type": "code",
    "deepnote_output_heights": [
     152
    ],
    "deepnote_to_be_reexecuted": false,
    "execution_millis": 55,
    "execution_start": 1639414698804,
    "id": "MoWn2tbemm3V",
    "source_hash": "8a59f4b3",
    "tags": []
   },
   "outputs": [],
   "source": [
    "shap.initjs()\n",
    "shap.force_plot(kernel_explainer.expected_value, knn_shap_values[45], test_set.iloc[45])"
   ]
  },
  {
   "cell_type": "markdown",
   "metadata": {
    "cell_id": "00053-0a2b482c-281b-48d9-a0e8-7effeef39e4c",
    "deepnote_cell_type": "markdown",
    "id": "CGAcjML-mm3W",
    "tags": []
   },
   "source": [
    "In this first record we see that all the features make the base value to increase, up to the final classification of \"1\" (*edible*) and the odor_none, bruises and odor_foul contribute the most."
   ]
  },
  {
   "cell_type": "code",
   "execution_count": null,
   "metadata": {
    "cell_id": "00024-42ed09c2-35a0-40f1-b12a-fa01f8ce17b7",
    "deepnote_cell_type": "code",
    "deepnote_output_heights": [
     152
    ],
    "deepnote_to_be_reexecuted": false,
    "execution_millis": 9444099,
    "execution_start": 1639414698871,
    "id": "axPV1zhJmm3W",
    "source_hash": "c35970b1",
    "tags": []
   },
   "outputs": [],
   "source": [
    "shap.initjs()\n",
    "shap.force_plot(kernel_explainer.expected_value, knn_shap_values[60], test_set.iloc[60])"
   ]
  },
  {
   "cell_type": "markdown",
   "metadata": {
    "cell_id": "00055-8aff5e6b-a46c-4664-a7a3-a02ebd258b93",
    "deepnote_cell_type": "markdown",
    "id": "oSe8SZVqmm3X",
    "tags": []
   },
   "source": [
    "In this second record we see the feature that contribute the most, to make the base value to increase up to 1 (**edibile**), is **odor_none** and only bruises negativly impat on the prediction."
   ]
  },
  {
   "cell_type": "code",
   "execution_count": null,
   "metadata": {
    "cell_id": "00024-0ecfe45c-c26b-485e-ae10-604d406a9e26",
    "deepnote_cell_type": "code",
    "deepnote_output_heights": [
     152
    ],
    "deepnote_to_be_reexecuted": false,
    "execution_millis": 9444062,
    "execution_start": 1639414698896,
    "id": "d8yWsDB8mm3X",
    "source_hash": "198fc543",
    "tags": []
   },
   "outputs": [],
   "source": [
    "shap.initjs()\n",
    "shap.force_plot(kernel_explainer.expected_value, knn_shap_values[70], test_set.iloc[70])"
   ]
  },
  {
   "cell_type": "markdown",
   "metadata": {
    "cell_id": "00057-255a5537-7796-4622-af6e-212317113e2d",
    "deepnote_cell_type": "markdown",
    "id": "lID_jCUsmm3X",
    "tags": []
   },
   "source": [
    "In this third record we see that the top 2 relevant features, odor_none and bruises, make the base value to decrease up to the final classification of 0 (**poisonous**) despite the others make the base value increase."
   ]
  },
  {
   "cell_type": "markdown",
   "metadata": {
    "cell_id": "00034-1aed963e-0277-44f9-accb-13a1f441ec37",
    "deepnote_cell_type": "markdown",
    "id": "XG7UgsfRmm3Y",
    "tags": []
   },
   "source": [
    "### TREPAN on KNN"
   ]
  },
  {
   "cell_type": "markdown",
   "metadata": {
    "cell_id": "00061-b40f7351-a6f7-4c4d-9236-0b7e9684d59d",
    "deepnote_cell_type": "markdown",
    "id": "yY8Gqv9Imm3Y",
    "tags": []
   },
   "source": [
    "**TREPAN** is a global explainer that can be used to explain any type of black box, in our case **KNN**.\n",
    "\n",
    "The goal is to map:  **KNN --> DT** classifier using best-m-of-n rules."
   ]
  },
  {
   "cell_type": "code",
   "execution_count": null,
   "metadata": {
    "cell_id": "00035-015f63f2-a32b-4571-8055-a12e8495c1ca",
    "deepnote_cell_type": "code",
    "deepnote_to_be_reexecuted": false,
    "execution_millis": 699,
    "execution_start": 1639414698911,
    "id": "ULrChmnPmm3Y",
    "source_hash": "6c7a44e3",
    "tags": []
   },
   "outputs": [],
   "source": [
    "y_pred_train = knn.predict(train_set)"
   ]
  },
  {
   "cell_type": "markdown",
   "metadata": {
    "cell_id": "00063-36ff9a67-63ee-451e-9069-2016b321c5a5",
    "deepnote_cell_type": "markdown",
    "id": "LtMnmsU6mm3Z",
    "tags": []
   },
   "source": [
    "It **learns** to **predict** the **label** returned by the **KNN**, not the original one in the dataset."
   ]
  },
  {
   "cell_type": "code",
   "execution_count": null,
   "metadata": {
    "cell_id": "00035-c95e84df-0dc3-4668-b170-e47546567dc9",
    "deepnote_cell_type": "code",
    "deepnote_output_heights": [
     21.1875
    ],
    "deepnote_to_be_reexecuted": false,
    "execution_millis": 2,
    "execution_start": 1639414699618,
    "id": "FhOzp2-Bmm3Z",
    "source_hash": "bbc5514",
    "tags": []
   },
   "outputs": [],
   "source": [
    "explainer = DecisionTreeClassifier(max_depth=8).fit(train_set, y_pred_train)"
   ]
  },
  {
   "cell_type": "markdown",
   "metadata": {
    "cell_id": "00065-082008ba-f81f-4586-ace2-c81d6ae96f4b",
    "deepnote_cell_type": "markdown",
    "id": "5HbO9ABqmm3Z",
    "tags": []
   },
   "source": [
    "The accuracy in this case is also called **\"fidelity\"** and indicates how much the **DT** is aderent with the **KNN**."
   ]
  },
  {
   "cell_type": "code",
   "execution_count": null,
   "metadata": {
    "cell_id": "00038-ac743a80-e0c5-473e-afda-6ad02733adb0",
    "deepnote_cell_type": "code",
    "deepnote_output_heights": [
     365.1499938964844
    ],
    "deepnote_to_be_reexecuted": false,
    "execution_millis": 290,
    "execution_start": 1639414699650,
    "id": "pN4ZpLF0mm3Z",
    "source_hash": "d2b16b2",
    "tags": []
   },
   "outputs": [],
   "source": [
    "attribs = [feature for feature in knn_features if feature != 'edible']\n",
    "\n",
    "dot_data = tree.export_graphviz(explainer, out_file=None, \n",
    "                                feature_names=attribs, \n",
    "                                #class_names=explainer.classes_,  \n",
    "                                filled=True, rounded=True,  \n",
    "                                special_characters=True)  \n",
    "graph = pydotplus.graph_from_dot_data(dot_data) \n",
    "Image(graph.create_png())"
   ]
  },
  {
   "cell_type": "code",
   "execution_count": null,
   "metadata": {
    "cell_id": "00039-5b164713-f484-4bfc-839a-adcbb8f54a72",
    "deepnote_cell_type": "code",
    "deepnote_output_heights": [
     21.199996948242188
    ],
    "deepnote_to_be_reexecuted": false,
    "execution_millis": 402,
    "execution_start": 1639414699949,
    "id": "D3Jgk5lJmm3a",
    "source_hash": "fb6ca079",
    "tags": []
   },
   "outputs": [],
   "source": [
    "# getting fidelity measure of the tree obtained from KNN\n",
    "y_pred = knn.predict(test_set)\n",
    "accuracy_score(y_pred, explainer.predict(test_set))"
   ]
  },
  {
   "cell_type": "markdown",
   "metadata": {
    "cell_id": "00065-dbc0a484-e214-4537-ae21-c7b7dca4705d",
    "deepnote_cell_type": "markdown",
    "id": "TBvLOIkAmm3a",
    "tags": []
   },
   "source": [
    "We have a fidelity of 100%, so a decision tree with a max depth of 8 levels is able to perfectly mimic the KNN model."
   ]
  },
  {
   "cell_type": "markdown",
   "metadata": {
    "cell_id": "00058-aa9879cd-a284-4722-914c-4be6931d0132",
    "deepnote_cell_type": "text-cell-h3",
    "id": "WNMAuzl5mm3a",
    "is_collapsed": false,
    "tags": []
   },
   "source": [
    "### Explanability on misclassified records ❌"
   ]
  },
  {
   "cell_type": "markdown",
   "metadata": {
    "cell_id": "00061-70e68e4a-5289-435a-aa8d-fe9f358411c0",
    "deepnote_cell_type": "markdown",
    "id": "gb1RLaD3mm3a",
    "tags": []
   },
   "source": [
    "Let's locally explain the prediction of 3 samples that are misclassified using ```decision plot```"
   ]
  },
  {
   "cell_type": "code",
   "execution_count": null,
   "metadata": {
    "cell_id": "00059-ccc954a1-3a7c-447b-ad8f-639d20f3f0e6",
    "deepnote_cell_type": "code",
    "deepnote_output_heights": [
     null,
     232.25
    ],
    "deepnote_to_be_reexecuted": false,
    "execution_millis": 1155,
    "execution_start": 1639414700349,
    "id": "fAY-hqS_mm3b",
    "source_hash": "b2041ce9",
    "tags": []
   },
   "outputs": [],
   "source": [
    "in_attribs= [feature for feature in knn_features if feature != 'edible']\n",
    "mushrooms_ohe['edible'] = label\n",
    "mushrooms_ohe['prediction'] = knn.predict( mushrooms_ohe[in_attribs].values )\n",
    "mushrooms_ohe['edible']= mushrooms_ohe['edible'].astype('bool')"
   ]
  },
  {
   "cell_type": "code",
   "execution_count": null,
   "metadata": {
    "cell_id": "00060-3d095be3-334d-43ba-a5b5-bc3dc9628414",
    "deepnote_cell_type": "code",
    "deepnote_to_be_reexecuted": false,
    "execution_millis": 16,
    "execution_start": 1639414701519,
    "id": "yYJkPjeTmm3b",
    "source_hash": "6000ca3b",
    "tags": []
   },
   "outputs": [],
   "source": [
    "misclassified_df= mushrooms_ohe.loc[ (~mushrooms_ohe['edible'] == mushrooms_ohe['prediction'] )  ,  ]\n",
    "misclassified_df['edible'] = misclassified_df['edible'].astype('int64')\n",
    "print( misclassified_df.head() )\n",
    "\n",
    "misclassified_set = misclassified_df.drop(columns= ['edible', 'prediction'])"
   ]
  },
  {
   "cell_type": "code",
   "execution_count": null,
   "metadata": {
    "cell_id": "00061-7db930f2-ea54-4a16-bcaa-3c210e1f16be",
    "deepnote_cell_type": "code",
    "deepnote_output_heights": [
     null,
     259.58331298828125
    ],
    "deepnote_to_be_reexecuted": false,
    "execution_millis": 3363,
    "execution_start": 1639414701544,
    "id": "BvAyAgGUmm3c",
    "source_hash": "9693c1bb",
    "tags": []
   },
   "outputs": [],
   "source": [
    "expected_value = kernel_explainer.expected_value\n",
    "print(\"The base value is\", expected_value)\n",
    "shap_values = kernel_explainer.shap_values(misclassified_set.iloc[get_randInstance(123, misclassified_set),:])\n",
    "shap.decision_plot(expected_value, shap_values, misclassified_set.iloc[get_randInstance(123, misclassified_set),:])\n",
    "print(get_randInstance(123, misclassified_set))"
   ]
  },
  {
   "cell_type": "code",
   "execution_count": null,
   "metadata": {
    "cell_id": "00061-2468cc1f-f965-49aa-a3f4-9c7a54a359ed",
    "deepnote_cell_type": "code",
    "deepnote_output_heights": [
     null,
     259.58331298828125
    ],
    "deepnote_to_be_reexecuted": false,
    "execution_millis": 2998,
    "execution_start": 1639414704920,
    "id": "JnmMUpnWmm3c",
    "source_hash": "fbfd719e",
    "tags": []
   },
   "outputs": [],
   "source": [
    "expected_value = kernel_explainer.expected_value\n",
    "print(\"The base value is\", expected_value)\n",
    "shap_values = kernel_explainer.shap_values(misclassified_set.iloc[get_randInstance(12, misclassified_set),:])\n",
    "shap.decision_plot(expected_value, shap_values, misclassified_set.iloc[get_randInstance(12, misclassified_set),:])\n",
    "print(get_randInstance(12, misclassified_set))"
   ]
  },
  {
   "cell_type": "code",
   "execution_count": null,
   "metadata": {
    "cell_id": "00059-aefe75bc-14fe-41c4-abe0-a33611205304",
    "deepnote_cell_type": "code",
    "deepnote_output_heights": [
     null,
     259.58331298828125
    ],
    "deepnote_to_be_reexecuted": false,
    "execution_millis": 3390,
    "execution_start": 1639414707945,
    "id": "yGF-1-tBmm3c",
    "source_hash": "791ecd1f",
    "tags": []
   },
   "outputs": [],
   "source": [
    "expected_value = kernel_explainer.expected_value\n",
    "print(\"The base value is\", expected_value)\n",
    "shap_values = kernel_explainer.shap_values(misclassified_set.iloc[get_randInstance(321, misclassified_set),:])\n",
    "shap.decision_plot(expected_value, shap_values, misclassified_set.iloc[get_randInstance(321, misclassified_set),:])\n",
    "print(get_randInstance(321, misclassified_set))"
   ]
  },
  {
   "cell_type": "markdown",
   "metadata": {
    "cell_id": "00068-61d329b5-c6db-4e76-a193-193b08b7faa0",
    "deepnote_cell_type": "markdown",
    "id": "9OVkWL7tmm3d",
    "tags": []
   },
   "source": [
    "As we can see here from these plots, the fact that a mushrooms hasn't any odor leads the model to misclassify these few records. "
   ]
  },
  {
   "cell_type": "markdown",
   "metadata": {
    "cell_id": "00077-ca9eb5cb-8c72-4f62-817b-72e14174f1f0",
    "deepnote_cell_type": "markdown",
    "id": "4xXRFieEmm3d",
    "tags": []
   },
   "source": [
    "For all the 24 misclassified instances hold:\n",
    "- **odor_none** = 1\n",
    "- **spore_print_color_r** = 0\n",
    "- **stalk-below-ring_yellow** = 0"
   ]
  },
  {
   "cell_type": "markdown",
   "metadata": {
    "cell_id": "00079-6222b357-4088-400a-a95a-d22af78de97c",
    "deepnote_cell_type": "markdown",
    "id": "JCTvwQicmm3d",
    "tags": []
   },
   "source": [
    "![image-20211213-162159.png](data:image/png;base64,iVBORw0KGgoAAAANSUhEUgAAAbgAAAGACAYAAADf43dzAAAABHNCSVQICAgIfAhkiAAAIABJREFUeF7sXQd8VcXTnfSekNAJvfcmShUEEaRaQAULRbFjx16xiwUsdLCgIiAqggoiqKCgAhaK9N5JKOmV5H3nzM2GSwj4+TcJAXb5PV65926ZvZlzz+zsjJcHRWyxErASsBKwErASOMsk4H2WjccOx0rASsBKwErASkAlYAHO3ghWAlYCVgJWAmelBCzAnZXTagdlJWAlYCVgJWABzt4DVgJWAlYCVgJnpQQswJ2V02oHZSVgJWAlYCVgAc7eA1YCVgJWAlYCZ6UELMCdldNqB2UlYCVgJWAlYAHO3gNWAlYCVgJWAmelBCzAnZXTagdlJWAlYCVgJWABzt4DVgJWAlYCVgJnpQQswJ2V02oHZSVgJWAlYCXgW9QiMKEvvby8hJ9tKMyinoHi3R7vC3NvsKf8bIuVgJWAlcD/IgGvogi2nBfE+D07O1v76+tb5Bj7v8jJXlNEEsjKytJ7w8fH5wRws2BXRJNgm7ESOEskUOgARzAzismAmrf3MctoZmamZGRknCXitMP4LxIgqAUGBuZWYR6EeL8YVmdB7r9I2F5rJXBuSaBQAc6AG9/5ZG7Y2vr16+XTGTNk5apVcujQIUkHwFlD1Ll14+UdLXM2+QLgIiMjpUaNGtK7Vy+5qGNHPe3o0aO5jM5YAyzQ5ZWg/W4lYCWQVwKFBnBucDMmp927d8uzzw6X5Sv+kBYtW0rL1hdKvfr1JTQsLHctDisweftov5/lEsBKrDK09LQ02bl9u/z221JZsniRRISFyrPDh8v5F1yQa9Imm7Mgd5bfEHZ4VgIFJIFCAbj8mNvXX30lDz3yqFx08SXywMMPS/UKZSUTg8gqoIHYas4OCdB47Y/XkdQsef/dSTJhzNty7TVXy5NPPWWB7eyYYjsKK4Eik0ChABx77zZLTpgwXl597Q0Z+fZo6dm1syRgyS09PV3NTizFzdx0NjEEjsU9HvPZvQ7qvtvM8bx3YFHNkfY3G4zO20uign1l4449MmTQAKlZtbJMnDRJx2LW5IrjvZNXbva7lYCVwOmTQIEDnFGQxiw5+8svZdjDj8i0z2dJ8/p1JDYxHQrKB+BWPE1NRoF6+3hJ1tFsVahFpdwL6jY41meCm0hAIOTtsvxmHhXJzMw6YVzmOj8/b6yH4cEDHeLaGP1d09MKXxbm3jEOJXRACg0LlKNpGXJV3z5Sr1Z1GTXqzePW5ApKZrYeKwErgbNPAgW60dsoSPO+adMmeWDYgzJu4mRpCnCLAbjR0cSAGxVZYYEH+2AUJt8JuI4LetZxv3NKzfGjUKjB/l4yZ9bn0rdnD0lNTVG2wGvN9azDk7PFwdRvjvN3PU5UyanX3DLu/uSej/O0T3muMde7b7eTj8cBHtMezzMAkQUm5B/gI4u+XywXtmotkSHBckWvy2XTxk3i7++Dto9dyz4FBHrLzh3bpQ7YUmRIiEQE4wWvxk5t20lSUmKuLNz9KsjP5n4w4/fz85OU5Azx9vWXDz+aKot/Wioffvih3kPsb14ZF2RfbF1WAlYCZ74ECnQTmlGsFAuB4YknHpd+NwyUThe2kZiENKHCMucUFrCZKTH1G/AKCvITX8A51WIq1neoIB0znQN+PO7t5SsBoC3x8fGya+cOPYf1EIQCAwMkwM9hNGnpWDvMylQmyvqDYEo7igVF4loIFpAy8mFI7v4EBvrquZmZ2RIa4qcsiX0y4OS+rdy/GWCkaTcgAH3NYVncZJGG691tsM8hgX6yZs16ueaKXtKoSVOsfT4m0z7+SPr27i5Llv8hQQAxslQzJ9509IDpeM/uXTLk1jukVJmSGFe2VKpcBYDon2//CuNPwH1vEMxS0zMkskSYjBj1tgy7+zbp0qWLlC5dWufFmLkLox+2TisBK4EzWwIFCnBUxmY7wKJFi2Tr9p3yzsT3JS4tC+DmW2TgxikxLICfCSLbd+yVI9iSEABGUr1GLShGAFEGQQGghOM7tu+Rg7GxUqdWNQkLCwfzCdD+ZoMFhYYGSGzsEdm3dy9AzUsqV6km4eFBCkr8vn7tZilZsqTu4fp7zWYpV768lIyKEjIoN+iwLz44f9vWneILeZQtW05WrlyrSrpW7ToAOjDFLIf9GdAx77w2ONhPgtDfVHzevXO/rFv7t8ye9ZkkxMXLxA8+1L6yGFD08fWSj96fLBElSsgXX38rZcIDpfcVfaVDy/Nw3SwZNPgGSYSpkoXtwF6t10ZGRsmbY0ZLsIvfx8FEac7LD4j1YAEXM4fcPhCfkokHpVbSsElzGTd2rDz9zDNqqiyqvhTw0Gx1VgJWAkUggUIxUbLfUz/+WHpedqWUDg+GIiI7cUJzuZ/OC3t82VDWgUE+8s5bo6V188bS+rzG0rxBbRky8Fo5dPAgwEkkCMffn/yBtGreSNpd0ExaNG8u8+d9rQCXicWqEFC6+XO/k87t20irZg3lgiYN5LJunWXVyr8lwB8VoI1777xFbr95sPTo0lHaoI2pUz6Q8ABvXE8/UadQEZOBBeL3V54fLjde30+uvepyadm0gbRoVFcee/ABBVsWB6Yc0CFo+WJBjCbF31f8Ka+88SYYWR+5pH1reWTYvWBYGdLjsst1wcwAAmVMdpqG5n9Z8rP06HWZlAC47Y9LkYb160rLNm3kx4XfiR8BLbeHTru8LiUlRYbde5/c++Awmfjeh3IgPvU482RRzaGCbo5QcPdIlidbBt10iyz8/ns8XKSqqdL9IOMaiv1oJWAlYCUgBQpwVEZkI1Q+m7dskfYdLpJM2uJQqKeKSjGyPYJJCJwrflq0RIbdM1R6XX6l/PL7Kpn4/hSZOf0TefmF5yUcx1f+tVruH3q7dO5yqSzF8UcefVy+/OIzmPxSAX5BsnvvfgWvEiUiZeFPv8rsufNhvtwpd9xyo2R7HLNgMNaqFs6fJ336XiW//fW3XAuzbLyyVtg0c4pR1gTdyKiSsmLZb9gD2FCW4fynn3tRRr/1hqz8YyUAENQyR2Zkw8FB3rJxwwapUra0XNT6fPkQjKxd+w7y7Q8/y69/rAY4T5Lr+l+lzO84QCD7xG8HD8ZImbJlxSenzkBvjzLUmJgYYKLD2thFBQpeA7llZ2fJp9M+lnfHT5RbbxooNw24VpJTkuF44qxHFjWoOOMC8GZ4ScNGjbC1xEs2Y32X/SjqvuROqP1gJWAlUOwlUKAmSqMo4+KOSBrWTSpEV5T0LIdNFCW4sR903Aj09pOvZ38Jk2RNmThxgqArytS2b9su06d+BPAdKb/8vBRrUcEy6YMPsK7lB6bXSHYAwD7/dLqEhAbKz4tXyoF9e2XRLyukWuVyQoFlTZgMpX+dsrgLWjSR5KQkubzPVfIIWFgKcCILa3BkrfmNmetcyclJ2LzcUl575UXdB1itek35YuYM1PeHtG7ZVFLoQJETnuooQCo8PEIuu7IPzJ9r0FaigiPH16hJM2l+XguJigrN90bjQ4WPj6/jyAIwYH/gVqIgZqLKuNni0aMeiYKp9ZOZX0qnS7qIH5jjjGmfKMB9+dlMuQlgl5CMweG5KL+x5duJAvjRATEvZcSlS4SoaXfturXSqHHjIu1HAQzFVmElYCVQhBIoUAZn+k1FxPWRYDgxgAycvidtKPWU5GQJC8eaGkZ65EiSAkrFSpU1PBiXu9LT07B2FgSTop/EwYTHUiG6kniDiRIg0tNSxQemsNJgQQnJmZICz8Ny5SqIP9hZclKyUmAvgFGNmrUkA6CTlJiWC275sQtaIcmQotGHVABNPOrMwnc/f8ck6kVTLhtGobkwI9ODNb1yMnHCOPlszlwZM+l9gNr58t238+Q+MM9O7VrKbTffij46U2na5LsP9gZUhoPIpo0btI8ErJRMLzmwf59UrVZNsnNMopwrAlZGRrZUrVhW+vTupiCYhdeNN/SX5i3Olz//+B2M9XiWqJ0sguIwONxHkBOZaAgY8+FDh7Xl/GRcBF2yTVgJWAmcARIocICjMqK1yyhprg05CipHmxaRUNhmFl5Nmp8nf69eJbPnLZQKYDoHDh6RMW+PkpoApEA4fNSoVUsZ2tQZX0i5EsGyL+agvD9pHJxBsIZGhV+9ho5nzKg3JBzOKN749w7MiVy9qoutD2lgPWRDbI+A5Pbqy4/lOMBzbIO7OZ/t8TPrdUuKn9k+36NLhsmFWCfk2tvC776VdRvWydvjJ0mbtheqy79pj22o5yfoZtfuPWUW2NcymF+j4OL5BT6TAdJkm471PZpRS4X6a999/bzk56XL1fQZhrEGYb1w5uxvYMb9Q+o3aAgv09OX4kjvK0iB9xXfCcAsFuCK6A/KNmMlcAZKoMBNlJQBdNBxSvp0yIUMLBHrYNf07y+ffvKx9Ol5qVSsXBksLU4dM0a8PkrB6eJLLpYeva+Q66+5Up54pDoUJ9d14AwCVhcP78TmjRvILXcMlccfGSbjEDaKmQ9iDuyXEW+8JeXgRp+S6pG4I0fA3LBPLAcAOF6jgM3YqYj58vLykQRsQ4jDywEkx0hIpxeyTXcdBKnQIF/5E+uE/fte5qyRAchMIbAGBwdLrTp15er+1+W2aR4oUtOzpd91N8jMGZ/ASaa1mox3YZ9b32v6S9sLO6gH6Nq/V8u1fS+XL7/5ThrVrS7zvvlKJo0fgw3W4ZINM+u+fXukNQD0ir5XSxoAnzObH3AX9hyr7LR1FodJ8tPp6Ethj9XWbyVgJVAwEigUgDNdO53Kh20TrOgoMv2L2XDOeFf+WLFcSpcpIzcMvBHrV/WxFnYUDCYALvYfSdvJ7fV4h44XS20Axs8I9ktPynTY8V569Q25ABulF8AsSMZzJZR9py6dJCnFiXJ/zbXXYx2thqQDMJUJwRSItxMKmRgwQ7p06yFpCCzMNS8WMrcBN94kTZo1z62Dv+sYcApNvRe0agPwg5MHwNcUOonQvMk1KXfhdawzE2AYVSoS4/9K3ps4Ds4q62To3ffJ9YNu1NOz0H5oaKiOLSgY2x7w/Z77H9Q1y1+XLkH/MuX8lq0AiNfivBD1KnUz1OMaLcIvfICyxUrASsBK4J8kUKChuhyG4iU7sUn6KrCEz+bMg4NEuK7HOZuq/6k7BX+cIMfIKRHcwZ1TUoARaWlOn0yfSyCKBwvhgxunmZUsPv1YYtYwbCcwTwPY5w2vwmPXl8AxbghI4r44aF8yMW6YVrrhYBir1viKoaHhEhnqeFcmuDZns/00nJOSU4degMJ1L38/Hwn9h0cRBic2DxTGbGdAnoAbzgjGKOxOfE7YLX73y6k7EQPIBPoSwMJwrsFnnp+QIwfW567bqbHo/s8Eey6N7Q43DLpJWp/fXO6480672bvoxG9bshI44yTwD2rzjBtPboeNIqYZjubCg0k5IbZy2A0B14Ab3w8mwekEJkEWmv6SwJTogWiUejxCRjlmx2NrbcY54xDqZiGeBWM967abboeX5se5fXF/4FaExmCPSWgvAAyRRdvXGJ1Y4QPAEIbI9rQ/+JCGB4SUHBMdAecEAoMx5XpF4jx9oOA4AWxkO6wnNvGo/s7xEPDM2DIRdiUWYG32lGXgnNhUZz2P13qBNRL0Tje45StM+6OVgJWAlcApJHDWApxhMxy7o9RPHKo5h+9U4oGB/sqUDHM7/jhjaB6TJEEpEmBGp/lksqecQ1ynum/YI1gTu/44UOBhX18/REGpAsDx0tBXpmj7AFVTCG4sJVA/f2UbiWiDxQCNe3xuoCZAlgaj5DVkiGZNjwAWGRag9ZGlJpjgyepcgnBhaJRONOSWhrXRcYUPCCymDf1ii5WAlYCVwBkggRO1/hnQ6YLuIpW3L1zq9+zeI8t/+1UuxqbvYKxJ0bzpBhK2y3NZ6II/55v52INWUs5r3gxrZ05syyzsPWjKiCd45S28EsRNGVXees13miQZzovM6dsFP2oCUK6JtWnXThlkfn3itbq3DX3inrwZs2dJ+QoVpONFFyGaCTKpwwzJ9bv5CxZpMGVu/L6oU2cNF3YU62pkjgHYYL74519l04aNUiKyhHS8uDNCmAXDqcZhfXn7m3ds9ruVgJWAlUBxk8A5AXAGlGhyI0AYUyRZG4GBx4ODAuBRuEYeuPtO+RGbusMRYiw5GdkPYKYkMPE8Knlj2gxEIONXX3pemmFPWrtW50mqCwiSsbct0dCwPDNunDSO9enYuhZPNUzw4QfukfGj39a+kX3d88BDiHjyAvpObnaMyZnqCYwhCMA86o0x8vRjDytA9YQjTEp6JvaPecvQO4aoo41ptzfCfY17931sBQjCOpy3PPnoY/L2yNfhSMIVSIGXZXv5YOoMKVOmNPbiMeZm0W7uNuOy71YCVgJWAv+rBPLx9ftfqyq+1xGYHJZDr0ps2oapjq8QZAGgmTECn2lmvKRrV9mHLQAVoqOh6D0IThwED0Y/pI7x0/O5X4wARWWfhi0Ii35aLK+Nel3icK3ZC0cpcFM1v9MMmffF682LfXKb/hidhOHFFsyfL+PeeUveGjsRDh5H5YURr8nriHryy5KlAGIAbs4esGPjQlYCZENY9PNvSI2zUNpf1AkxOIOxkR1ekiEBCD32uUx5b7K88dZYOQTw/eq7hTLv6zkyedw4pMPxkR+//0FGjngZefsek1hkffj5t+WyeuVKtPkS0gcxPFeOzbT4TrHtmZWAlYCVwAkSOCcAjiBCBkZw+3nxUnXz796rN6KBfC8vvvQqcoxNlVAo8lVQ6rffcRfS5cRhk3em3H3fgzhnobw28m2Y9C6Whx57UhITE3RdyheRQ55DDMmpH36CFDlOjEZK1wAW3xnR5VQv97m5n708CNs1XVohB9uQW29SMLx96D2IJnIBYmhOFSQIyGVhvMZcx7Q3zzzxiNxx1z1SvWZN3ZcHVMdmdo/8tPhHmE3Pk3uG3qpy6NG5k3Brw5fIREDKyCgl5QHqjw9/Gk4u3tL2ghZy5z336Wby/YcSNYQZ27HFSsBKwErgTJLAOQFwCm5gKksAbt06tZdlWGc7FHtQ7r/7Dhnx4nOyYf068cf61d49exB78WMNFs1wWt/M+VJuQUoZsp/U1DTEjnwB+ciGShBMenT5/3bu17Ji+TK91vGwdEyZgXD537ZlizK+k71qRJdR8DuOxYH50QFkPeIsNkH+Nm/0OzERQZ99ETWlXj1Zu2a1eBPUcpgfbzQ6gkSCib755ptgm6FyZa/umvaHWyOy4RGJFTSJxgbvnTu3yx9rNmh/9h9JkD9/XyEHkP4nESmDKlSoiOwKsZDPEolCSp5EmDW5D44hvQ4fOqgRTizAnUl/1ravVgJWApTAObEGRxDxBSC9AjBrgSDHX387X0qGIwMAsgMw9Q2DGVOB05xYsmQpNUHS45GejY2bNpOZMz+TsOBAGTHyLaxTvSa79sZIpYqlJSKihG6UNjEaKVBey5iOzAn30YzPT3qXMVKKcc03Dhxcf2NaIW4C90dsSl8CGSCPk8QN5qmIi0lWxvMck2u2mizXbNwmc7+aLe+BieKwbj9IT/NH7ElfzcXX/7oBMnHcaIB7BzDBFrIHQJ6QEK91HTkSLz1795DXX66FRKjd4MzSXvbv3y+JiLTC8TsgDGcby+BOOpf2gJWAlUDxlMA5weBU9FDQ69euRVT+vgpuew4lIARVK2mGQMI05xkmZRxQyMjIgvpe3R9rdYGSAJNly5ZtEN0kEOG+jiDor5dG+jDOJ+7pJRYQHCohoPLJXhXg5WiAzVyr5kZAWgQANxFZAzLRBugaNp5j8zhytDFlDw2FPI972tg22eNzTz2hnpHbNq2Tb7F+x8SsMQcOyIKFC5V5VqkaLXPmfS+dL71UU/1cdc3VMFHeoAlaff38JTwiTD7/ap70v36g7Nq1Uzpf3EluvuNODVcWhMDG2djWkBtbtHjex7ZXVgJWAlYCJ0jgnGBwZtShYaGqwFnKlgyXOGze3gOFT3aUd4WJIEI2RhDJVLDzRQYCRCfh73C516DIpEsobvOds9bnJ5s37JAOrVucIHDzAxnartg4ZVvGvMl6fFDneedfIN98PRuemcgkEBmsiUqX/fqLMjFnG4E3GCU2o2MvWxq2Jaxdu0YDSjPFj7tc0rmz7DhwRBll44a1kYj1/dzD0RUrIg7npVKmRKjEJWZIlWrRMh6xNk0h061dt55UjS4L5uhsFTjpYOwBKwErASuBYiiBcwLgCBxkINfeMEieeuwhXZNqjDWuKe9NUsALAJPJW9zsSj8DAQl4/1QcD0tkIahRQ7bsiTnp6TxPgZWszQWU9Fi8GgGS33nzDbn79iEyYNBgGT92DNYHd6tjCHPa0YT5y9IVaj6NCA8DO1uoWx9YVxQ8PgcMvkkDOjNxqycgRFJTUmXIgCFyyaXdscctUt549RUkQj0ot991lxxFxBaG67oF13DLA9PoTBw/Vn7H2uIcONj4YK+cByGyvL1du9xPOip7wErASsBKoPhI4JwAOAJIKtzt74CDyK5dO5A1YJjOwIDBQzTAMaPmc43JmP4UEPHKghnQAJBiHH6jadD8RlAxJkr+xmJMnfR+LIss3KcqmZnOHjwDcAS9FKyZNWvWRCa896E8/vADunctumIlefejaVKjdk20LYjwv1d6XNJRFixaKu2RJYBJSn3hXsngzYy5SeBk+1FRUQjRlS6BMLGGR0TIrTcO0O40b95CZn31rTRr3gSm0AxsJfDHmmEFeRRpeBhDk8GmP8b6YWfso0vEtgInN57DVk81HnvMSsBKwEqgOEngrA+2TGE7gMQs20eV/fhh3Sk4OABROzZLmxaN1Rnk8t7dJQYu8QkJCZpxgGATGxODtDGhmmCT8JUBE+WRw0ekZKlS6sBxEJ6HrCsC4GEcTQz4GZA82WQbUDOAyPPcnwMRbusgTJhMqhoaFgbnl3Dde8dzCLxsOwoOMUy8ysSkpjA01+HDhxV4S6Gf7LfZ1hBzIFYzAkQC+MK59y8nYDSv9cdWh5iYQ5IBgAuH80wUcuMxW4KG+sqp3PQ5t7Ei/mCDLRexwG1zVgJnuATOCQan62Jwf9+1Y6fcOKC/1KxVG3vigmHCmyl16tVH1I52kgJ3+SDkVisRGaZrVizRFcvD9JcT9BjfA+BgUrFyBd0EzjrLli+LTdcEzmOht9zA9f8FBHOeGxxTwZwYMqtUqRKoX2BmxJYCgC7PUQeWKtiMjjU69sNtOuXxMmCOZJwZGBPrptmTn83vmWB6SaifTjQsvCY9PUtKlS4JQON4EPuSzI0mWVxvudsZ/lduu28lcI5K4JwAOCrqdLCfipUrybXwFHxv8gRNUtqz9+XyyBNPSxiSe5qYi0yjYwAnHWZNfjbfCSbpac6aGX9jJH7dKY1iTJX83QDVv72njrsWfWacSEbO0j7gu+kH609LPdY3NzBqvxBai8XNIp1rAHg5cS4dUDT795zsBek5AZ1pkmSGcTI37gc0Y9SFSIzX9MPpr2NmzT0HfTN9/V/l8G/lZs+3ErASsBLITwLnBMAdAw5vufOu2+U+vFgIT6nIg0Z2Q4VPhexmQ0aRG8Ep0OB17LtJueMNRgh3/pMEUs5P8Cf7zQ0eDpiceOaJ/XD6dDzweOA8g3BhIGFu9xBi2DFmlw1WinNwgnGfoUyYk84xbXpLIIIw8yZhC4Q6LBsq22NbZIbcy4ckDNqGOSfZZCpwyerEUdhfrASsBKwEClcC/+wWWLjt/6va8zISsibz4jFT+DnvMQNyNL0x9xrzv8XhlYH9bY4edq4/VX3ues1nhuyKiTkg3TpfAs/D3xC82DvXozFvH07VPx5zj+9fCSbPydycHY5+PHTf/VKjchUphbW6klh3KxkZhXBfMzSqC9fiGLps+7YdMuSmmyUaTibN4JU59eNpGnyZSXWyszNl0oR3pWnjJlIBx6/uc7Ws+mu1Zh44CtutP85LRnLX4U8/KzWqVZfqeD2P8GXK+oB2HL8tVgJWAlYCp0sCZxyDM8yBoBQIBa1rRtCnmTAnHoM4HAN74RISdSzNjqY4QZC9wEIQIQTgBAKizCsDoOAL01wglD/roUnTgCY9EuHLoU4eZDz4ij1xuAYOGf7+jPaRIevW/o0kpknq0JGtedTAfkz/0Hw6wl9xzYs4zHr9UQ/yjmr/uObH39zs0HxXT00uBJIeuQeYMyA1J+Llvp6fmXJn08YN4od9dgOvvEKSIR/mfatavYaaMANB7bZt2yndOyOlDiKk9L68D5xTDsnYt9+UPlddo8Gb33zzHXnw3ruk52VXSAek12Host6I/LJkxUopj3W+1JQkGXhtP1nw7VzdwsB1zQ/enaSfq1SrDBkek/vpusFtu1YCVgLnrgTOKIAz4OYPmxrzru3cvltDSdHLsEyZUvjsAAuBbfeuvRr9g44jFStWUBd6Kv4MoNmOHXulMpjNYXhEHoHHYdly5aUkvAZT0j2yZcsOXX+iaz6ZCF0syFLotVi1alW46B/QnGvMtxYc4uSMI5gFox0CDb0pA5F6h0C2Y9tutJcukWBOZctGasYCAo8f+r9/byzqTcJnfykPdkTwo7MKizFBsq4I7Gvz1TSk+RdYWDUZKr0dTTFsld97X3GlZgowJRlNpKRkSMkwf3n1xRcQleWwrN+6S8pHhesp3LvHfmRgLPPnfiNduvWQObOckGPLsFeua8cLEbNykQy67hqZOvVL+W7eN/I9shh0bHuBXr/7YDyYXQDWD530QrkN2w9WAlYCVgJFLIEzCuBo8vLBfq+4I4exR+whDYLMQgB55oWXEH3/FmQCSJa7EIV/3jdfKTDRzf9WZAh49MlnNGP3VgDYVZf3lM6XdJVZn89ESKv90qFjJ3lj5Eh56cWXZOaMaVrn86+8JvcOe0DNlysW/SZ333GLdOnaTdsk47mgVWsZM+E9adSgjjIsgieZG+NHbtu1C+t8d8i36ANLmTJl5dVRb0vfflfBaSRb3pswGfnXHkIcyMN6/NobBuL4m0gwGqrATYBrSvZwAAAgAElEQVQicwsGEM75+ltNwkoQdZv8zPfWbS+Uzp0uUi9QAiwLwZWFsTWZPuell16SbG8/6dH7MniQ1gJ79JO9sfGyFOl+bh96r2z4e5W8/vVcadiosVx59TXYhgDzI0KA1UEkkwXMKIB4leUiI2TjhnWoO1vqNWiEMGIiXyEbQVcAIGNyPvbUcI3j2e/6ARIaHpjrBOP0xP5vJWAlYCVQ9BI4owCOSj8K+9e+XLBQgWbqzFlSo2YtWfjtPDmwb5+CQ1p6qrKiZ18aocxs04b18tLzzyD8VUu5pk9v7F/zQ5SPOPl+wXx5fdRbGoH/7jtulUsuvlguR5zKH5b8Jp/PnCEvPzdcuvfoLY3r14TpLUj2IOLJ8mW/ypRPpgOAvBXw7r/7dgRuXgDwgYmQ2b/pqIL3B+4ZqpFHvv3hJzC9aJn+yUcyDL+1uOACKV22vDx4310y5LY7ZfCNQ9S0uXDBd4jmf0T305mEpgTNQNhPv8exsW+P0q0B3P9mCk2TPOf+Bx9FYtOOGrbLABxtmQRJmkuZgeBFmCoZb/M15JSbPOUTuaJnV9mOLAFkuMwawMglyTienp6moD95ylR8Fnli+PMwY26RutWqShjiY8aD7b2K1EHnNa0vCfDijME+QY63D4I079u7RzeJT544TmZ9PU8ZLhOlMvSYLVYCVgJWAqdDAmeUkwlZSxpMjQS1evUbKANixu277r9fnn/2aZjWsiUE60BlsFF7+BOPy/VXXynDn3wMa2UwS27fhlQzDjMiQD0NZ4jrwaiu7NUN609XSnSlijJqzFi5qM0F8sQzz2O9ig4YW1VBc4O4P9ayXhv1DthfL+l7WQ+NNLL4xx/kwMFDufEkGbx494FDytxatW4jG9evQT65uZqtgKbRb+fOVZMjI/anAlzSUhKkPfLMTZ4wFgGRq2Jdz/Hm5I1AkD4C0GL2Arafjg3qfDcvrv/x8ysvPafnMXoJC5mkLxb3UmAiHAgAXYTs5PsPJ8iqtes18PPjD92PqC5YbwTQp2ekydatm2XedwskHqx07KT35UsA3JxZX2ii058W/SAb1q2T1u0ulPYdLpLKVarK3G++lv2xh2FqdRjiqpV/yitvjJIE9O97PBwQ2N8eNVKCmWLHOpmcjr9p26aVgJVAjgTOKAZHhpIEF/ULzm8q07+YI9M+/lDGrhgpO7GB++r+18ngG66V18ZOkgljRssLr4xA4s862NxcEqB0uWSkpTMwv5r+wsPDEa2krCTBFAc9rK7uFaMrgd2JHEb0jqNY1yPAZMB5hOY+Agkj+RM4mWEbmIp1s2gVYSbW2LgBXIMvgzGlIXo/TYnTpn4kk8YlODvHAJKVsOYXEhKiJsxpn8+Wjz54Vz6e+gnW6bZLzdq15VHsx/MP8Me13KrAPXYZEhUaIE8//5J8/MF7JzA4yoJjuemW2+WhB+6VwwgcTZBzHFXg5ejxlj7IDZcCJ5aEhBRpVK+OPPT4U/LA3XfKtt37Mf7Suv+v52WXy/lNGyOgc6rcdtNAef6ZJ5GP7m/0+2p4Yd4lPXpdAcB6Tce693CSNGtQSyaNnyBPI7lqRIkS0qT5eXI1QP8AAkJ3xMPBJTDjLv/1V2RbUG8a+4dmJWAlYCVw2iRwRgEcgYPMYs3aTRpy64XhT6ngRr49Vm4ZNEAGIkoJGUldsLv777lLj5FVaEgtgAcVrmO6ozdjjkMKAM7sgVPvQ1ITMEWaHXVPHI6Tme3ZvUumwdT47NNP6n6w99+doCGvIkpEwbyXAMcKf92YXRrRQMqWqyBD77lXHnvkQd1fRseOZb8uk2o1akpsQpr8uWK53H7nbRKAYxt37pN61SpK8/NagFH21S0M3lgvo7kTFlckI42WJnDfNyZJHRSKYw5F3jmYYXme8cDkuOgdegjMctmmjdIUAFQODjSxh+MAlO+quTUqKkJKhQfJ+S1bIY/cHHn00UelXKko+fq7H+D8shcMubbAQqlbCZKQticZzDiI2yGQgocypImXhsdOF3eRx8AIf1v5t7Rs0kDWb9uFcS6VTp27SjZNk9Y8aabLvlsJWAmcBgmcUQCnjhdIE8PUMcPuuVNZEU1te7H+07pdO8kARaO7+3uTJuAY1o3gYEJGlIm9binJKbnOGwQ8k02bOjgR60/M8WZAgko8NvaArilRkaeD/dHTcfrHH8lnM2bA5AnT3pbN8vJro6R0RLAcjNkvh7CmRTAoFRYkzzz/AjIB3Kr9oOs8nVK4hYBR/ytER0u/K3trVP8wMMlEgGNkVEmE3qqM/h/bKkBWmQSHlCEIkGyCJOd3f3BVLgFelDyfhQ8BNFHGxsbIHTcPVpZHT1Jm+WaG7rfHTZaoyHA4pWTLAw8/qkGbmzZqqPnkmNn8glZt1BmFDOzm24fK08i+8MPCBSrLrVu3KOsbcONN6JtHtwN8On2qdOnQVqpiD9yuHTs0Uevd9z8gKTAluz078+u7/c1KwErASqAwJeDzDEpBNkCQiEeqlk+RBZsK0OQ7ywWP/9AYGRUslIh2X0dzldFJIiw0TJ1Dnnv5VXVPr1qjKqLkt4D7/yGpiDWnEW+8CVZVRho0bix1cF0awmuR/bVr3wFefyXVihYfnwDgqSgtW7dWRxUyOa7vdejQEVsMysvGzVux3vY9wGESzJUwBcJ8+Tg2Nw8YfCP24CHDALwnU+Cx2f6ijlICdTZt3gws5lJJROBmKnxmLHjw0ceRjqaFruV16NgR9Thej82atZCXXhspLc4/D3nXnDU4yop9IEAwC0JyGgAa7/m9MgAkGlYrBxx5LbdElC5dWtPfpGP9keuUzOQ9Ag4iva/ohSSoMMMC+KOR661Hzyux7QEJX/GvH5Kgvoy+RCABKqOVtL3wQqTkaa7bGZj4tGu37vL6W6OlFrIapOF4CLZJ9Lqsj4Irt07QG3XU6HHwvqyp17vDi/2Hac+9lE41Idg/+MWs2VIpurycD6cdlROZti1WAlYCVgJ5JHDGZRMwCi0EaWHc9DMhJ0wWxxeMSPw0/7FwDSoY+g+HJUmZjo+Ewx8jCUCZCacOrhKF4Xw62MfnxGIkSJQI9MYaHdbnfDzy4w8/y1233yxfzlsg9WFOZOH+M9bHwvWwcFhAaYpkGCz2kVFCEL0rt9Dkl5oTwioI7bkz0LGPJvzVsSv+2yenD8e3k8o+uDIIkO1xw3moK5ZXPPYC8ncDsiHoK4aWWygTxu002xQ4dqboMcV9/L+N4MSrbTaBE2Vif7ESsBI4uQTOKBOlYSlUwIcTCDE06TlBiKloHZboRMpPyPHg4+8p3LCN89QxA8wpFhE2+JlKmqo5AeG7WLcx8/Ez86ixvrBQOJvAkeQQTHxpqamSAOWeio3SjAqi1+McmgFjE506KWr2LzExTRLx2c1czeckoGsS2iC4KjTQTppPYf1mfZB1sl/O6dwC4LTtlgnP0eN4cc0uBWCWhL4ZVw8jI1MP68gAM4zFOeZaUy/PZWFoMz2GtrnxnA4wlCWLAbmDGA/X/tiyGSOvOTYnjndnfmNgPbyGx0wf3P10y08btcVKwErASuD/KYEzCuCMsuN7SWwmRrStfJiPlypWo6ApBypiU3itcak3v7nP5W/mHAJBOtaqGmAD9CTsDaNDhwfeiTQzuhWv+3zGaSRjZCGjU9d/tBkERmiYUCr6nYYozwQhtpGXJZl+kXGl5bDEYKT7IVFi1WSDzOXGwrZZhx9cQHGKMlEe4b444iGB2A2MepGrGNkEBgYIonMpKyYvTcT1BqToeJMFM2wYtjiQeRLKEMZTvUt5PR8M2AZBLoT9xHH2ITmHDZrmQnA9jxGAU9C3NKQAMjLg2qphtYl4dnGnIDLX23crASsBK4F/I4EzCuDcbGXu/B+xd6yaVKtaRTJzon/8m4H/f84leHBNrmzZMnI5NkdTqZOtucHN1MO++SD6x6ZNW2XNyr/05/MuaCmVKpSHy76X/P77Ktm9c6duJ2iI4MU1alQGw+I6nJf89tsfsh379AxY8VofeHHWqVdXamMLgTcAZuOGLbJls+M9Wh3emI2bNNQYlnSiYegyhh1bjHbj4uJ0zZEekvzdyZSQP0N0QAl57hC38/DBOPlp9UqJQ+gyeoee37I1Qo6BvWrmAEHWbz9ZvXo99vath/k1UFq1bYftFqF4wDiWticYCPnnn2vUAYfbKhjtRcEP46Fn55rV63BsiwJn/foNsY5aXVmmH46tXrlWnVx4fss2bREgOkrXN/OT9f9n7uw5VgJWAlYCfPIusALFpXXt2LHdA+Xm2RUb78GajudQcqbnSGqWB3vMct9jEtKO+53HYBb0IMq/nsNr+J3nmXP5G8/jd4CbZ8TINz1ZaG9/XIoH7vV6nWkH7vi59R+rj3Wl5tZnznX3y/0bf+fL9MV8N+/uMbH9NPTlhRFvUJ/r66MZn3nSIZPBQ271hIWF5f5ernwFz4fTZnqS4OmRANfJftffkHvMXMv3iR98rPJ85fU3Pdi3l3sOvCI9Tzz9HMaa7UnMyPKsWL3BU6t2nePq6HN1P8j/COTvyNKM0ciI75Q1tgB4Fv36u6deg4bHXd+5y6WeTbv2qTzRjGfkO+M8CMmVew6cVjxrNm3T9llPYqbHM+yRxzzsmxnDVf2u9aTh2hRM0vAXX/YgpFruMYCwZ/y7U/S6DIRDGfbwY7nHvlmwCL95dP7d/Y2JT1V5XD/wRs/od97Rz2CR+m6LlYCVgJVAXgkUqfuZYSh09CgdFqCR+NGh3Kf0kljvCgdT0IDFYBWl8J3n8cXI/OZc1lOyVCl1wee5kRFBEoFzedw5xxvu+jC55VxDxsC2SmHjdOmwwNy2+TvrMv1yv5vf+W7McO7f3OfyOUnPQ/vZWUfVm3LPwQTp1rO3HMG+t8pVq8pbYyfKRgR5/nPNOo1awlBfycncFO6RUW+Pk92IDbkz5ojEYcsCo6Qw1BWvTwOLCQ4NkYcee1JWbdgmmxBE+roB2JA9/ElZs+ovmCUZpDlTMwAwyv9WBHEeN/kDbGeYhqgkn0sI9g2ata38nuewpKamxl6I5vLj0uWy48Bhef/jqbJg/jwZ/dYoOJCAXa3+W554ZJh079Vbtu87KL+u+Av75fbJU48+gnxzWKfEnE0aP05ee/lF7eeu2Ditq1GjJsrCsjDGUqVKy3OvvIq9crtlzfrN0qzF+fLQ/XdjE3qSpMAc+uhTT8vaLTslCvEsdS3UdV/k12/7m5WAlYCVwD9KIC/i/ZfveRnczpi44xgcmVBiZrbn7807Pdhj5flr3WZPMuyLB5MyPXF41B/+4isexEH0pINVLP19pefu+x/0dO91meeGwTd6fvxluScZTOBQDtOD673nzdHjlcG98fYYzzvjJ3mSUDef+PfHJXugaD3zf1yC+rP1ur837/Dc9+AjHqR+8dx5z32eNRu3e5KBjmzbzW7MZzKrU73c7I2fD4HFgIx4nnn+JQ/c5ZWZcEysjxwDRFb7xoL9cMpWtu8/om3wPL6T7fKMthd28Nxyx1APug4Wk6HMkHUkoE5+RkQRD0DXM+ub75Tp8HqnZq1eCwI8exBLUq8jEzIs2s2IzBiScBK5dwr+O0y6htK6TTsPMhHgQLYyydDQMGXk7CfLO+MmecqVL+9Zt22PJwnx0+qDAfa9pr8eY32UBYvDurN0/KzZqd3j+eSzLz3YbuHZsGOvJx518hreL4iO4pn3/U96vWHzpp+GwV03YLBlcDnytW9WAlYCJ5dAkTI4oi3jRZYrX1q+QEDjWTM/lQCsv/j5+SDc1nbEj3xUNz1D18mdN98kPy/+UUNfbdm0Wa6/po/89isSiiojcdzzMSx1uliAYMsMnuyLTANkUtzEzTBe69etlWD8tnrlGunUrpVM/XAK4ktukc8+nSHdLm4vWzdv0+SdZDisi+/sy5EjR+D273XSV+nQQCc6Cta4NFdbTiFqsX3Ww5xrpt44eCImYAGPeeNYmLGgPfbYlS4Voc4UXNdjrEof72xZgbWov1evkt7Y28f6aO1MxvWsIyUlTZ00Zn32KWRYQRo3bihpiDlJBnYY9S/86Vf5cu4CueeBB5UB9maIMjiHGOap1bkKx8xjXEdjqC96fgZAXlsQyoubuntfjj7geBTmhJvef1nyk4TBEYX9YoYDBriOw37DXUghdOjQIWQZaCgXYY9fKOrocGEH+W7xL9g/56vzlQynmi27D8gc9O/jGZ/JmLdGaqzM6Ohy2K5xVJk4majpkzP2vD122j7xV/uLlYCVgJXAiRIoFCcTKqlcRQVNxc8sVKYEuCgAxEOPPSHvThgnd957n8Zc/HTaVN2YfPEll8CLz0uG3ns/gOkv3ah8+MghzZY9+4svEO+wpcRBaedUqMqWMRG5odxpx2mLqVsC4QzB35596nEEZ64vs7BBOCIsGB6CGdK1M4Mcj5dXX30ZbTh9ZP/oLciYkWMnv6/pb/Ir9MIEo8GWA4CH20Mz52QDKEYG9BsEN1Pz6KsI2MwMAV9/971G4icI0gRKZ5YQgP2UdycjqkkVuahtG43Yb9z2GR+zDDxH5/+4GNFFHpYxE99VcEhIBDDC5Mu2bh50nWzbulV7cf+DjwAAG2gOOlNHfmPhbzyugapDAiUVG7b79bkcMSh7y3U39Jc4bDJv36GdOq0MQCixT5Bh4RAcUXbv3C7+CGHGeJ1H8UpLTZFx77wp3XD85Z6XI4rLeA12veiXZdhEX0EdXv5AiLJrsNGcJSQ0VLBeqU42GjbNy/c4IM7rFkOZ6m2UA8rmnjLvJxub/d1KwErg3JVAgQMcFQ7jONIL0HEjP+bKTjFDT8G93+MowueHyzIwgS4d24NdfSCDbrpFwsCcVq7bLKNeGyG7d++C23kwPPiCsCYXpBH4Wb9Ral5QeFSEbIe5z7KhKE0+NZ7D9S02uBEpc/Ygyn25MlGIYoLgyP6MpJ+JsF8h6s7uLlSi3DbQslVb/OyAZZ5TVBET5FThnqxo0w6bYz1cXxz+/IsyYdxY+Xz2V4j3WE1SwGqYRZwMLgCxMvdgHe7buV/JDYNukuBAP4BNhrrRE3RLAdy+mPON3HzjIHn9zbcQQaSHskKuZ5L9cLzzf1yqTPCP33+T+4feKeUQx/JepOlJgDu+My/H9tWZbvN3BfVgfzl46LD0vLSLNES+t1Gjx2piVHA8PCiEyJRpn8rrWGOb+80caQWwu6pfPwDtI5iXYN02QaC+tHsvZPSeqFVf3ucqaVqvBtby5sudyM93EGuRF4K1rkVy1dTUZHnr9dfl2r6Xy4KfliIMWnlcfzJBuh6QQNd5/zBtUAC2NbBQxrZYCVgJWAnkJ4ECBzgqHIISnTo0WzZAJQNxC81+K74nQ+HWqVFFw2VN+2gKFGiwxmrsfUUfQWgVmfv1HI0vuX7LVilTwsk03RTht1LBEgw74mCYHYAYQ/BLQqisYIAqmpYth9Nk/769ufvdCFitEGPxyisu0zQycAcB6/HWtDsZOVnAtT60TRPlYfS7OaLmn6ps3LkXZsDyyFKQKV6o/4TCvqE+6l+6zz+B0F6fzZiO7Ne/Sp2q0ZKKjvvBmcKYMbkHbe7Pi2XXzh3S/4YBCHDsyIzHI0L9ZBpy3z10393y3pSPpXe3S4R75AiKZF40s4IgSVRIWQX8+jUqIRnpl/LNnFlyB7IHUGZ08ychzRsxheDGPXbcwnBN377SDqlxRr85UoHfx4eb3LN1q0Gl6DIyBnnpkFpAh3pN/+thuoySWrWqoV4vpBuqBPNypB5jZJbSyLzAPXgEXPYpKDgQAZtFykaGqFn5MSSg/Wr25/LL0qVyXf+rEIZML823OOyN2zAQEgx75Bj3s2rVqrkPOvleZH+0ErASOOclUKAAZ5gV91GFh4VpMs8m9apLMpgVN0gfV0C/rrrmWiQjHS67kQGb+dPq1qmmmaKZqDQJQYi//uprxJOsgtQy78uqv/6Qdhe2P8beoLRp2iIgNkWsxwcQfPn9Xpdjbaoscqi9oWtCZHU8ft3AwfLOyNdl4OCb5EJ47zEo8uzPP5PKCNbsBxPZUYIe6uOLgFECJk84wqC7+VM0nhcVVcq5zmWiNGc7rMjZL+ePfDzPPDlcXn3pOd0snpgQLwt/3q3gW6dOXWUiCv6oc9K4Meo5WQmmxxREW2E9wUCFmTO/gHnwKvVQrFylIkByGZS9t5oyo8uVkrFjxsE0uUU6d71U2dSSxYs0yeqTw18QX3g5IlGQrICHJQEpGsGe6dXIwvr9Aei7d+2RHl26SMnSpWTQjYNl8a8rlNVFIa4mA1qHIlzXw8MeRntVNa7m9KkfyoxpH8NM+h7AMVA3h/e9ur8w1Q7HVL9hY3n15Rc0u0KnizvBozQeXpgPwXOyhdStW1/lT4aekpwqzZo1k3TInyhoMqNr31w3C/tJdh6EsGI7duzROKMNsN7nfthxnW4/WglYCVgJOBKA8iiwArbhgYOH1vfGG294EGw5xxvuRE/Fw9gcdTg1w4PEpdRl6jmXguvpdXcgLslz7Q0D9Xe+rhswyIO0L54Bg27SuvccSvQgJY7n9TdHq/fgtr0xnu49euWeTw/EOvXqe6CA1YvwYFI69mg97gkOCck9p37DRmhzsXpe0gMy7149ehSe6nUqL8qLOl2sXoNJ6Bxc5j21atXObdeMie+//LFavS3pWfrH35vgz+Hl+WTml+hzdu6eQO78uqLP1fleP2bSezr+mbO/8XA8pu4QeDxSBrsPxnmQv049H0th39ltQ+/OrZvj5X5CymfyB1PzrR+Aqd6NqXg9++IID0y6eh7YGfYgvo09dI4X6hGcEJOQ4hly6+259SC5que9j6ap1+e+I0meu+8b5kHi19zjiA7j+Wj6554UHDeeovvjU07wojR7DukJSg/MN8dO9PTpc6UHZl198Z6zxUrASsBKID8JFGiwZUIm15PISA4gd9ill3aTUeMmSutWLSQR60V5Q2IxrmHMgRhNGVOteg19IqdJjmGn6F3INTjQDORRqwaT4wGNI1m+fDmN3s81tYiICH2RzaSlpuv5NFdWqhyNyCA7wSLDJSwiHOQA60iIc7VnTyz2XSUgG4CfRvsIhbNLOuN90YaGdliMOQzC0u8nK4Y98DztN8YdBo/BESNe16zYbyHzQEWY7eiwsnfPHs1gwBiODNvFmnlNdMVojBUsE+0nIKMBTW/RFZF4Ff2jAwoLZRQbE6MZGpw2GYPS6S4TsIYijY0/PEvj41M0JU4W9uGFhISinrICAqXrkMz+3Rjs+LVRo6U/HD+OwGPSzAXrT0pK1lQ6HItxSOHwQ7H/jolh+Zlt7Nt7QE3JESUiJLp8KXVgMYVzQIeRnTt2qcclWXy5ssiVh2gtXCekFXf//hgw80RtoxSyHZSMDJUkRDLxQR+OxB3GWulGJE/tKTO++Eo6doCTDY/hQt4TTNPH/HRdsV774gvPSdeuXXXtlccpF1usBKwErATySqBAAc6AAkGOm3XHY/PvR1OnybffLUCaGzp9OA4cBhT4Tu86Kr9UBmikS4OCnBPUNwDxG6m6UqFI/XAeP3M9iOcEYAMy9JsCIeuhogsAiBEX0pF2hutS9ODncRY86sMc6KdtUWHDKVEVJBV8DuLklc2/+k7Hh1A4krwFL0lmwmb54JNP5Vp4HsKXBEB2YnXprliNBAGeY34zStsto7w1wE9GQZ/nUN68nrqe46brP4EhHH2aM/sbGfnqK/LV3Hni8XGcY8yaqJEdrLknFNaj8sYRwq0/ZEqgodzT0xFHEkDl7ifr4uZ69sGcQ+CjvFnMXPMrd0xwfY4104v2AZhAR70+Qs8Dm5dOHdtJfM5DEbd90IN02KNPyO6tm2Ta9Ok6NgfwLbip0GyxErASOEECBQpwpnYqOgfEsDbT9yopVa6ijB/9phyBpjcgZ86lomIxysq5zgkgzM/mmPlMpXqs/mPR681v7vPdCtB93JyTt+7/wgRYP8HyMDwR94MNEXCZ3BQhupTVOjRRh5Nb8uufWw6mf0ZGx199vMwIFAZIzHV8Jzs6hD4RTKKRQy0D+/Pc4+TnvLJxt+MGQjMHpn5zrfmet578xmfqVljKYV7sY2zsQd1byDqqYK0vOCRYH044dkay+WjG5/L8U4/Jd999p+uILOZe+C/zZvpj360ErATOPgkUOMBRQVHhmKDEDP7bo0cPuaBde+w5e0VA5GDmSlcAcCvPs0FJcez0woQDqRaQHFXSp3Nspk/EEnpQKmMtZkX7CIZOT1A+0qSB2RKQ6STEXHMfTv9cnnrkQSTRnSEtzjsv1wzOYZxO2RYzMdruWAlYCeSRQIEDHOt3gxyBjG73/fv3E/+gUHkVWaXrVotWV/JU2u7OtgJlzX1pLAbAT/8QHXZXnMHAzf4MsB2Cl+UrL7yALQ+fy/vvvy8XIIM3H5zM+uHpl6vtgZWAlUBxlkChAJx7wEYh0dT01FNPyawvv5SeCAF1db/+Ur9B7dys3KeTVzirf04uNH4+nX0pypuFMMzNGxwzX/ns5iuy7uQs02l7O+EMxL2QU96bKJVhjnxj5EipBIcd41RiOlWcAbvIBGcbshKwEjipBAoN4PhEzkIlRHAzbGbt33/LyFGj5M+/VmrcyXKImRiEkE9GwdHjsSgL99LRk5H70sg0g4ODctakzm7zF/PSecOrk5vnsX0CXqaB6iF5Olgn+8JZpzPJwdgY9QYtXaqk3HbbbdK9e3e9HQhu7ozrFtyK8q/EtmUlcGZKoNAAjuJwgxw/U0mZbNp0e/8NYbp27NgJF3/E5chxOChKMRpvT4YAGz58uPS+rLe0RSJP9pPdoVv/WVkwF5wPAsY+BEwmQ+qP0FstW7ZERJgk/J6Py2dhC0LXL/2EWx9oiuQWCxazlmscSvibBbfCngxbv5XA2SGBAgM4N5gRIMz3vGIim6NiLU7rKFdddZV65o0CszwXy4wZM7B/b4RMmzZNatasWSxEwLk0XBYAACAASURBVPvHMH8CGr9bYCsWU2M7YSVwxkigwEJ1uZWPMSWdSgpUWEaJneq8wjhm1gWTEb/ycqSUqV69uoIbFaphDIXRbnGsk+O9+uqr1TzYBeG6CHJkUKlg1YZt/1O/TzbflOfJtjiwTnMd++B+QDJmUreX7T/1wR63ErASsBLIK4ECAzgDVmRmQ4YMkb/++kvXc+gRFxQUpDnWWPh97NixSOXSWJVfXiZngNKt8HhdfozQPNnz+Kme7t11GQbJyCJ9+vRBsOBaMmHChByzpFeu0v2nOnUwZ3AxjIjyJ+O+7rrrVIb9+/eXTz75REHOHSnEnG+G7J7vefPmyevIDkCzswE0xvP89NNPNa6nYWLua3lvLF++XO8FPlyEh4freXnn0X0/5L0H/r/zfwZPk+26lYCVwH+QQKEsMkVGRiIUVmldT9mDMFULFiyQsmXL6vdy5crl5m7jEzyVlPtlxmJ+M0rNKE7zO8/LTyGeTBa8zrAzMreePXtKjRo1FNyMAqayNwrVvJ+svjP9dwMOfOe4yeCuvfZaeQFu+QS7P/74Q8HemJvN+WbcnBczN5s3b9Y5NnPOeS5VqlSuLI1cTR3mOq7/zZ07V0N7GcA085u3PTPX5rj7/DN9Lmz/rQSsBApHAgXG4IyiZDdfffXV3N5OnDhR13e+/vrrE0agqVSgYPk0TyUXCG9KY5biMQIS2R+VmWF6TngnhwkaJeh+dzdiFCmPU0GyDjK33r17q1ly/PjxucztXHRicMvNgFk/OJtQVjRbTp06VZkcwc88jFCmBmT4zkLZVUFmg/zmmMd5PetkUlqey3lloQmUD0OmPtMHnkumb+4FM3e8hvcJfzfmU9Mf864V22IlYCVgJQAJFBiDo4IxgEKFxjUcvtP1nkqJL4LT448/rpFNHn30UVV4N954o2zYsEHOQ4SKHTt25E7KW2+9pSZEo7jWr18v3bp102v4uvLKK5Ezbq+en9+6mRvceJxKkcytV69e6khB4D0XmVveu94Ncm4m9/zzz+cyOYLJyZgc66OsDWi569+JHHN04KGZkg8vnONFixYdZ5Z2PFa99H554okn1FTJ+a1Tp47MmTNHq+Pcff/993o96yH43XPPPQjSnZjbtgHbvOOz360ErATOXQkUKIMzYjRP+3w35inzmdH15yPLMxUSo1PUq1dPFRUBkIBjCsEwBe77LAcPHkRMy75q3vz888/1t+eee07uuOMO+eKLL7Qu9xO8+7N5+qcCveyyy05gbuyfGwxzO3AOffhfmJx7rgg4Mch4cMkllygYEbRo7iRI8aECqZMQiDpUvvnmGxk8eLAsW7ZMTZisg8BIAKSpkubRkdiyULVqVTV5Ll68WB9I/sbeSQIl5+/ZZ5/VXH8PPfSQZpLgdzf4nkPTZodqJWAl8A8SKDCA+4d2ctdjqIy4Hjdr1qxch46ff/5ZPxugoeIzT+R8p7LbsmWLPP3007qOxzJgwABViPydjIz1uuswrIK/UclSOXLNjWZJw+jORbPkyebpZEyOv3NNjt6VZFBuxxM3yFHelLMBOG4a58NLBWzkf+aZZ9QBhQ8ZLFx7I8CZBxHWyfU7mjnpfESzKL1bTZk8ebICJM2mwUjZTpZHwJs5c6Y89thjuWu6lsWdbHbt71YC56YEigzgjHjJzBo1aqRgRNbGdxYqJ5rCTJBdKkoqUCpBemDydyo4dylfvrwqVaMo3cyNIMa6qVS55mbAjcqUdRtws0rxmETzY3L0qqRcr7nmmnzX5Hg154YPLUuXLj1ufmh+Jlu//fbb9TjPGzZsWC5TZ3tk0AQ/bjL/8MMPFUinTJmi9wYjmXTo0EEYsJvOSjRRu0sLZAjn/NKkaYuVgJWAlUBeCRQ6wFGJEUxMMUqNSpOAxmNUfgSxTZs26VM81+7osMDjPL9ixYqaOHThwoVy/vnna1Vc29u+fbuawdxtsF5jlqSJk+BGhncy5pZXIOf6dzfIudfk+HteJkdZUd5mfilvzhnlz4cLMvNbbrlFY5CykLUbpm3kzHq5rkYTZ8OGDWX06NF6iNsOrrjiCp3natWq6X3BVDl0DmLZvXu33jM0U7IOW6wErASsBPJKoFAAjkqPLxZ6LfIJ3XznEzfX3IxSojKk0uKLbKFTp06qvLju0rx5czUncm2nc+fO6trfrl07fWInuNFsRaXpBjWeT8VMZcv1G7dZ0g2EVinmvRWOfXeDHIGKDxycGxZ6WdK7kg8anFse5ztZFj8T4Mwc0MxID1puOeCcb9y4UcGP7IzFOCHR5Mi1VLK71q1b67z+/vvv+mDDwrVW7qkjg2vatKneO3Q64rncR2dMpXZOVVy2WAlYCeRIwAfrI88UhjTMkz1NS1SANC9SAdFTkk/sjJphCgHp4osvlq1bt8qqVavk+uuvV6cSlksvvVSVJp/med2SJUvkwIEDur5Dhcine9OWYW7GLEnmxn1uVLhs260ArTI89ay7Qc6sqzVp0kTXyoYOHSpt2rSRypUrK7hwPghgNGMaNsfr27Ztq2DGOeNckJWRqfFBpWTJksrO6EDUtWtXqV+/vs7vn3/+qebIjh07yrhx43S9jetuXHMjY/vtt98kISFBH3TuvvtuiYqK0oHknd9Tj84etRKwEjgXJFBgsSj/i7AIUKcCnH86zrbzY25ucHObSf9LX8+1a43s+W7WNRnphGZHw+TcMvn/zNW/lSFB1M7fv5WaPd9KwEqg0EyUFC1Bi8rJMCvznUowr3u+Oc9cZ6aGis2wCZ7Da/Mey4+5mTU382RvrjsVkNrb4UQJGNnz3azJGccTbgUg2NHZgyydpmP3+ZS5e844l3nvBfOdLbvPNfPGa/jKW5f7uJ3bE+fN/mIlYCUADIJycOeaPONkYpgbvSmNt6RlbgU/jbxNDHgZJkePxyeffDKXybkjnhR8D2yNVgJWAlYC/04ChcLg/l0X/t3Zbjw2T/9kD9znxsDJXLehp55lbv9Orv90dn5MzoT1IqMj2JHJub0kDSj+U932uJWAlYCVQGFI4IwDOCpalrzMjU4MBDeCnjFrFYbAzuU63SBnvCtppqS8TRYCgpxhcueyrOzYrQSsBE6/BM4YgMuPudFDj2ZJN3Nzr9lRvAYQT7+oz44e5AdyhsnxnWty3EKQN7KMnYezY/7tKKwEziQJnDEAdzLmxn1ulrkV7S2XH8gZJsd3E9aLTI5bPM7wZd6iFa5tzUrASqDAJFDsAM7tzMBRGmXKz2bNjSGf8ltzM9525roCk5Kt6AQJ5Adyhsm5w3q5mZx7LvN+PqEB+4OVgJWAlcB/lECxAzjD1My7WVOza27/caYL4fL8QI4MjtsJGNZr+vTpGo0mL5PLO8eF0DVbpZWAlYCVgBQrgHObssxnsjIDblxzI3MzsSWNt6RlbqfvTs4LcpwTMjjOmTtpKn8n8PF8PrQYkGPP3Z9P30hsy1YCVgJnmwQKLOFpQQmGyo9lxYoVmjKF4ZmoGBmeqXv37rmxJQ2zM0qTStIqyoKahX9XjxvkzGZwMjmmM2LYNcaVpNclz2N4rbfffjsX6NiSXaP7d/K2Z1sJWAn8/yRQbDZ6m7U3w9YGDhyoaVMYYPedd97RlCuMKM9N3G7mZoZpwe3/N+GFeZZ7/dRsBmc4L2bqpuMJswHwM+OHMuYoM0TwGsPA7RwW5uzYuq0Ezj0JFBuAo+iNGWv16tUaqJdBk6ko6Yl31113abBefqcipFJkMUr13Ju64jli93yYtTdmArj55puFSVBZOIdjxozRhxYb/aR4zqPtlZXA2SCBYmGipFI0ipHgxTiSRhnyO5Xgtm3b1ExJE5i72Kf+4nUbmvmgCZkPJixMk8NQagQ2U5ilm2mUTExSa6YsXvNoe2MlcDZIoFgAHAVp1tSY9JSbhakoqRCp+Lh+w3xhTLHDdDvmfKsUi+ctyLnk3PAhhcybZkm3NyznlutyTGrrdhCy81k859P2ykrgTJXAaQc4t0mLio+btulYwmLMkMZ0ybxgBD2jFK1CLL63HefIsLmwsDAFOL7cDJzJUDm3Zp55vp3T4juntmdWAmeaBLygYE57NgHzdL9r1y7dN2UAzgiT4biYZJOZvVmMk0lBC9soZaNki7P5091HfqYMi1uh/ChTJrKloxDX4pit3RQe++ijjzRLODfvk6nbUvwlwHk1L/cDavHvue3huSaBYuVk8sTjj8sLL74oPlB84RHh0u+afnLzLTdLs2bNi2ZeABRHwRDzrvOx8eIAdnnZDb9nca3rDAGGmNiD8uGHU2T06NFqas6GrDtcdJEsXLAQMj/txoSiucfOklbyY+RmaMXhb+UsEbMdxn+UgNeyFX+cNgbHhj0emK28feRgbIwMHDRYjsTFScOGDcHY7pSmTZtJUGCgJCQm4MRjJsv/OObjLmcfCKglAKjVq1cTJ1eB4+lnGEhxYXTmadmscRkg5vcd27ZIYkJ8DpMzoyhISf3vdSkQA8xCYGImS9uxcwdAbowsWrRIjiQkyZjRb0vb1q3BzDPxIHHMtPm/t2ivLBwJMFGxr5SIKimVKlfJbcIsGxgTswW4wpG+rfXfS8DrkvNqnz6Ag+Jj4dP75j0HJSsjTWpVriAlIiMlJSVFGLkk77rNvx/iP1zBPgBg08Rf/MNLSbPzW8KlfYjUrlFdL+QfrwGS02WOcQOsMeeybxvXrZF3J78rv/2xUmISMyRZAiU7ZzYV4ooXzulcUtz+/n4SGhomKdgGsn/3dsmMj5VytRqrvE+XjLVxW/KXAObMKAlfb4+EeNIkumSodGjbWobccouULlterzP3ZnF5IMx/MPbXc0kCXjtH33DaAE61Hez5fE/NzJLgAH/xZGflOpJ4eVNDF7KW5h8vWGQ62t+4J1a++mOHLNmRJt363yhPPDxM6CDhDjN1OhUw+0EGdBhOOK+/+JxM/uI7yarRXkqe10MiKlQXHz9/lWeuxApZdP/TH0qOsjRP/X6+PpKVnibZYG7evk7mAd4SthQjCeRoCH3D30omHjwPb1stR36fI+Exq+TB2wbIrXfdJ77YwmMeCC3IFaP5O4e74nVw8pAiBjg6ROCV06oPQMxbF62dJ0AP1LMxcVDPHc2C9x3e+ZmX8N1cU1AdZ51s3xdMMsjPV9buipVnpy+RvQFV5QOsGdVCSp7TweSMkuD9yfYJbn+vWSWDYMrd4F9HGvR7REKja0t2eoo+GDjnF5RU2GohFwU7zDgYNBaD9fNxhb9hXF7ecD457aCHDkC5a39gpjuTC8egD5f8W4PsTyVbT9bRE4bKBxFvX3/x8g2QQxuWydqPhsulNYPl3fffl6iSpXKZHC88nQ+EJ3Tc/nDOScDrwITBRaoR2VhYoJ8E45Wd5ZH4lHTJOMrguyfKnn+DkaEB4o+nfPcfYVxSuqQfhaI58ZL/9Av7lgVADQ6ACS04QF6Z8bN8vCZZPp01WxrUq5fLLNlIYa8zuJ+ADbj+vmK5XHFVf/Fqf4fU6Y0oIKlJkg2zLlwV2aP/NPbidzFCePn4i29IhGQmHxFH0Z7OMaI/foHiExAsR5Pjch4mip/UTt0jPEzgD803OELHko01z6MpGAs34Of3B4jK/MNKHgfotHZkJh0WD671wOTsGxSGBy8fWT7xYamd8Id8NWeOlC5Tpkj/Vk49Znv0XJaAApxZHM4rCPfvboXuVr5ulkGAIDvzzmFl5ulNHxb5pI7/6dDxxfKtMn/VTikTHiyDOtSVmuUjJDUDa11qknQK7fmB/r4y8puVsnFvnIIg6yDbu6tbY2lUKQpmxWxtqyCK+0mTnolkmOUjQ2XUl7/KlL8zZe68b6Vs2TKq2Mw+vMIGOY6LcmA7O7dvky7de8jRDvdJza4DJfXwATx9wyGDT+DKfo4vJ5tTnmWOnewcMy733LprP9V1KkenkVwQONn5pi98P74tyBgMIfXANtn97USp1GOoBEZVgELOOEERu/tKeVAQVMKOvj62r459ooxO1pdTjplz7g9np82/y6GVC6RS9zvEB9+VCeV5sDhlPa728553qn657023rE64hvcBx05GDAG4r3N+91UZ7l80VeI3LZPgCrWlQscBuvbM31V+OXNBQ7fHkyVbP31RMhMOOiAICfoEh0uVy+6TgMjyDshxvvE3GBRRWpZPeFhaHF0ls2bPkYCAAJVNUf6taOdtsRJwSQB44fwhEISMkuS7vnjzuvAjr8IzpkZey/No3isTESQBeKLL1mvNxU4oLgLWi7N+l1sm/CDLNh+Qj3/eKJe9+rWs33NEggJov3ciYLB/vJ71fPzTBvnsty2ycvtBWb45Rv7YFiuJqfhjZL8LcCqPyQF/xPhD90H9+48kyt29W0m7kklyz/0PKJAQcAzoFGDzJ1RFWTtOGc4oH7j/XjlUo6fU7DJAUo/E6FM1FRnPc+Yl7+y5quQEGWnlnK9zw9/dxxx0yKnP3SXX9azpFNflNy/H4Ne0x7qdz8ffU+7fEMkmPVWSdv4t2ZlgqVijo5I21zm9o4xomsWDjl+AbHz3Qdk68yVlWdm4l/KOIBcQTjLmU43L28dPUvZulL3fT1Hmo/3BvZAr13zHc2ycx3XmlF/cMjr+xLx/f9p+jkw4Np/AEPEH0Jj7wvz9Of3kfIusn3C3bP74SUnctkp2ffW2rBl1gzJkL5i/jZlb2+HfF+rfPW+8HPprviRs+wsAv0KSdqzBfKTr+Fm8GToPp6fGxcp5Nz0vPx0KkxeHPwNggw4oor+VU4rTHjynJeBLIKEy9/f3cdbCcsSRBQqTBscLFoNT5g+Gx8i2ggBYfr4EMS9Jyzgqf+6IlQWrdkvvFlWlTvlIsLLM3Cc4mhk374+XkV//JQ9d1kxe6t9atuB7++GzZPT8NTL2pvbaFv+42I7TlpeEwFz4Qr9WMmxQO5HDjGeYDbNmhjqFuBlfTrf/01uuQkAflBlme8nhxGR5qn8H6fbibPlq3nzp1f3S3I3m5vz/1OhJLjbARQ/OWZ9Ok3lrD8oFT06WtMTDqlyMsuZTtzfWQnSSciaK5jwqIWV4Xnia55qRshsHqLIzM3LYh8NMnHWYY4BHQMmdBzJEvKjgCVTZGalajzdAJPfGwHcqR1V8KEYuufJhs5oLjn2FI5GCAdez8LBA8PJgvgnYHBfWd1g8YBShlerJ+S8tlqMwiWUfTYcTDceJOuBMo0qY13OsR9MU4DJhOuT1vkHhuf05cY5cY3Y6q33JBphyPN4BQRyB9oHFk31UnWDYHlmcfzhMdlT+OaDK8Tjnc5DoEkzGDoPMWd+i7HKcZygfzo27T+57zsjAyIgyIJjmzrW268jaG/Ly9g/KMR9i/ybM1UfWLJL4zcul/EU3iF9oZG5bvIagf2TV9xL72yypf9ckie58kxxe/aP8ObybHFgyEyz5TjmKmK8YsdO/nL9BsrsG974v5Tt0g7cr5hjzcDQF23ZyGJ/eJ7i3+KCRmZYiTW58Qca9frVcg4S3DRo2zn1IO3EeVFy2WAkUqgTgV8E/GpEPF2+QUQCfmIRUqRMdKY/0bi4dG0Tnro+ZPzL2plRYIFhUpmw5EC9/7Tgo8//aJX/vPkS1JZEhAdKzeRVHieV0neY+guH3f++RciWCZSDMkocS06RCVKjc3Km+TFm0Xr+HYF3uqPE+0WsdBrlxX5ysWLZVUtKPSl30jc4gqk7YcZSC/uNxKxQ6uUSFBcutHWvKaOQx69mta26A4IJuVwfjKqo4oBBHvDVGyne9TRXaUcjJC2DhsBnnKXvnN6NhypsgWcnxElatqVTt+7BE1r9QDkGh7Zw9Ssq0vkJ2zRsn6bG7pXzH66XqFQ9qXVS8iVv/lG0zX5a4Db+Kf4myUrnnUCl/Idb50HZG/AFZP/FeKd2ipz7FH1m7WJo++oWUqNdWn+x3zRsraQf3SFjVRlKj/zMSUbulsybIecnBSwUNtLNh0r3iH1VesqCI9/0wRUKi60n1fk9IZIMOOuLNU59SUPMLLy07vxypCrd8h+tlzVNdpP6d4yWobFVZ89ZNaKOFpOzfJgd+mi6h1ZtKreuek4i6eFj6ZLgc+mOugvH+xZ+grQrS8tWlAFAq7RzIygGw+E0r0MYbEr/+F/ENj5JK3e5UUx3vpz3fvSu7vhkj6XEHJKJOa6ne91EJrdoQNWBMOeBC2fv4BUny7rWy/bNXYLbERnWY7ip2uVmiuwzBs4Qvtrykyrpxd0JWbZT1KLDcOVFKYy6yksCYchxVFKjZP8ho4+QHxDcsSr/vwXxV7fOwVL3yEclMPIhhgWERTADwfuhzZuIhSdq1NsdsOl9S9m1V5hZUpgrGMlDPNUWffXD9wT/nSVj1ZlIaXrfph/ZIeI3mUvqCXnLw97lS8dJbFeCP3dOOZYC1JG5bCXYYRqOlBEfX0Wr5u3kMMP0i4w4rX0N8ml4mb48aKeMnv691OsePPTTkdsx+sBIoZAn4RoUGyle/b5e73lss/dvUkmplwmAGPKhmwbZ1yimrM+ZG3qgBfj4yYvafsnjdXtl1KEnKRgRLixqlpXvzytK0aimpVjpcHUDI/kyMQX2C9PGS3Tg/As4bkcGBkok1tWw/j9QsFyH741P0/LCgnKd7/gFRmeCdeDdx4Vp9sfQ+r4qMuK6tlA4PksycuJSFISPzh+4NhZIIR5hLmtWSiYsXyLqNW6R+nZrHKZDCaF9lBpBZsfw32RaXJTWbd9EnZ4Ib+8YoIH6hUarMt8DkVOHiwTBPldG1lZhfZynAkZnEQYmn7t8qJZt1EU+to7J77lgFoTpDRsLktllWvXoNHDkipWLXm3HeFijZ+3VtpXKPuyT98F41y22d8ZxENbkYQHCHBJauBHAbJxs/eBQAdC2+V4GSXQ5T10Bp/tQ3ULDVlC0SIHUO6YyAfmSAeR5Y+pmCIwHl0MrvZM0bN0jzZxyly7Ed+HmGhNc8Xyp2u00icN7RlHhJgyLOziJIeUn6kX2y7dOXJbJRJ12XO7BkhqyDye2Cl3/Sejlun6BQKdWsq+PlB6DxDeJaEEXheEAmA2xWvdJX15AqXDxIMrC+FLv8Kynb9iqJxfUb3xsmpVr0gOLvrYC56vV+2sfQ6LrOeHBD0quTALN65ACdkwqdB0sGAHHrtOHqtFHzuuflaFoS+r5bts14EbJz+hsI8HHMey6GmANENPiRge7/ebqUqNtGKna/Ew8rzRzGTGjheZx3PARs/OAhPJj8hQeQWAX+8JrnSfn21wO8muq4sjJS8IfjpJVy7k2HlaXG7JAAAL+yXcjWl4BYtrrEbfztOBBSQMrpFxn75imPajVeYPG8z6pf/ZjDxCFTs26nJ6A+Msno1r3l2ylDJTH+iIRGgEmqKdcWK4Gil4Dvln3xEgrmFAXmNeiiutKmdjkFsYNgCvoMyKc6V7/I+H5ev09+wisk0Fda1Son3ZpWljoVIqVEMDZLwxR5ooejUwedN/g0yToywYzMZ5o88z4REhwzMo9Kz2ZV5P7ueFKHIwrX7e6bskTC0c6EWzpKerLj7kwQLoziPHkKWGyWVMTG1uqlg2XxkqVSr3aNQgc4s2l26S+/ytFStSQAiltNcMrecp7O+Y7v/lBqZA8hleurEsqMj3GcBmhWhImtxnXPgrmBoeBzSOUGsgkKq9bAlyV22Wwc90jTJ2ZLSHmANtji6lGDZN+ij5XReNHTDuZMMqm6t7ypjgYZYBPbZ70h0RcPksq97oXYs6V080tlzduD5QBYSnWwjoQtf+p0sJ/+JcpIQIlyqnDDqjRSBkgzYOW4u2XZQ21k3+JpEtkQ5meAYEBUtDR9eAZYVSllCzSh+QQG4z6hqZVrXlkS1fQSafLQDNQRKCXqtALADZXknWukbKvLdH0sACy07pCXIKsMsJqNcJA4pH3hQ0F4rfNl17fjAQLlpPnT8ySgJBxXYCLNiIuB00iA7Pz6HSnX/lqpP3SCenAmY4y/P9NVgS+839M5AIftGsFhErP0c0mL2S4tXvhBImq1VDrjj3EeWPKZAjhNuAT3ks27or+fYnxZUP6J+nChJuGcYh6kACkqg5CK9aTJo59j3KGSlZYM02myzjka5yhUBofBGFP2bcYDTVmcX1dKnddNgkpXVRapa1/wxcm5Q0wrznfMn5cfoJTmahbIVD+jTndx+kRQzdKHAD4skVkT8Ld/PkIfcqr0vhfelAiKTvMyZGsAOCsTLK5SXdnrX0J+X/arXNT5UslC33NaPK4d+8VKoLAl4LvrcKK0q1NeXruhrYxfsFbe/WGdAtwQmA4b5ngqGvzgjUxvx0/u6SLbYxNk6Yb9smTjfjiN/KjmwwY4/7zqpWVg+7pSFqZIsjSuZXl5MWaiR0rCtJmG6xPTMiQQDilkhjHxqWrW9IPZkWyNa2ygjcpeMrGN4LErW2DNC67J+L1NvQqyLy5FvoC5cn9cqoQHQZnz/EICOKN8zB9wpagg2YswU7l/0IU4Ow64gvXu3i1ZoWDSXELjOPl0zXc+LeMpvDTYBs1+2794TRWhD1zAK8JMFhoGzzg8fRM0wqo1kYzDe9QMRlAg0HFtJyNuvyqrUCjJ5D0bVfGXBNtI2LhMlTFBhowoom4rZSp8ZWHPXRbYyZ7vJunLXbJ4DtZhVjx+Ue7P1a56Qmpe/6wCbgTaZh/JKIMBqEHlaijz8QK7J7MhE/GGowTNZ75o1wE15+lf5QEhsP9cB6Kruj/6S1MrI+CQOWRDuZK9pOzfA5YSpB6Yu756S/vihbWyi6cnwjNzh4RWbiRBFarBxLgBTCRQ/GAWJMvIiNsHZd5WFX/KgS0SANmEVW0CMNkC2RNkKXsoa5j7MvAQwevCqjeX1Ngd4hdSQqIad1IWSq9DMiuONbJeO8nKTFGg5dqhYbbm3jKC4neuY0XUaan1Uwa8np8V3BREYBrFOmCLF37EfK1XE2vchl9k1Yh+xBkJh3k6ovYFeCC5AXIJUNBx2nEYmR8cUMiCnbVSEwU0pwAAIABJREFUPFSCGbOvfrhXtH2cz4ccb8Y21baC1QSchbljHyIbtFOnn8Orv8c9dosCtWnDjIdkjcxQwsshJNtuvWdzH8iOu1vsFyuBwpeAb63yJeQA1t16Nq8q17arrWtrY+avlqtHfSu/PNcXe9ZgjlG2dexJjcytaY0y0rR+tNwBJZgGkNoWkwhmt1fm/rVTDialScVSocp8+NRJhkWnkNZge8/OXC5LAIzXd6onydjP9umvW6Rx5VIShf1uNFOWBzDyPTktU9IAbEnpmdhOEIS9ab6Sht+2xSTAscUbAEkvLX3uLdRi/jipZgOgiNPojMBREWQKsZh2MzLgLOKL9Q/K39Wutg4FSFAp174fnAYGK/Bsmf6crIbpr9Uby1X5p8NMxjUUh8FlQSF+CHCEgwLAjmtuaQd3q6IPxtoJldthrNtx7xlZCk1gBBkW5Q9QtnRWoLde+Y43SKVLb1PFlw3AzDiyHw4Y8ODDeXQMUZMgjpHBZSYe0faojMkCg8pVh6LdqybR0MoNSW4UVBTQcA3PVXbBn3Pe9QtqJwjoJ65J8bOhKlCqOif4HlQmGrLIVFZbtvWVzvlUtDg/qCxMqpuWS+q+bcp6DIPjeP1LlIdJd6mU7zRIgsvWgFzWSeL2VWq+pcJn+xCerovSHMxxJcK7MAJm1f9j7zrAqyi28ElySSEhIQQSIITeexNQQBQ7ICoIiBQR9SE+URA7Kj4LCioW7IqiIliwgEgRURAQkCq9t4QeEkhIJ+T9/9k7N5tLAkgTwg5fuPfuzk45OzP/nDOn8BaVONiuIlS7pzIJF3o+gjZpn/AjF3S0WZ6k11F2XhrkgoO+e3fuIng/Jeq0xllaa+5VQPtEgPpm5eyStizBxiZV3xEBTBPQj+AYjmfWfTxIxc4Eq9Td2yR+6XQpdUkHbSvL9wdXyzFFEDyK8cRNEvvDDRVdqmUk7FbOV+lvyne3K7dvGBN+mM/p4FZxz4g73dmcD4cC54wCrnCciRFknp3wF0SNFVSBhECVBo6MIsXcaYWNPwDFHyKOkT8tl/0QYXLHx+QP7otcH5U/GpSPkNBAf3BiZvdolUDOrVnVSLkcXNj9o2fL0i37ZBOUVOat3y1fDbwWoGUB1rPfLpLa4AQ7XVZVfv5rqzz77V/SqFIpBcAV2w/IzFVx8nzX5lIcXN/BFGjWUdvxLCazA8bKo7TIK/o5exXnAVDurN20NjXqIotdctwvH8vu3z7TMzZyb9zVqxYkFnPd8WOh2zx+qBxcM1ev7Zr5qZ6j8ByG50w7fn5Hlr14ky5yXCTjIbas1nu4GgOnH9il3BKfY3sIgH4w7C3f4QEF0mxweYERMTjPOSgH186TSl2GKGcWHFPHw6lQTHc0O1PBNiV2viwfdosqN/AM7ghEXGUAzkfSrDOjozmWhqFZKI2WpdFKVM6DwOHebBE5tK/kOiBOpah2L0SH6z56WEV85TsMkMCS5ZRkLItcXsx1/WQp+rj0f+30rI4iVyrK1IWmYHmc660fDdFbSpIC/oGl00DDbCnV4mbJoQYkxj/PA8nJRkBUyvPHv1/uJKVbdpMMKORQ8aX8jQ+Cay4DAN+LtkFb1d1eBe58xqp5r3rWDVqrPRpp7X7f9nNsgj7bQTV/tQnk/MQ1coZ8n/weElNXz8csQLZGC7kocrklIUoOjHhVzw555nhwNTRUIfYuc8XtyG/1beNnj6lSUXFwsrE/vwux7xhVHiJ9Cf7JW5ZKxZsHK3ep74Ug7k5Wu9EMW/v1ls4dJzkUOPcUcB3BwG5eLVI5uEmLt6oKfuPKkfLNoOsURChmtC+2LkxS2q9thIo/xy3FipwcusPHb87LpuDueGaWjjM0vagDHmsTMn/Y70p54bvFqjRSJjxYRuP3dfVjJAn18gxvNESkXVtUka5QeKExd3toZH4zf5PsBZdYsVQxGXVna+mGe7SFI7jlAYKzSD9rip59jrGgLhzTTyws3GlHYJGmsggXdornwmu2lBp3vY4NNzzFgNukUkG56/4jOwGEafGxqsBR8ZZH1cYsKKoSzoe+huLGS6oV6R8eJdX7jgTodNdFnAsnFSP8AoKtBRPvkWdI0dfcpar4sVPfkT1QMQ/AWVDJS9rpGZvu/HVR51jAS+cCDO6FQFSmTXflHmOnvC1FcdZUd9AXAMPayiWQm9RxxEXTvUBy0Q6KrKjnYSyLYOWCKNBwh1zI2T6CJ7mNctfcLen7d2BhfhtalNEwyO6v/WTS94dygyvUlfqPTpDtP7wiO3/9RCi2K6+G20FSuvVtyo3GAvQTVsxULcqa/d4GKJSDmDFDxaZsD8GDZ1L1HvocGqjDtRyef1W+7RloUd6jImPah1H8y40C26t9Uo7Ta4ukNLI4LCqI+IeV9ORXItoSyyDAxuEcUT3YaK/ybn5Ii0icR3KzA11+zaN14zm2sf7D42QzlGFoAxeC89h6fAdla1hiS7Qlbsp7CpLU/ixRr42KJPcv/lnHWgi0Zes99CXG3DUqLVCuz6uNbK52yd5w57tDgX+JAurJhJwXOTDDnnAKknuj9xAFLlvjuNBQ5f94ih0UMVoKJXmHOZ/l2VoAuEAK3Fg2r6XBhs4sahRFHgH3R/Em8wbCPk8TMltLA/NbfhfNM/lNMluTT/srTQUiICZ9Hv4pM2q1lxEvDVNXRPnFjTvtytwFMACov7+/DBxwn3wRV1Ka9ngMNnBQMjEKAiQJaEfw4PmSJ+EaOQeet1FktuHzx6Xhkz8qmFkKDlgk7XZw2JnnsYMjV6S2XBYHbkSBnkXafZ0LqfcCbHFTudp7Hi4EYLtiZA8JqVBfavQZoRp8XBcNh6bCV541sU82jkeVS8gp4Jr2lUozABcFCiS+d0tUxvEArV3cp5KNdWCJc1+cF3qPDT5PbsTDeVgNybWDwxmXfcRTSYf00vpAez130vagHNgfWur+FtAwTx47OBWjgssiN417LiqBUFTpNamUuwRNuBlgMjTQH/YEGpBw+dHek43vHxsG8/7yPu4eL6SRO5GWdvtFKsdY9nqwYcXGwocOvJl08nESgq60hUTKb/6xPIpQV34wUJ7r1FD6/XeA2o06wWyVZE46xxRwcZByASenxnXGM1WtuaTNsYAlt2UEpIKSyavlcEIimTK1LkzmrHTsaN0FMIeR3PA+lVVMYt7kNO5+j21XfpPL8+BF8MUsYOpVgwswiaSJigLwEYiFiWIsKhFQZV018sBF6ZkWgUEXdmtBtl6G+y3xhbjvsw6KGJns9OZ1lne850x+62HwEhCFUQvUagt3/9SaserSUeI2BchbD8CM49JqgHIv9pS3fdbZmCnHeiRX1Gd+s9HK/Si58vZZF28oyRyTDD0wHhWw+CToSJEiXOvbsqMnBGXkN20jEDIRLNa81x+i4jnKxRL09J3hPjm32vd/pGeYFOfSOJ/JDlLmu9IewH2i5P2+2FdeU9Em/7z6bvLre+Vd9o/0Zt58aGUv/0Rtce47FPi3KOBxi+5ZH91Dn/7ldJJizpLDoziQIkaCIfPmWcB08lhndDxnoBiT95mfCioEMM+k1/IsLUkWzvu6ztkoQLEntSqtOrG7xQU+r405pu5/i3TnUb32l8d3AfAgFxBYMkaVT4qAc+BCagc3++KZ2xMS13pXBfXOs9DmyWA95/2MvjMkgkIkzrH8w8u6uRNyKmynNca8OTXznL08LQnlsX5j9Ow5G+S48CT7SMp79Xhtt49ncmXKqZHzAh0LSpZCCOgKLpO2ccpd0u5Pm2q1wwfKFkRycpdqSwfAMFwd+8N6qMRBMbCenVkTScvKjw4FteV413P7xjbZ6WO9t+PW4zW27PPvuM8dr0HOPYcC54gCCnD2gWrfKfJeEESG9PhPJRGKJkNhjM2zNZ665T5nASHvE7B4jkfui6YAYThXo8iS5TKFoLwkaLilQQRHMSdNBJiM7RyvFYVfykQokFDzkmXSTk8Nx22T7WKfXJ4FNM8CpKTURZI7ddpIVe01DNzTIV2s7eLN4z7vKSYvWNhpfjz6e5fNuitA+YJgQQ7OtMOMNXIKR9OSVCHGaBGyDHsdZvzwmrqKAjCow2OMK+/63M13kyK3D+abd7n8bcr3g40exYVUyqCaPL3lZ1ORJc94t7grVkD3XZbpBDVFYe6CM0JVzHGP9yNJ+5hLcYVnl8yv/XQrZ2hkAtCF3G0GzDbYFoKdil7z6Zu97fZ+5vfdnvd4NDLPepft/bsguuZXt3PNocD5QIFjAluZyU4uKghnZd/Do8nTXy+UOPiBpJLHMPiFbNeovAYoNZyZaldCC3Lhxj3y0sSl6uWE3BvzP9axkSqMZMLzP50tT1qyVV78YYmsicOCgMl8W8uq8kznS9QzCc/dyC2+NXWFvIk/2siVh4H1i91byC2XVJIkmDDwvpOOTwEPcGChzYaXGHIX5r0eb9E6fqn//K4dlDJpcE2uhJwRXyEWb3IyVIY4sHiyurW65MVZ4DqjoTACEZyeyVkKFIA6ywaQnBDs25aP6ADV/KZQphmp9nDWOdg/bx+fMHRh23g2R28rm8c/q15cAnFuWQ1eSaihSpBD4z35zVkePcVsxDlnCpQxXPD/WOnWJ6Vs297i4z7bWvREG/V64knof9PnZ8CTP11e+chfT7SSdNgF2lODIZOkBLQYaVOoRt5OcijgUOCUKOCiyNFoI5oFier/jIm2cscBueeD3+E8uZK8ARu5MbPWSt/3f5N5z3WSylFwyQWQ0wUCE5Vq/ku27lNllZG9W0IDM1B9TPYf/YdUjAyVK2Ezt3ZXIp7/XS6BluXY+6+WHXDd9eT4BeDqisiInpepY2UCGwGVYXSuB5DOhv/KVbEJchvMBnLAGdp3tafU44vgodzdOpU0cjcE5xLcSGZTn4IBDI+peclEI3I/gIkqOEDzMwweRhrCe4dlcA0lBTg0pqIEgZleTyjWO5KarABDEWAteFWhPZ7R5GOZZlzwk4ohBSdLLOgBNn0WZ5bgmmgvyHOyyOY3S1SrrjCpGCOr374Ldn1z1MdjNpV33Nwez9SOwP3YKqjcByPobL2Hx6sd2sYxj0hR2PlFNICmoSp7HEV4mYfUyJ3tpflCYMnyymWrkgraW6btHeoTkpwp6aJBbNFnO8ddcH+cOw4FHAoURAEXnR+rWy4eb2HS0UUUE9fFb6GeHw2HyO/0baNOkulzsvUzP8jXuD701ksgtnTnhfglFQbZd7WtI/2vrQduzjo/u65BOSl/3+dqv3Z9k0qyHnHdeLb2as+W0rwm3DchMdbbMoTCod1cUkamDEc4nfuvryej7r+GqpzS7dKq6og5AUbhBFH7aUtBnXKunx8U0A0T/tT3IcBg/1+TFdTC61wuh2BsTFEdvW8QtCiqY6K4jj4lQyrW12uHATo0BSgOh8qqUINEezaV+WG8mmSAh9wc3XUVlFi/xVFZok0NfcSycG65589v9Nyyxn/egulDKbXXW/TkFeDqJsDG70nxgVidiVs6Avb+OVPR3iypee876vGEdnU0DN8960t4NblKAZkiV3qbKX1FWxhkU6nH8sLiCbkE+oTXbQMRbmdJR6CIHDiHZvu8tVYL6o9z3aGAQ4GCKeBq//Jk+Ri2aAoemGxm102x4+LN+6R1zTLqczL2QDKMwIOkedUo9QnJfGZ9MS6kWA25umScsfGsje60/CFiqVUuHF4NMqURnDFHQRT53YJNsIErKjvBwc2HWPNmcIhhoYEybc525Rybwt3Xna9MgRgzQTo3r6LRB6iYQvMBikXtC1vBXXPu/NsU4HiiWjzdTq2EmQBtqpiKVWmikQrIKYXXvUKSYGe1BiLKZsPnqa3ZxrFPqe1Z2p5N6sqLkFK5x/+kAhxAk7OhL006Za4Jh9FGRElAoIgxff82Wfb8jQV2neFuat/3wTFnXOT6kjYtU28fLphA0MMLY6tRFHpowyIFKrBbVrmcJ+Auk+DYOgTAFhgRrR5jXHB+XaLeleoEmudwRgllPRw4bxoPGzqIPOkVhWejAvs83QBAZMmIBLtmfqZeX2jLR5dlOdm4r55NckG8wE45NxwKOBTIlwK+dHvFDaw9UWySA/c+B2FMTQ//Vsw3UfdYRQF2h6AA4msmOx/kREUZnLC0fwvGWRvB6K53f4NRdlUNu5MALiwG52mvQXz56uTlUuG/n8tlz3wv5eHSa2D7BhD/ZOOMLVPP4V7+can8jTA8LO+xcfPlya8WqBiVB/1upfF8O+NcPL8owHFE7m0bQtMwKkDjoVOk1YdblKOhyye6uyLHRmAi16UiOWgbMu4b/ULSCPnyT2JhgN1Ndk3/2ArMCWChKJM2ZcdqGhKArPA81EgkuHr/+UC0eMyA53inhjA8slCpxMSkYzvIZaqTayWtG+C4ucN4pPIOFV1ol6Y1w4cjDbvpCUXnBMSTVDrhhoy2dPsX/STL4MmFXB5FrOT+1DYO9eQAEOlZZNkLN6qvR/oAVS1OluMkhwIOBU6JAq4fBreTA/AdqRiFiahnGDqbERoH4kQCDsGKG0lqSNLxMc/ZCICaV2e2CnlUc5Jaj7Rl6zxymlSKKibDe1ymv/nMFviRpCsueidphygBFI3SuTOVSp7v1lyK4tmDOGfrdXkNeQ3On5lehtLKC98vlnuvroM4dcUtOzlnV3tKL/ucP+R+Twkrf0e8sf7qdYUcWQxizu1b8IOKGq1zJgKM23ibqvYYRzHIHw5uiOdWpa/oCS5qAUR8e8U/BH4RqbrvpUbPcsjdBcDbCZ0RF5hgEE5xKce35xyO4xd/BBqKQdU0gKCET/UAwvNCCiY5MXTME7zAfCE/7cYoYlVFGBj/k3OjBxjNAK6v9v0fqwcQF+KpMX7cshdv1phztSDWpPZl9TtfVY6OoJ2+Pxauv26Fp5f3wAm2RRMs35wOF1fg23RuOBQ4LgVcYXd+JGtHdlcNR/XkrwmTHTvU6giBQ21HrCWqAEIDb7roqoWgoyZGHDUhlXPDXzDEkvRR2em1KRrRm6JPBUX8FS8aJG/OX4H7aTJ9yI0aWcAPdTIe3WNf/in3X1cPWpdhCnJX1Sunm+zU9CMQX1aWZ775S00LGHlcFxknXVgU0LVeVSetsyWIm7n4KwgweZgUayzRmz2VS6iMolwMAE83VPynkoNjxwDj47nAbVEMuuiJ1gXShxzWpW+tUJszj+Nm5kb7ipatps+zBqrqE4AYSYAAZbhFS1SJWIZoF4N/Mh7fkfRkBTCCHIOb0o8l+0dxK+PUMaxMZtJ+CUXkgVCIPDPg45MuxGiSULw2og2AQyTwB5erpudxiatmWYo49KriBv4CO+TccCjgUKBACviSU9II2VyE3DtZAha/39S0op6RjYXvSeYZM2udLMK5XKfmldUMgIn5CItUHmEA1Ftem4owOxHyaf+rAG4UWUJMhcUjGygZAYfJVP1nuBt+roFyyUT4v6Qj5UyAYMOKESqyfA3OnGPjDys39/Q3C9UBdFkoudB1GMOVOOkCoYCy96KOe+N++UgSV8OLB8bLrhmj5bAR03H3xHFH7x5IOgbVRowgaAGZdQ2mDrzGInnfzd3oQ8ytHFyWnmPRn2ZBf9XuGO4u3xrjhosjcEXC4fQhOBQmaFFZhVqUdC4c2eIW5eSsitgmgC08mJRq0k5jwtEpMc+h45dOAWf6PRxX36gRGRJWzga3NlpFn5xgO2d+KvEQUxarVF/8wbElbVqizzJ6OG3l9sz7Xp0bMyYcg9kehYsrpYOTHAo4FDglCrjuvLKWeuU3AEdwI/dGrcir6pZTdf374P2ff1Tw6AdRYcvqZZRrY4Tupk9+Kz8/3l7aNakoQ3BWthIak6thXjBu7kZPg6hx+dhNjdTcYOLibXLvx7P1j4lG3K/ARIAG3+QCCbg0RajywFjP/RE9LpUYAB9D+Zzt6AGnREXnoXwpoLHAcPZU6eaHIWJciDhxV1rvFD4pi0IV3vK5iCgSAAvGV7M4NfghBbdDFXsVzXEDBeCy7tMsBXECIWJkJAOPCA+lKlBBUYQcGp0nF5TIiVkam7kiSoIjubUSUO0vA3Houvfv0z8CaTmEBCqOGG2U2zPu26LHWiLC93SNuxYMDq7irU/AcfOrsv3HV7VKRgOPuqyzaksS2BjJYd0H9+OOBfZUqom+uq+6TaPLMD634dPBuG1JT0IQu6/CTYNU3OokhwIOBU6PAq54xIKz28HpooJEESSv0z7tBtijMd5bFdi+UWGEzBtFj+HgrF6+/VKpULKYJIPb6tSsitSMLqGalARAPs+8DJNDB8mhQQHy5YBrZNaanQqOPJdrgsgF9cDxqXcU5G2FcDrTh3TUPDQd4LMNKpREfDiEakF5pn2n123n6XNBAeXusVAHIvhn0+dmgKP5He/PD06X62qIHkY6IGcUHFNLGGGcIj264aoK42pGHlcnwBgUwRD5Ve8zXLUaGdS04i2DrZhraitn2fkZqQNFmgxdU3CyOMRczs0a7yqCBBdZHc6gGSE7bR80ehH6hyYNvAfEBddVUj3DBDISuJ7VZUlF2LgxCCtFmwwYS/MA9W4CAGbYGQZ1pX0d7f1o/8bo2Dy7o80bPfY3eOI7REBfAm/9yRrAlfUxNh0Bkn1zxnvBb9K541DgRBRw2T2DmEnPhzQ+lVsM2RE2bP4Ao0y3piPvA3skDBqWj8BTCbUqeV7WEpHBr+b5mYqXcqtm8FLjoJn1EQgp0uSZSgoUUBh7zor8LfqdgMkzOSYqqDCP4dzMQpZbuvPtvKUApQFY7FPhqSNu6nsIqdNejb03jn3SvcC31NAytD0LKV9brxHQyrTpoRyc8XJPZ8T0DsL7BBb6tST3l52RolwckwECfmpEgZNI9vGu3KD7vItx8vSMDgDLc0AmRiug2JGx0MgBGsfPVCopAa6MsdYIeGyjcqYUmeJ3MYB5WLVmbhFqpgKfOlQGd8i+EESLweZPfyO/3ke93sB9Et1xsjgUcCjgRYF8XXVZEzpXhEO/kBSwELPsXBRNAvYcTFXnygQo2r8dgqq/d6Jok9yZ/uHELh6KJmZBIpCSaaQiCu+zEoJhqjtiAe9bnKB1nsdMrMt6zkJRtsOAsb1unv3xWQcUvd/IufnN18lFu0ixCA1uugIagkyBkZWkzv0fanw3+nzkW8yiKy89e8N3urYC4JhFXhd+REUgCHDcsCwdNMjDe9b1U9M4NOPQwwFifLF8z5hx18l2KXeIyOXqjJn18xo6eQR+NHNoSsBr2gcGD7VivyloEyQ5ztlTLS+3rdTCpO9L0wcquzCQ6VENc24l0pFJ8xiOlYo3RvOU10gv1OGMdUM159OhABz7F0QEM4H5SSPr/BLvFbHdI5hYge858XMBklwbz9ror5KT/zCAkFyZ0cAkNxcSXESNzXmfZ20EOONcmeJS5ilZzB8x2HyVy2PAU9bBxPO7AGhf5km4x3rIAZq+5NcH59rZo4DSHQsxtRtr9X9PqvR8XrkbcnGuEDglJrhRDIcmUEvS857UD2Vu4nW7v0mPI2Is+ATPbAAMuaHTec/28U4/mPmNeG0H47l5tQ2NU/Bh4pikCy665KINHkGIXKDpq8nDsnjmWAT+K2lHdwQ+Na1AsZhvoSVUjKnoSRrik+USCI3YlpwxbegIljw/VI1T25w7HVrk6aDzw6HABUyBAgHudPvECUZgIndHV1tj52yAycEBBbnrG1aQVjVKK4gVgaeTXYkpMu3vWNm4OxHnci5pDxu55tWi3Gd5omd1zDPy5+WyOzFVLod3lQ5QWKFZA0H1E2h3/rWR3lXcZ4f4wigI1zdAPcjLM0FyfU46txQwiywXeX4PKA73bLqwI4go1ORPVQynCzkAhaLCHT+9KaWa3wT/j1XyiPbObU8tYGOdbFfqns1yYPkv0LDcrmLNUs1uggi2rvrXZP8V3BgwN7Co7Jn7DbQpF0s0oq4HQVRLp87bJ70Bm7l1bnCzzgYJaFGX3apR08nlpcSukb3zv1djc5oalIIGKMt0OLhz/ead+s5nCri8RXsECZ2AXrtBgpVbESzf/uT3nO5mscN8cMwcmb9hD9xwwb0RuLN3p6+S4T0vxTlbfSivJMmd0JrcuPsQPKX4Kvf2zvSV8nrvVtK7TQ1VNKGbsK5vTJdtUHQpDm6NTpz/C08nz3VpDmWXbFkFrc0py7YrwJHrI3AyZE+bWtGWiNIjYM236c7FE1DAPhaUq7AnHS+WyO2Ye8xnFnQ8l0OP/J5kcTD60njPlOsuj9n0mnd9vI4/ip8p/tsx+W0JqdxIjaVzCCDerm7s7eOTXs23ty/vuEdB3nltrT/mOXBj9GqSsmujrHqjt4pZeY6nIIw21n1wjEQ0vk4DqtKUkzZwKXHrZcNnj6rTZmpf0kmzgBuj+UAiA6NSqKlAnqjgSICjfeCB5TNk5Ws9dYNAe73ds79UkKwKDvloBkP7WHPY3lznu0OBi5ECrmJBcI3Ecyr0nh5LeP5l3wWaSR8AzqsgUSUJR5u3LHg9sYtGCDbUtrzzilryNELi1IInEv7u9fav8va0ldIX1wMAagOgUFIb2pf0VEJ3Xd3f/EVehPeS7q2qwfC7iHw4c43sQrie+c93lgbwZzkUht/P8z7C8NQoW1w1OV+HCzDqxAQi/ty7U/6WUVNXSpvaZS3uzWHeTmts2xd+itM8YjqAD7UkVSkC79rXE+eMBAdo4R7P2CyOyxcLPgyXkXwY2JM5IK6k6M43EGXSDg7nTnRpZVTkubhTzKcLvVs0qMol6qXf4uLo7otAYsasxlpTESeBk+VleMSXdNOlXkYAyLn1u8si0PIpfOrGjJ7+vUSlmsGdqFBiF4sqNwptS7r6qtxliBQD6NL3ZCbC7ix9voNsgzkAlVeOCiNmM2+ObJkwTMq07m7Z3ZlzOfS57gOfWOGCKN4NDpH1nzwqB2GfRx+VPLPbDtdnNEpv8Pi3qokaN/V92TDmUYlq2UUVVvSimcymAAAgAElEQVRc090fe5ud7w4FLjYKuG55dar6fYwICZK7r6opPVoxThXnX+4Zmh8m756DKbCXc4evt+9srbVMOSvGdKPCByeXfYLRLRd9XlJK6ILmZdWoMHBs0ERDHcVwNncrHCpnwIg7EREDYhBDjvZyw2KX6Lkbg63+AZOBnq1rqNPmA1BQuattLfliznqZ/vcOaVSppMQnpcth1ol2F8GZ2yuTlkn3ltUkDG2iD0yjgXmxvdwz1V9Vk6cnESzCu2eNlVhoRNIWLaRCHWgVPqwLLxf7uOkfyh5wE2n7d0hQqQpSodMjUhK2ZXw+PR4i6C+GSOSlt8g+xFxL3rJMyl7VRyp1fgyuqd5VLicgrKRU7v4/dXhMAKDt3I7JoyQSdmU7p3+g5ZaFhmUMgqfyHI9j9CjEnZaKvwVasdPel52/jlalFYruqnR9WqMRoEBV19/63Uv4XCn+iKIdfe1d8HPZ/ZjxzhhsGYm79cxLgTIPK2f9LhIcrqYKRvzK8c4zNBqaR7W8VT2VZIKLCy5fU00HCFDk+hhFwD8sAgbeb1OeDtHkPdp/3jPgap2nYR4BYNmOuOkfSbXeL+omIBuAnRK7Vu3vqH2adfigcnbbf3xNEpb/qp5SfFC3kxwKOBQA3lCjkSFpGNCUxtmta5aVaqWLKyfnBwUScmWREUEy8LM5eo5WUOoLg/HRcM21E2dlPGdT8RISPzNg4/bH2n0yY2Ws7Ifd3dKtEC/C9yTzpcCgnJqXFJXSHdg+aGWOnrkWIFZb3XbtB3jx3K0m3IOR+6M3E7r3Kl40QHbEI66YapBRNAl3YoH+MhN1ULnkBoAqzRqYnN1sQW/t5K6rMkTR4uqpY93HAxEFwLJhSwJg7J4zXkKrX6KL+a7fPof3/SZSouG1GkFg/YcPiv/gsQh1c5n6a6QYjR5MitdppYt+LDiPg+vn671SzTrIwbV/yvrRg6TRMz+rh35ycwlwW3V4xxrYj7WCPV1lPZ86Ai6GPhwJPHTorE6dwXFthsE1wZcLPpVPDq75Q1a+cYc0gZNnAsjqUXcpsJVu3RXOn+Nk9x9fAQRbS1FwWsr1ANgI1IFw/Lz+owdlz5yvCyRQ9NV3S6373kE5u+GrMpeDJIdJ11zk5orA6Dx5+2rZj4CuFTs9qv30AwecsnMdQPgTaJJ+DHsbjlHMFZxTesCSEpWjVmTvffO+07M62s/Rls4P3Cq5N24kIpt3hO0dOLg/xikQ0kBek+Ptp8D35ty4uCjg6gy3W4M7NIIyiK86P+aZFoHEKGVQs5HXn+/aXJ64uUkB+1nR87V4OG0m12VPFBtSw3HtzkT5YMZqdchcCmF3IsHtEdS4H2YeOmkmJHZ/awYMysM0EjiBipOfz1AT09K6BCqrL0PL2FwlMeAuePQSiLZ+CbdiNeBDk0FVyRE6ZgJnaECDzuQ+6EKqwi2PqLspvgQurAQHGmGXvbK3xC+ZIkngzng+lpUcDyPmpQj+ebUqRnDRLwdliirdh+q7XjmiG9x3/SFNnv8V5dVD3r/lr8fgnBsKFsGwD6N3fgJGpa5DJAacDgFgG0LtbB43FMbej7hFkwyTE6Ac4s5fPnZH1O6lbYtscRPC9PSSAwhESlCm/8jIyzpJeXCA5IayAAgs39itkVIUifJ6lR7PIwbckAKJR6AiF2uJUG3Z3KJBP4gqCXQrXukOG7kblDY0J6DPyh0/vSXlrr1HSrVoBVBfrw+TG6QXlow0iDCplQkCcWO2a9bnavxNezn6q6TSSvmOA3EG10MWPNhIow4QzAOooILzO0uOwUnhJIcCDgVcf8O11p3vztRDe/qevKZ+jCdSN8lDMWIQFpr5sXsgysTBORc6izlT6pnfjPV2ObyQqFE28QeTk9wbAY9q/b0RIYBcHjlDnqHd9d5v8tvQmyUMZ2b+qJucHCMQkDP76N4rlFMjkDF4avGigbIfvitV0QUzn4oomVnwbQmgJEiyHsaRY8Tw2Wt3QfmkmQWeioMWGDqv+tQpoIoOAKyI+m2lMsCG8cuo1UcV97JX3alG2nsRHWDzuGdUXMnFmN7x94L74DkcXXaRM+LiTBdXVMCg+K0IQDEEDojp4SNtX6yqvfv5I1I3PZTgPs/PeMYUBg4xA2dZNOAuAU5mE4yrs8HN+AKkVJSOvFTmoOH3lq+e1T974rMED8aB2zXzU1n9Vl8FuFLggMhJ0q8kOTxNAGHfIkFyeN18OE5eiesWMHvKYz7UGYozNjpSJqgoIOlljEWAKE0EMhAZYNnLnSQc3Gv13i+puJOhc+iPcz8CupI+a997WsGU4E/OMxIARjBj9HJXcCjEmvMlFUorPNNT8wD0k0oqDKza5H+/gMP8Cs/6SRTO9tZ/MhjcaSkOeG2fkxwKOBQAMzRuwLUaAWDx5r3S552Z8nH/tnJt/fJ69kWAsUSHLvllxQ5oP67Wa1RGMYkcEh0qP9iuPtTyy6uxN23hzBkeuUECE8WKzFsc7r3a1o2WbxD0dPv+ZLkM3k9iIWq8+4Pf1Unz6Puu0kUmC+LFRGhChgHw6pYvIROXbAWn2UCiI0Pl57+2yqa9B+XZak3h4gsiHkzqAADhb6vjVCxJ8SSBVEGWYiyd9U46VQoo9bCQUpOvDDyKENSysGDvmDQSHMpt0vLdNTj/+QUut+pIs1fnAqRg27wvAcoTX+s40G2GAoh1TqWgAVBQQ2UogqhoTgGNTgIsrl4DmIKbYtw4usEKbYPI38i3d963ZLMgFsTmhkFFAQ7MS07GB5wcI2/Tqwh3YbxPLisIrsIywU2GVmkIkP5CxakMVrp61N1SZ8BogFxby9gabdB6oZl4YNl0dRBNIKRZgyeh3WxzhRsHQhR7jTvkjwkfhXYgzhtBac3bd0uZVl3h+msYQDALZSLkDtqkwIx2MiQOGqjFUgt1z+xxahvIthOs6bKM3DA55jBGHACwMR//qFVJZZLI5gipA1Ju/e4DaGSulZr/GWUBoQHr3FY73xwKXJQUcBFYqpcNQ3TtFDkAjyXkpChNMsmIKJ/r2kKG3XZpgUSiGJFx5YyI0gDjcogmH0E4nPrlI6QMIgJQ3DkaMeAaVoiQ+vAxmYBnqFW5dNt+uQ4A+eKERSoiDQFH1rlFFSlWvIg6fCZ312PUDGkM35UfzFilIXuurFNODblZJ4Hu7WkrpAvOExl9IAngaK2pDrgV+NJO8oZRnuCZWRyUPehjkWKx5M0QRWKxJecUWqUp1NXHY2G/Txf5+KXTsSjDITKA0WIqCDiWyJlgp4AHwFJPJOY32kMNSoIME8HR1x9na2OfkeSNSwB9R1U5I6r1bVDmiEIom42WJiaUKqjUUqZNT9kx8Q2EnzmkwVQzDu4BF7RAatz1Gnw9JsmSZ65RMAsqUw1nhLFqXK3uvmwD3hJRxsMf5vNQ7HiJeGtxRYZW7t961mYTUVLRRQEZnk5WDO+i5ZJr3Dj2Wd2wsT10MVYC4XAuHbVK+0yNz5Sd62XBwEbS5LlfJazmpSqG5JkbP3f//oWKI33BuR7JgeII6OEqFibxf07XKAQlGlyFGHI79DyubNs+EPM2UK1UUM3Z0pn35Xxe1BRwzVm3C8oj66VseLB69b+mboyCg/Ei4uHEoGziDhhSIMGMWNIsWOl4plJkMbmhQYx88cd62QEHy6HgyHpBI3LA9fU1ftzOhMNqt0bRJEPjGOlKVFhRuRERCuhkmQ6eP4ICy7Dvl8jkJdukPa7zTJDnhEcgqmQsu5WwhSPI3dKsspbBdcjuzqvARjs3TkwBiijhKSMcYW+SNi5SBQkGIg2rdonUG/wlQAZnW5d2Us6F9yi+rAztRYaOIcCpliM4EkbtNir9XPQpsvQHUCqXhz+OG/qdJKgxkaMLjCiHxfsOcFMf45xtB7z991KRHX1D0nEzjcd9qOQBoKzc7Sn8jtQ2MPpAAJ6NQruYh1HD+SwVS9IBCIEQfdKxcol6V6j41fi0NONdwVgBueCUZ7wTVqAAQnEod1bs88bPH8fDCu/QOK2nBukQiWjbdZDiFoGSolrSgxwnn6U5AxVyyJUaH5e6WQNwHQUnV6xSQ/StLMwFXofYMwxnlE8hQGw/LYvJyltwu507DgUuFgr4HPr0bkpOdFIQEDIASqr8oRMqV9RoiZqOTxb7hGdOPkOxJL2TUEFB68F1BSb8YLRwBjF1rwGqSGJP5ORMvQQxY5TOcz+KRXnftJPmCerAGXVQJKocwhlK9JMZAaWY57+eJxm12suIlyB2oicKaN2drZSZCe/1/v4ycMB98kVcSWna4zFJT4a/Qzt7fbYqz6dc5abAofAcLFdkZ9HYOAdW8CL3BdoT2BgSxnp/ecXE5p2ad6Sgwjrd78wSExZF4M/Zsn7MI9LoiR+gQVlBF3faw1mKIeT8cseLiQZA8Z8l+rQGtWkHB4YvOEsFAQUXcpGMIQc/q2hznrbg3qmOd22Te+iZGHcWOSEsp0KLu6/cgFldzh2nWifbhRuW2BY2gAA+fcbQhv3AZsGigyWeZz1Ka4p6bTRxV3FOP9gGgu7KDwbKc50aSr//DpAjiGvnwjm+kxwKnGsKuPQMy50IQAQPA1TceeZ+z9s0+4Qzd8yiYH1aYigCEaMJ2PHGTG4CqgE9lkHAOibpbGdUAYhOzSR3ZzJalcxAcwHWxbL1kXwWEvuidbx+mXxnEiSP6dcFdMEssBZXQ9GvBSxKJ9LZfQ5G5RDP6u4BEYJF7uWT6XZufZmqkHIE3CIVQRQgbOdW9vNVtomLKw2hFSQMSLnbwXrpqZ+HVrn3LDBmm+1jw9TPZ+zXTdvtY+fYMUKaWDlNkNRjytBxnJsvD03QXiUXNggG3LzbQZExDOL0PVjvgB5idOLmaW9+Y9xcO7bdeVrh/HAoUCgo4OL8p72bAQuepXHSKJjoHMTJB/MA+YzKPbkvAyLGs7+dGuSgLG6LSh467xSA+EkQ4j0CqZWoBVkwLTkR2T57Yn7WYRYitYXTlJtPwQ55dCLbyjftIFdmJrklytS12mOoXnCLLvY7XtyNLtZ8xxaQ6cLMUWM7R/NeaA3dzcKf32+CWUCJMlK6VTf1DmLK4zv2LM7u8Wnq13rcr8detjUGMUbA+WjStmFsMKyOu/3ux6wPji0qwDBxDLFPHGPkpujvEZdNn+xtt/fT+s56LG5W6/F+niXZ+8B62Acbl2kNXootLWkB69e2G07N0z433T1iSnfEAneZ2hf0yTMn9IKTHAoUbgq4aL9GRY10TBzOQXoWoZYkgc6apDCgRh46LGY+ghwjA1BLUUWauG5U+s3qQo//lrgwB/4lIaoC2PCcjaBEl1804NYAp6CtZ7HyorOZiHzmcKoVyVvXIjzEZ2g+YBaUQye4b6GxBdLkBAnQ7INZBHlWaGmGWuYG3gtv4R4CJ+6deUfHe1cshffJQREQ6BLLvpjm96z3Nc9vlENlkxD4l6x51+uq4chF31s86/28aYO9R55xRNda6Yxe4FKlDTXqJldogIwPuYGNolgVdeI3XZNRe5R/eh1mDEb0asYfP01b9JoWhWcZEQCDT00JwHn6+MItXlCwpQhCYNK8FsipKJX10JwCZ28sQ8GVbQWY8cyTiedyCrJst7YP2pmgzVHWofexGVBO13KbZ/XR+k0TDOW23XXrA05yKFCIKeAa+u1f8u38TerJpKi/Hxwc15THb2qsdmXkcggEs9fskhe+XyQLN+1DVG5/eeCGejKwXQP9/trk5TLkq4UKXib956raMrzHpbjmA68l+2XYD0tRxk4VQTapVEqeubWptIbNnHr5ty0OdjqzNH9wbtv2H5ZmT07II76k4sq0J26EsXhReEHJwP1vVTvTJNrW/frUTVK1NAxnEUk8B7ZzPMPbBPdg1734k4SHBMjCF+FOCZUQ7FoMmaD9b43IA98PvsHgdCF+7Xm7ZhY8BXYunMpt5y6EBgQshREuyOBMzPtW7tnNOQM8VkM9PrR6cyiCIKgpPXqwLOXqrEVfn1Wuxi7mtJdHmzILMAhy2bAT4/N2MPlHL4aLOUAqYdlE2L/dpW2vCu3ICjcOkhUjb5f98MhvTzzbqtF3pJRuAxdeAJIEGIlvGve0pELbMQjOkKvc/hwUP67L1VZEW49J2BwSDFN2bpTtP7yizpEJUAGw96sArcgyV9yOsnkeR5rAtAAKMGl7t8rS59qrM+XmryywuEzQiAowm8cPVTMCpjJX9ZEq3Z5W8ORf6q4NsD98VqMX6P0resOQ/hlVqqFv0LUf3qWu0fyhvNNoyI84y6yCswDMlfzafUxHnAsOBS5sCrgWbtwjneALsg78PK7YkaCe/DHt5LVerZQzW7R5n3R5fRqcIYfLqL6tNcDpki3wAIHJSW4uNTNLyoQXlRfgeovneRQ9Vi9TXJ+l662lzIt/jB7gwqI5+vc1MAuYqQBDbyb0nJLfTtyz83YvpENvvUTKl4QBLbQmaQbAsiEwUupTWeXBG+rDL2UpNXNgpHH6xSQXSsNwXYJQzus//w3/lJajXyPiZD0fQkOTWp7LAMYUh2ajDqb82qU3ClnygAeAxA8KAkfBhZnYZKQPDZcJeDwLY15feOMgF8R72RmHwdEw6CiVK8B5QfNRRWxINBfgQk/XWga0/OBDkmVTnd0kch3MRzEkI3xbGpIsj+CYCyAsQyNp5+6ljnkT1Na0g6GOI7SNnCWNxit1flQBmF5FYuBNpGSja7U8AksyvK7ETnlHQms0xzOQUuzeIqve6gND8+bqamvvvAlq39bk+d8kOLq6GqRTs/GYcQLQok1eMqIC0NNLhZsegllDadn/10TZ8MlD0BSNQnTzG9XEAiwayvCR7ZPfUu5MxafuY4IioPuGTx9RcKva80UFw81fAtxAe3K2GQD/dR8+AJvDbVIdphCMJLD56+eQ74jG3yMtY9r9FxqcdQG0r+mcVRqSJsdQzrngUKDwUcA18ZH2cJMFkRIGfhA4n3j4ipyxYqdOehp1vzYZTnEBYAuHdRFXGLzBQ0yZAN+QFFfyGZ51RZcIlj6dmgoQDvezJBkuskxU7l70YAK/kkGIGhAYFCAtEOetGTimTXsO6nOZ+SmWcMqjbLNQUaRJrrBs1SiBJblkwXdlIuznmJiHbsZub1ldml1WVQQATMPaBLSBolFOZjqSfgs2cvSr2e/qOgC65Qpk1oQXuQG2c5sQrmfhpr0FcpSF79Xn9siAAE0BElb+rjHH1JEwxYLQfuPCTwPlsGrNATCZ6jMyEzZm1Jqkc18XvHJQFKa8HDk2fFLT7yBMCijOC4W3Eg4o1pOwcpZ63CA3xGsUGR5av0ANurnAh1VrpsBoIhQQNO2Jvhe9RZX2+1mI/G3Amdc944jaffRDeTm4J4r8AMy0OysOzyEcCK7gYFmFvkfAj2ZR+Lwkp7cP3lkYjqb2fz9Uf5UR8Hqy6Mk2snfuV8rJ0Z0WN2/HABw2ChRL0rF0FPxeagQG1Fnm8m4y995q8L+5EPc6K339w0qoM2UFoxv6y9YJw9lopS3jysUvnQoH1M+qATvbxHJ3zvgELskel7Q9WyVp63Jp8NgEBWpGaSDttnzzAsB5s55h0g+oCx5UdgDgdD5xw+dF0zwEdn44FChEFHBxM0zvI1nguMrifOwgPJjUiymhAUPXxiUgSGmiEKRGASAmLtoql1SNlHsBEhRPEtz8cZaxAi68bgVokYO76ZJKcvMlla3J5N4pEljSeQYH0JkEOzYCG8WHuWr+x1KU7eKCSBAll3jnu7+peUF9GIgz/E5kGCMXcNGEtAf/PTx2rhSb8JdUjgqFS7Daan+XBvEkfVxu3ntIxsxaK+MfvE4jELh1DLR8pkyAJmlgKdpY145tkdWe/K6f9WvazoLbdSbqV1pjIV734QCJvuZu9ReZeShexXQr37xDSrfsqk6U18J5Mb18HMGC7IuFPBhuumr2e0dBgRyGJordwBHR+XLq7g0QjU20zoVQByMKlGxyg1S57Rn11bhxzENwOTXe04XitS4DoHwMMIJ9HESU5JCYzKK8YkRXPZPDFVbkec58qQbbtiBEDziaaXk54XUFcC7uABQCILlIPddiFGyeNQNkyQXRtVj1vq8CXALUfOAQALo4bP/oTYSRDGjczggFBCj1Z+zehHk3wmzMVDQLYGU/Cfh6Nob+BEfXwHeMN9CbhtqMflAHIXIOYeOAG9peP9gCpu6Ec3OMcdrq0fCbKQJARvu3NARTVSUZtp/cL/vIJgHkKNZkXDqG6yGtaNDOtpJePowK4d3gM/zbGq5nu5Yz3GinuEJJAQQ8tVxpEXR4nrY6NkF+eqy9cmAp+KPrqwlwq0WwoNust6askN9W7ZRvBl4nJSAGJCgwVA4DlyYgnM7PCDy6GGd1I3pdpmVQqWQDuLVLh8AvoZuE3wy6DuLGUHUH5rGD8yIvPcQzEYxCECVgN8L1ENB+hzuuqcu3y9cAK7Y5Oc06JzwA8Ew8nKm+KCcu3ibfog7GiqMnlue+W4Qo4uWlHtyCfbdwkwJl7s7ecuRMcSvTcXe3/6JcJ4dRMs9SYp+PAsjoWzLmhvvAufwI0VZ/9Q154O/fVJxY+oqeqgTBxZl/NJTOgksp+qXciTA5dBNFDtBNRGuRhoiN3jzMRoL3yE1QMYIAyBhpB/7+VRoNnSrFIRYkF/f38FvB0bwvVcEhZQHgvHudhcVavfUXAHB6huj1lHmn+s4pwgSXadnrUQwKf6nFwiVuxkcKqhHqfitZRZash4bnJhYdDcqp0ckQNTo6LZSz+mz73wOoAHqeXxLc+BwdL4dWaaThdI6gDBq6UwRZol5b+KBsho3DLx4OmOBI0S65URciOSie4p8/wDYHXDS9qJSoCyfMZavK2nf66YbkSEqSxE57T+ukJxVzlso+WwnU9CboMa0/AxdQhwNvZ4COThGnTQEXMEO9+4/E+dSbAK8vBlwN7idUuTFyZzT8Jkj98mRHiY4IkcmLt0qnkVNlCkDmPgQqvbpeOWnXuILUgyuudIDgsB+WyCs/LYVYshZcgBVXRZISwYHyKgCP52f0ack8dcqVkKjiOCcD52hmg2fn694ZU8mFCiETHrpeowMwvA4BrvNr0+RbgO6jHRvrOeCn8J/ZBC68QgJdOEeLl46vTJGPECSVfjW/hJeW/QgJ9EafVnCQmOkxJnfhueP7qbBoaxZn/STInKOZm1sv2sHdty6mudzIab95WwFmQSaAlYIH/m0IqMmo0hSx7ZoxGqK8lupAmUojBLWdMz7Wczor+aifRwUP96bEFG1p+lnq9lZ/2Ae3Cj7Ong4sm6HhYzTGHM6+VAMQRsEUY1pBOy1FFzoCN6npC78p91VQyjy03xJv2p7JNy9fJ/4pkMC58f5FkyUcbrQIaBmH4C7Lh+eH9JCC80SCJt8BNgEEHGqIEmys7lrvxYxd1mUAVQ3WwV2Rq1r1OqJ848yt3kNjFYAojt2/ZKqGFarWexjOz5BXgcgCYeW2FIwtjVKDS9kQ+RrA4uahxl1vaHSFNW/fI35FiyFKQT9wzp9Zw+UcjVVDX89GRjlmXs0ds/m+A+eiQ4GzTAFXOLgvaki+P2ONkLNqCqAgZxUA9X6CS0mA3+W1o6VcqVCJg1NkuskqBe3FOLjd4hhuXLkUOCuRffD2HwWx4W0tqwJcVitHR+fJPB8rBg7sgRsaKLjc0aaGakV+u2AzAKqRHIQoyNKxy9tTLhLUcCwNF2IVUHd8UqoCKP1VEkw3701SRZZwgOdVdcshEGo6fGFmSHNoQvKcbwvq54T7at5GxIjbKeX7f+4572O7Q/t8LNOe7IC8pbFuuUVr+RDbWqwsu70MqF0GBQVpLq+1PJ8nT++SWSQD6KRXFSvO3mrFunhWycWTokaKxPbApVWxyg019E21Xi+q6nr84p8lFoFJa937tipeUAS2cmRP+HkE50Y7LWtV047zq6/abuE8iZ42UL4vFDeoTWgAigs9z+hS4tZDXGiJHXlOFlajBUCAzrItIKOUwYDc7z0i1BlxQanpsNlwRFwPXFiKu/6CclKkRwUaeO1fM1fj1NWAeJJnc0brk9zR4dg1CnIEYsZzS4PoL7hMFT3LYt/ySxx36ptSvaocgW/KbuB+U6T+w18p90rHyRR7MhpAIuLdze1XzS2OtQg3+47S0vjZ6eCUq2nxaTiLC4mppWOAYks//xB1SUaH1/RtGTr0Z8mED8wgvDuKO8lxM8IDaZvLveXX0jN7TceR7ldhuwouMygQYxdkMmP5zNbmlOZQ4MQUcD3//WLlcqY80UEaIuTNIfihpIYi7dZKwx9kq5ql9X7P1tWlBrQjyeXthiKH5oVz5vHzNqjT5JqIwbYdAPgi/EUmpWciAkCEpMHWjed2lXAuVgv3OfF/XLRNnTJHhgZiMuD8AFwR7eZ4T7W73Iskv5NznLp0m15vBeDijvvdX1apMshtUCihDd80cJJUKKG/ykAoy4yHNuS05TvU1yVFmndeUVMuq14a532IHh5UBGAXJ/M37JGHOzaUciWglQkO1W4T59mFgnbmOz+pOrETyjWty8XodR83R3ViEp9aDtKB9URHlxW/ZWt4FKO/udBb9ee/uJ5abdYipLZTONcpBQ2/HQgsGjf1A1VaoNiOizIXTHIvxaA0wqCbVH8/CAWR4gAkz8Emz50ATBSpUpGEDoMPw9N9MGzads0cAzBbB2WL23XhN6Fz6gz4CAtyXVVgSVw5W7ugLsHIPfG7DTjph5IKLxa4HAv6jEtHWzK7Ior9PfK7/lb6ohi0l6F+6CsyuFwt1QLVG/ijU2m2fzeAKPqqPhoANXH1bKnz4GeePJbWJn5yLJuxq4AMRRM4m17zzn9YlTQcMkm5OZZP8SzP/xgjLgxKOtQMpePlg6v+kMQ1cyytS/SDGwj64tz2/XDQ+FI06ahs/fZFFUsWhZiYQLznz28hLi6nIYX47OYvn9ENCvtCbptiZtN/Qo+bqVK6nslk6qG0QeMAACAASURBVGBfOa8laa/ExJTTeeIA3JmktFPWP6GAi+JCpiue/UHP2bgpped/nsMdhjbioPYNZTFU/cl1FXGHyul+WTVwUjF6/+elO+SRsX+qoTSVRgg6jMdWHuJMijlnrd6JaOBzVYORgMPBzmdvbFxRtRzjEpIh8pwmb/VprZyYamdCLMMJQ/HjBmg3Dp+0VM/zjHeSjk0sRRaaB+wC6DwxHrG7oCTC8sj1tcJZ290QkSYBgK9tUAFKL1W0bQEliqoZAcWkT3RuKgkH0wDClggtP6KxrapIAw1Q2slt3p8iQ1q10j4cT0yWX1n/9BqBjPW0vKyF+H3yg2SkgiNx00VXzDOcdBECp0WlhJJN26kiAxfWyrC5opkAr4dBIy8EYVr+eqS5egWh2JLRrKnUYAEOxL5wrUUujTZs9NzPCASLHm+lnEtRLLquICgX4fyIIsjyHR6QFETrXvjQJXjftL+jEbZLKkJDMAxnclb0AR4l5YokYzoMOC7tKQZU7c8T0YibBYgO0/duUzFs9T6vKMiwbQQOaisyNlsZgND6jx6Aev9g5aSjEAInAl782T8C/rKn20u5dvcpABpXYEA75QxjoR1JOzp0QP64M5ooqOO63PX9ofb/nHJfVLjhxoJjc9MX2SoqpcYkg8XyepWeL8iaN/vKnHsq6ht3gfOrd+crmKaWpmXypqWydvq9uvnLAXiSs652x8uWCYNuNI7dBJzhoaPFkd4MKOtH8whw5P6ZidKkGThxbHRO+C7ORoOcMh0KcL6M6IEIylj01fExJiJty6KgPELRIkGhLBQ5fni4Hbz4b5V9MCGoFV1CAYpSParvv933cpm1Jk52xMOQFWLNljVKg7srZXk9ASC+dPulGp+NmoxMDHPTBkbeBFKeLxBUY/EsRaW6cdYtpuU6jBzg3TAPqAfNyRXb47U95BTbglvzBdeXjDO1W2HDR83JJVv2IbBqtn6/CueCbBtNEDLBTSYhH8GvKPrZrEqUvNT9UtmD8EBcJDj5/ADK1LYkoNono9ntF4NY8sf5sKFDOJIaVQnMFGmeeZCxj0gu6qyn8SUtpHKYj+zDeVVMy5tx3sVYYW6h7okW8X8wxNlX9p2cCMVxVXv8T8EnqmUXBRpyD1RwqHP/x1Bdn6JalORwaC5Az/2WTViOVABo+UM9PRuAGBgRDbHcOI1rRk6HnCHP9hhV4ChC3LhwZlTvoS804naKit4CwclBQxdRCjxmAuiDaRu7k4nzseNxId52cLkkwJgCGBPEaEeWfdTSmuW5Y9VewyQCcdg05pp7Y6EaoXjF1Xq/rEBtGXpXsWLNGcDFgp66d7MUwVkYNx3aTjSOZbD9xWGGQHMCyxEytTXx3lBusSowmwAIH6EdHTU5cS07LUijBDBEjwZ3RV6eRxIEG0MESRqxQRGNrlHumZ5LyAVXuPkhCcG4pKF4UKny2g/S0YqtB2wF4JALtxw/s3VnHvA8IIqxUwTvdOf8SdK+aW0JLQ7zEZ0rTnIo8O9QwCfry/45tAmzr5XkxhLB/TBRPEiFDGpQ0i6O52AEDJMIihTx0XUWAYpcHSN4G26DWpa8T/BjIleXhDM+itx4xjcMItK563fLpEfbq1NmLiq+RolAsc5yn0UAIqRQacXUrwsyKiXXGOQPN0rIwHM5BTRct6v9WztMKy/z096PIEJg7zhiinpcqRoVJgtggH7EbXzOstkPNqrdsEny9FufS8cON6h3dEYSOJs7U9bNxYH1/Djha+k15C1p9sxERHCxRGiqCegGJc/LOM0vHpDDgkutP6qxU5PQcER6rgRwoHIDuRJydepKCuBFrUBuWHiPgKjuqbCYUuWeYjIODuY3Hv2t+1aDeV/dWnGhB2enbqc4mM4AgFM7lH3ZPXusrPvgfjXArtZnuES37aOcJ8GcQJuFGHK5/XSDPemLJvpp+wAajCSOZ7RMXNsLkeX2n96Uxv+bZgESAE/Hro5LK/gp7eisfrAkC1wI7sZo3rwy3VjQMB5/R8AF69B3bzjI/bIPTDRQNyYQ1vvyVeUcdY0GrpJ9IifF2nxpKA7Ok0onVJRpNuJPgGMNfTeeTZJpwCl+mjGjYxVtSD+4Xza82kVm/fiF1G3QSMewkUacYhXOYw4FTpkCPnHv3UEhQp4CuK7Y1eYJFuSAzJpj53Q4wI09mgVO5L6s4gwA6X13DbpguDMQFH9ZEateR6glSTGjcd2Vu9haZ3MERBZi2mbKZrHavgLuGxAy5bEtBrStZ0Vt5AjoFUoVky4tqipwmH5FhReTh0f/IrHhjWXC1+M1TM65mrBcHNgOtrdrp5tknk89aXLnc3I4fg8khNC4cwP8mQRaD92xIOq5kgJ5Lphy4ba0I1E9ORK+FAKBWxVdz83QLqOowTI0P168XuOO3n6fg4p16eDiLQKEJZ7Va0in0z/tD0A4dRe0aSH+IwhEwNVWaJUmymUx0bejN+fnoYOtfdoO7TOlqf4IpjpfxZYaEdwozzAP63SDk/bdKymXSA7N3T/e9uSHqJabCKbcd+GmIfPhOfvmRstw08/ePraBm4b9iydDgWalmmeUhnjVFYyzcFXgyTvnvdt4Mr9zacT2QQErNFzmvdxLBlxZUV56ZeQ5nSsn014nz8VHAZ99H/W1VpF/oe+cIMVgME5zAHP29i80Q0qAkyQnSm7uIICOgMK2lQa4vfvzInlvSbL8+utMiYyM1OadLUUPe9/N4md2wHFxsdL2WojR2gyU6tf1kdSEPbngwwfdi+q/Qb/zvU7Skou9cpJY2Kn1SUWV0zlHtTg0izvj2ZsBdL4H1nE+JPbb4o7hgQggSKUTVSQ6nfZxbqBzWga+c3zyaxDEzss+HSJ1khbIlGm/aCxDpnMxV84HWjttOD8pgHA51m7zXDbPLN6cJDRJwHRRrs5+/Wy3x9TFevbCxIG/uTaRuaSj6WCYNrz6w3z5cGG8fP/Tz1K6NM0JLO7tXNDMLEIUUbLemJjy8s3Yz6TDrbfLWoiYat7YXzIh8suG/0HVGMzDZVmitfNloT3b7/J45Zt3RdX5DLftnjcXdLzn87tnlZnr4d/OjZ0WeORX2Slcs88jmlSoUTuSN5d6skXbyzO7YQIlrxdBdAQqBi358GEpt2eOjP15sgTCPOBczpWT7YeT7+KjgM+eD+/M5eDwzdqdXXyEIAdHn5wBRYrIurh98sLX82WLb7R8+eWXUq1qFZ2wZzOCd34Uty8spv41q1ZIj159ZEtwHand7XEJLVsFygo4t4JGX37isPzKda5ZFLDTtzDTxPSTfTwTAEygZNggisnj1y+WdeOfl7ZQEv183FdSooSlWGLXfC3MtHX6dn5TwCf507sU4Pifnn9hoechtefQ7Pxu/2m1TsEcf4w6cABKJ2vge/OX5Vtl1tZUua7LHfK/p56U4JDgPEolhiM4rYpP4WHWS5BzYVFJTEyUl54bKp9M/F18a10tkQ2uVDuzQLia0jMisqJMpyOKOoU2XlCPgEbcsJCuqulXWGmF/rmwaXOhr2mIh0cFGT/Yl1oj/yTfmG08UYEoHX4xD+9YLfsWTZFie5bIg3f3kIGPPKFzyb4R/Lfmykn2ysl2EVDAp1XdSroaUlswC2r5mXBSS28d3OmZcV3Y6UAC5MB1lAu+GJtfeb306dVDatesod02Z2D8/m9NWHu99gVkzcoVMvazT2Ta3CWSkIYzlhzLXswAd2F/b6fTP3IYKampCnL0uEG6Frakm1b0MzEhQVIPH5bK1aqp+DDhwAHcoYeZkzsrdG+X3KposAv1gfkQ3Ox1vr6NdOvVV6Ldzg84Ts2ZG2l5JrjFwvZOnP6cWwr4zF+0FEpkMDQNCJC//14u77z9jox8/XUFOVU3Nir757Zd56w2Tkp6UuEZW/mypT312k0BmIfp356wBugsroMiU+NEV2RP3HbZu3ePdd5iuBGzMp0zap7/FZF2/AsMDJDHH39C6tarK71795bDAACXjZ7nf09O3EIqwrjgPWX58uUybtw4iY2NlW7duuGvq3Ksh5MZew/jnxzd8caKwUHkZXlloqMlIrJMgXPl354nJ6aMk+NioQD84+byaavAETz55BCZNGkiJkDBDm0LLXFACmpQMnGSWlzsuVfCOR597SBnXp2qnR/vIedevhT4T797pVmzZnL3XX3zvV/YLn474Tt59913cU4WLo8++qg0R99PNZmNAp8/X+fKqfbNea7wUEDD5RixV2oagonCiDklNU05OLOYFp7uFtwTs+u0f56P/c8XdMmVoGu2vUrBHb3I75iFmaI0Gs1nQguVcyALUcmL4KyqMCb2j6LYLrd2lltuvknef/99ubdfP6levboMHjxYQZ6JNOD4OpGCiPdc4bPn41wpjO/S6dM/owA8cuWGJOF3M8DNdTOY/1mxhSP3+dr3/BYYUvx8be/5NBrsAGcf6xzvJ1rYz6d+nExbzIaHikn8bpSU7r//funRo4cC3T333CNNmzaVIUOGSOXKlbXY/MTzzvg6GYo7ec43ClyEcsjz7RU47XEocHYoQADnnwE6ozVKTi08PFyeeOIJ+e233yQiIkI6duwoDz/8sMTFxammLp8j0Dmc2dl5N06p54YCDsCdGzo7tTgU+Nco4A10FMWaowmC24gRI+THH39URZt27drJ0KFDLaUbAB25WqNharhfA5j/Woecih0KnCQFHIA7SUI52RwKXOgUsAMdv9s5uqpVq6rIktqWmzZtkssvv1xGjRol6bCdMw4ODNDZucILnSZO+ws3BRyAK9zv1+mdQ4FjKOANdHaOrm7duuq9h+A2Y8YMadOmjXz++ecqsqTokpyfGsYjORzdMaR1LpxnFHAA7jx7IU5zHAqcKwoYTsycs1EcSfDi2VvLli1hLjRJnnrqKRkzZoxydD/99JNyc0YBzQCdw9Gdqzfm1PNPKeAA3D+lmJPfoUAhooDh5vjJRPAiiFEcSQC78cYbVRGlf//+8uKLL0r79u1l9uzZnnwEQ+azg2UhIo/TlQucAg7AXeAv0Gm+Q4EzRQE7J2ZMhgzQde/eXebOnSs33HCDalt26dJFlixZoraDRhHFrnHpKKKcqbfilHM6FHAA7nSo5zzrUKCQUcCboyM3x2vk1HgGRxs6cnRNmjSRO++8U+6++27ZuHGjR3RJEwQDdM4ZXSEbHBdgdxyAuwBfmtNkhwLnigKGE7MbixcrVgx+PB9XoGN4nFtvvVUGDRokO3fuVI6OgEjOz+HoztVbcuopiAIOwBVEGee6Q4GLnAJ2bs6AFTk6o4hSsmRJtaH7/vvvJRWRGWhD99xzz6kNnVFGIednynE4uot8QP0L3XcA7l8gulOlQ4ELjQJ2JRJ+NzZ0BLAqVarIBx98oOYFa9euldatW6uZQVpamse0wG5Dx747Z3QX2gi4MNvrANyF+d6cVjsUOOcU8D6fYwOMbRwBjDZ048ePlzfffFN++eUXufLKK+XTTz/1aFwS1JjPztGd8044FV5UFHAA7qJ63U5nHQqcGQrYQYrf7TZ0xmaOLr/Gjh3rsaGzmyAYjo6tcbi5M/NOnFKOpYADcMfSxLniUMChwElSwAAdsxPAyNEZBROaFMycOVNt6F566SW1oeNvijfttnZ28edJVutkcyhwUhRwAO6kyORkcijgUOB4FLCDFIGOyW5DN2vWLOnQoYMGWu3atatGGScY2m3o+IxRRDleXc49hwInSwEH4E6WUk4+hwIOBY5LAe8zOrsNnb+/v3Jy9ILSqFEj6d27t8ais9vQUWGFyeHojktm5+Y/oICvOfg1u638frM8R07+D6jqZD2vKGBXTzdhYowYzf7b7kT4vOrABdgYA1JsutG4JM1DQkI0Dh0dORcvXlxt6AYOHCi7d+/OY0PH5xyguwBf/HnWZF8OIu6uOAiLFi2qnxyERk5uBhk/neRQ4EKkgJ2z4LimMTI/KSILDAzU7/w0ojVnrJ+Zt2ynO0s0QEdvJ1FRUfLKK69oHLrMzEy59tpr1Ybu0KFDmo/PMh+TWYPOTKucUi4mCvhAFp7z3Xff6QSnJ4I5c+ZIp06ddFAFBQWpO55SpUqpcadZAC4mAjl9vfApYJc+jB49WrZt26abOHrLL1OmjDRv3lwXVrqf4th3xvrZeed8D2bzQBrzN8GMadWqVerMef369dKrVy/p16+fbrhNPu+1x9mEnJ13VNhK9Vm3bl1OzZo18+1X7dq1ZdGiRQp+TN6DLN+HnIsOBc4zChixOxdTLpwfffRRvi2ksTLPhbiomoU334zOxdOigDfQkd7kppno0Jmc3Z49e9TvJcGOiXns+exlnFZjnIcLNQV8a9SoodpNBC+zKzLfe/To4dlFOTumQj0OCnXnOHbN5owA5j2W+Ts8PFw6d+6s97zvF2ri/AudI33NuSjfCzcTPJ/jX6tWrWTixIny7LPPqpE4A66S02Y+gqAJz8Nm289W/4VuOFVeABRQJRMjljET24hoOOF53w5+F0CfnCY6FMhDAbPb5/hu2LCh1KtXT+/ztzkXuvnmm9VxMMe+k84+BcxGgu+Gie/BAB3fAW3o6MyZG5KXX35Z/VzShs6YFhiOzrucs99yp4YLiQJqJkDPA2XLls0jmrniiiukatWqnr6YgXghdc5pq0MBUsBs3MghUMGEsc2YuHEz4HfdddfpNeZxODglxTlJdoDiuzAKJkaru2fPnkIbuo4dO+axoTOAaMLzsLGGozsnDXcquSAo4MuBRGepLVq00AabswfuaPnd7g38guiR00iHAvlQgAupWQC5eQsODvac63D8028ikyOtyId45+CSNyfGtYfvgusPtbzvvfdePZ+jDd0dd9yhcejo2Dm/8DwO0J2DF3aBVKEcHAcEAY2JKrvUmmzbtq1nd+vsaC+Qt+k087gUMBxb48aNVWPSSCVatmwpkZGRyr2ZPMctyLl51ijgzdHZnTlTq5s2dNOnT9c1qlu3bmpDR4UUu1cUNs6+oTHv2Q58DgietVd4XhXsk5GRkcNJTTVpalPGx8fL1VdfLdOmTdPdE+8VxmQmktmxc8CfKyA3dZlJxvMEMwkLI63Ppz5xTHPXP2zYMKEzYKYpU6bomCfAGQnG+dTmQtcWKvKgU2buGTDynn/2OWHy8B0ZjUuaewwfPlzmzZsnXbp0Ua1LKgsx8T0bcad9vvEef5uNjHedhY7WF3mHfPCyrVNeEOKRRx6R10aOlEkTJ0Gzsv1FQZrsbCoVWAPe3uEzPfC9AYy/7WrPFwWxz6NOHko+LFGRpaRy5SqyZvWq86hlF1dTzCbae755/zYgReqYDaHZjNCvJYFuw4YNwjM7Ah03MWaOMZ/9eZZhfntfv7ioX/h76/p09Mc6YHz9fCU56aDk4PumDetkzCd7jhkUhYUcHPDFsdOrDhOJGjUsG0DvyXA2Bj4nrdHS4w6Sf7t2xspaLLAJ4Jyzj1ieGwoLnc/HfuRgM0P+AS58JKxogEQWD5GvPh+NsW611nthPR/7cKG3qUhAoERGlZZ6DRrpPGQy4mHDqXn30X6d3zl3OJf4HDVjGYeOnByBjt8HDBigNnSc68zDRFEmbezIvVPcaTj2szHXvdvv/P53KODT9paeeL+W9lJWRoakpxySosUjdBEobC/e9IcT40hGqqQd3CdRJYpLn969pEu32/QNZFO04TY6ZX6m01n07GXYRWAL582Rt95+R5av3yq7c4pLii+8Nojl1UHrVCGOk840BQhwyrH7FZGiWYck60i2ZBUtKUezMsSH4niPPONM13xxl2fRneMaosmcbAk9miTliqRIq2YNZdBDg6VSlWq63vDPiA9JsYLmnpnL/OR8NqDHZ3i8MmLECL3+wAMPqBkU09NPPy0vvPCCGvu///77eTabhW2t0w47SXwWxnNUcSBBwSTjqBxOTpLiWPR1rruvFxY6mf5g3EtGRpYcSkyUBbOmy+SxH0r5UqEy8vXXpVq16gpyvtj5FTS5ToUeFMXw7CAhIUGGPvmYjP3lLynSpLOUbdFRQkpECXe1Pr65AHcqdTjPnBwFlIvDAM9ITsQ79hX/kOKQXMA8wNlUnBwBTysXACn7iGSmp0vSnu2ye85X4r9xpgzq200eevwpcUGSdLKclX3zaMCRn0Z0OW7cOI0uTgUiii4feugh5eIIfIMGDZKROI7J76zutLrnPHxeUcBn5paUHO6q+NKP5kBUiQmvO9kznCj6PIpFhMkXC3lBdbAt2ba8phmWSO/MAADrYP0sMyjYX9JSj8jYd1+V3yZ8KqPeGCk3tGuPgZ+FiWK5D2Ib/inYmcnHZ0lbTrr1UGvuDW5xTUBtqdvzGQksUVqy01KULlZ+L/bB/DwRM2fLx4VaNyyojzsUXbh90Q+WwXwnKssQ/GQ/TZmeulAvd0unU9fplul5Hs04ekRBzNqx2fpPGrnHOcfmGaWL7X3g5VqSEL4PptOhy8m+k7OVz94v9/vW/oCOSmPvMWb6Shq45742jUommFt+RQLELzBYkravlpWjH5cbawbLJ59+IWHFw3TOnKwiiDfQGYDknIUSnXpEofblwYMHtXoj3iQ3N2TIkGPEo/90rp8tcjvlnj4FfH7flpqTczRHAoKKSnAxTnqRxPhM7LIsMDrdKrjWHUX5gaZ8/E45LJKWknoMaHBgMW9QcJAUDbbWJFN/aopI6mE+Yxnnnm67zPNmIhUvESSzpk6XkY//V94f9Ya0h/sys7tj3lMd9Gaybdm8Wa4FcKY16SM1bnlAMlOS5eiRdAUfsy5498nUaQdL7zzaNquBWEgBpIHFdOE+AlGzry4gIXIk9ZAFdMQds0jlV9ApXPOsaViwXEVDUVeS5GCHzrafqN0FVaf4iHb6uuD1H/35p+33tAkFuYKLSzbE0UezQOszPHYKbL95H9zYBIWgHwGSdThBsxf0rgsq63y67hlnBB+MLb5viDokOz0Ff8naO3v/dAwwr38Q8roXF3eHjmamWe+VWpGgETeTi957UFq4tsuknyZLEBwtc/ycLMixWG+goxE4bejItdWpU0cBjvOdyYxPcngUYzqc3Pk00s5cW5SD84d4bPmC2fLzV2Mk7XCyDH7pHQkrURI7myxrZ+aujwMov4WLYMjrFOuZPGbAETwDcaD7919zZfL4TxACA6ExbrldLr2qnWSkp+lzZiGnaDAkLFB+nzxZZk3+Tu9zpSNn2aZ9J30uEzsy+zNnghQc9Kw7AmLKub/+Lm8+0U9+/H4CXDrVP2lxiXc7SAeWy8X64MFD0qF9O9lWsaPUunWwpCXsBQih31gcFG+8UCc/GnuXf8xvLgYBQbJv3reSlRQv5drfL4e3/i375k+Q6Ov6S5FiEQAeKLGwQUj2Osz3guo17yd/wMKYwHlWRsIu2T3jYylzVV8JLBUDQMn01OXd1uPVo3WwL1hAU3auk31zv5Ho6+9F+0t62n+i9pr+8VwtdvJbUqLBNRJavblwUTX9t7fJuz0n+/u47dDNRrDsn/+DHI5dLRVueTQvF2NrwHHLKSAfL3sv6Kbf+c1Tex2myPzy6T2CAIaJjk/3nPfURykPxlnKtpWy+/fPsZE6KBFNO0jJZjdKjltJyoyXo+CeXYGhcmjtXNkz6wvJzky1qsaaEFantZRpewfeKaQXlDL4IGRRaAlZ8Po90rnSEfn8y6/c8yd3fTDtPtGnoQvnH7/T5SD9WTJZkqBcCRXvf/bZZ0K/u2lpaQBa3rPmyInqce6fGgU4PvhnRMn2UszYObWSj33KFRAYINs2rJX/3dcTIoMiEhyCHfORTM86YJ9EfFx3QFyE3I10FfGHUoofgIscVhoGkDU4+BxFb0VDgmXutMnyeN9bJCKyjDD/jO/HyWOvfii39L4HZ34pOujYMZYdGOSSVYvny/TvxkrlmnXkSJYV5bdhi3jNcyaT6ZvWj74nxCdLq2uulA1r7pNHHn5Yfpr8s0ecwTwnm0y5/OTO9NWXnpdlRyvKpbc8KGmJey2RjimPtLTJrciFcVPA3fEuAMaBxVOk9oOf6U7ZymdYMEML62BeQQEcz6F18yR192Ypf/PDkn5gp+yZ/aWUbtNT/MMQ8igLi5Mq0JC74iLmPnXSNriTvlt+d5eP35677vduz8u7FDkfOZyoC17JZjdJUFQllM/NC9uc204tlSKCY+rL+15JN4qwMg7sQvvHSunLb5cioaXci60Zfrnty6+95GJ51rNvzngJjKwoxWu3Bid3GFndIlTthLtnOpwL5jht1LHlK2gsWu/DIqGvcm4ZeA92mul3z1hmfqt+q0n6w53d1Jx/XfY2e76Tdvp+rSLMnDFjkleVvu46dBxoZtSBa76gu29wCCZ6tnLjHjEu8qiEICBYkjctklUjuloSAozT+IUTJW3PY1Kh02N4Bpycez5b3FugpMStxcbrGwkqW521o2xIaaJrWHXyfwXSo5KBMdSk/xvy9f86yrVjRkvPPnfl4azcRDnhB/tmtDJpK7d//36pUKGCJOLMPSkpycPFmYLu6ttXQosVkxvhDsxJ55YChqM266s33pxua1zBIX4Su3UjOKN0mfr3TgkvKbJ3Z7oOLCPSMQOG08wfoXP8/a3zBILaru2bZfbUHyS6YmW5ssNNkpLMXZBLJ5EvFrgj2EV/MvI5qdO4hbw38XcAWBF5rE93+ez1F6TtjZ0lABMmW3dwFqrrc+AEG7dqKxPnzJRk4Bs3hsmHoBgCju6fAM2JiGOf/PxO7cmDCWly+38GyIAZk+Wr8eOkV+873LQ4+Z0ky+KL4w5l9Yrl8uF3M6TeoK8lC+dtXER4X9cfLjRcUMABmcTrORSnQXR5FBsNLpA+/gzGCVEQOBDfIm5llNwVDNfTLe4G1yjScwWH6YLh6/JXzk0XENDYDztvXj+K/ARD1q/tYJu0OZboyeIsrYWS9yje42LlFwCxEf5pXneDKf6zAAmBRENLKjfHvPz0Q1uZ01o+UQ44SIovnPNacwAAIABJREFUDQ0IgD7Y8HAx5XUCkr4T0ofjwN1+illZNxdhjg3SxTrTsTg9c95oFmmlB2mLclzovy/olwPNPfZL+8B72n6K0FAvB5j7XeCC1X5uQNxgbHEY/M38eX1VanvddWm/8D7Zd3JBR0GbstfeI+Xa3W+9R+bl4o9+WXPLEpex70oXUIptZbuYlZsackVsI+vw1KNt50+rj3xvpCXBiTTWZ5V+eBcsW+9bGzTPM9yosj5wyj4QoWrfkDfjQJwkLB0DOoVIZJvb5Wg6NgUKQNZ4YH9jf3pTimDD1Oj53yQgvLRsHP2QxP08SqJad8dGKsrdhtz5zLqLRteUFh+sFR90IzsTkQPSklR0bOYgOqvv34X3U6Xrk/Lia09J+5tuRtTvElo3U25e/XncZNaJSpUqqYuv2NhYiYuLk61bt6rIMn7fXlm+crXMW7hIDifGS5fuPZWLU9o56axRgOY5jOReA6HYrrnqaikfXVrrsouI+duM09NtiOuzt96SN58ZJH4YxK2jXdKgeWsZ8flP0PijoSQnMwfeUQkJDeacAaDtkK3rV8lCaB+uXPQnQCdd/AMCpHv/wZyWmsc0MLBokGxeu0r2xG2XR4a/DwApogodzDuo2zRZu3ypNL/yaklJwqGcjUPiQE6M3wfv4YsBmKlSvkoNAG8pnbS6WJ7hUcjyzCSiWKVIkSDpdOd/5dMxo6Rnr975stLHIzzLOoo/F/r03rvviG+dGyS4dGXJgFmCD2ig6w8XGNzPwq419vvhsm/B99q/8LpXSuVeL0nimrmyddxQXMuWP/tG671GL89RcNr+7TBJ2riQxkNS8tJOUrHzE+JXlKCmBevias1T0IsLHBZlV0g4Fq5psumzRyXmxkFS6jIE9sSmhjOa5ORy54ezkrS9WyR24kg5sGSqLtaRrW9TbtAVhJ36op9kx4+vSequ9diNV8P1RySi8fXmhWs9OTnQQAVoZR7cK1snjVQRKRsWedmtmt8PZ2IEpE2f4jsWM9Jj19T3JOamQVKx69MqXiWwWDQC4AHoDyybptxs+v4d4EZ7SIXOj+nZIhfe1F0bZft3wyTx75kKHBR7xdz0kJ776DtFm5QeKIe02P7DK7L710/kCBbYEvWvkgq3PilFy9YAB5ogK4ffijY8BS60gxxc+YesebM3aDVQ/1j32jfvkHIdBkAkByUknHGSu1Hw8POXbHA769/vL+ENrgIX/ackLpsu9Z6aLKngXg4snSp1Hv5aDm9eKlvGPyNRrW6T3b+NkZQdq6TUpZ2l0m1DcVaHs1MATTLybP3qWeWSIpq0l5DKDSVp/QKpce97CkZ2sNJ5hr4RFNe9c48ElIyRKhg7WUn79X1v/+5l1LFaavb/EM9ZZ+o61rlZCcSGwRei5fgdkrpzgySungVR4p8KPHx/UeD6rflsbQYUb3E9HQCYsn2lRLf7LzZS4ZKZfEDKXHOXcmgURZa+opfkYEwTsDwJdZIbPLB4BjZvGRJQqrwElCirt81CpnMa7zMT+aIaXCGLZ1SWH74aJ3feez/aS7A+eQkKyzVrBMsn2JGD4x/dsjGN/nyczJg2VRqXzJGmDWPE3+eo7F3wqcSEB0oRSKHcy5jmddKZowDXxaQsH5ky1SXvvRAgdVq3k6eHPCFVK1dSrpvvzf7uTnetdzVocSk4qS6yYOZU6dZvkJStUFkHhLXgg9UHJ1e0WKDMnjIJZ3SfStzWzXoAXLfpZdL1ngelWp2GUrF6bW1UyuF0DxjowPLzgSr+AYBgqpQpX1GyuHNDeaWjY/CZrSDm57JEOiShqZOgunXdKulz9SVK2Sq16svA59+QRpe1UUBlOt2OayG2ZMojp3QY/WjW+ir55v1XZfXKlVK3fn3lyE62TjOpUmByMWvRSil183Acwls7YU4drrtcqIoULSFbxw8FCHyPc6Z+uAgFn9WzJXHFr1gor5HweldggVojpa/sjZZCESi8DHbKb+vCXr7jQ7pQ7Z37tWz9+jmp/p9R3h3yLB5UtNgzc4xsGfeMVOjypES27AyuBbvlYCgJMGEBUW4R4LJmZA/JwrlK1JW9dLd9aMMCyUzcLWmx62TtW30krFZLBZCk9Qtl3ai+WLi/0oVYuTZFWIwdgMqmTwdLwsqZUvaae3DNB/V/AvDcJnWx0JM+pMe+uV+hvFYSc/Ng/VTNOgA1CaQ0xIKembBT+1wSoMKz2N3TP1COsvo9oyQ9PlZWv9FL/MGlxfCMC9d38j7q50Iv6AfL0bIAfrGT3pC4yW9i8e6hnMa+PyfI6te6S6PnflXuk8B6aO08gGgXObT+Tz1fOrhmDs4zB0jS5iWStn+7BFfAWACt/AD4PEfle8wBLdnm9AOxCioE/ZhbHsFZZHld9ElXBWz8O7xlmba7ZKPrJaxmS9k5ZZRy2VXuGKEbB9LYF8Afc9NgAM962T7hJQmOqa194E6Eiz2xgInjkX0lVx9W8zKJm/K2xACAyX0RgPf+MQ7nr/1A02KSBSDiuGF+bg4Oop+7Z3wkabu30MO6hFZtqpuD4PJ1JLhcLd14mDGrlZGO3OymHdbxoWLobHDS6DtpSa41M3GPbiSY13rEzSmjnZmJu+TvZ6/V64F4lqAe0bi9ZOOdmcT+8En2tWTj6+S7nydL3/4DUK917WTnn6mbnxaNYPfKdkLhZMnSZTLgwYESFPeXPH1FBWldtTo299YRicsFWzzW72mR8+WMU8A9H30wDrfEp8jn87+TG6+cJHc/9JQMfhCbGTNfbQzP6bTBdUnrSyR+d29ZsXCe3P/Mszo2DyXy/ISv2eJsivj7ys5tm6GI8gfEhVlS75KWUq/ppVKvWUspHlEKWo++kp5qDYs8gxBl6AKASWk/UPTlbprXufvVWqwBTGClLV6VWnVl4AtvStNWV8n+vXHyxlOD5H/395QvZ68Gtxj4j8DmnxCHxGX7s9HHEpGhAOXKsnDhAqmD+GG6wJxkIhjS5m3d2tWSnBMgZaKreZQuWIyHRqAPFydyQ2Wv/Y8udBW6gYs5tE8CI6LBKbTDQpWkiwEXX2qqlWh4raTt2oBD+7Eq4uFuncojOVh0uYh7EvtCuuJvB7iWJHAENfq/LyUaXasLdzYWqlRwEEwEpNAaLSR+1k96XtTwud+kGDgHXs9M2K3iqNWv95CQKk2k7uPfKzdHzcYVL3bURTSi8Q3W4ov3Sa6MyiEJy6dLLZwdRoJb4cIaWrmRbBj9oCRvXSqhWNjJTbHfdR/5RkWqafu2ycHVf2g/ucEJqdRAd/RUTKjWfRRAHpGd0Z7gcjVl0yeDpUrvEeAoJ0s2uIVKAHddZCnuxDNsU/kODyo99J1isWZ7dwNky9/ymFTq/qy2iYoRK17oKPFLp0vMDf0Bou0k4e8ZkgGRVfLmZeBM7pYknGlmJcdDqWKFBESUkyBw4qRJ2r6t7nF7VILKVNM6cqBYEwmOrOb9oy0NWYgNqUTBd6yzCXUyVQTXGI33TcCj+DFp4186JhKW/QLOMlmaDJ0uwdHV9ZnVr3bD+dYWPGudXdrnlzVecQwArisK55Q7p7wj+3EeVqHTw7Jj4lso00/FhtnoO+tWACE35Aajg5ASUCJAWher0lg3GTzrJHjnHMmwJqb2ksl8olV4DyCu55p1TofreP8mq24qUD83A+QsK3Z9RsIbwt8ngHfbhBdl3bv9pOkrC8W/OESaAB+zqWZZFMWHVGwgWxaNwbl+MtaXEOs9GmR3t+h4H4ZOZsEkuE2bMVP+27en/KdWDoy9L9H1JzkDUgIPpPH7GU4KztY8PFkelFTUddFM4DPYJH1DOhitT9ZxvD7/n72rAMy6Wt8vsO4mBgPG6EZAShApAVFQESSkRSmvXSAGiAkGorQKNgjYiigWKiLdDaMZrDe2Ef/nec/vfPs2NqSu1/u/Ozq+7/vF6XOe83b+5/nw+bajwGo7hbFPSoX4ylPdakv3+OMy6tl7NDrEtNdeRvWMiMeOYR5MKTDTwi96ZKSdkhRQWTzZHT2YpEogbISVv1EulZKYpdTatd1vkw0rfpM1f/wk70+bJC8+OlJKliknlWvVl47d+0qdxk3lRGaWgpkuJqwDP1AJlNsdP3oESiOmMxOPHUE5UGgJpL0LAAWAwJMgr6WnZkvbrj10rdAYtEYDnCj9Z8ndt3aQzWv+lIYt28DEALKsf0NydShO5jRXCI0oCQG1UW65EICziyoBwu1sr2DtD5Wj8PTtnEzg4RpssWRsuPfLgW+my463H9INzzeivJTpcDtANltP4XyPJ37dHNEpO+Y8CLlIpm5GXsERkh6/SVJ3r9E5yz9Xwg9SRKewYZIlV6rNAGzo14PVtgdAGgYA+kYpMJuufG2rUhpeIVESVLmRnADgsK5kZZGiyE7YL/4VaoNaQpn7NmPTKquaiaTkTuMkb9h1bB82XAAoU3C1pgBrKNUgBSJPz4BwVXwJUdlQjlINXMUE2wOgvOIXvmCqA4BrNmu/yp+8wqKx2dVWUGF7AuNA1aMfTmMDPpWeaID2qbx+Uz2DoiDvTBVvADOpSmWzY6NlXwTXaK4UYDYOBn5QevDF4SPr8C6tR1DlxjoWBLcTR3eDffmwZKB/k9b/IGl71khIrVYKDukHt8m6pzrZrlPQD6p8pbLwgqs10YNIdjL7EuVzHfAgp3XIwWEhSqmkbBxi2B6y65K3/Kp58bDCDd8PwJ+JOnlBvhVUrQXGYo/ZJfNtRcybVC0mq5pDRLXoYbROMX8Sli+SsCs66eEkBwbtVsOZcjqOT+SVN+Cw1BZt/RNjuFwPBWSNEuACyteWiCbdlIVLsFFlIRzGtC8B1mSnZicdcrWf+XHulgBb1B5oMXgqAyQVGFb7GuR1DfLKUuWpKmBPrn6sjc6dqOa34GBAEwMOAdcdmsrDT3hpOXrqjBw5fFAqVKqih9oLSXa9Wln4j7/8KsP63izPtguX6+vHyNEUmI5gjVCMwG41h4VzbfUXUnrus8zXC+xVbw9wuLJ5qNepVmjiGg7yhOgClcs+Sdb6OR4uNJe85buDvR/q4gnOGmVhp1CZLJRxEv1cEIiw7j7QKvVC3UvoXEOd8KzWy2nEhfabHRcqI+Ygr6PQ2ahcKlg+HdZYes+YJkOGnZGZU6cou5LpUnUuPHQTA4gxIwKMWQhmMrk3ogQ6pmyFcImr3llu7ttZUqBxffRAumxeu0I1Hvfv3i5XtGgOgDPbLNufdSJbYuIqSRBcfy1e8C5Yoe1QVgl5e/IHmPweYG/WAVhhowsNFmCgJB6jMgOB9qDK3AJDKHAX2QmZH1mTgcEhKg881wQ5jzE/5yMuIEMzWMdsbIxMruvnfNvcZL/xj9Quzu9YPzzzkMWTO1kp3+AzpMJiwKJjOgUNtPUTb5WMQzukzuiFuA92Hxa7FzZFz+BgsLuWQ/V/rdR97AvIcdpjoxbIhYZJEtiIRmPRVg6bKoqi0J5UYVWw87bPeVi2vD5U4vq/gPeyFCAbTPhZXyCVQWDzBBWUlXhE2XRBVRrrWGQl7FN5lk9UDGQv63Vj9i1dCZvmcX2O7CallMiixBxSeR/to5AS1/+oMhleJ7WVk3ZM2XYELlUw4R8m+imysAHAkVeakE3ccVSbDxtkNswPUravBKsTYIy8U6BuTupB7bCwqbN9ZJN6gX3LjeokWHE5kOOo1ijNIni4AAiwjnyeYBVWp634RlYExbgUMrItyHswqKB0UGeVxBvt3P/VG0pVcqMnJXtw6dugmreDVXmXUpT+0AB09R3y9gGFohqakGnZpEo8DiDZw6IdflUowdiS2rSG6DrOIaWUzZe+b6MExNTSvkxa/73OAU76M+SqcId0S5xDnJukxCIh5zwMWVj8Z2DfYg6RTXs6y5ji5N+IeBAhRepXugKo45vQfmxcYEVTvkbWLbkExcBGLQZtWCY9VZMaCy+DMY+F+cN8sDQHiBdU+/d+8rKCZhAOH7SJIwVIuzfOFb6ZBTD0hLyOfcoxJyuWMjmOB8eGbbOJXxVIcZDgITMH4bvy1929/QV9t89bscJeKJgM7d9Hnrg6VLrUKysHkzLgMQUKSMpiZp/myn0Kyq+wa3ZPsGNgR4at4XdSy4E+JWTBumPyyo/75IN+NSXIG1wqcrScNruPptkTRLrOXC/tqobKyKuiJfkEWMqXAHKu+YGCfLCH/7Y7RSZ8C3ny4XRpFRcqo9vFSLkQb8nCvkrQy30e4IbndxzLlPHf7JGfdyVL7dIB8mj7GGkQHSgnAHLoQn3+QpJ9nn3HZnFvSD+RgwNACXl3SBPp8toMeb5adbn/7pEukLuQ/PM/66GbLDa4E5mONhx+c2LZipzC4vKHDG7p54vAxvxJ3+c1KqF4QrnE08sbMrUYCS9ZRuVqHCQmLmo6Dw4OC5Wutw2VyU/chw0/G/K7AFkE11g9br8bLMDymATZAL8PZe+OLTLkgUflUPwheWrkbeIbEKDywONHDuH+e9L0mk4q76Md3CUSyfn7IM9v0+7cCZ/bngsbSKcT0A/KiHL1iy2Mm5YHQGXLG8NAoe1VaoisW1IMlHPxeOkN9fb0PWtl6/SRupGT3UR5zPY3H1DVbFJSyWAzeeKkT4qomPgqlaB+FTnxsHlw4/HHRl3nEYzf+C4KcpVue1ZBiJScTmiURRsxKlcc+HaGrJvQVSJwwudmmrJrlVQbOgVKBSNlzRMdNA+yM1O3/6lsOypl6AaFzZgsOp7YSQnRNmrLlNtRvx+1yYfhkokKNIEV6ulmTPAhFaabP0ExIEw18pgIuMhU20KFlN0fPQVW4c/63OEfYPbQZoAqxEQ07qpmENtm3q3UFTft9PiNaFuIVB7ykrLZWNYZ/HEzJcuRVCJZfjw0JPzxico1w+p1wIabpOYE/tHVUcZclYEVhx1bYKWGkN1NEh+AH+VOqoEKpQ7/ctVNXdHHZ7A5UHNTtU0xrnaT4CcPGcbInP1MDVZj28l7OkZoK2VZZDNGgOKigs/a8TdIJMwtMgAypO4CytXUd4tjI+ZMck9mvoI6RL5+YGuG1+8gu94ZLaWu6a+UIMeD73DzYqLNqgcosCSMC1mizE7rrAcKaFTi4OAFKo7gx/7moYxvmnmCzRbvlmk7UMd2/fPdAe4ADMh3w1F3UqbMMGn9UhxufsDceFTrRcUmjgFZ0uRKJPy+AHOyFuZRU9Nn+pZJpj34jg1Zvzv9dKEHTD7PP3JPHh7zuLSPOC63NK4vh5IzlIJxHyOn6Av60Po4fUPKhv3rA0qH9ebm7w1wOEWABpVSIcxHbqobqeWypX6g0EgJ8acnKKSTeI6UlA4R8rquZrhUifTVZ2y/WNDmJ58vLHG0CN7u/UVKzd+zhGw6kiF95m6S2Ahf6XVFSVm0PkF64/fXQ+solcbn+D73K9Y1+cRJ6T1nk7ajN57/eWey9MHvL4fWlgpQxslEnXl0d41ZYZUq4Lp9h21mfbMwL/1Rh8m31JC+0LDv0vlaqVo5TrGpIHu5ArIs8JIHw8UEBAZJ+bhqBQ46F5YPTiEb/vxNFs2ZptQeFUXYCRwMbkBcNASsVp3ag8WIDcBhUfIzLTlTbh4IwTcW0PtTJwodOg+6b6z0uvMB3EuVyFIBCpx/wCRg6EOjYegdIl37DZWPZryC6z/Dji5IBtzzmHQfBETHguMMupgOLbD1hV4sfAIV+kphN+xCzX8fmzFZc2XaDwbFMFVPxDzVRzW/GZp6d4EFdFRtt8pceyfYTh8oaFHOQuWK7W/dL4dgcxYJDcrwvk/rhsF3OanJ4qI8jpsTbZbIhjObX1WpO/pzVWKgMgI1I6nGzpaaSY3FBhZTzbvnyr5PJ0Hj7XOVaZWEFiU3Oyom1LjnHd2AD333luZb/e45EgIwprsxsjF9S8cpm45jREqR1NqRZR/poie4xEAbUdXYyZqLiNbylPLDLOcmy4MTE0/1NJLm3AqufpVEgl1GFiZZtdTei4GSC0GDIFUD9Y1HfY+AxcY+oOwmqnl3BTu2jFQZKQey2sp2HqWb+4FvZyoFoVqUNz6kbTsNyozlhoCypRakbr4K1g3VZiu0dmtl953OInvcUJ22rqQ2eBL1BWWj2qy2TfikAoxPFA9yRtvR9BG1IdEpuEZtR5+oWOpJiycOPLUfnKealpQXRrW8VUpB5peGg0QJgKqaMzAVzzc/dWdEwloOb9AJikcfGmqY/co1SjacTWhjMRxKM3A4OvT9WzoW7Hu7nklV8rDCw0NU8x4KkDxQ6prjnEW/8fBDUI5fNAlsxl+lNACP8+kU+obgSM1NHhJ4+CFolmmNOffVFHVCQMq7FH6XxTiSqjZmDXYb59hf+vpmHtwYKQf/4edlsuHbD2XBgBpyPA3iExR1qeDGrtT+QDnkdXkhU4LOjgTkj64uC87TvqQspYBC/TykUriPxIBK8sZzZD3uSTwh0fidAZblUSi0hcD2NyoQGuawU2W+3epEKHWpAOd0Da8TSL1QQFQgFXlYidxhtd9Yj+PpjrkNLioVi09Sge/9eRjgWkLm968pFQFy3WpHSKepa+WrzcelR/0oyCOxv2qzCNYl5MPVRyUe4qnvR9SV5pVCZMuhdLl68mp5f+VRGd2+POasOURcyn5sgZgUbRoAtWa5ELmh/D4Z9/QzMhe2kJeSt47TD3uzUQZU2sGezAGPvKAJxhM+5WieXmx9vo51fudgsKyXEWZs87Gf3nhf9xwk9DlYjiiLX/C+ty/4+hj8jHTDTrHPcmCYPbkYWVnGfdilNtjU4Nz/cnEEh/rLS489LFUjfWTMY2NVC8sGWjz328amg89+vuhjGfjM21L5zuk0/uF6yDNg7Bu1Q+IG6cxkApPaeSklAH+Z2NjMBsVNNV03fWtHxd6xNlyqaML8aIPFxYA8+J7apTm2VNxQ+C7Zokx2ofN57Wt0tD4DtXfD++cGaagOBUxQTRxEw3Kj8hDqipO5yYv2XUa2xuvUptO2OZurUi8Aad5jMnZ43EvJrjx7peq80frDroysTHyyA7U+jl0e22/bxDox8T21bUO9mC/bqxs4rjEftTPDsyxSnwXVaeugZbI8bvraZ8ZMhqDN+qsnmPzz3xSqfZ5bllF3duWH8nQ8WC77iHlzUiOZ9uXep9cTXwAiFVdOHNolqx67RinmGne9bfraOTzqy0icUwrOqBvlZ9tm/AtU329S7/GvDRhrW/P2rxlnbx2fwhLzI1XqmpfsG84Sp99y5wIpU8wD15hwbL30oHMSBzgdA50HHEezonUuuOb42WPPKznYZA+91E0WfzhTKsPhAzfq85XHWHkdn+83+A6J2/2x3NexhhxJASXvsPvy90lh/VDYdY6tBZykzJNyz8Lt8sUmmkeI9GwQKesgvrmpboQ81qGCvPHLfnl6cbz8OLKepOeckm4zN8jVcSHy3dZE2Q0AKQuwe7lbJb2WAZC79o21cj2ouIfbwTg9I0cdULMsAuS+5Gx5B0BlejK3dvZ3uJ+n9G9cSp93TwSQztPWSf1y/vLC9ZUkEXUO8C4hXWfAyw4ozOk9qsgxACOpqdMA1kCA7qD3oCwGs673+1WH/PCUhMKG+a6Ptysl+CWovhNoC9Ol9qWtJ3UxCOAJOIj0nbdP5n2/UmJjovO040J/eOzaskHialEWlqZUFivLwbMV1+/oPar6g52vC7mgpBPZede1KAhgzrXMDMdND17Whe88b/I2hrlWk4pKJK59xCmPH1aWYetWUD3+W67ZPuDGAG0a7WNttGmc05dgfQHU9J65gc0Rkwqbct7n9SV9R+VO/MV+56Z8mgCEewAmvaeAkgsGOlYYD+1vZyM+O39WgPJCI48prK5U0zf1MGzHPHU3BWi9mCw1YueMXkRyn0Om/mBJu/oFD+TpIwMMrvoyAztx0BYDYG51AqhonbSg3GftvNKyCYYqd9UJp0BE6s++5F7fPHXHc2f4nAModnw1P2cNMa/cPjL9YKknpfB8fJUyJ/VMuSe1aclapd0izTU2vACNVK24rY6pXzSofGpCboFmImV4Ve98XZ9jsRTm27rwLfPd9BtZxIWnvOvZNS5O+faQlNuP5nnmR/BysZ85t5Qtixu26s73f9d6Zl05zTJxKN7y+xIZcFVJyUD0ECtjKrzN539HxxSJrLyXftgnXwLcXgJIVYRP2+m/HpDNhzOUMiN7j2zIADjHYJ34fDYony83HZeH2paTuHBfuf+TnfIM5GJXxcJGFHmShUnFlLzjZt49DCW8l5ZCLo4H3TmVfI81qgzW5oArweq36wTX2B9kPyZA36FkIA4fOq9F2ZaUER5J4+HL9Jk2CplRtHIkLUciAzyV3ZoG6o6UaoS/pxxBHZiBTmu36ajvXmRiWwnCWeib8uF+UjnwtHz99Tdy55ABF5mjec1DVXD1dGQ0H21udkJzUVKzkobgpGzoZd90Rt6Fw/dci9oOPlT6+T6VLSx4sSxSi6pZiA6iXI7v6X0HECnX4+md71LIbMtjGfz+/yHZdijY2Cbla5o+c1Z7ec3pgQK6wr1/zPfchyywuY+xfufktlmeoz556lJQXV25OOPkXvcCn3fmDCk1NcQ2VGhu3/Alt/biF6GYVCo/LZXrVmxu3zjtcr9wVn86dcozbzEXlULGfCfVR+1e+57d1EzWrpcdqo+sPVImaIN2qVkfyESpaFLehgrMZR85Xa6bhVKiuEB3V76QBdLgnhqXJVvcorI1shTJss6T2L94l6xgD7BGQ2q2Aku3GViIXVUZxqyhvCy/s/o2b45n/Tp7Pp3v2Jr+cc1B9/F3++6e/1mFX+QFM07FZeuO3VLiRJJUiqgIaoPyIrspu1fm4gphvZkLNRAXrEuQR9qVk+EtokGBnZJqJX3lz32pulnb9rnwBpTpKcyJe1uXkxF4nmzIe/D9mcV75DCAJioAbFtn/3TvG7IY08Alu6IcXCm+dHWhlT6F/A6lmD2TD9k5y7oqKILmIDBy6uBR3YOBW5pcddR6vIjOAAAgAElEQVRflNvyWUOp8nm+x99kw5onzOfl+Dd3XmINYaTigk/L5o1rLzlrj9IxNMA2AMTc8oOUjy/CWcCMIBNKKL5w8R8YAu8F0Gi0z7nXgJU019mBxeHyay+8gkB1OixMFVeYfP3hyy45GR5N0hRUQ8Lh3gnvkWVJv5hMKYnHJRvsUr4bAm3Kk6ifDbXD+/+ORaEFF6W/tQfsHKJj5lMnjusmXdCmzEq5FirmirovA7eBMkYegi5lPrjPd67zYnBnRr+alE9SyYQUlGHD5m5Wdp6zXmR50vyA8lSy4qi4ozJQAiXqWpzREKBYcTIJqvpQsadyj20L3+c6ofySJho5oIDZBxVo90jqG22jDRvzp/1djbvfKXB8VJEEZVIeSXal+pDkjvQ/mti/xSGnPHLkKNh6MFcBJZWUZSiEy9kv7GFuawTP0kFwSgDEOAYqyR/UWiTCcJ2kZmKeMTDg5gvKiZQU2X8EDB9QbEQcUnuqlFbA2PFeADQwV+1Lk8HvQ8MVhTs4qCWwLtxhK4R5y7u31dC8bGJ/kDUbHewtO6EVyXdp3J6efRLswGypXzbQgCqeI4MIu7jO0ZhQb9lyJNMoxOB5UoF7IT8sBxmj9uNlnmK6ZjTTYhIMcVj8cWNu5GrIRXwpTurKfcHa7yyMlNTX89+RvtfUkRuviIFnkfrq5Z/Xyed2X6j8zj9SeX4Id/MLfDne3LiiPPfAUNXCZDl8b8knH8nQ65pK1/pl5fq6pWXcqH4wC9iHdzzUmPzxYb3lJrzXrUE56d4kVl4f/zAWPlkpZ1OMF9Heolf+xh6wc4JFcrNWjUJl2Rn5HSmw4l5+6i3kzweawjbN2IYZ+Zcj4yNV57D5FMxA6awHq2433JtRo8/K9C62Wa657+TN6AUrH24hy/9VV1aNbm2UbSjHc5vvpl2mLknwVLLmyU54vo6suK8RXIpB3kq7Md0kTsvuD8fL6rHt5I+768uej5+DypjJy7U7YaPYC8WdFQ9cKcvvqiN/PtgMCiazVauTRvdGlkqD6Rz1E1nQH91rkSXIewRnm9zX58X2z3/jewbEoPiBvYjjwM2c/X05wY19ixmqMitqPFIhg7K40gCubyFbWw+FDD8AndFMzKWSWAdSTHhdKSSr3UqqyLKVqYxpACwXpLjtk/ryRZ51yvgX+lc1iv5ic5PuyfjzBYheUyVEPl1/XDYchGkS5H5fbkyUlfvT5drqYZIFkKb8q1QQuXUGbDtUC5Ple1MhK0xSsFsZnwY543HpUC1U20BwvpxzTNciqs5/SW1TJnepyYMakFbr0VaW4OULP5Jb169WAGrbtad07jkAWpRT5YnhveWtJaulXGwVl1IJ32Pl+J63t5cciN8nC9+eKmUrwvUNasw/T3gSOBi/C+/3kXpNW8qwx56HScAumfjISDUdGDvlDbgB2y4pOOkOfWg83o2T5T8slncmPythEVFy26i7JemYI7Tm6Belf3wP2A1FgQlsOk9EquD0VX+HoHxoDkCKIxgmEnXGfA7qByFxoLBAt1nU/CSbkNQNqROq0WM7UAWNavDIQhmVuyspOwcVfBxFloI6SGeOw4638531IzVIN1pbp42QSGiyqr/Ib2fDx+PtsHn7SU0IrPkF3ysORZyTKcdk00v9ofJeU2o+MA/+ML+VnXMeAbUVB48xHVSGlgTXa3TdlbiBJhwO64gLGWXSIwy9zOyZ97SUhlNmhvWhiv0JsCep2Un7QHtMZl9SQeVcqRhkJe7pcm7o5yr3n3pP20/TCm5Al3nP0P1O9z1RdmPPtzdJvedXCJU8cjCvSwHoqDFJAKMJwDFQa6wH3+F3ayzNzTwblB4VPEx+8GgDoMyAUoeRlZktn7JUquVXgsxu/kCaYxScyDJNcNOi5FM0n6SGZo96UfLx2gTpOG2tAty2hEzpXCNMmlUMUrDdeCRdhs/bLnP7VFNKsCU0J9tVDZEBUDZ5GizUvVCIqV7ST00eaApBQL7M3ar0GzNVWu4ybPMe4VHwS3c8l+Vo1UqLA82/QVibUuXKa2ibsEg/qVrnCtm05g+l6u58dBzYikRYo6VlNhaYFPh5yfRnRsPou63s37Nd4rdvRkWppekle7dvUcfM/3ryJYCcGaTtG9fJTvidTD6ejXeugfPlawGGlMeJtL+xM0Ln/CJrfvtJStxzj46o3cj0R1H6R/eAbiwEA7Dm6KXjKHxuEnyock8/i9zEA+OukNNgz9HnJOPIUeZF04KAivVgtH0chu2rAC4VIX9qodQfVwANiMnKU+NumNIz6emPGw5YlzQfKCwRWGgMzpO9PZTpQsUKp4EzbQ8rD5gEkA1XQ29ScaxPhZsfhbKEUcrQEya4EXSijHOsmm74wzA7DO1KRX3pFSQUnjvY7jqj4bjcN1jWPo14aarJifXCfgHgsx00caASSdXhEwGgour9ZMHSd6QxFucGV5QuugfcNsnLvXcQgAgcpHQW31lHZvx6UNmN1J4cMX+7hIE1mgPwqghQ6lEfLtAwx2g60BMq+THQXKRKP+tEsOF9UlkU5VB9v26ZAAU+S+HxOX5nfjRBKCxxLrvbwXGOl8D+S/ZpJED3nb7VZeZvh2Tb0QzpDsC7rXFJZEXWKbTZUbfyoNQ8QfGSVUm25hvdq8ibyw8pJUfj80FNSqvyDBVlSBjbA1hh9bno65cB3Fi2xx3XXyvjpn+kih/uE4AdvXHVcqnf9GqAlg/kaYkSEhYiNa9oCtCh5wyzQegmhkRKMCDYX3788kvZAcAa+9pUeWTQbSpcJxLnwHN91boNJaJUtHw1b66ERt6DKAN7ZTVs4Dp0uxWyOU9Jg3uU09D6O5Fp1Kxzcjwhr0uCfR2cA5t9TDelovTf0QO6KMGSoyH7hom9JBOgxhRQsb6yI6Ou7KZAcAxeTrZMGyZXTFimEbDpMorgdQLOma2rL/oyLHc97OhABdFpNF12VRk0ySWPU0UpAAp9Wq55vANK4Tw5Gxxoy1YdviLVFICA6MwnAi8pONr1kboke5CUJP1vpm5bocCkR2EmvgelmJQdK9SInp7xCdA0Vg+tdbXaoZHqVNCluj1lZABnC8JKvYEyTYS7tBIICEoKcM1T8DkJw25GFygFp8eqSKOAbkwaTMFF/15oD3AW2DG+nHuHHo4wDwhYm6E2v/5gujzbJVZBYsyXu+RgSpY0jAmSVHgiaRQTKK0rhyoLk1oGL9xQCQoj8PMKKoipDsCsWYVgSYIdGEFvLEwLsoA4SsWRtMrXBmMwrpcLTa55rfszQA7Tl4BJyvLZ62NVI5LgnIL6cR1QIaZyhJ98fntt2ObluIzJKS98sE2MAjdBjcbfNF432rksPncNFVqZi7hxuXZ5j6DQsLOKp5DzDHxEpqUkw9A6AMoeOk1AfYEHDEWT+JTEPJOGVJ8HWJCpSaky59WnZSAMs8MivKFxaYCKNm45YC1FloqSe8a/Iv/q0V7mTn5Gy21yzbXSa9j9MEHIlQVSYzMwxE8eu3MAnB6Xku6D4c09OdeA/KwKF134R/aAUjoAOMqYcpKPSt3Hv4FGYFUYir+pERCoJahyOACTd0hpVTAhZWMovmNwwfWuxhHbAc8tB7+bjY3/NvVSQq8uRlkjv4IJgQdx6XC/MICj0shZp04scNp65kChIxByPUM5gTdBd2AAoiwYmJ/RjcYBOKwP/kflERpgq6IJWKp0L0a2I1mwRiOYnAjjZssOEPHUAiuVQWgmQtkcKdLiCNO0690x8LQCN1uILkCTDlKI5JIUpX9WD3AMzR/EL5gbU5cdkLsX7tBKUs1/wnWx6gKLtmKcNSegg0CQ4XcCCKe6pc7IwsyEhqTK4TBByK7kdONcIeBR3mUPRxcK0rmHKlMe8zuaSk1fA0w2b9bbUoek3Gw5lqWqc9YBSmSh6yU3GWoul6Vq2mkfuZT6uxVyUV89Jsx+F8CUy6LUhijow7gb7EQqh5x01F3BPdLfXtA0Y8odZAgxfb3k7ZcnSDnEbmvWtr0kHDU+HAl+WfA1Ro3IvTt3yuQn75err7tZWnbsKsnHEmTerFcBihPgrWQsWEAn4SmlOChGXyibDELInA3y/JxP9d0caNq52ytdVGuLXvp7e4AHJZTIKAFlELaFrEnGiVPvLMvmG81DUkZcbgQCpGLkTeMv+to71F8mvYnQowe9i2Qjnp5nIOICkrLBM+6LneBI6s47rLTK8wpNZFGqM2g3DgQBC38ENLXhUsqJ1JdRilGDdd3QFJ3MvMdXXj8Jx8pKreE/avpS2YPeO/g+W59nG9B3zcbFG4y8QC3JcHgCqdR7vD5rZHLjNcwNjb1V3Z/YWpT+UT2g8wU1og9HGmq/36+GUnGkhOLgJaRGaRyMHM8kFshsA+AkJE/ifZzLXMmyGMnSDIZSCak9o2F5cRMhzzpBWab8s/Pic/mpQ16j0gtmrdaPe36Qj8dZz9FOjgDJ5wmKpGQJ9AQ53uOnez3ydMC/8YdHi9L+smj1Aajo4xSqWkfaDCVBK1SG30PYIpw5jcoG+IN1eFr2QKYWh/hs1l8lK80/EGjyxQezNbjpZ+/OzFPlJlFesnRPlny36ENJhQnA2C/mwgGzN4AM7Cq4CZs0+i7pdtswsC0j1H/lo4Mh4N+7Uya9/6U6as6CiQJNCorSf3MPnL2gCmqNxjujCQDYBVS9J+vQ+KbkCZKLxCJE3rfVxyLU+tPgJmrVoy0LylqvFYfc78pX1itlaU1PtGYASH+4H0uDQ2miEPOiMXMmIgdQHkiKTOe6auQZDU+G7jkEl1T02EHKjZCWtnsdfC7CZRnaQPMH41DayKnt+2p0D4EbXaDRFCGkZksUaTy0hF9xrex+f6zxWoOyLFe00AYV3fiP9YCOJ0onVUQzgUoANv4myNEezl1+diGbO0GE75J9+P22JGlQNkBNHS4F5C5HJxG4yNpcuj0R5gXGoYQ9wDWEfR41MKnkQnZmPOSE9ObiCXRsVgF+b0GeWs7F5ajL+ebh8cikWeqCyr1wVTTBymrd+SZ5oN/1suid6dLl1oGy4M0psnHl7zL04fEAIgr1DaJz8Ehh3fvMFElCEFNuNv5BPvL+G1Ng75Yq/e+Gvz8cG4LDwiUB4S++QfSBq5E37d2+WfieBOG6p5cHKL1MeWpEPzkCs4FJ732NQKuBcN9FDytW7do060Imy/l2RNFz/4YewAThgg+peRXC0ExVCo5GywxaSq/19DHJjZ2nQ+M70jnl6WEGb2JeMRlgMAcczjk97oLy45y1yVJw9MVJpQ99Pw/9ZJ4sDu6DKctQcLxqwKu4hDfqgugMtylo0bE1o4in7VqN+HFPGAoT5am5APJmZGrGwaMG5L7PX0GU8Yc14nnC7wslbsALahNHB8M2f1ed+T6qzWjqjNbtE14ODqBf1Kji5FDseucx+KQspaFy1Gjc2URtO4s+L38P2HnEecaDO9Xqmfjbnb3Gqxg+pcsJbYalaJ4jm5GUirIhnTMYCX5SYaRejPKefcfMawIG8+OZyeZrQNFQQPuTs+T2D7bIvAE1IccLkjSw0Mi6tPVTyk+XicmP7QAR5aqfZYO6t8/u8+5rp7AeZb7uuECA9QfQjoWMcc2BXM9UfH92zyrSuWaE+PoUlxe+j5dZUGQ5AIPzUN8S8tOo+hKOmKHUKrVRFAor83Jf9+jUowcUOfKyKEktnUg/IY2ubifd+g+T5+4fKs/ddzvWaAnpOfQeqdu4BeoBQ8oD8dLrquoyZeGPiLbdQlq074SouYaDFAkxyBcffACqMEd6Deklu3amS+vrussPXy6UCfcM1j+mgKAQuQtalaXKhsv8t+bK0i8+1uu0zbDpqg43yITZCzTigW52zoC6Hij68o/sAW4DZPnFwDN/6rY/oPzRTutJt1J+ZauqAoYBpiyNz2ZtzWj0fDrH+CUlyHGjN/eNb0hqV9L42cWyRp66GEHtUTZXut2gwvsDOwmDn3L+uhYwdgI6CqbCS6nW/WT7jLv0j6BE586MjkB1cyrL0EauzmNfqmkDHU7TofAeqPrv+/RlLZOOiCOb3Kgq/qRE1z/fU1I2/eSqD51CR0C5puodU1B+CZW1McLD8pE19Bk6a67U71nEwSttWLhFnAtX3/27vrgDBG3X6KORwEHNw1RH8YPzkCw3f2h4c5Mm1cZQNjTm5lyiN/5wKMpRMcQf71MuR+fFBL1A/Gae+g4UTfjJRAUVlsd36DKL+fIdBmElsBAcI+Aqy4b14VvMm4bkrB9V9a2SCPPjc2Fw7kw2I8GIrE0aobvvl/lB61x96g5ufM7m441+GNGijDzRsYKRJ6LevKZRFDzhSB0oPwz30xG8et7ao3yRXZSnHucq93Le86BtmbsdnGuwsRHAx4Lc9cQkAFcXsAx3qW0atSrJ2smBLC44LELuA9VWOqYivKGcBCvR+FQkmykzw0NuHjRCHTjHxxu0pxeT8dNgSLtsqVJpXmBDVYNmZcWqNWH/li016zeWhyfB0zvcc/HEQ8qNn8yfLsLO19nq5eygorwuvgd0MQHg6Eqq3tgvhUbRMObSaNVrEHbHG1HLKe9iCKC4/i8CnAIVFBjHjOw/2p3xOOwHll/cgBdV/Z/2cTE3PQibOnjHcdxRsYaukynmZjYUWgpLetYFaORf6GqrR8BB2Qz9kgUwY9wzhi5Suzo4y6Yz47j+z2uIGOssuOx1oxDqqIm60vIE9RjKsD2wkTsDFiQBuGzHOyT7yusN1UmqErJG5st2UcGErrXqjv5MkhA5nMd4am36x9SA7JGutvK6zyusTUXXL60HOHcIHgScH3ckyTwYbacAHGqX8kdYmSgFDabvtyXKIrjlOgRfjPQ5OaRpaTWAJl7tOZ4lc1fsketrRcinG44hskCm3NogSm5EZADann2w6qiUCfaSO5qVwafx2LQiPlUWbzkunWqEyzsrDqt93C31IlUdn6DAeilFpiQhFPwAIou3JCK/o6qd2SI2WPo2LKniJFKOB7CHPg2fljsTTmh0AkYIqBvtr1qPnPfuQKeU3zm6jW0yMHz2Q6Q2CWiMlMC8aXxOkCaopuBAQHALA9hP/C7e2Ptp2finsAzPLuKyXfFg+Bub7KLnbz1ZsyVILdrTNo2q/iLpacbxLOUi/pCf9Rp2J8Le4FQCwKOpgU1UTKGyCTsyFer/JTACDLNDMG3VqTPYorrGNUDqiUxzWo+uECdValUxWbj1PrifCMPjnOhdJRR9+cf3AAaYGoYM4Lr/88kAjo4aDJPxwegKK7gaQu1AiUQDb5atrtqHnBQMd6Mx49SDDRYTWHalwDI8CaqNDqMjGnZWBRBSXaq+j2QXLz8JkueT8sx3ZXma+U7DbI0MAIURyteYziA8PanD6E4jlAJUtX9cN8Fjm4P6a2PqpBqUxt6NG1ME2J40cndPNl9dY3Bg7Y2AqWXagqOBDCn3O82oEQ7llv8UfT7tKnrmwnqAGzMVJ+iBpP+7m5USI9XF4KD05k+NyI1wnjwKtm0ENAINwem3PSnydu9qsB3zgXF2jsz8/aB8sfG4egRJARW2DEFCl25P0j/KoL5GWBq6ypp1azV1dEx7ttd/PiALERCV76ThnU/WH5OXb4yTgXCYrCDDgxCaQ+qRrL+xX+3RWGyUczHfP1GPaYgEQEfKA2GQHQ+2ZulAb7AQ02Qt/t7sVU0dJNNEgBRiNjTbSwNge761CeUmFNpRj3UoLw+3jYFfyyxQp1Y8YA4CBNOJ3++T137ar7LBoQD6wU3LKKuVMmNSlZbK1TWGUv4D2KZtO2snsBuF60SMDk5NgrAfnzSGdXfKTFnbscOpGiPO/UTMZ3mqSEuh53aQ2m42R7yXkpimsb8IoDaSODeqbMglaAPHTY73LMDyfWunx0rbsjR+mNYLtKbbqdw+oy0sSv+xHuCkJiB50TMJNvKNE3trXRg8tOrw6UrBaUgWXFPja2dTJwuSMjZV6HDyOO3c59irOyoeCfGMhrrRsb84IXZB851alkbOgvJRB9czSh0iVIkr9Asqh0aSXUrQU5UDbQPextrgXKeBOy7i/9wTm7GpM5sGnyXIE9i0HKdd1j2ZdoDuHLkOFcz8p6KLHu/Ne0XzX7vqYhLnKZUndoLqovbfz6Pqqb9FghFjtzHEDRUoRiDCdjw0zkm18PriLUmyHCBXA949yJbjcDBY6bhOFdV7CT2GzF+ToJ5HWiMUzrw1R6UvAozuOJqptnFkW2aCEBgM4+lRLcuCxXdKhn20TZ5bshdeRyKV5Wht7XbDGQdB5WnkPapVtPgCdL4G9df/nc1woZWqhuMbAMKzbq0qfRAu5ziozDX70xQ42T6r8OKBuUQ2aL9GJTU8D6cbppArcZbyZz1QfmSv8nkm3dPxycMAvalULxkAKtZH1h5Mkye/2SupMHN4vEN5teUja5V/dt0wz9zZ7yrqb/lyFsDZUl2VQw+4U3nuteIz7lSb+zt8rrBIrAQ1yt7gx1k7Nz2VlBw1Jc0iJlj5wVmphu5Cz+CWZDiUoy5uzKQScFsUAjYBvRdBN0WNxN1B+W/pvaJCztkDGlOOYwU3WFWGTpbYPk8plUMPJiVADWnMNo45cqEKvp0/GNw8+ep1t2suI23MEzo3JsBo9G8+d5Epz9xFWQXlxGfyU2P6HuPVSe4pl+YDJbwDjGsttJ9uxkxU79zNgq9xHqv9Gya6OnjmgQ1JtUhhr0dNTyZSqmosjrWi8x+UJu+RGta+ABuYNnWWcrzILviffY1AQgPm6+FBZP3hdBmFmGdU/a8NDfProThB+dryPckyaWm8UlNkZZLC88Z1yp0IHgQ0UkoMVsprzJOG0wTKhgCzg1C4qFEKQIh3U8HOo3Yh2Xq0lbsB5SaCAgyAfK8PImcTCHmPlBKZiwydQ4WNJFBGE8CCfPjzXTpWBGXKCdfBPKEFQu2Q6noLXkcYebsMAPlmgGSoH0AUcjir3MF5R03HigjCylA4Og8LADiyGCkrdF9SJFrSAWRPAmRJ8bIf2M4Qn22yEGzY4WBNUj5IuR+BkODMPZnf+cfvzNDu03/HhCsU4C534WZhmp70RBidH774RJYt+Vypu7Zdb5W6V7YAkKWrRmcGEG/JJ58jivjvSuk1uqqtXHXtDYaqw8mYwVePQRtzzquz5ABkg/WaXCXtuvXSxU+qMs+oXO6GFOV33j2gFI1u5MbgXw2wOcExRqToLIV2oRNenwe4nUxPhBH5i6qN6QebMfUV6Zw4z7uSl+lBXbxIrFfG/q1ybNXXcuLILvGEYXpEk66INF5P5Ydsv64F9AGjlh+C0gkVcKI7DVONSvYVjeIPfT9H0hH8lNReWL32YIG21sMB79MPJ43BGSGb7r78EEmd0bc9A0PVNMGWcZma9v8+G44HN2AC1FS4ptoMD/rUYJz6ywH5DPK0hYNqqbsqutz6bnhd8cfmnkrHyo8tUxmZ3dtItZC641zgbLDKJGofhiv0BMLEu5wuDGRKFij/6PuR7x8E5cVPo1hinjbq+dSIEA1mSvClRiILoUJJ4/LQsAQg3gefmH0gM9wGGdwPYF/eNGuDslArAMwIOgQ51iUSLMy+czcrS7aw9ECbcvIklEgOoh/IorRtJOCxn9hugjBBkn+sI9vOROANhtIMAZDgz8MA/1JAEV7oWi+sfud73cOyCfmCZQm6v8yG5TYuF315isxrzZ6vSLxnY8Ap8HDQ0St+AT4ya+LTMuO5MRJesrQC0ifvzJBHX5oN35O36ob41vhx0MB8C1ResJwAebZo7nTpPmikjHoC/vowyseOHJT7b+sie3dslVA4Yv4aZgcb/vxN7nv2DbXlQxZF6TL2gJ2Uuok7G7l2MuczMcxhD551j3Vwmz9Urc9NhhLnfb5nAULz5TvcErQss5D1PadMXuXcokxu/9fT1G2Xf9kaJrCmEaO5ns1TP5uXrbvmWfj8drVHC8+X9L1ctiipMZU3wt0WTQ1IUdEjy0n4ldz/1RtSbeQslR2ehHxN1cdh5J0Wv1F2zn1UnyEI+paqDJbmEdk6Y5SaJxQH5UtZ5cElsyTmxoek3A13K+WWChdhGyb2UcfT9MxyFEBHsKt5/4fi6Q+QUxlg0SrIP2SF/dZNH5s05WF/gN3XE8ohJcFBopzrs43H1K4tGgoiv0ImRxkbwXAagpqSmiHA2PXBHldWoNP3ZgxyFTx4T6e3zm2aEAAkADwPIODpv1qVVcru/k92qJIJI2qfBFvSA+/Qy0ltRBBoDEpwJcLldICGORVfdoGFSjs5Okzeg2cZOJVKMVUR3YAuuQjUe+AguRpYqMyDibLA4/CUQjlfJliv7kuB9+1vUmgM58PnmdhmUmd/7E2R2b8fkrZVQqUkqMRV+1PlmSXxUI6JgC2gl7I16allx7ETsgt1ouyPfRqJaDGMHO4NsPw7Qc6D3koYVJSJWo0ejgqqbi3oE8ZpI/DZBWPBzpNujCAoLSydBJlODUr7HjcAb18fid+1Sz6YNgnut0bJ3eNf1hPpE7B9m/7sGLmqw3XwkuIHaq2rUnVVajdQN2FTxo+W919/UU0UyseBDH95hsQD3GZ8uVzqNK4pc16ZIi88NFw63zpIatRvhDqD9VW0wAsbmgu+nnvAwYmM/trc5D1U9bde9mm0bPrdLBNVBAEb0kxosCLJcgMw2YClOI2oNiKBgJSXHpqwafMagU3Zl2QXkgVIVpwCrImwrVqPqAfle9z0jRYkVLhZB6XiuIkwP0aXdoL0QruRHvmNYgpAFXOSVJX7grNtpTcS9d7PMt3nkgPqtp6udcEyUZ6nf7BU7PmEmkL4RJZXzy1rx3WW+E8mgdLsylqhbmgr5v2e+ROkZKvecviHd0yd1L9rcSnTbohqnlLxhlqXW6aPlHhQqmXaDVb/mASzEqDi6jz1HUCxkiSuXSIbJ/WR46AaS7fpL2dge1qUzr8HOFvpFzIGVNRsUGrdZm7Ql+kE+dUbKwPITkGJorSsAMdo/AsAACAASURBVLjc8tZGvXdHs9JQPEl3ef3nAZ6sSX4qiGHOEDitdw/OZ84z+wypKYIOI3DH4c/m2xxG0U9cW0HzYF70SUlKkOYEExEx/BGwJztPW6d1oI1eR4AbQRbaggqYt3+4VacsiCdlGV4BI3GCjpXBsV6WWi1RnPObldXsTHJ+k41pWJT2Jim00xrHjgo0Wg7eoBTiZjiXHgP/mZTtkXJ7/Zf9Mn5xvCvLW97cCGqumPw4sh5ADvbO6Ke/yx7Og55K4mrUUcpnx6Z1MvXZR0ENLdfApjf0Hiw39h+u7rMspcdNg0bbCYcPSGLCUV377FBXYn/gdxDejyxdBvk64IiHCIjHjxyGPC1FbhowHK72TgH0SkiXngPl568XyabVfyKiwNVgV14FzyrYrICf/oiwEhNbVeWADLmTgdPB70u/lvbdekvV2jXBqsyQa7v3l/mzp8hPyKN+0yvlRAaQ+T/EqnLrif83X412odmaD373FiiSKertnh70Y7o9ADuxRgpM+7+cgs36XbUX4+Zertt9ElG/o1nYR/cglMxDoFRulKNw00Wv+6XhVLj8zY+oofS+LyZruJyKtz4Jg/Cr9Z2Urb/B2/7LEtX0RqXUso7uVUCg02X6pOQz6unEATsCTPxnryrFQ6qIKv4VbxkLpZZYjAVshnaslL3zn4a3knVaFgGD+TER7AzIYoPCZpEF58k5kIs50/mssSS7lUblqk3Jkzn++J2mBJGNr1fflGQ1+peprJG2U7b8ho3ErCOv4HDZ99nLWh61J/ej7VxISgUCrCMadlJQphsvOp2OhCZmwm8LtQ4K+nhG/XfSEwqAzieqPG7ANgrfzUNnVbfowjl6gK6xGC27dVyoNBwSpEFLyQHkZh2JCNukdKKDfeQDuOM6DFkYZWIEv4FQDiHr7Uh6NpQu/JWVSQCgXIzsOsrEuDUSyPhJudZ3w+upCj8VVwhInF+PtotR9iLt38pCw5EOjglKsWCJfjLY5En7ucqI6PIegpkeSM5WsKE2J8uz2+/cPtWVxUkXYbxXCt5VuEbcgcoe5vg+cLvQxHrlHmxp8G5s/2jiMBNaoOwHgjXZkNbsgdQa+7Fvw1JQtkHoK1SMIE1wZR+zrqyLBdtCC7+MNzweHnCjTP30F42c/cSIPqDifOA2a6gcPbxfvvvsI2nUqr1UrllXlUCYaA4QhqB6r497Sd6fOrHQqrS54RZ5Yc4HcvRQigITF/BJDGpYZEkokASCintJ7p0wGQomGfLZ+7MBXGkI25MAUIPgNiNTdm7ZLp+/N1sjf6/741cZPuZ5RCIoDY3OZARI3Q+j8ZsVPNUeLzQICicRaqtXvIQbu6vQ2hXduJAe4MbrCVZYworPZfub90Lec4t60E/dsQrssQ9hB3alAt7hnz+QoKpNJBwbPINvbp95j3jdHYVQN7Alw+afumsNXGltkjDIk7wjouEpZKYk68ZfTPNM3viz5l8XviS9KI/CJp8M2zlGIQitfQ287tdSMKDSReWBk8zBEwuI0FsMdiw0uGbAUXohIYAlbVgqG1/th/y+1MW65bUh6quydJuBCsJHfp0vIfD+71uyAgAJ3AZ0CoHFB8C1DWxCBj8tLJVqM1iq3vka2nkA/qFJQWI1OyCXQ1+XAFuPgFC0ea1GSyjf/RFtD1mT6WBN8qBQfeRs9AtcHjlAzXeYjMKIiY5wCizN+E9fUSBmfjQgp1/PjPhNsuH5W+AWrIqkbl8OE4xrlQWqMeQApEXp/HuACk6kRLhhExiogKHjgM2Y1BtlYty8qSlJkOGmzdhs1CIkNaTuqbDRkxKjnE3FMXi/DACGk8pEDTCahVWifFUeRo8pBFGyOVluDJRRTp6Gz13kRf+WBAHKsmyenF58j4oeNFXgfXo0sREJbGsJkJzrSv0hXwtUllRzcRzwDO/9VbLPW486liKlHJB1sOWwvfobjQoB+5QHA/fEHiGr151b8ldlX477HrRP++HLBXLrHcO08KZtO8EV11iAUglJJ0rDRo2sRmtkzbhuSRBiDrhnjPQefn+hdSALMwmqtFbLkidPsg7LxVaUW4bcJTNfeFy+Xfg+AMlDYipVQaidEL3PgSgBe7pEuPyib0ujNEKPJ8HmNI2epOKJNU3gTCKxxvxP0hs0Ru18Bq7QihfdKLAHOIGZSLlEdxyuLDiqy1NtnhqCNMIu2bIXNvNPJQdGy7QfIxWVihA0YfXaOdQRHNN2vBNU1WgMGw2db9Vo3vWeXCyBAK/UnWvlz4eawWh6qzoaVrYkAKD8LWNAbQ1Sai2gQh24sxoj5SGTUpYn7NOotZidsE8OfDtTr5eEc2bOgrD67SAP668svEh4D+HEoDsuGmdz3hGIlIVJKsyh+BlJgJRXbJ8JYDU+XmBf8CJZmAx4aiMP8BrnnWFQgX3kEwjQT4BpRC/1blKyZW/VpvSABuk+UJl0OB3RuBkAfLOWQcqPGpVZmTCtwSamLFKstc2TB6psLxbuwlQTE8+SPVkMFFwyADxl+wqV0wXFwduKskkxUvzDZlOUzrcHOLvNhq+AReRxEoGPyW7m9DHJxMsEJtvVCno5uexJPkOgYrIUC/dXPqNDhOuk/siipEIJNR1zcJAkpWSfz58nrzOPE46yCvNmPVwgpPdMmSyDybTMUE18161pep/TxL1+tm68x7ZbKs6VVyF1MEcqUyhB/sQZRyOY7dGCTF21fBRiy/13A57H/j07ASaHARjF5PHX3pGPZr0ij9/Zn1WSZu2uU3+UpJLseuFp3guRA9atWC1rl/9sNi5cs8l2SJVa9aR52w6gwOBwFrxGHRwswBOZ2TLo3rFSpU4DWbb4c4mtWlVKl4uT8XcPhMJIJNqOkwmAqh7YlF/Dap/fFyA6+HMP3iEVqsDjRc3aEhgcKolHjmDDM7MvMwMuaTIyIJ+rhv0O5djKumpV9OVSeoCyrlNQmgiDK6sKPR6DPGiibr7qFqvNAAQGrQNqaB5CvYyF8XYzdU5MIGTgz9PwAKInSkchIjCuAdxuJWADB8sZ8iSVVYWVRRy3vRoLTiN1O9G8KdvzCovG5n0F4q0dVMCjcThBiV72CVLU2CDQMnTNGby3+4Mn9M89UQ5Gs4Sqw6YhVA+jdA/RlR3Z6DoJrdte83Ob4BpFnMCbtns1rhM0cuc3lj2yPq2KLSHwWnIGFBbZg5xyXKwE4RIIuZN5eJesf+YmDYJasdeTWj9PUGCkKhOWL4RySBDA6wEolcDYFuti32evIBbcjfCE0lrrQ/PeDc/drNqmNe6ZizJRAIEYALlz2kjI9g5Kw4kr9WCRDgfT6/Es+zOm631aVlE6/x5wp2r4ltlVzn6fz+W5h83azxsOLLBrk5KyQGHfzP/b9T4yIaAxYnYbKGuQsiGYWZsz+/5Z5bFu+evgVk17j/OQZgh+YHWS+qS2I4GPsjqyPwmoNpEyTQc7lIn19YWpgtrf4TcpxlwZYm5BhdWB5ZLCDAAVTOUUpe6Qh4Iu8ubKCYFIihhH6jK/G7HcEi7fN4/JH3+POG1lEVH7hERXiJWn3piF2GtZsn3DWrm3d0el3DrcRMfIGUo10U2XD0hQgttbL41ThQEa29rEzZCLvAvkd9d06QzPJyaOGxvPxA4gK/Ka67pIj75dhEHBR9zYU9mY9Zq0UJZlFtgsIeER6j3FK8gT0b9basicXVs3SIMWDaR6vUagOj+WQfc/LmXhruaXb36XbRtWgwq9B9Qm96TCpujl67j/pZy0N6mWD1uski16SunW0BIEhUYV/Q0v3CpXvrYZVNJ3KpNrMOE7gBQWx6GjyobTMDM8HevCNHIqBQ2AggIHZWj4I3ipijufdsCC8igGEqWH/lKt6+mzqWCD0haNVIx6OsFYq1wY4EiqpgJkeuGNOhODAKpZqpVIeSANrv3L1ZTqo94C5ZaoqvkbX+6nwU9D67ZRUFCKkXIwAtz6paAIZzlUpDmNmgmMeqMe0Z1HShg8npyCQofOeQCt1gPvkn24Gf4l2U+xfZ8A2xCq36gv23kKbSQAsm+oQMLVTiWao799rGAV2fgGBcet00dpANWaY6CAAqqS1Jva+wHEU/esxWGjjZpGkMINrNQAFG+cUnNsgzm3/y/N0Atrq6Ua9ECCVzm/OT/drzNHe43fze5lnrWlEQhGzd8m9aMDNNI11eCp+MH39B1nz7N5uV9jfqQUVT6G7+7l2/wv5pMsQrJZl8AEgF5PaHg9pn15dSu2AC6+Hse1FMjzWD6pqY7VQ2V851itK4GIbsbmww6P0QAebVderq0WqmDMfbuwpP2IvNgfVDQZ9/UeeGRJkGiwMe9rXVZaVQpVoEzGvXavr9H82kNT9CnY06mN3jnyLqzM873uMeWpB2XUk5MkomQZ6de2vtRCxO6KVWuADXkUoAcVWdorWTVw5KosSqiA3jbqYVBiZDXlHXT7m1qUye4sSgw65XfBUYHyxvhHEBtuq/qhXP3bj7Lyl+8RAfwdUGYBsn8PrPVJzYVHKeBmpmeAlfkuQNUfCiitJQuqq9f3HiKLF7ynpgK0gfsUZgbR5WPBXu0MChHs1ELPYOfbLUXPufcAWXjcfA///L4qkoQ16KTUSOrW5WqAfDo7HVRWI6XYNr08WAEice23GsuNYMalwUVAwOFKULDjhoJ8XRqOzqZAkFOFD30Hk9/LTyN8p25brr8PIBJBFORRVPDIPLBN3yeLzhtah6UAKARd2oaRmskB5Zay/Q+Jg7yOShmrHmvjyNxiFThPgUV5imw/N5mVsihBVZHqiu37dKETgfI0elyxLEq68iIgZ4HSXP98d40kQLDZ/ubDupN4hUSpC7JQhMZp/NIa5AttUsSLonzxj7vrSd3HvpWQak1BmR2SbQC3xNVfgxq7X/Z8NE77rRhYliWv6gkZYrREoP+pmEOPK74lK0ry1t9ViaUKKFQazxdFICh02PSGBRNSLKRqqBTiDm7cqHmP1A33MzpO5ibM76TUSJlwT2Y+m6BJSaURtV3DNdq2WaqH95UawvOk8pj4QcNxsiL5nWXY5CyBPHVxZ5e6HnT7wvzdwZHtYF3oL3Mv9t8utcJVfZ+1p/LMJijl9awfiXd0KUpN+Ntk/WgCsGZXity9YDu8mATIVkQpZx7abj54zj3VrGmC4AgA/s87ktV4nZ5hes/ZjGgINeQqGKLTmL4DAJPuyOhKjH2fmf1XeRfU6vO/5lGvSUs4Ua4MuZeH3DL4LvkEsdzo0T8sMgpe/ieBRXmzRhugD0kmOxFoWpCThcrpTuRWoP2NHsx/KiE1mAkbjJYdu8kbEx6Rua89BxZlTY0UwIgBqcnwTxgaIdfe3Ec+mvGq/PjVQjVdaNKmk/SBvC8iCooNyZlSu1FTGT/jI5k6YbTMnvikNMX9YaOf02fVNMGRp5x/NxQ9ec4eUOotFcoiV6l91hEAHWO1UXuy5r3vAqhOqR0XjY+pwUiZWAXIzY78tkABQAELmz03Z94zJz6jhEHg1AXkAJ83HBlT5sREsPOCMkvptoPk4Lcz5MTReFUQobNljRGHOUlNQg1NA7YeqTdvAB/rQJDjvcgmN6lCDMulxuLhn96TBCiXeMFNWNzAiQCcVqrUYUHOzm+lDgF+hae885vTXuV6kEkyMjfjGu56/wllP5KK9QN1G9XsZqXilOOhTTZmEtSUJFVIsKadHCllhsuJ/+wlbSfrxj6hE2gCO2WIZBEfXjpXKT+fqArqjDqycRco4BT5bC18zMwdO8Zkkx1KPQmbMk9stmZvI7AxSgA1J6OgKEEwot0YtR5pkxYJMCPjwQAPxhUv0h0Wxz8RlBFTKPJjYjmHET2bCiiMAsBE9l0CDLupvML3omB/x7wMAJrNk/smEz9Lorz8rE696aTjyIvvur/DUGe8VhOeU2bATyVldpYKqwAFlfeG1DJGeKCoUkEw0EEyqbe4SB9ZOqIe/EuWkE6OKQLzsnm7l+v+ndwLUo20d/tmc6LMQOgcUrRH0Pa2r62WWbCba1YxWJ0yv9izmpT4cIv60WS7/irvwso83+seI594XrLBQiHrscfQUVAAGaXIzhFjN2dnmXtWySRPxvbIYcYj91b+384dgmR2Vo7UubK5vPHJT6YcFoXnrcNlfu/Y/Tb903o490/jpJON0ylNFrKzsjTCQYv28NLuJCqekEK0QOy6UfTlkntADfapXQgqqfKgl6DBmHuiIVVFMCgOOVhFyOcq9BiDecPJA83IFj2wcWPcsOn7QpW9zqOfYNXTNi0LAJCFMDr3cHRzlScQq60BbLtI2dGIW+3bMC8jEHetbMdhunlzfDXqNsLp0Alz3dGfap6kJItj0y93/d1Srsu/kC8PX6wHZAH0IILJREPpcl0QBsctkTqyJgJnd1QhE/nsB5VNSZs//5ia0vBZRAZgLziHQj6uoE7ZGj5t8F7+9gHQNpq0SgGObfCErLDOQ/MNZwSAqX2JX+zxMwB89jVt/Sog/lz5m6Boo3fZVPQjyteuN2L9Amr5v3lJD1DsJ3zqoRvfKQ+iN5DO8BdJFf2h8PJPCqc4qIpeczZKU9ijPdclVll6b/9xCEAIPQS8c1PdSBnXuYIqiChbGtdIhBHAJi3dp74q5/atodqQpIwGvrcF0QJC5Z5W5VTzcvLP+2UinktywJDRBR6BmQDt1ghKpIJc9cT7L/+4H7KqwvX5b6lnoh0oq9PZj63bOwI4PbIQWHxAwJDqZMSCZ77YrVRrPRiPN0E72S6WzTZEQZV/P9iTpFR1bqGNf5VIiaoPT1BulaCBejVki6Qeg7xBNCGiwdRlB7S9BPR01IfOmHUcuCYKybyw64U8Xuhlj/RUemQ3SJqRRoevfNYpXBcj7xmPDTYXO2Hy52ornf859wHjM9nUlnTK4bNqx0RWltPozHQK7u3S1ie0TtYzCq9kQqnE1JvvmxLd7+evS/7f5g2zMdj28JmidHYP2PEjhWGEnLaf0PH439iPAWTAKnQmkBkUpz9dfQ+Khcn2M4Elz28OJJ7JLQ9cApgfWGfE3NypRMS54JqTrjxpPE2gM3PH1Qrm6dSDMiy+W1Ad3edAQd9d+Tn1zz9nXHMcdaCCiCY32bT7+/zuviaoPGITrxPg9Rm363YN6HWCoXtfcxBc7WT7jEykoDlvr/1PzHXbLdzP0G+2zaQcGMeN/hrbVw1Tllkf2G7RmJoOireAjTfxhkqq8n8oNUvv0TtIIiidpxfvUbdatHGjvImJ04vjxnxzWXp6y5EvQeEDyhvvrTosz9CXJACNBt274WXk3oU7YPzsLXc2L6OUlC4B/MO6EiBZHgGhsNSmcohjewfNctd6M08zDyp7mNXKSiKyC+r8xFe7laqjL82RV5WV+68pq4BH+Z31eKLzxGlbYWXb68RA4gTtATVeHf7URAHX2ccJoICNKQWUX1AfK3NjGaZuuSWwTKcT/qrY87qvnkzYEvXMr3nT+7/xzs8bVL13d+dlY8flz53q/NbjCb/zOY0igP+oCWkHTd9zBsLm4Q5ubLQH6+SW+C7ztHnkd/6c/z5f5TUm+rZkYjvsBFcn0BxADCjb/T+x2LUXLkPKM3bcTE2ergVBJQf0vSqO6MZixuFCSta8MC7e4WWkVKs+qgHJPM04mcNYQfnZOrjfcxlv8wDlhK0ha1DBVduCfDU6gPEuYg5bplE6h1guo2XgzK/vkTWKpGW56pS3Nvq23ifQob6Yb+Z9gB/aZTYO5323PiIbl32mERLOysNhe+k6ZZ0dxWyyf8kGRRnMV/PXeplDqY20wHc4JoXVOW8L/rt/2bXPTuQQcw6qshM6yH3cqMV3G7zqd5mxXjYcSpOWkBORnda4fKDKpmgSUK9MoFJRjB5g03bIlkqQq+EcrjRjJ9my+WmvksKhbG7uiqNq10Y3WusPZijo0QXXpwDYQVeW1jHne5ZbxjKOP938nCzKI3B8QXYqny0sEfjY1rgIX402cE3lUADcKXnhu30agudaKJrULROgbsMMQWPmv/m3sFzdrjsNtfW33cHLXAGkHE366xz1Cfyjaz23W90Ku7CvHlQkIWB4+/hqx3r7+kKRIwOyMhMHyy8gUMHKuvPKTEsFOZsrGCVrk5uFty88ZcOJMgGDCiE5YKekpSZrnowccJLslXwndveq2oVHjyqpyYkKjnYDIkuH9dPJiTySjtEg3HEAil4ojsWs93XSsVdMR/KZ1OQkLZd2dHbypaemOMCGiLpon71uNtAL68D/hadtvxTWP+79R+8bBAzKjOyY6pxVMMmb8l9z/cazZEP6R1dFgNHnjAkA/SvmW8T53y+oHFsHsiLJqtQNX12DwXSFbrtoYgAZHO9R6UPdiOnCMiBCW7tTNEFA+TRhoAKNsgKRdD7iYX6695F5HfMScj8uUo0EwIMUyvNABABqRNr3dBvE/8riBIVp/EtirmoVkDfqw7xZRybayrmAlpsh+5myO97Hc+a+AVK+x3Yp5Y3NmLZ5uYB/9nhoAf8Pkh0XPz9o2mIvoCKHvcbm6XfcodypBoCsDqIGfIywNrXw/aedSXI3/EJSjvbZhgR56LOdcHBcEi6vAjUkzXhQVFS7x06DfJwd2DW3jYKHHlIwNjQMV/kYnuVZJwugshnU4e0fGDdXrAtD5tD3pLs6vmvOIo+rJ6/RKOAFJRZLGRudQLMthcnqCFoE64YxQfgT+JjMkZKQL9KDyudo48p9qdo+lqsuuhylG9ad9VKlGrYCn2THchmyrNx1b1ic0TBsJ7VJjywadRyVZpgfyhEpyyTQOz1WUHM0P97Hh1KUPj55jcULfOkvLnp0qVNKfBC3ZsqiH6VWgwYy/83p8uH0l2XXFuOPrVWnbnLno8+oRmNaSoqM6t5Wtq2HzMAt+QLQJr77pdRq2FTdeG3buEamjn9Yfv3OeJDo2KO/ei0xnVJwjXja9cYGs23DGhnY/goXGPLp2Gq15NX530twSLi6COvZvCpkdow1Z1IovKNM++xXKRldTuVzTL7+frJp1QoZ3q0VDMmryuzFKzXeHCMW9GhWFUFaj0N5paM8//Zn0BSFEo1rkrqy/Z/54tpsObNwYOEMdlEAnMi8hmTU4TlLMcv5LJOCDk9b+I3NeNNrt8OzSWOp2H20urrSvLB5M+mCsFSNA1aua275WYqeIHcKyiI2/pqtpyn4PP9FvsUATImrvpLNrw7Sl2L7PK1yOqrbH/jiNUlY+aXGo6txz/sSBpOBM2T/sc6o696Pn4fm6GsKUn6IMh7baxxcb7UE9xHzDH1jgS1PbUhVARjT922RvQuelcQ1SxRovEPLSFnIAEu17qt5a3fgswQAN/PQTlnzFMxy4GC54fO/q+ySfUdNyZ3vjlGHykw0GK946+MKbFSuydi/GffHStK67/R+FDQtY+ELk0BM36Bbpo2Am68F4gllHspAfUpWMsoz/8/nO0GmUsUKknGquHrEDw/0Vbak6yCC+5RbhcKpMWO4fYQo3u+tPKKbcBdE5SaFw4Ck9KFIdmQ0Qt/sQFiag3CTRW8k5gxNbUvzlfkykOhiqOczcGk5BCX9BCr3m6FleTMcEZ8BGDIwKuv1Yf8aylYkobAOlBzrwf2HnknyJ3rup0eTghKH0LBEC7rrdo1rAD9/R+y60gAhslhZFlmzByFbZHRy/mZeJWGWRe1GytQYsTsCbUpApPAT6DtSgmEBiPZC2zYApu3L4pjDZEleDXbpWJgILEDonAcRjWAntO3n/HEYGpTwNAXnzWTxFtwSszfowYNrBzB3MKO4RJcFGl9i8mjcqh2ict8Lv5HRqgBCt1h1GjWX2+56BKYCR6Dt+KhSQZM/XqJeSUaOfQHq/8e0IgHBvnCn9a5sWPm7VK3bSKtyeH+83N+nM4DOU+5/7g3UXGTJpx9KRmoq/FMidpfDCs1fb7t5kRVJ10f/QjlhkaWU8qMBOFmpPHXZU8OQh8ZJbJVqahYQCC8o9H2pkQR008FpCR5Y3p3yPNpVlucnczrAIJJl+fyc92XezJlyYM9OdQ1mbLXMyS5/vf4XftvTLYGIccgYUVrZZJxwnPgwLubJn4ofBJ/ioASsg2PKvKjtaKgrTlCwyDA3uFRL4MBSDA6OCQ5mXCCj8AUFgrypkGET45pZbctT0NZU9ibKQab4P3dJMA+NmVbARmDzUjafU+/cduEkrZGzY+D78mEYl9fXOUEzg5Ttf0pJuAk7BIfHVH4x79A8wR+2arMVoKKh4BIIjdEjP70vm17pL/XH/yA+iMKtIIfEd/ImnKYxh6lxejItWf1tekEhJmH5Itnx9oOqGRoBd2YM94MO0lfj4ZuSdm+2/9hGT/T79ln3wnfnPInt95y2eyfepwZllcGvwGAekQem36V+MysPeUUpy13vjdXnqt45Ff2eKuWuuwt2clfAB+czrrryRJ6/xvka8F/9U8cQgFImKkICcShZd2C/dKrtL0lwCJFLdFFVX1RjkirtMxCN+64FO1QWFg7P96RETFBSD2k8cZUGPE3FBk2ljVgoUhjlizOq+k4WIUGqVaVgsP3ipRWoLgIYKRn2NDUmqcVIZZaeb2+UFq/ADyvy4zQmiFLjsCbsxTIcj/+WRUnQ+xD+L92WQJ5x4RqjYgwpVPcDul0eXLukwE4BrHh/8k/7ZTVkjIycQJCiyUB7GJo3AUuW1Npx5HXHB1tkH0B8O7xVPf7Vbpnx20ENyErlmgSwQ+/8aCsiB0RqRAPWVwEeeZMFSmq4b8MoefSLXRrT7lBKjh4UhiDat+4I+J+HDKMxakCNbWByX7PZOSdl/TFEWWh21SXPQ48YeP9oc0MHSTh0ApRMjjzw3OuIt4bYRFh3YQjfRdnVnFcnANSSxRdsyEatrgF4OQd3FP/mxOekY4/bxNcPpxPMnk/fgaF44nH5fP1RqVTJX2jm0K3fUKWcyM48ezPIbSDf56CQTXpT/zulfGmEfsd+xoCoKUn0hWm6wwNG4Z1u6SdN65eVgM3p4AAAIABJREFU47hPYi4F2kvcWKltGRIeINOeGaceT/jcpzB9oFyReXPytOvSTtYsXyV7t23Gb+cUftYmdcl9+1+TgTlcAAQAYMdXf6OeSNSRMFhblD+lwCiaFEhQ1aYKAkkbfsSmekBZcEGVGyt1QLZbcVUpNkJtAk0K7LP0PdjIcexYzvE1i/E8/JGWidONmEbO9BpCuzQCXTDKoJagjVCAB/L0ozfU5wl8hSUqpSg70HmPn7p4MPc8EBw1sulNSlHyOTpBpuo9AeLIrx9r/dSGjG3A52EAWgS8i1QCuPB9mhSsfKSlHMWzMd3ul2K0OUNFzprTaBNt8xinrmSLW9CHZIlCq7TZTfLrsMroz+XGZABryzM0HFTk69p/0dfeoREG+CwPBpkHd+h40AF1TNd71YiKY7T/m6kwiXhUTsAgPA1UaO0H5yNeXFsFVbr42vXhk6AIt6t5BKlpGsHvmYd82Q86Rv+f4c3ZONFXXPNtr79JPp7+oFxXNxojZR1SmIMbmQgEpjIIhTOwcWn5ZVeyyuTIhqOCCVl/MyGzmrrsIGK2nVSAIsARVAgcGHmEjQnTcDQpmaekFlidbyH+2vRfDyoV9Pi15eVHaBbGgkIiAFSK8JFPB9eGnO+grATQBICNxwCpBA96M7HjYtajqeOBFHOIKmy+57eD43OWdcpwP3SEDOJK2aqj25eXd/88DBu0dJhGFNM2k7o08kSyHY2sMBDajx0BYNbbCLpR2Y3sq0Wg+uh9hbaBul5IkyrIGbbi09fFquPprzYfRxBWX9VOrYl+IRiyrn6oTzCoOVNP0rNmvPibwBfk6ynfbz4i6f7R0rpVc33uUpJHFuKtJQMlSP1w8+fpLiMNYITFt3/3cVnx0xKl6IJCAuVEOsK3w/iPIOIDQFv92y+yac0KUGpTVQOHTpL//HkJ4rr1kp9gw3bPnKlSHn4meyDMTYUq1ZWqshvO2ZXmBkjgpA/MZLmnd2dlU9a6ool0hfPnkPBI5Z7xfdq6PTmyL/i6nlKxem25sd8wuPuqoLHjfP19Zeu6TbJk0fsyecFSmT9rilOUAUcOSnIy7D4AuFYeoZtUngrlPnt2PS/wCicBN/ILfO3vflzBH2yt7bPvlVLXDFDfh3SpRaWKTa8OVCNjeu5gWBZ6LaHDY4ITfUZWveM19aTBPDSR7QYD7UNL5yiVVOfRRS7lh13vPiahUPuv2HOsGkpvn30fAGOeq7mB2JCrD5+poEkwNUsrF0TWPXOjsu3MiDnluXUWjbrpPPm0mz2ka8MA8JEVSaUV1yaPutKmz1CNhprXJvAfzGmzBFmcLkVV5mA0AlUwwLWCwEKBhGOOT1KcZ7IQlYAef9gebDYB5WqojJFeT7IAUqQUa/zrbQD9z4b6xbslAFTpiC3HRUH7w5ykI9rK0LptZe/CFyQT0RnUyJwsX6du+gA2EcpBMw5sRz/EqmzuZFqS1kXr5Ki267P/wOQaKzuXLqKOtq3MYkjfW+WaGVNk6aaDclWVkqC4slUln4lUGDdvbr53Qe72YJsYDT7KjZ3e7ynXalguUFr3C1H2HDUQCQKkhki58fMJBAWlSQABhKk12HQ3gMXJ+UMKju64eJ9UHq/RKHw8QIBsR0wvLYsUnsrqdBxzE38TKM8n2XfZf2wX67l8L2LHvbFWRrWMlnYAYjpIHgevJZonyqbZAqMWcM9nXSIgl/ugf02lbMmy5FGVVaIMkLUnMNKOrgNkhqRIeY/l2mrrHoIfw6+KhmZmOQVE9hnbTjdkpJa7w5PJ97CBqwyFF7ZZ38E9Ve4iaKLMyT/skYFjpomPFwKrkqNHausiE8qF2ia1xIrBNgmZ0ZvIvJmvI77aMM2ybIU4BYrTGCS2hAodTL5+XrLw7dfhXeQaGGtXAfUHt0hg2ZyAm601v/8kK5f9oO62fvhigfwCn5OvIQ96GzF+Lc8eNEPyc9BPw9g7HBTZcVCPOTJ38rPy65Iv5Lk5n0p4VCQ6BQ53obSSCZYnabpFc6bJz199Ii+88wXkhOW1jtOeeVQ63tJfqlYHLx1RENhGd+0gtteyAXSA8neey/Yj945r887/7F/8zjUj4fQ+q6S/ePvvuW024lPqnSS60whliZVFhGkG0zy+erGyFKnNSGosoHxtdXlFQ2RunHsXwoP/N9OlytDXXIoQHAOVLcElFfNw7zsPBOQsAXs3/u39eAY29R+l7hOL1Wg8+/ghWQefivvhraRi76eMB498XWBs4Ah87Ev2ab6kG2PefraLX8ea7AfnvtkMzLw2z5jvBA3mENX8JoT4gfE4DLED4A7r6K8L1FOJb5mqCn6G33X2mJpNmhsoFjDma3FQY1Rg2fT8AFBUjTRkEBVXPBA7bhsOFGH1O0hwjYZybOVXeujijFSlE1CBBEhVHEF9eIdRHc7Av+cpOLIOZCQE1GXLlKEwrB+t/X9w8Qwt9zQOIJjkGAr8ORuEtvHs6ubvwf/ob9dY2TEqaIz/oobMQ+0lsZ+FR0TIvx4aLY8/OEA+rQhRBxCNNl5W69BuytzEE9FvlENxk7bXCXIZKWSwmXucXhwLUiP8xqCg/GZV36lmn4a9kGNICpHRArhj6v6D57npJ4AC1DnC//Ays2Kd7TqxffAXzSzwNt9lGRWgEHN1XIgCGAGW5ZAqtWXzZbbTls3fBByGwWFb3RPbFwCqKw0cvpE4CJQGxZsIdi/bbLhu5mnbBu3LDNM+9oFhnxoApzE8KbwWFYO0nmavYL9AvoyQRJO+2iQnK7aQgX16KIFj9+k8FbqAH0or6p7gdHZmeiaCiLaQB56fqpQUQ9m8Pu4heWTSTDMIKJR+IelSa/WvP8qQB8eBpekJYEPgSspwsIGkI/TN61BaqVq7kmxeu03uvKGlfPzm6/Lg8y9BAxK2TOxtlugMqk5I9AQ1NSNLRcvE975C4NIGKuf/9dslcl/vTrL0s/nS4/bhUIjxlWfeXCA16jWGUorA6fMquat7O0QFny4PvficfDD1TZXzdR88QpKhCHqh6K+TzGGV6nHbWWgXMul0YzOdqidmsxTwr+Zt2q4d8A9JuthQLwJYBLztxy98UWVTUc1uhAeRWco29C1dSdl6NNo+uORNZcFpwns5oMTM17wLw6ilsw/NZm+2BvSNykpLqJd/yvIOfDUVYPecstK4MSdt+MG4usLmrBsNV4mT6o7+XEGgsEQ3W8rePMczBb1rxswBJZRLeVZJgHpWwn6wBKepkXYU2I2kppR1i/ytHIb5FbRBKbihfQSrjYjAzf4lpUYWKtuasOIzyU48IJXgEuwkbIiMMg53O2TIdlNTGJuIuuriJfxpRAFofrK+PEBUHjRJdsNjytapw/UwUab9UPXkovOM87Cgxv6Dr9l1w5qz7tgZtK32+vlUXeczHuS84aF9QN9e8ssvy2ToWzNkzpArceekghxV91kClyU3endVe7veFQSUgHDWbZ7lS1dceWtEIDNMenNdcdCVDKDRpZcrP/e7l2FvYPmkCpvCc0j7amEKQqmgnKhFSarUpDyVyq0dyoeOYIF1ywSVeWOdKJ1WpMRsXuw792qz31gMDWPcE7EsCBqjX9xeR0eWTphJ3fFdAnApgNvClftkxpYS8vk3U9QrleUq5snoAn8owJm1wICknpCzQYBduzYApjZU6EWq1WsoD/XrKpvX/Cm14CIrDQonwWH+CDA6Tydg6y43SaryiYuBbekHKqsUKLcoqVyrkhyMTwKLsbJUrFID7M4doBTNRLWTx26spg44eYAtWjK6FCixUlBwSdf6NGvbRspXri77d23HfbBrwKosVTYSbNVMUGdn5Irm9aUqIhMwf9q1ffHhW7Jq2VJpXcEfE9dsrsy/SVQxefPbVaA2a6HjeKXgpHXjAsHEPQFTicCAqIIfPMdV5sHh9fP3F6/TUE/nZoXO+qduNgpuqCP9MtK3YQg84B/5+T0JjK2vihKV+j4DistfEhDXbD/AiAoMlO3QRRSdLdONl2tzdusX67GDGzITy6GTZtXQxG9VRsFmT3neqUyo4idiDkF5IxByPcsy5HvuJ7kf+4bLaTXYLjjVG/e9BCKkzkkIZgvzaqPtxVzRcSrkj+XTQXLlgS9KWQRYpbyRY7rigSYmSCrf48aLTZR5uM9lsyFT0QSKUaC21r94Kw1N4daMjpOxcAHinoGhGpk7af0P8utQaDbauYq8lg0sK3Ue+xJySlCKOCDRBZo/2JrMNx2+K6n0Q6UVOogOQVBXakdmw5m0b2QFlc+pRxWyQcmmdexAC+6tf9ZV7Tf8R684OalJkPMg6GgwwmQ5Y3S+tbXjwefNd5Epr06SHrcelV7TFsn0fg0Rsww+dRHZxFJRmjd36/8niTI/sj6ZTAgeMh0M8F9sE5kfe4gA5p7X+XYbmYAHgRX6PEEQ4+qJE0IEFHLmLtstT/2cIrPf+1iqgSNowc19XV1MvT10UmGxkyo7emi/ytzqXtlCnS/v35sqX8+bq8ebQEw0GmzT2XIGTpuMIdcczo1DI+B0NwnsEOTjA5Xb5u2vkxcfHiHff/q1NEaw1M/e/RSRB36RwfdDppNlNpSCKsp6MKLAkkUfaxn1m7SEaupJmTfrNdkOs4M+Ix6EXUQx+f6zL1RhpVHLttCI9ITPyjnyx0/fyvDRz0LjEm527rxPQ/yQivML9Abl9xlkcqtk4L1jUNcotc/jxsvymMyiMucp1zWcwZjXofjdEtetXZ7Nq6C657/GRcVTQ8XYSuKVdVyy0lMU7LiH2TL0mX9Q0o2AQk6EsY9AGJn4TyapY2VSGvS2z035DCkjUCT+0EwjEB1b8YWkbF4mQdWbmQ2afcrjrqOkQbncoe/flvQ968WvXDWlBjMOYIP264UVchKUYRNJwMZcZcjLCGZaWymjpPXfYxFhntAezfEE4t5Xsb3AugQlVFjyggKLOnB2o+DyjHW+1ahal7Q100/znXlTDZ+q+1QIiQRL8TTC82yDvPAkTB+i4N9SDao5zAVUhOVxjp1C/LfNk+F8Gn1W4/4PtU6n4U6OZgGU+zHUEMMLaSBU9HPiuqWSiPbTBReVfHyjKsI9WjkonjwjgQgqWwwHgt0fjgPwVRE/2AiS9cigrNTKDMahgAo8lHEyrJFfdDWVVXp4BuWZ6//UUxb7TMeZbCkcbNP3b4fCAaKblyylB5wLXS/2eX7yfQ+M7fvvzJER/7pXOk+ZLmM6lJc2NUor5ZalWpDGbKOA4fyvvMR20W3A5Ux5qdGLy5la66QqaYbgAXIxPiFVRi9YJ79llpH5n38rDa+or4SOtXO+uFJy33JjUZoT9SIohkx8ZIQqcjD5goyjyUCFytXAekwX/6BAWf79YlmDKAAjxsAIV71BG3ZAemqmdLixt4Lkvb066nVOXIJRl16DVElkz47N8sBtN8hT0z5Q5RUquRgho2HJ7Nm+GXK351QJRAObYmJ26jEAlFxnAORpBWGyTNPTYKzteCdp0a4LtCX7w5whW1p06KysS9q2RoVBDXfHXtnw528y6L47QVGecNoFO5YCEhcDTw6+ftBE27JFUo8fluYtWl7wCdKyRspXrCQxEUGyZ9MyCWzRDXITGL5jU7IbbgFV+I9d0g0BJ+dTmUkSDiWQvQC4eHjmr9BjrNpTUb4ThM04ECr2Kx9ugXpCIwpAR7stY4TM3R4UmuNai6YDIYhtRofHq8ZcrSDiD8qKbDSyNMkCLNt5BIKbblKqyGgQQVYKqicGfhaD4Vmf8jYmdxZldIfbFUALS9zU3bUoC3qO2rxU8GCE8Q3P3uQorYgGJ2WqescbUhK2amQH7kYkg20z4NuShtKQhVUe/LIq1KgPSwD+qsev1XYQrAhoZ1g3yh99giBLnKbsVqZf+kP706HSohHstGKfcRIM6iu0bjttu1dYgJoyJPy+UP1pUgHnzGnYKPUep0FPf78jTvNhYNQKg1/CN6wXAGfa7rWyfyqCFWOtMB/mWanvBI2px376J841bUgBiXUlVV8cCkopW36VDvWr60HhJFTNuTFeaLJt5/whyHnhAD399ckyp1UrefrZ8TJ72R9yY91wqREdDvsuOlYmf84hLy60sKLnz9EDBiO4Z3AcqHyz/1iaLNl0WBYf8JQmnfvLD089IeFhoXnAzXXoOUfOf3VLXXX5QGU06ViORJUpKxNmfSyrfv1Bjh05rPKumg2agAVYX50hE1Xp0NgvMBDyrhlSHpqR2ZCbcQIpBYAF7Ane6ZhX3pI2198CO7NdYDnGAJw6CVX7KZDMgCeU40cOajgc98XH92mk3RMalwzZs3PzOgWb2Gq1pX6zVjrxM9KzVO2fEQi2wticz5eLrSwNr2qrijKnULd0GC6mJdP6/jQoPU+58hpsQHjmwN4MlMc9mF5PEA4eKGhZWFw6ti6kZn1BiX7+0dvSvFEDCQ0L00G5kOR+euzXo5uMmPKBxDTvylK0HFvehZ5KL6QOF/qsnUxsP0GmEpQ8MvZtRjTqrip/4ubsASWUasOnqeIJ1dXDr+iI8C6HIZc7qgFI2cHcnEl9nMpIgiPhMhqsk8+ThUmV/NSdCNKJTZoKFGS1Vb/rLY29lnFwG8r1AXVYXRU6XGYCztjYvmJZZhMquIWFG4VDNgJA0GjYqtGYDWfNUVD3f0DbR+pNZYYYa//yNbV9pJRqPfixJG9ZpvWngTcpJwK6ehABqJxI2KPKOUxmbEnFklLLgryuBULuTNDv7D/mofajAHq+S5AnJcd+o60g47pVGgDn54mHzLN4hnlQ7piIPiI7LbTuNTDWjlUZ6EnUl/3N904c2Q07v3IwVKe5gDfKdA4HaLMahas7Mqo52M2m4P77T1y1a0JZ+eDKcE79H3tnAVhXkfXx0zZaSVN399IiRYpDcVu8QIGy2CKLLA6Lwy6+xf1DFvfi7rA4FKfu7t60SeX7/85983KTJiFt0zZp35Tw3rt37tyZM2fOmaMz/+e37dgLYeS+b1plCS56rpApBibHu/of1dcO3n9f+++TT9vA996zRz7+WRuK0ZFU7jRifUBhw30ndDfMI1/JqJPZtKNtusOh9uARh1vvrbf0+0huIbViRTA3f6f+VjRt1cZufuw1zxiyNL/AailWAdU9dF1OkZ41JJkBXb2F8SEleewZBNuZW9HPWjlZUntGkhRH3ODRlFOvtt1++YVyUBlpNz020A835dlAvEIbhCDQPp0jMcmiBZFKKrwnSyl4srivzTKC5iIdqhp/vw9M7WJnqamwAa132exEUMWgF4rBnn7QDjZuxDA/VfyRd75PelrCyLLV9vjRI+3Kkw61V1563rroxHHaDkyctv+sUJ8/Sp42BrvvtrtN2/p0a7vz4bZ47gwnpqFUSibnEkgdMYMsHQ5aKBG5K6+YA+mmULdB6INqzw8MFcyRcjyQ251QIikjyiUpXJD7OpITxD26H0EhTc4Sbq8SzCD6qAMh+hVBacA72p/y2VM2XFk9UKF2PP4/krj+6hJTumLj3JFB/yK6hp1QqbtgSiowB+yPlOjsuzxnEcCAo3fIcrKZ7GUuLQl/3GPM10MUKoH0G9qNGLO0BBofAfLxuedZPEsJ1XDpTe9wfKdN+qDNgPdBjDfpROMwkhe01Jswb1SzSJEeb6q61fXM8IfPsalSE1N63fiF2/WAfWn2Sa+4DouvE2DGmhHeZNdvZr88frXtW2ukPf7080XUk6u7VsJaDPSDdR53PpsybYaOjdGcJGLbonlah0DY4F8VdgyO1ZadmWGN6ucaqdQoMDboa9DkcW1157o4KKudcsl1KzLELfY86EjLxUYlicyRzRFPiwR7SjFDOgjiah5sFiUwNydUIix8cj88j5T19UfvyEmkjXXcpJucOKIMGMXboH0Wtg9U+lqYaxiwMw/ej7rH1wZeTom8lIn38Vx4tyeBhtgk+ooN7s1nHvVcmy2kQtx1v8heFyF9miTQ6nbWkfvZEfvsapdcetlq64N5PxIoO5L333nLDjzpfB2D8qJczpuIgIrABOO/wzkgQPHpWfe/A9yCNOMMrMgcJ+YGWGNvYxL4nmDarirzOY9iV5irkJTWrzGv8fuMH8nJ4cAt7VrAucQ7HQfWAD4+HvUtb/IIm6V0XTCBejoNu46C2aOckBEexSFNPyMvScZG/xO4KM/PcB2GQiA7cPLUXYnDXX0uE3joY9f94sXXA9IcY04UH28CVuTDpBTORQyGsT4kYZSAn8MpAXfmBXvprB/f1Qnjf4gJ5njgOWEaZEtZE5gWH8/q/g7jA17MS2bdhjb1l89sztPn2ucKLWrfoYMzuFX1hC6tPwHejD2iYdJKVCEnnNLGVVWvhwT4YX6T+FCBA6r243w1q3U2f652fwmbVgW2X6QpXlRLOeEKZLdboiNzcGldlyUAsK5ywkEHkP4WzIt2bujns2TUvuIMnSa+Yr49/eyzrDsnBGFnsapEgfeFBfqf66+1Sx9+07b+5/O+G3dvQpgCxF5AWBuTuy5hW5nfBWyREJG6gDdSEFKUM9PVLC6hIdkl2gsMPYE0q9lqxT7GuF06Rp0qRuH2SaQ7GOF6Kk5sVKI+RBtpwkYycxrY7NG/2pA7+tuL991kBxx8mK+d1V17ZQ0vrLXQl/BZ1jOpexULgYCDfBbFiQp+z7tD53hYWmH2/op9QfHWkKgYVNzLrXidtf2b05YBKn/Y4uoop+as6XPs3+eebHUVPv70s89Zrdq1nSiwwCirShTCInJpVO9hl3LJBefaHS99Zl1Pu9fqt9/Ulsgjr9Djb/0RnbUN7/XePqCNSVPOjJjXQgFq1bsY2kRSor01aWvV316+J9RHP97HJVA8U5GqKwmeuWSsdSHmm6GA9wnfvm0TnrzA7pUD2V9P/FvSTZyBruraKx9wUrU2BghU+2ISIXglF+wSbLiiSPSS61Spqy4q6c8ZOo4mSHAF9sHrL9kz99xke++ynd12x52utgi7xzUZX3xnGNSV9955q1014H6rsc0x1n6vv1qW4pmW4cSRcIlfk/elni0LAqQjSqjMI5k5QoSyHqkE91wVrxKtwUrCnNYALm7rRAWdCM1YMHmUjXjtLssd+4nde5vy2h6gJNQxN/GwUVyDV6Ye3YghUO2hd38olcHV0M4UYr8kETJQ5eGUYG54gs6dNcPj6374/COrXb3ALr74Qttv/wN8iHHVCL8rYgfJQg3qyp9/+tGu/9e19tbP4y2rs/J8tu9l6fI8xK5TWKo+MasU+BLb1GRKDQ3xxJkArUVCW1YpuhnvRNS3iBlny6GLzdEiOUGE2KDK2u+yAVlIZnAiyp85yeYM/cbSJn5v/fbc1i65/Epr1rxFirmVDcTU3VWEQLWtt91+JQbHAmKRsajmzJlrzZs3W8VmK2f1MC7Ujrk5OdaxfRvbb799bc+99pXHp8IMEurTivTmCVJc0DXHjeY/fPOlvfX6q/blT4Nt4vTZCkKXg0airEczSeWcvDXsFXM/ZcpkZcaIvLcCLqxhs2vlce+bWmZhDhn8h+XWqy9v3s42e/Yct1tXxIZrrXS8jEYDUwavM6U6adO0vu22bS/b56BDrXPX7v4k629tOhyU0b3UrQ0UAso2VMJ+MLH6v/n6K7vqqqvtzTff8PPdNuSyNmIw4vCKq1pCGpqqSKiqKg4skxbigL8cYDdcf4NtvuVWGkZCnK/kA7r/3rvt3nvvtWuuudYOOezwSt7b1eve2thYrl5PUk9taBBQqq6VhxSp6BSYq4NGsVvMnDXbGjXSmV+yB4TTBFZ+qipdiQYN0+EPiQ1VbFzaqujRxL2F2KXyrrCwfb+e0khWNMi9vcReTacSz7WFSghev7FSeeliRdhY10qHvdFIfgNHTvv7mdZzs152+umn2/+++tpuufkWl+LI7lE9kSy4cnq4/Al0tAQ9rlIiHesvrI/Upu9P4Ja6vUoQSCtNFcb1hjpqYrHc+efraJrGjZV0mAS1q+9ZvUodW7uVI25SfDEV/13RfYi3z/eKiu+p6H5uSO2FTdmM6dPdUaOJ8JjZj44KqZy7iiDtsw3jeKkddtjePv30EzvppJNsr732tIceesjattU5ZLrHxqxKMgcHfRQrGfBtba+/DQmvU2MpHwRKZFdhwZDJGyP35MmTvbUUApYPqKlalQcCQSofqtyi9ZV2LVOp6Qol58rTz3hP4gwLBkZ/69WrZwMHDrQ+ffrY/vvvb2+//bbsxko5pvAH/sIzYbyVc2SpXqUgsG4hUCKDowshyhzJbfjw4d6r1OJZt5OTelvFQWDMmDHWtGlTx2EYQmUvcSaHpE+fYXSXXXaZ3XrrrXbeeefZ1Vdf7VoAVHzhIOHwXGUfX6p/KQisCwiUyOCCpAYxaNasmU2cONH7wu8Uk1sX05J6R0VAIOArn2ghWrVq5ZJO+KuId6zNNuJSGUyMPzaee++9t33wwQf21Vdf2QEHHGCzZs1yaY57jDUlza3NWUm1XZUgUCaDY6E0b97cpk2bllw4gflVpUGm+rpxQiAuzUyaNMlatGjhgIhfr+yQCcw4MK6gsmQs7777rvXo0cN23nlnnVj9RdJRKqgsK/vYUv1LQWBtQ6BEBhcWEy+HwU2ZMsX7kZLg1vZ0pNqvSAiAr8FDb8aMGda6dWtvvqpIcHFYxKUy1JKoK2FkN954o0IIrrETTzzRbrkFD8tI0uM+JbVmKxKjUm1VNQiUyODiBICd4syZM50osHhSJQWBqgIBiDvMYPbs2bZgwQLr2DE6NLSq4nHQnsQZN7a3ww47zN7QyfWvvvqq9evXz+bO1bFECSbIXFUlibWq4Faqn1UDAqVyrLAocEdeokPZIBIQBhZXqqQgUNkhECQXPrEho9rDYaqqSzRh8xk+GRdMrlOnTm6Xy1GGnt12282+++47H3OQ9OISYGWfu1T/UhCoKAiUyeB4CZ5nLA6IRFUnDhUFtFQ7lR8CcakF3MXNHkeMIAVV/hGU3cOwFhkP44I6AJ0hAAAgAElEQVSRZelcxwceeMDOOOMMO/bYY+2RRx5xJsfGNB4akdqklg3b1N0NBwKlMjgWAYsHVQfxQxjpU7vADWfiN/SRxBkAuItkQwl4XdXHHyS4MM54KAH2uJdeeslTfJ166qnJBMbFQwlSjK6qY0Gq/38GgVIZHAsIIzaLgN1vCPbeUAjEnwEmdX/DgAD4OmHCBGvSpIkPKOD0hjG6wuQLjDMeSoB3JZ6V+fn5tuuuu9qIESOSkl7cyzLF5DYUTEiNoyQIlMrgqByYWWBwYbeYWhQlgTJ1rTJBIBB8NmqjRo2yzp07JzUQG4qaMsA7Ls1xDbUkMXFkbXn00UftiCOO0KkZ+9lTTz2VPHInMLmUVqYyYW2qLxUNgTIZXHgZ7tXsgikpR5OKnoJUe2sDAhDugKvxEIG18a7K0mZg3DB3mBxMDEZ39tln23//+1+7+eab7ZxzzvHrwCYeGF5ZxpDqRwoCFQmBUhlckNZ4Ge7VGOoD0djQdsAVCdBUW5UHAuAp4QGo6YIHZZB2Kk8vK7YncWkOJoZtDtvb9ttvbx9++KGRsmyfffaxsWPHOhPkXtDUxNd8xfYq1VoKAusHAqUyuDgTw36Rl5fn4QJcT6ko189kpd5afggEYj1v3jw/EQMcjks45W+pataMr9MQLsDpIK+88ortsssuOpVgL3vrrbcsQ6ecA6uUl2XVnOdUr8uGQJkMLiwSvChRa8yZMyfF4MqGZ+puJYIA+It6EkmmUaNGSUklvnmrRN2t8K4EaY7P4GUJM7v88svdw/Lcc8+1f/3rXw4f7ocE66lNbIVPRarB9QSBUhlckNJAdnZ+qDLYDQd1xnrqb+q1KQiUCwIBfzkmB/wNsWLlengDqxSkWRgZBUa2++672yeffGKff/65J2wmW1FwTglrPDy3gYEjNZyNCAKlMriw+wPJiSGCQJB0eWPZ/W5EOLBBDjUwOGxOnIjB77h7/AY56FIGFV/LfA+2N+Dy3nvv2aabburZTz799NOkc0rcy7KUZlOXUxCo9BAolcGFnrPbY+eHDYNYGkogHpV+dKkObpQQiEsgxG+2bNnSN2bhb6MEigYdVI/AJ0i0MLLrr7/e1ZYEhf/nP/9JnjEXvCxTktzGijFVf9xlMrj4gmC3h+dVqqQgUNkhEPCWz3AOHH0O1yt7/9dm/wKTh2lhd+M35oe+fft6wmb+SPM1f/78pMoyBbu1OSOpttcmBP6UwYUFwbE5GOzju+O12bFU2ykIrC4EwNF4DBwHnVK4Bj6nSlFmH2xvhAO9//77VqtWLfe0JGFzOEg1qCxT0lwKe6oSBMpkcIGZMSAY3NSpU31s8etVabCpvm4cEAgMDseJRYsWWYcOHVI4W8LUh80rnyGUAIZGwmY8LI8++mh7+OGHncmxOUiFEpQAxNSlSg2BMhlcXJ0RJLj4tUo9slTnNkoIBAmDT7LvQJwJ8gZvuZYqK0MgwCyesLl///728ssv23333WennHKKx8CGUAJaCPBMwXRleKauVB4IlMngAiKDzG3atHEk5zDFoP6pPMNI9SQFgQgCgfDySfadBg0aOGFOaR1Kx5D4ppW1zR92ORI2f/bZZx4oj8py8ODBSUkv5WVZOjxTdyoPBEplcGFnFggGEhzfx48fn3S5BskpqV1c5ZnQjbEncakNnESVxjUYXG5urn8POBr/vjHCqqwxxzcHwfaWnZ1tjz/+uB111FF28MEH2zPPPONMjgKs47Avq+3UvRQE1gcESmRwcYYFseCPXR3EYsqUKc7oQHKuUfidKikIrC8IBPzjE5wkiz7fYXCEt0CIkUiC1LG++lkV3huYHDSANc4n4QIkaeZkgptuusntc0HSKyn7SWpDURVmeuPoY4kMDiQPRAMk54/fpDsaOXKkzZo1y37//Xf/o8QZ4sYBttQoKxMEwD/wExX6119/7ThKWjniNrt37+4qSpheSlVZvlkL6x+4wsiC7S0kbEaLs8cee7g2B0mveMLmQDvCvITf5Xt7qlYKAhUHgWpCwpUs72EHBmK+8847NmjQID/R++OPP7bp06e7RDd79my76KKLfEfHbxZBqqQgsD4gEMdX7EZ//PGHNW3a1G1HvXv3ti233NKzmfTp08cZHpJcCl//fKYCaQgMKr7Or7vuOj9fbsCAAbbvvvsmzRbBfgfjCwwuvCnF6P4c5qkaFQuBSJleQpsQASQ3TgUGmUsqO+64YxH7Rkl1UtdSEFjbEIBwQnzBV5gZDA5VOuXdd9/1PwrSXYrIln824pIYT7EpAM6Uyy67zLbbbjs766yz7Ntvv7WrrroquWkgKwrp/fgM5g3aKs7wyt+TVM0UBFYPAiVKcDQV7BXEEW2xxRZ+KnLcqQSVzy+//GKdOnVK7YhXD/appyoIAhDOIF3g1n7GGWc4I+N6UEuedtppds899yTxOsXoVg34cWmO79jekNKwc5544okOb2x0P/74o+2///6WlZVlX331lW2++eZFmNyqvTVVOwWBNYNAiTa4sNOCoZHVgF1a2LmF15GgNZyxlSIWazYJqafXDALgX8BBJDhKIMjgcN26dQ0Gx7WwSVuzN258TwcYB9qAtAyTa9GihUvIqH7JZYkzCnVRD59//vn+yTPxv40PeqkRry8IlMjgArHgE4LQr18/69y5syMpuzYKCA3hKM741tdAUu9NQQAIkJaL8wspQXo7/PDDrWfPnkkpL7UhW31cAXZxJhfW/6233upOJ8OHD3cGhy3uo48+cqkZZpjaWKw+zFNPrj4ESmRwNBd2bCAm52mRzYASdsbdunXz7yB4imCs/gSknqwYCAR8hbmhUqcEDcQFF1yQJMqBQFfMWzfOVsJ6D7QASe7ss8+2n376yTcVwD0wtGuvvTYZIM61FPw3TpxZX6NOK8/OCiZ2wgkn2F133eUnCmB/Q0UZdnJB/bC+BrGm7w0LNr74NiSmHQhRfHzh2prCrrI8z3ggtOAmm68PP/zQ8fP444937UOI1wr4XpXGH5h3fB7XJdyL40/4DUyRzjg4FdpAiWt0uMchyf/4xz/8lIKS1tm6HEdVfNf6nvuqCLN4n9NCsHZpA+E+CM3OGJ06OzUkOozH3AsTUNrzVeU6i5XCDjTOCLhWVZldccIE8YHAQ3j+bN6ryrzF+xmYGKECFGzE4CslzGtVHFeYt3WJm8U3APwGviEuDjhmZGQ4OHv16mUffPCBffPNNzZw4EAPKwr1uc8JBSRtPv300x3/NkTcW1t4BbyA+7qc+7U1lvXRbrW8vLyV4uCKd8R3vdKrz1Meyq233trqKaPJD4N+VIBnfpVncFq3WqjpSRdnxh52+WEhslirEpMrztgYDwskXjD+b2gFQsBcfvHFl7b33nu7Ywm2IcZaJRmc8K6GNiPB7h3hJg4bEZMIG7GKxs2A73xGDAknnkJrRn5+vi1D3ZhAoBo16GMUcUSA/eAhQ+yF55+3T3RC+EQlvJ42bZpnQcImhy2U51NMruzVB12qXkNZeRKbCGoXzkckWFQ1ulT2iNfO3Wo77LjjnzI4Uw0tK8uQg8kfg4foCJI8xRttYUuV/gjGV6WLMCkzM8saKeP8Zr22sr5ySOjYrrUPKahg+F5VkCneT4hTkLAXLZhvr738kn306ec2Qa7d8+cvKJy2Kj6FYSAQBRgZoS0///iDde22iSdbJtNGtepVbJC+5szSxDgaSnvSrUtnO+TgA63XNtsncbP4rn5NGV1ZG6OPP//K3nz9NWWHGWazdAzR8mXSeCTWvhPehC0+LS3d0rXJyFaYAPNAguYQk9i4SVOpj7taQX4VnI/C1bJuvrG50cYht14969Cxk+27/19szz47+buR6IP2LD5n66ZjVest1T4/rcufMziNCQaHDDBvaXWbumCpdcytbqRa1t6uao24SG8ZejVbsKTAhk6Zb99PWWa/zEm3HQ/sb5dfcr41UzaM4si0pkRkbQIrIDvvCFLb0mXL7cmHH7Ab73rQpmUoYXbb3lanbQ/LqttIMxrNXVXfowSYwuCAAYS/YPzPltFSnpNcZJar2CDpNl1elr/EFk4ba0tGD7Ia47+1nbs2Mxw3uvfcTLjJBiY6yLUiCF3YHIE7AY5ff/eDXXXlFTZ32HfWu8ly69Usy1o1qGUZki4iFlx8/SNhRvgHEc7KypR0l6E5UaL2mQtsubQ+DWpluATI2kuVkiAQ0aUCze+E2Yvsx4mL7Osp1S27Qy+76uprbecdtnUpHjgD44qY+5J6sSFcqzbzhp3KxeDCYFckkL86Kq9oHqo8HFhmIEpateU2YtoCu+PDUfbtosY24O77be89dltJB14ZiWUgTkwGTBkiP2nSRDvl5JPsw9GLrc0hF1rDHjtZDUkyKzwbRXQSRJWfvOIDSGDzMtR4bL+Q3KoynsLohJtWI93y5s6wce8/Zku+fsr+ff7f7IxzLvCNTJDSi4OivL/jBDJSSUbqyKv/fYM9d88NduIWdeyYbVtZTnamGJMwR5S1XERDlZY7IY5q18BmHyPI5e3fxlyvunYwaZqOBXn59tx3E+zB72bZ/iddaDdfd7WDJb7uN2Y4lTb2auOv3rYIrkLs/UIJRCF5T7fD3qtciJ54uz+vB4o/wy403nbobLiWWB/JMZRWP1lhNb8sXy51ZVoNq1sz3V75cYJd9u4Uu3zAA3bCcccUYXKr2fxafSwQkSC5DR862A45/Eib2HJP69n/ChFCOQnkzY8kmfUtzQTxpMRZj4NJGBAm3/tcHHNKAmlxLA2IXPxZ2i6Byft7SnpX6EuxdkqtX1Lf1uCa4ABzyKhT3+aM/s0G33eGnfmXre2W2+/W3BaqrHjDqm7A4pIbzAuYn3zqGTb83UfswWM2s7YNa9mcRfliVpFUuTqjKGlWirfjdRLTVdIMxOuH+wGV/qx+8XeV9TvedpF36kZJ7ym1vs9F+bC2pP4UH2O9mhku0Z357K+W2/twe/LRh6QOjhx9wpyv6tyX9N4N6Vq1iddsV2TFguyoH9jp5xVEKpD4gOO7vVXdPVCfdjO1JfGNtd6MCmlx8j2Fpy4zUdRnB5OVnqivjqDZWLw02hWGOms6qfExLdMqhhk0zMmyH0bPsBOeH2V3PDbQDthvn6S6Enis6TsrEoniBIp+TZdRfw85WUztepRtcvh5ljdnmmApiUY6fcqqzluF9TVBjapnZNvypfmSJJeWCUef/7QMEXblQMzPK7Nu6GMYW3xOSxqvX5OUWz0tU5MZqdtWiFEsz1+cfM/KbQgPM7IKqbyQcXlBlKmjonCxOKyL92H5sgLLqFnHli7Os0G39LPLjtjJrvzX9UVU6cXbKM9v3gNzQ8o669wLbPDA2+2ZU7Z1gr4wX158WrCsxZJgWZ72y1OHtrPTNdf6zNcaL2uNUTfQEugHfS+rfnnfH5/H7ATd4VmYO/QwjD85L4JQkGfpO8I2MKM+dApasrq4UXzul6ot3pEm+nzSY99bzg7H2WMP36/Nd7TBSTnurDzLNc7dpeXVcLgIwc1ysmrY3f+baNe9N9aO2KKxPxFHaiYrIFJ5EYrn9Z8mpprNyVtqV7w12k57fpg9O2iaNZC01L1pTdMcOWaE9v2durRUnwM+nmAnPjPEHvxisnSJZlu2rOMIRClvH6LaJf8//k4QlIU8f/FS69CkjnWpn2bn3vm8HXDw4fIeresNBL13Rby75B6t2lX6EewmLKi/9j/afsrewjY79kpbNHuqwwiVcnzBrNob/rx28cXoE85fosBgYShLF86xn6/d1zLrN7earXuIoSwqZBiJZ7wt1a9RM8cmvDrAxr9+mzXeoa+3F8fFknoVx83498J+RP2qJu/EgnkzbfRTl9rw+0+36V++YOk5ja1my65ivJHzVBwvBERbsbTAxr18kw2952Sb8v5DQug0q91uc+8rZW3gQ5E+8A6YfcESq4FjVK+97aW7r7GebZtYt00ESzHcVcXNMG9B8n/4sSfshVv/aS+c2ts3oXkFyyxdBFXD9+lc3TGGeXNaoHH4FCcmxVWe+mMje+xTg23I1Dzbu2s9W5QvogARoH7imfC9pup+NmquHf3EH7Zf9wZWN0upw9TG6vaPdnk2wIP33f6J8mw+M9Tu/d8kb3vLVnWSfU7OS4K9pYu2Pf3DVDvh6aF204fjbfqCAtu6dR0XFliT1VfDyan43LP5wC4HZTxgs2Z233Nv2bz0BrbDdr1Xa+4dsBt4qXH5Xm2uhvFos+EF4r5Ms9s8J1OMp1Zy+GHy+cRxgV0WiFnSH4shXh9sxhklQ5LbCUKYD4fNtv5bN3VkufXTibZFy9rWo1kty8svlBhpP0dIe+VbY+yuzyeK2TayFnUz7c7PJlmuru/Ssa4tQvJTG2uC1PH5jfocMXDwcYGY3Oat68mWNdle+WmS9T3skOQCqKh3xt+/ut9ZlBAo4ttefPZJ+8+L/7PNz7rf8hfOBTpFiN7a6neRxaj+IOlUT5d0tEKZbkSUkcSQkHy+5GlXu+1mllY7V4w3XfOH+5J25JnZYoKSMvHQA2MgOBpXZoMWVkuMp3jhPhKN24VL+UM6i+Oiuua/6dOQ2/vbvCFfWJNd+0uiLLCJr99uOV16W3bzri7JqaK/krbTsuvYqCcutsnvPmCNd+pn6XUb26Q37rCM3CaW03UH1c/z+msbvlHfRTTlrJFZt6FVy21tXz52vR3R93Dj9O24Da04vEr6HWADY5w+c5b9/YRjbMA+Ta1to1pyvlIgd5Iwr/7YnGkAG3WAjSkaHJgZV6AB2fod7W+j310a17SW9YQ/egYGgVYFacq/6wHa4B60p252um3Worbfo634XCPxuEamFDoFPOJSKf2E7uRmpdt174+1AZ9MsEM3bWhtG2SJBk3yPuzeOTdJd3ie9mGubNbPHjjSdu5Q17Ztm2MPfT3ZJs5Zoucb2RKcgRJ945lVLT7n+qN/zBP0N0uSHHTzmic+sP198527ynO/qv2oivVrHNijwdVIVQ1qidDoHxNcX1JV+wbZzpBCiQO5Ue0MIVaa1dHElvS3VFgIcoE8FPAb5Ph+/Hy7/r1xdn/fznbpXm3sAO28Phsxx/6YssgO6tnIERcUh9dmCmEnzV1i57860s7ZuaXdfXgnO6hHAxs1c7G9+ccsO2yzRqoTIXlFEhW6HHabjH6xdrC9WuXava99Yd232cXatmmdTE9Wke9dE+QJiL84L89OPu1MS9/jPMtp0UlqPanbEElV1nZfw86X98DYFk8fa/mzJlqNrNq2fPFCy58z2dIkkaHDyW7S3tLrNHAms2TGBFdX1pDactGk4S7hZdRp6H2GIWaoXnaTds4gQ4njYoYYTVqtHGdAaVLdFf9bgSp0OarQBC5DJMRI5w39yia8cot1PvNha33Yxdag1342++cPLG/KCGu4zYGiossSu3XVlxfgYnkyjnr8ItX9p3U88Tavs2jCEH+m0XaHOWMOeJPs6Fr4EuAM42Z+67XrYb9+9bE1XT7dem+/oxO5AJ/yvJ72gvR2jZxK6o752E7ftb3NWpjvzC20lVjK5WlypTreButa67tWhryw5+fbmNlLnOgj+YyatdjqZCr5gOqxiW1eN8PfPXNhgU3XX/2aaTZa657n2PRmplWTJLNCbaVZx4bZ+tQGKdHB0F+kplzRqHqiZSXRKK5R8sUsAp2CEWYIP6ctyLfzXhlpJ2/XzB44orMd3KOhTRQteuXXGXao6E5N2endO1cDqK55WCqYX/jaSNu0WW176YRN7OCeDQ0J8/++mmJ7d6tvTepkWEGMHq4EoHJeYGzMVw19wjTbN86x4aPG2JcTl9r+++7toRpxOJSz2Q26WtqOd/7kAzx7pxb2zz1aW63MGpKSxtkbv820D87YzJEyLFyQBqZ384fjbMZCiEbEvAKEQFh2Ucds1dg6iEGiG0c0p41MTfhXY+ZZmwaZtn37HBsvpK4tdSiM6paPJsiIXeBMU4+4xocd3s+TFjqi779JA5syb4kj0xGbN7JX1TcQfvMWtWzhkhIcBdZwygIioUwBMZvk1rS9W0sF8cJA22mH7ZK7KepVhhIY3JeffmhDF2bbZlvsZgWL5jszWVd99N2zFl81MbcJUimOe/kWbW8LpMLrZRn1mspmNN96XPSSFcydZj9d0cfaHXu9Ne1znA2992+2bPEC9bOGzfn1QwdnywPPt1YHXyCJrpaNeflmm/P7Z7bZVe+4zS5J4DU31ST9jXvxOmeKTm0SLCmak+h3kz5/tayGrSXxiKDC7LFFqo/zBn9h2c06WU7n3rZ46lipQ+taw20PtUnv3GtLF80TE6xp1cTkRP0ljWbbwjHKsyiptP4W+9iSWZNc8my8w5FSV55oS6aPs5qtuomRS926lktyPgVrYIF02bxPf3v+tbvslDP+YRlKVVYIoz/vTMCdefPn22fvvWnX925meVLnYN8K62BNcciZqP5qi4lBVy5+Y6RNnldgTeuk2x6d64kuzLXnjt/EmdXBj/xmPaU5+r+juth9X0yy53+c5pLKM4Om+2D2717fbju4o5hGur3xx0xJTcPt/dM3s5Z1s9zmBfEnBIF3PSOp6rfJC0U3IqkvQCP8RhrbuUOuS6qo/1askL1fDPj3UYvcW1SbfzFVxezp+b6iO8//NM1GzMizbdvkWP7iyISSmS4GPXOJjRPDPn2HFq5WnSGmvI827zfLtDJownyXMPMKWCFrXnxO1IxvvmUbPaZ3azv/k3d0EPXF1qhRoyJ+Amv+tqrfQtpHf9/MEeVWieMH9Wxg27fLkbhfTQiCzSYaYBzBEepe+Gm6JhpjfMkMbvcuuda1UU2T0saL8MYRjx1ZlnY/ddQ2OzBIEIg6O6/AGUk0eVq0ifpzpSKEObKD875UW2GNa8tdWki0SJIVbVJ3bZRCQmJWoAwZO3VpYgMGfWl5i5coiHXViMja6F+8TSd0+nvvg4+sVsdtRIhl08wT01hHUgV9qQbjEEOCSY178Xprttcp1miHI/T7Exsvu1W9zfbUwozmGEkOBoGUlCbGMvun96zFPn+3Nn0vs+lfDbQJrw2whr0Pttodt3LJDSkwEO0ixFYbnmmfPyspcHy0cw0I68CJGFz9LfezrCYdNImJzC2qAzMtmD/TJbkaWbLn4sAiApcudWPBgllug0Pik8LKEZzvBQtne5tptes5HwUd03MbizkvTDjAIEVUDBGLz21p3x0OSA9LFln99j3tl9fzbPKEsda6fSeHVXmZUlBt//Djz1Zz0WTr0qyNLdHacuitQjul9ZPrMDfUkuNm6wgdaWS6Nqlpj/RrbWO1yb3q7dG++U0X1+F9tSWNoe1B9ZebXcPpDDb6t0/p6czlrIEjbN9us+xv2zZ3JpyTkPzifYVmZIvxfDJ8jr0sqYt9jXhesgQGB+3Zq0s9myfUcCV5ku4scwmtgehO2DM53RGTWrgEulOIbkwDdsqFoknUAQPA8/rarFNm5yXoVEWiRgLPl0gaaN+krmXPHWS/DBluuymFIqWi5s0bq+IlbUsZQttKqnpLTO5XSUy7dpQuVwB0fqLJS8DSh4k0ht3r54u2FoEqnbPMkCphviYcBPSSIAj8BPjo0X0B6Y/vQUUQVU7c0Af1qQeyh4KtkH6xg/GrFYk4ybdEXyASkLklemkzSXGLpo6yuQsWWlZmobqs2CPr5WdA6CGjx1mNhmIky5RCbR1Kbz4NoiA1smrZzO/fkvPIJtbhhAFiHEusbvedbOH4323pgtnOKLwkkIrfy0Sg68qG1a7/De7EkdGgpc0Sw1s47jfZtrYXLkKZwuYnejwi3iKIUj9uc89QMfLScTF/zgxbvkTMXurQwgLSJQJkkdLAMvqEjZA+gmDFESvRd9SmyZLI5hGNS8+vRVyMdd6/Mucr2OAJZplitFazno0YMtjadIiOtSpev7TfUcDwChszbrzVXz5HuN1JG0g52aistC5La+RPri8X56gpxvWDTBTzJC09eGRna5qTYXuKuWAewcbuhfHogz/W/mIxFJjQrQd1dBPKdtp8v/H7TPt54kLVjYAdQB7hRPQLp5jpSkbxyNFd7OmM7qX2bp7ejSaK+l4SjcEQI7pT+KjTnUS/vI/6X8C66DqSY2giMvXwNKgZ+ljY2pp987FqvRWoE41qZVqrHGWYEoPbfaftI7zQ9fJucNasJ5X/6bS5mmT4B6pH7GYAhoVTUkFFmS0Rfpe7frTR2n1RLc4AeYrJBIG3b1vX5rPbEaZSDybVKjdLu6VljtTsjrg3UrsydNTs8NwYnGBm9KWxbH2w2snz8q1FbqYH7o5BtaldG4ZddlmldLWk7q/yNSciGhD9qimpc+mSPElzMQK3yi2unQcCMi9cuNBqyFnHOy2ism53cpGkg1dkWk05j0itt2TWZP/MrN/CGRyFPoUCniH5wdSWLVkoRiQVn+5XlxMKqaAYV0kLNWpD75OL/6CLt7UlM0UgiyNjYgvV9ez/Wu0OW0p9mGBy4LeYVFbDVjb7x3esIG+u7HeyDYqB5U0ZaZn1mkUOMeoXKlHvs+pn5sopSra8fHml4mBSXQwzb9oYH2sN2f+c8a1NZExCLfricHH8FBzS5ZAhlers2TOj/sZgXOyxlX6ilqOtRXmLLV0Sa7rW4aIlhfbzlR5YzQswSzaKGbKf4Tk9VyYJ6EUzMTrs7S5gxTgBfSoQEec+ZbZoRpakMkwXXE9ylxL6g6dhI0lTZ780wt4aPFN0BvpTWBGmw8b63F1b2mnbN3eVYvAUhe40EjOFwU6Q3a2dHEwoSJs1Rfuw6wXHFaYAeoVdkL/RM/Okcs3V/WqusuQetC2iqyV0dE0uOR4vd8k3R04xM2dF66u0NbMmr6rKzyqkgtmOdhpIaCwYEMB3HiVsPeA/6MSbyRgMgsarhN9MNkjAbwpSEGL8rvJ8vOT1UfbU91PtX/u1k+46zx75ZortIs+jhkKqeVJJglzo0hdIAtyqVW33Fm2iEv8AACAASURBVLr/y0n2ZPtu3sadn02Urj7LOjaSzt29KOlBeFPFToUjC+1DdEEoCIr+cT1OqCv2rWvQGv2jz+xu9RdPkLsGrZbrUd6FZ1+tVptIintTqsmPrW63HW3R5GE289tXLLuFvCAhxlAFl6YSCJaUrNTv8B3pM0hYSE66XiK8xYTqtN/Sshq1KZXBod5EMgs4soJ+yjkjt+fuNuaZK226VJxtjrjcFk0calM/fswabLW/M62lefOckaG+xEZYp9M2aqKGTX7/Qet65iN+f6K8KLPl3YkTjMfDaUxrBxNLngJgyeYrUqdGoSLULBFWJTdRyJMFS6YGdPc5qsDCGoK5tZFn5CJ5Sj89aKpUjM18vT/x/TRbGMwNqgfdgSQxhkLX+mrRRll9omuYJryf+p0UvmLEituYQDo1yrbtF9dd2Qan5+B3eIrHmY/TKdEdbPvQsPtlA+zTSRotoc+dn03QBl1HMUm9ulBjqMcGXe+ZtWiZtamfaZvo+gNfTvbQKpzwLntzlLe9vTwqsctVr16xdCowMjCO8aJqTpWVIRApinV91qKl7qYPUqFP5rfjkdP3iDBxjwDMWw7s4DFtIFlJK9rbUr2AoExG/tIVYkw17YydW9jNH413Ox6SHF5U7KKwwWH32+nun2w/eR5dsntrZ2gX7d7Kzn1Zevvrv/Vd2HR5dz1+TDeX+PIlIVaUGmVl0MSuqP8Og8S/Muuu15uJOfFJ4W/dFRjHMhH9RnKhn/q/Z+2Xa/cR42kbxZTJFliNMAEYsAjpUtm/li+NnD6WLpprNVw1GG1V6LHfT3iAwlwi9WZ0PyJ8qJT0WxJWh5NuL6Z+LDrmpQvUlphP3JuUOLKaLbu4nXDs8/+yqZ8+qXfMsupihk33/JuHHuDV+eNFva3Rjkday7+cY8vT86yV0p2NfvxihRZ86Z6fS2WX63bu06KyshHHPFbXFdTDuozgmtg8ABkW7ioXcHyVHyrXAzAkbFdbt86xw+U2f47W8x3aqLIJZv3jtY0nIv1GUlvAuhatgTHMFi0JhIb72OXxdGTd4wE5Q/FmEZOn/0h2pLaqrjjWZXb6js3tPEl8jCsOkvCbOvxRn0L7aIXw6LxY9OfvLw63btd/5/emSIv0SL8u3l9ihU9/YZj39Zn+3T0A/JxdW9mRj/9uW/znB9Gx6pL4ltiVe7eRR2imx9QWMutygexPK4VNjG+5E/T5Tx/aCCs4g8NT8UjtPDDmgoi9FEidLWeQgPBhwQRA4q5b1lpYKeuBEAfyBMO6VJ6a7ILeHzLLdzrHb9NEOy3Zt4QktaUCIAYGsZ728ZA8dssmUlNk2sCfpztyHbNlY9tGXkzzdQ8kX73FvBozHV8hq/H4unpkfXXTGZRi3tJr5VrPy9+wye89aHmThlmTXfrblE+f8J0STh3VamRY412OjaQeqXzxSnTml1AHop5svNPRVrNFF3fgyJHkRNgA6hhK9J4I+/hO+EFZyIijjUs4CSLgpF/P4VXZ9qirrVbrnjZbjjEZUkE23e14y27aIXI6EYMj6DtdSan1cu9Ls91PlLq1pUukqF4b73KMS5CR+nPdeawGXGIsvsfUl4pYBxXVTuhfsp+RSOYSzV0K98GW9umIubaHnNFwPHtSUhxMjs3zQfKYRjsEHdq8uZyLNO2BOcAQ9+nawB1RoBeYPP6qeNqa0vIEJsc7o01QNd+kB0ZQvE/8hn5Aq5K4od+wOhhsX8XdNpb9j404e/mjejVxaYx7aJVaSxqtVzMKJcHhbdu2dey1k3vaE99NFW1aalfv01YB6PVdWKD/FTE/RccQzb63y1+qlAiBZKoudMswIFQISFJ4Us6RB1BFwi4gGzsk9NnslubqHSEWBSRtIqbHjoidGsjHNeJc8LyE4WKk5n6Q3Nb27oX3swFgF3b0k8Ns4DfDrVVTZeJPEMwSobqOL4ZjffbYax8b1rm/tdt+f8tfhM0pYTxfB/0J8IARTfvfM3K/31YMorvN/O41G3r3idb++AHWfO9TJZ3NUsaQhpHNTVJPWi1lhxEsk3ky1dc0MUlSc2GTw8uRwHBCASqSSARcJH4O+xU2tGWSJpHMAkMkiNu9JCWZoj5FQqiRWVs2N6k9kUQVTuDSYXBAWQ84QYA6WWF++U8/e/CMfa1v/5OSybbLM+0cJcR5c/c8+Ih9cdtp9sCJO8g+pjHp4YqCN+vW7dha8wN/mWH1RGt2kTPbH1MW2qGP/G599P2xY7o6s3NpTnWRrFj32NzQ9FCYM1SHtMV9vC9hdnPwtsYksobEKr6mo/5GdId38z4YGXQHRovTC3ybjCWBTmVJq0T/uI6JBWYY4Lg26AW2xha52Xbuc79Y/YMvt2suOXeNU7aVB2eqUh2X4AA+oj4TE01mdNYTOxeh+RoT80BMwu4b5jU7cc5qXNoDeSZ5vFvhzsqRRYiCOoDtKr9hOIjm8cI7hHfOBMFz6oX3xT9BXLdR637Yvfko13BxFOnMRvgD+PNXQ0HRC8f9bqMeuygJhUbb9/Vg6KWLFK8mplswTzFNCTubO58I9s5A3CuR+zP809NSKX6OSfUMJyprSiiK4yIq0hXeB17Jae6F0h7OK2GHHCRMbG884/Vlkwu2Qq8HDDDYMLZYO/5Ol0ATyMnYVD+MJbqfcF6inWL3qz46uSLNbWc4tZ390nDZ2aP1u1nzWvbPPVu7Qxprdpbu68PXJtIPax87G/DiDzoQ7mPXQ43p9CDBRNdkTYc5Ad70BSmSjS2FviOJOY7rE8cUphNTDdegWfgOLBT9ip4nd6d/dYZI/7DDUa84DuLwElCjON2KWkj9f3Uh4FSDiZVG0icB/TI7gygBcjRDa0r848/zHcYp0lCkz6FO0mU30a+AUC5VaofEUyB1CCKnkYAwBIrjVQTis4OKkKaQkMDcuF9HBmLquPpA/UmVNYdAmD+O4mnb7xprtP3hbjtLq11farwtnGh7qi4WuDOSBG4544qIHTFmqA49KDvcTzqhRH2saFzEcaRoCEG0HnhbpN4UoZKE56nGhD9Ilcmg8QTu+Zgk0ZGerIbqIvW5jTHB5GgLSZXAdK5jV2SthedglDVq56gfkk5Wuh/BZk3HveYzvPot0HdmmfV2jEwO5HQkMwgSDw5rxLJ5OitoA3BPzD2MpHgpTB0WqRgJV2Je8HKGCRG0vSawij8LYy2NTsX7EZ6BlsTDpwLjwyYHXYNuQXdC/UC30J5Bl/LF6eg/16kTZ4TF4ZD6XT4IJCU4qgPUd2UbayIX265NahVJY1O+5iquVphc3/Go2W/HzrPxyu1G2VS7PrIeoKqkRDsrsw+GzpIxuMA6yMsSO6InJk0QksDc0MuTcqedMq300uIKJxmsyaKouFFX3ZYKF60IvexsdbvtFAWaSyqDoEs8Sy7aOKyTi1nMb+b3bygou31kn0uoCtcHRCLcE5ERw0Fym6usJ/nKXkKy6NrttrDMRsqMQu5JbbecEEk6IzsKYQYLRv9odTpsJQebRPYUGLhwcPYvHyrEYLLG187vRzk0tcGSiz+xgHM0djYEWY11XwHuqB4DbNYHDCr8nQmmxTrcXJk9SETM2oTpwdxWZ6MJfKAN5KEcpBg7pD3yQIa42fW1pkO/wmb70xHzpJnK94wm7etnuS2SApNEentfdIuMKc0VEkH/gQvmm9WBSYXPWxVvMA1g4x5LYcdylTL97ysvRhgEeRixuqJdAZVwFQnqgsCAmCuQluI7mNimK+xC4ruRsuBVvD7twaQufWO0vfLbDHfPpTSslWbX7d/ODlHON7wzyX15qdxyMVZTyFV34W6t7B87tZTaIFL90F+yqNz6yXglQp1ix23dxBOjsii0kVyjXV9ZY6ps98K8RbAWPDW5YW6Dao0+u0ca9wQ3JxSuMoxset6Gx33xG7Ucu1J99/uScsScsE0ln/F68LhIBYkk5+2qvmOV7hP3NvKxC63Ffmd6qAF5Ft3iH+9DTPILfYhIHPPHJEbv4V3Fcck7UEYpXh9mBmMe8eh5Nuen96Px6PkM2bs6nHCr1dt096iPrB0hPQxpxKPn2vwhX1mHk+90BxUfg/o/+qnLFYLwX387DjUtDzxPnpnn8svypa4ddt+pSh32v8T9TMHgDHlsXuweqPH5KqP76+RWUdyJEjaEa2HtBziWRBdAIygF4QHch1aASjxbzd3oo/g02ozTEtp0d/7EKKE30CLCYXi+ZlZ1e0qZ/AfLpvfmqZt6MuJ4W3yPm0L4He8f7aNVWgkHdD2ML/HqUj+KP8u5kmOVuaX/k4M9dheV7LX7trEzRZPyE/4FqDT/ocwspB6kML5jlebwhgPa+/fKNPelDryS30gjDRZ68QiYuOymeT5KkAiUY3eUU0tnEAkbQbK5MrbCdMLuIlcqTQzBVMYIG5hQGHd84mO8r0SwOOKyClT45I+TmTsqnuWuwzpZb3lPLpQIf6YCOC9+bbSCKuvLEzNNx1RMc+Z27+EdlT+uoTOxfyup8+7Kc9dDee3YJaIGQHIjWXOPZjUTevvofYlXltinDe1igK8TEQVKE6TsKb1c0povQp7vQ0ayIDMJajWINLkkPaUVjA6CoCTIK1AlimCjmuPeUp1ewPe0ugqcVkk6YXiDwiGpIJfJc9JPDdBz/owcNegLbaapTbwT3XWO/tEH+od9TgzE7WWoOdUc/ahRRzFOqkN9pCAPFI+VOO7pgSL3ivwQ7vpxPknci9oHJnhZNt7xKKlZe4kZzbBhd5/kpwr0uvlbbxKVLP0e/9IN8iCt53k3nThxqrrCDmZ884ozt44n3WENZYec8OadNn7gjVavZx/LkZQ7buANNn/kD9bt/GfdMWfq50/bmCcvVQaYXazuJjvJwWXdOguVDqRoTXIfpsL6r6tUWqgZYRasfRzUmEuYSV05f+AEAizweGQjyXMQCtair209iPMYdAVHEtppJPqDtzRt4Y0Y5hDHFE/soBZwPomeKZDKL6JTtEOd6A0RQ6snh48ogYScRPR+nOjoN33E5EE7MFnUhtz32N0kDkT1+F0G5iTfF3DYL/AMuKH37Ni+rl2zb1sdETbGNU3oo2C/dfTuB7+aZK8rM8vdh3W0v8h79P2hs+1vzw2z7ZQkA29xYFKSmtbfkSrlgkAaiZNP2KapH6THhIBEbvTUVHBt5HQFY3872RlDO4nXp+3Q3NrqE6Sg7t2fT7HPdS4TSLlP1/r2FyUoDQgRkCX0xJstZ+FZGB47ofP7tHKERodNkPf5fVrakY8NdkbLZu017YD6KIgc/T567H/s0lJJXWfZq7/OtF5SCywRYs1S5oTbPp1gN+7f3q77YGwS2cvZnQ2mmm9kIBQZcsVWNvypHz3qmUAylZC4ya7Huns+m5UFY36x6YpnWzR5uKWLMTXtc4KOktnObUTYoMaJSNftvrMCpId4UHfuprtZi33PtAUjv7eJb93ry7i54szqdNzapZuCuVNt7HPXWP2t/2JzfvlAqryfPT8lrvbkpVwOoUKyS0hs2LIWqg9TxBzoX82W3dwLE89GZ8bKmDLx3fts/vDv3EbWUO3W33wvx2FKcdxLUNdyzaPbzvQO7GZtDrvEpUtORMht3tmlq1FPXBJJo2oNj8oFYlAzvn/duvz9Ifvt3/tpP4DmQ+tJcJr53evOyJrsepzGttRa7neWzfr2dTG+VwWzPRSi8LGSNh/hiZ4L5kwVzE61aZ89YzO+0/1Ndk4S+JXGU66RVGylAFuYAuaBB5SA4Ztx8zx35AHdGypzfj1nIBDm//tqsn0xeq5rV8iof3Sv6GxJGM5j30au9J0VEvSwjpUhWwlrHMb3zzdG2W+SxPbXM0dpPeMdyeb6Px+P97RdbLhJotxeGUZO3b6ZhwpAJ2CO0CP6SGYUPCvv0TlumDbwbDxuqya2oxIrQ0PQ8JDyizyVBHZvJXUp4UjBQ7M4rFeFbgFxYAB9JDD8bm3MZyh2F+YZPD1hyXipf6ZQCbRIJ2/bVCcYLLV+6sNzCkt4Tdqqwzdv6MytCOOs2OncKFpL+5cknV+Ug/J+HQvhO09SPIlpkBbny9Hzrd/jf3hqLCSlIdMW2XvSFw88sYd1FXKe+8pwZSWY7icHMIFXjR5j9aU+3FOSkycl1STChMhS8pyygp/07LBSgbqlspZ8qMTPSJOcWBsmlk8WDJ8g2jItmJcUE0dWFNLxsHMkCSsnDoDg7PpwNW6r7AKDpy50AsFu7ZLXxyrbQC0dpFjfLnx9pGdVoH4oGwsiuau7pJ7F08fbkNuOFVx1JI1iwDj6ZfG00db57//nDhWjpC5kG5peu4EfDDr0vlOs82n3S6rY2d3myVYy7YvnxQTqOYzHPHOV5U0cZgvG/uoMdMmMcc58el72umxWbfTMfJv6xXMi3K/70TaoM0c/+U+PlWt/vE4eEMOqBpXSszCsGYPesSF3He8MDUcVDiSd8+tH1v2igZKSGtuoh85SkuYP3KYFwx09/FsfR+1OYqjK6u8qRqlKSbHF6QajJRWVVuptvo/1uOQly5873dOEJXEPyVXhCeH3UjG5Gd++ZiRw5qQD96ZUf8c+f6012fkYq6kYOhxMoj2/xiKGljdpqBjZ7o67hEJwTFBW0/baXPzhcEPiWyiY5c+e5DF2HOOTP3OCLanfzBkii/LPZYjSRlax14EDJUObznN1nAz5a7FlE7/2zZjRcp1P89ivAdKgoC2BLsAM7/3fRJsk+/ml8paE+P86eYHTA2xOxJR9NXqeb6BxcBup5MowxfNeHeX5KyH0WBk4ieR7MVM//kbr+RsxLs6VfOWkHm6Pj5gcqkZtZsXcjhLdGq0s/23qZXrQdd/H/rD/UwpBmMgjYr7/eHm4aES2M+cHlYGEjTIb5+hMyigrDOOcNn+J9bz5h1IBiXnjpwu38pje/MTJ2kl8Ef5w3E/Rk8A1n6KxoDqM/T2NYZiECM7eHCr6Olx/dQQHnknXGomUraW+PnXjTyCQ9uCRneyU54bb8b3n2e6dpEIS4IUjjoj/1qF/2yiA8fGjuzlicU7SQQ/95vru2w7uYD8q6Smi9bPHdXckZ+fFoiVNTgjOZBeCugHD8n19O3nbMb4SMVV1EiaITjoe8R8Qxd1M9B9IdP0H4xy5B57U05GEP2yF7AzJSEDb7PJgkngkoW5lIRJz85SyDlQT4wZxqF9TO8YVMu46CaFjG0MRgFBJkoUDp4eeV7ylYOs9bImSEueN/0MQ0H0R+WZ7n+aSCbY0iDz1Z/6gur32taXY2tRGrVY9rNt5T4loN7ThD/7dg7u7nPWoB3Iv1tlug/65nc3943O11T06z01qO6S+zqfe62esTXjzbhujE7WbKoCao2vYWbldToxp7Av/klRziHX6293OEGG+v/77L5J8Blqrgy6wBaN+sia7HWedT7lLTGWxS5wcZ8NhqcFWWF1OItjRcnvsap1Ou09zDH7ESYZv6ZR/skXEmGIem0kmR65G4TCMHKZPYHmnU+9xiY54vSkfPiIPyFw/3sdj9QQ7pE/6vEQMkKwpqII5Ud2Zt6RV4A9TRlpttucpNvg/R9gvV+8lxtfBlujcuWqCzQolqo7YSeXCS9YJtOHniQvsaDGL+4/oomNbljnTQouDKnJfbSJhUsSOsaYh4C/+Mt1zP+ZkRRtOvAofPLKLH1fz+u8z7MCHfncp79MzN5Mkl26HPgqdmWb9dA2bGufIEdD98kmb+OZ60IQFtu8Dv9h/JQ3eemjHpBTHOW83KVMSySg+UVvUhaadpdAEJE7aGylmSjD5l+ds4SYZ8uFOna88o9IiBDrAJ5t2NvecCRf8DIqTCBxJUHUWV29SjzaC7a+w3eg66tL+8gN4Vkfw7P/gb242IX9lvt4JQ4eORfNf/I2p36sCgbSDddDohdotTRBwEd1RLUHrYRoYR4n3aH7VV85I2I3xybEQ2NquUbT+3dqd9dcx8yRQ3UvHzG8nOxku+kF3zPJEUkKKIktJaYUDAmk7vpxBiijHWjVXX1wuBxjOZIKhttShiCAJC4XAcU7fDsZlHEtYWJz2i8R3w/vjfIfE2VA/TiSj+TIbr/F+Kp03B7tSNhYJzmPLZKtC5dfq0Itt/Cv/kXT0oqSsVopV6+t2pDypJSe+cbuI+VS3I9XQ8TakrlpegA0OCR9GVEMM6GAxqmzPy5jdrLPORNvE6m2+txWIcaZLAsnIbebHz8BosO1xGGljpb4C1vmSClHNjXn6cr1niphld2EeSKb+ye7EGWuL5ZU4/fNnIpSB+Uj1t2jCYGbL2h1znTOXwbcf7wyWHJI1m3eSrTB2coD3NTqSp2ZzqV5B7PjuKoGMJSVLDrgHs+T4oeH/d6Zx+nf3CyS16ogfH4NUpxPfvlcZUP6qxM3vRdKe3ocUO2/4N5bdWCntBD+Y7HIduUSB4cHcaIPE1Kghu1/4vE188x5n4s33PNVPU4gOaY3MBt7vSlB87jVuzAU4ed0vyef4xNrfr3s9ufzXccnjGUlnL0rVVtft89i5ogM6IxoSxbdtKQ/mTZWpZIoYUWupGVnPRyh7CGMlmTJnwr2pjWnYfOLtzOkDSIXQJdSKW7XKsaHTF9kKMVZOLHDthIjUCDHU6WJY2942KBlvB/igW6z7E3o3lUf2Ym3sh+lMugz3pubsNzbm8cIv2ussH4DSmA000VWJsQcLN0ecKB7i4FCj8pua5OZcYZtojC8e30NpyybYcPX5uK2lmRDz/VHM28OlSsDVIh1M/fhTCKQR4I0RGEcRh32CxSANMXG7aIfFSdrBJR8kR//NqQDsvjg/brBO5ObQP3JG/l3530CguXLHR0XJYsD4i1751OeHl9qhbk2y7etzerk6kuDJsJiQ6NCpw9zeHzbH3j1tU+sklQRG4aXqC7rsngobwA5I99mZjVES59/FzOgL7f0u6e1LqTg4Rj4Udm1f6KDFUVf09t3mRsPgEkQK+Lbpe7nbtxYrKz4ZR3676VDb/NqPbM5vn+r6JNvyth9FpNtKIjH75gylpJJTCDknI1jpE3vZcknA2Jv81GwtdHn+4c3oHoC6T3G0gnFJdcjZbdi2UAUSEE49HEXcyUPV/NBUXOtVv/4We7v0RV5KWoGpYiNcumCONdj6ANnw9nDVKn9D7/mbUm9dpesHuuMKKkpc8TOVNWXSu/fb2Gev9r6UVHDo2PSqt8Vop7kEFnDPA7+1DoY/fLbl6R2bXvWBq0fd8UNjzRNjXqzNwBh5SSaLxj7prbts/ohv5YjytTP9uXhICj6ZYvqohrEtNt39hAh+klYbbHmA4gb7ysFGts+RUq09eYm1Pfrf/g6IHPDz7+u5hD7g1o+qH9oweOoiSWiLnFlcqwTq0IPHJVXd27ejTsRuroPZ0uzud8faxTIL+KZX46AdDhj18ACNiTy0XIdWgFsMOFzz3z5+ZfQXc6INTBOchYZtq5Py23pucfDD/0WnhLcQwzxPEiM2+VDQQkFPmunzYR2oOmxanieWGKCDST8ZMcfulLOHB5aDx3ovTGam3tHnnp/LhPyvF2/lJ5+gxWJsSfzRd9SN8Cremy2tERt1GKnHGqv+Djr8ee+uPei0TZfXZWflvuwveyEbfney8bGv/7kvEwCV+GbaSc8O9Z0WOyK8DaPJFbwlzR2t/JQPfzvFDtm0ocetwNTYVTXV+UPoy495YrCrADCU8ptYj+8Vj3K6HFFmC68I2sRAjOflnl3qu66aqSpEORAz+g2jWiCpMEh+IBi4jdrjmnfHSI8/ye5RHrtJc/Olq86TmtGsi2xqqCD7bt7YDnv0d4UKjNahrQ3tLjmTYGTmO7smVBX+JrWXI8+vAx/+3bqr37cd2sHPnNqowgQkYdTQ8TC4pY/XwaLkisyCiclZIk/ntiFNZXJ8jaSOmfIA5DTsqbK1LVR8V+12gmMing2cjhZetPgKF2FQ94bPBPYDfi3UcS/f6FNBpv6xz13rajl3qZd3JQHPy/FKlHqv0Q59bbbscA22OsBqtZHrt5Im47CBKhMG+PuNh/ppBXU69XaGuXiqYtDEODhk1fyEb0kOUgeSRJkxNtIBqoXYluhTAvs4dgemWZgtBcZM/81GKkxgxtcvW+fTH3SHmgWjf3CGDOPKbtbRthwwyPG5uqsd83Va+a7W+rB/WtNd+8t2OUt5NfvZ70pdNkr2xkbbHe4SX8H8GX6gKxsBYudGPPQPD4wH5mOeudrj7BqKUfsJBepDZSFwgdmkCTB9//uH04TtFLdVV8e1jBbz+UGnV2ODy61Zwz4ePtea1cm0b2U3u/3TidHxVjCyBMNy/PH/FYYWRZgUzU18zKxhNuDvDZkpbdNIZ66EDf0kE8kFOKDpZGsYCH/QsMN1+vbbg2c5PUKrxCthYJxR2TI3Q4esjnUXfhI/cyoAs/3pyMSp8Almwvt9cy5m+LPoVpxmRT2M/g/PhmlRN/Q5bJYLxMC+HTvfN9lIoCMknX04fLY2/PgIZPkxYGfJIxwzD8LALR+Od5jA4GgvAk8cKvE3p76XBwJpE2X8vVM67Nby+GFHgUoQlSITQjZuTgU4XwZlpDwKqXXwlET0xrjLcTfovCkcAX+W4jzIAJ5UUQpRAoJiHC6tMJ/sauJIgh0N5Hjrj1muRz/thaISIIwLxsquEZXJjbLPcWRFaxmWH5Z+n+Mwlkhd2YKjfeiHXpIrhKagjsXIjQGaBVAdu9JGUNjnEqfG6dUsRPJEUqqL6bU58kp3gsjptoOcJvrZyEeI1ZLtc6ej/HRtCLDIiD/ngcioKiEI+kMViMRE4T5qqahOIsBb78zIaeROKjA20nVlSxrreOLt7mYPI1ouKQenF9ppfYhSfanNofec7NIPhSNrmvY53r/DlMe/fqstU2gCpcE2Bzkj85MHUGeq0Df66DYxqVlLLarDO+O4R8qxxZJuZ/+sGDhJrkPu6F/k8V4DfvQckJxl5+/SO50h4X0p9SMMPF/n4eV07m3tj7vJJqjc2gAAIABJREFUxuqU8ykfPOz1O//9wShYXGfgoV5FFTz4tmO8nVyFD7Tt9y/BpH7E9IWXcWJf6hjWwY3A4KprXeJRfZdUa9e+G8WZ7i/GduyWTX0T+W9Jche9NkoOaNOsuxKro3p8QxvjQPhR06E18XEleB5r37cVusYfdeL0AKmH+NyfZPu7W5td1u8Ve7WOHNo8PCFSBeJ0hmR5/QHt7KYPxtuNYhqUlqIB58mJBDtbJ3livyybIOFFFJK/Dzi4Y/Q+Gkr0IeBxc0mDpRXYEH0LY6Oee38LRjO0yT7iv7/7qd4UnFn4u0D9uHzPNm5XZIwnSsigbC1Hu6f6d/VEFSHLUmWZe+9gFSzVhl66zQq8n0IC42nSibNbwmWWvQNxLujJQRycM9jxcB9xHA8kvITI+o8YjqMIzhvuLAIwIDCabCc0+gQZSiu8K9Qr/IxsfqhRQ7aDsJ9hbXB2nB/bowJCTZUTDA4t9J0xwaRDCe+G8DIeJEbshnHjcUnIxH2k0A0l2TLrV1CVtKJFK2ZSIM9B3OCxsZE531WMCcmGwz2pm9mglUsdxKKl18VNH7f/aR6j5uetaQrwkoQBcp8CLJfMnuInCGTkNLZF8pYcIiKOswf2PxxcIO5pctBYLukNXCGUgOTK1Ym/k3SDGnOJ+gCDwbMzLUdxcpLKcEKpJocS+s5BqVxLF/N05w1SZIF90M4Y7jklLbUUVSslnxODhRHDqCPHlQjX6JufMgAjTTqt+AvdGxLnE8YRYuuQEBkbtk+kZzYRHgivPhFnSMwc9+l0uk7nJiuKwwTmRq3EOErq/rpMtkw/KMwtDIZEwxBiHC0aSkWHtgW6QEo97uGSD01grU2Q5gW1Ietvdp5iGkXzG0rVSEFage7UV13oDVIROSdx4cdGhqrwuKeHWEeZRjhHEpUo9TgEGVUl/aE+Nnj6QT/xwJyt0CCYC+2xEY4Syotu6Vns8GyeKRyenCvNTtwMU1665fDgL0Hj4p8waRJIMz6EBmYTugV9wieB7zyLQwwCAwkscGqJzo+LWi5r7mGOqWTLPoWlljSCNWEKbijVJIA0SDquD9djIDCZsxtXhxkIGbVbIcYDREWqw+OpQcJ3BH23MzcmW8+GieftTDy//6wEJhMhita4HvLTvEt4mN0YfYJQIGk2rJWh4N+oj8HdFyRiXPTJa+o78Sms1fgO8c/6taHc98NQkcISEkuGTrBGVQazc1tXAk6MN7NhJJ24U4Rc9ZmTQOxRoyGteHJhNYkjCoHcMMEAZ09Xpfd4HVUidg0nEOLqQoA2wdlB4iIWL7S5YoVi3WSDyKjbUH2KGAl9hoHR3xVieunqE4wNJoxU6oHnYgpgLtgWx6UIG8uexaK4F9n86FMcJonBOZN1JAJ20YCdIWU16eCwTebdVB3vq2yB6dgqianTb3+X2yoj22WmThj3ZtRuEiY8q2uhX9GL1t//Qz9YQ3lS7ROOwyaTbSRSTKALfMLYaihujeusUez20Ac2jKxTViOniFDYQKKyw+4G7VE1926spr/IrlUYjI0JhVO22VfAkGiH/nh2/2SbkTcnTA7mBQyhZ2ETD61gc14nU8blxD2c5oLWiWtxXCiB9PhzxUtx/KG9lqI1sSXlj0BDI3tj9B40TBRg5WYiaDEXNK7KMvfewSpY0gB2YB4A05OBaiCFgNWuFESMpOzoXmKg1INJRCQtWu/cwhvOmRwLVDPlkxWeYV0nv69cx9e97gek4Hk8jmgkyGPJ/no9r+0vD/0Mz3PL+6AaLBwK96JdX/QsC453UGiX9sraNUU1q+7/GWshbDV2GEYouhHmHRhEUgY3BROYGVTF4SO4ugQSqy8phDoRhBOwpQ6VFU+EqzwpuLCvRQmVOYRUjCvBIHyeirTJIkcVGmVWiboYzTX/d1XrMt2LeKdfoURSU8R0vL9hcrkZcCVCjBiOR61HzxcSFXeiKZYdxftLByIs9f/Td6e4DpdYjkq/Tr80DneU4TGed0RLPAf+xd6D1JZQsTrmAhea0HPrGzd9nHQlAb/AoPya/sImku/xtch9Pz1A//EoNMOf8fmI4Md9foVrcccv1igMEmkuMKrwvsL6RdsEA1wVGlv30duivsbvBRThPaEPrtmJ/oumK9G3QBuK07bouaj/8Trh1AQfaKKEfgBN6NKiRB+hP2jCvOj9flmfGwNdSoy6wj9kLw7gjtoOSBrexP2iNQr7EO4xoTyXJZ0y6gp2Yn6MhVQTqBLYddEIk8kuLmTUDs9l67no2IloF4P7Pw/4e/kfiKd266gekx4FTkaLpaR+BgQL94ifQX1CN1g4PB8xNqkydC9D6hZ2T5ENcsPeNYX5Lpz3kmc3ul94z+eKtFgitPEz0OLwjyYrjh8RM0CiwV61yUUvuCMGDA6njHgp/j7ulXSt+Pt8rkUV6Jur+8QQOUvOn9fv6LoYKXY2z8Ii9WbUuDOY4vjPb78uJkPasYgJO/K6NOonjYNIEB8+Em1Uz5KNT4zKPU11LeJKIlgh3Rl1Jd1yn3vRO+g3h8AmUkzJ1oj05s+roDauJnXlCoUYuH1PknDx/nrFdVTi7+Z7yZgTzVv8HuNBSnPzRWLt/Vlb3j5wVmFt3vSX9r72MZWEE7jjwy4Ol/C7pD4Wv8f6R61KIUEFtAG6RTwtg4Qhe0qwxFwHswV1gomEPhbSpcJNcnE4ONTAhcQ7gAnDhOHyfAgjoD94UkJL2ZDDqIuPcR1Ne5V+TVEqsxpDYbJhangEnfPyCPdw3FueS/85qINfe+L7qfaOPJoIEifY++ydW/jR9SA6SE/M2k0fjbPnFTvToGaGjn5v4fkkIyaoDgmpYZ4wn2OVuHSWdNpkLwABAsIV7zaIwD3oBLaCgTIo3y7PylkLl9qRvRrZP3Zu6e/mGIvrFMz+mE7hxT5wl9yEu8kzM6hsi7dbFX/HYRQFOUeEI1yPiCmLJ4JnNMaIwCYZlgg3tja8LvNlV2t/3I0ixCK4qhwnRFFbgTFFizi0B3Emy0dFSiLu5CJnkLxJ8kSUKz/ZUxrv2M9aHyG3fUmTOHmQUoxUYjVbdlHc3yWW03EbMQtsfiU7b0RSqg7jVe7Nye8/pMwlryhkYoKf9N1i3zMsV+nFUIX6tloAYPyobYfcebjshZOtxz9f9bg5Z0ayG0756DGb+I5Sl4kxNunzV2u+z2kR8yOMQcx2wht32jRi/TSWJvK89Psq1SXpjht4sxxTHlJoQjPrePId7k26XDbHIOGtbXyMz6evJ+Y7Mee8u/i18Dv0i7o8AyMYJOeQG7TWbj2oo0wOGU60PTdjgokVbyvePt9Zk1QNmiGurQnBD/gP/br0jTH2tk5RgQY8JOc0MowQi/aS6MY7us7xPrcqsQWMFQYEQ5wn2971n421gcrYAiP8m9KGkfKQw1oDXgQ4hE+nS/qnqXYV6Wfy3LxZDnqj5V1JmsOLd4/SlbHhJ5nG1e+MdTXwDXKYIQkHdkPoVqqUHwJBIE7uGoP3kqseS/iLdhiFxCsgCgyJmJjNW9RSAGYdNyy/LldeUvJ0kHqBCRyi+/0eH+xZD5hg6lwsb6t7Pp/oE0j4wclK5/W2PK7wuFyuXRHvw9vo0W8me1650YpxWwphS+yCShoqfeI5DMvknCOBaROpN/DyvFvvulj57jhdGBtez2a1/ERh0pWxiOILqKS2q9q1wOzpt0sz2IEEn3DdJRUkMwrXRXj57XVheqjpdIt6EPrFU0fzS41RL/JO5TnaxCkkpLqK2tM8eT2lbArSEASgWOFZitunkHJK+UvG1YX6Pg5JlCL6ecqcQq7M2m039Vg6pMTB8nyc8/sn1qC3YuPkBDNYqckWTR7mCZ1dLVhSXzRevC7n6IicSe/dLxtgkyh7i7w18XSc/fMHHlIBA8M5pLoY/5SPH7O5OkUgT7BxmyMbAtkkp37yuMIMzrWaCm3I6bqdjXvx3zZWSZnZLNBvcnOSeJnjc3K6bq+g+1tstFKe0eYKMT9UuqT5IpUXDipuXyyhz8XhWVG/w+aFd+LogSNXKI4TWoSuoRHRdfWefiORRGsbW2hEJ1hTSEbEo6K65Df1gt3fcUdt0FZgWqE9rgVaEYYe9SvqSYAH9UuiV+FaUFUmcS3RGOyClH715epP+IFA7O/71/tjxIDmOlMjhRZMiWedaWtg570ywu5VZhRCpDgGhxNP7tAmOkd0K+TELD4PPE/iCejZIIVUHPvkENdqESaAl+lJzw7xR9DgkkrwQF0nAJxNPYxtXc598b5X1d9pPmlCOP7cjV4TDfKVVjCCBhdW6kTP0kbEUC7Zo7Vn0J4i6e1gxZnwR5YCPC/JMLDZLT/YRwrY3rl9rn0xao7nrLtRx0Ocr+Nt5sur6YD/+02JWqcofqW+LxC8jQji/lhxLJfJtZYdj79TN8NiKN5XxsTiQeR/UHnndlYw5atK8VNbBueeyp5w9duj7eydWniYAzF0u3asp53azCRzK63d4u+pCr/D/MIclkwfKxuYspJIbRauQziJMSOPIzkgiQfzk7dVcOCAMQX7kaecSjA+PCaXKaCaXJEQXlQv5HJETYd3JO7+EHLc9knzhcREXfcQDM4gMdyjf36agJhkaQUmhXdhSMXFPBFbB0PBq7Ht0f9yZoKkOOeXj2yRAsl7Xvm2ckfu7VLeT5f3samfPmntj7ned9nspovPNQwZNWJul+1t0yvekVt/C2d4BfNn2aALt7aZ376qeLZDleJNh7kq/m7e0K+VE/Nda3vEFc68gEOUCm2uS4ANex/iJwUwrpHKyTn5/f9TwuUzXZU6Tfk12xx1rUIiLnR16gRlj4HpNd/375alcIKG2x2iY3n62KxBb6ufpWssSoPXml4PBBWGhAYGIo/nY8QbIomO4Gs2o0gaMC/iVDFDcA0HFBw6qMl6xBxAW2w+ySiCRzaOIBScwibJu5KAaVVxGkQ9DkZF/Qdd4h2YLyLJEJoV0QCYW+Q0UrpCir7hNcn7KWHe+c33IxXKcKkyM02UNEXc7i0HdnAmQwwftMFxjfeov0h3ZP7nFIATezfzNmFw/1XM8PGS4ogrLkmlWEhrTVqjKR6mhDaquRxR0Hqx+f9CeTl300Z8+3Z1XSh4V7l/GSj0tTiurun8bgzPJ21wLilJZffyLzN8xwIeRIgcgSH8hnn1bkNQeDwoG6SJEHe6cjtyqChIh2cTd/yY+cW4EpMotbq78KdJzP9m7ALPL0kKngmKx0PnTK64y98e427DTYUAmOOIZTl5W8UcSeLDddilrAjLS5wj9lmZqssBqaS+uXLvNr5Ixiu48wDF63Cczrfj5vvBqbgST1Y2g4Tdu1Qkqiq7p5L66bFgWTVt5G3nOiPrcvZjkUu+Yq1GPn6Rp8XqefnrNvWzZz111+IpIxyuSBXt+99oWWIakXpTkhEhBWKQsz99SgT5DuuhZMrpZCYR4xunWC8YX+czH5ZHW4YnJh7z3NXKrzjG26vbczfFvd3qKjdyLSItUugf4QRTP3nCM52Uhnz1dFpArTY9ijK5BJNE+itQkPpSeStWl4pwzu+fKm5ua6sttd7iyaOT6bzm/vE/t8UFJukdiBUnZMBLY0pDOtR4iNGjz4RFeJiE1oo/L8Y67qXrpXokXRhxa1LBqsDEFymvJ2e9tVXgOcmpC8TQGm17mE1+9wFlcPlNacWU31CbC4Ln/Ygi2d9qtVS6Mo1jwagfo7Rj2hygEo68UFfe0IW59s/4Yi02pvL+DBJXvD50oY48rZ/7abZdp8Ts3yh/I5tV1GgfDJ1jp78wzN44pac7kZzx4jBPisxaQt138W6t7QiZBLx7+sd1bFYkVD9c8WFXaF0eolSBFAKxOUngxRM28Y0nm2E0LR8NjzZbbJJv+ksHP7HA3eidT0WbcvryqzQwMJ3S6BZemiSsCF7eYYwBhvRppjbl0C111ZkbGiBsftFGKGLoMGo2+AKLpxoj8wmMu4doSciatBvqRDHJ4mICuIU/Avd+GLdAm/+GzuDHiEbtIIZGPB4B5wTLE15AaBJ0i0IS/HgpnHvuRXWKVEj9cAgkJbhlWtS1MtI9pdZLYnIgEJMYCpOFn9LV+7SxPp1y/dDCGglvL5CKwgSCwPrPvxOXglQIQ4K5nfnicGsv5D1INrY8xc4RD4M+u652Z2GO0H/PEdMhBIE4tWuV5idLdfrpfKQHpRLwdtVmkcWdeHfoK9Id70SCAwFpM/KxityPuefB6PrkO+oXfZRYItoR7Z54Z4TmJVZd/xfVv2iXx8RFk8dvjm8h7q3RDkfa+JdvcjUj0lnBnOku6WCbIj5riU6tJjVWjoKsIapk3RitFFebSAKBmFCcAfAeEXikkgA2vyZnCSQgkh7PG/aNjXjkHGuiTB5kF0EqGvnfC23cC9crFu5eW86Dif7yLhwqpsoWNe+Pz/SSiHkkAcrkqG5G/RaWI6ZV5Iy0xMTRL6Qg3s/3fOL0FI9GvJzJQYO+IUEWzJsW9T8xjuKT5uPgHupSMTDEFjK7jBt4k4+h+V5/c4ZHLNuEN+9wZty0z3GupnQpC09SfSJFenhAIqCe/qcr5AHJFsZHQDeZUEY9folOabjP2xn3ys3+DAyRtvhzGCfGWLyvPrehv7HxrA7B82f0X/xdDlMtJpjC3spENEDak/fERPoqUwhr51XRik2UJBiTxAfKio/Edqts7651kXrvirdGKUNSlHMygmtEjGmXNecbVd6r6YXeoIZDC0poACd+zNEaJbky7T6poOwLXxup9/V0b8oQ4gMDhsGQZ5ZE7NCeBE+I8BU0098ekoqgIa59olKihPHCuDz/o9xyucaYs5ejmaDQTzKlRB7YmFyIWSOH74CD2rvEd7s2zTB5EkwnN+DJtxR+AZ4wrZmicc00DqaW/iHxcjwZ8YM8z7/IMS7Rg8IuRz3iQT0ZJLvVmfMSurfBXUpjgYCs0dEQBfbEsd3sRe2ISivsdJgE6pdWwlyExUf2kH++Psr+J1XjM3/t7rsWGKqfHKDZhZEmvrr+moLK4Rch7cdKbcMxFxlikMS0UI9zofCGjGJGVu5r1IKvG0egOKMO3x0/vITa4XfRT+rFCQmIV/lKYgxuo8FYAFyjfkbMSCoTEc0GOjNt7PP/dpVX60PPl/TxX3eEaKDjX0grVav1Jq6Cw7EhlKymytQum1iapBIvelWAHW37P4hsYt6cWUk1OfP7N1RPcWFyzpg/cpCkqkyr3X4LqfPed6kEBuuSlGLcIOKoADe/+j33GiytoO6kXllqzOR8hon3fgEP9RMdG8yzjFKEmQhZUH1OfPMuPymh69mP+vE2MDHyX87+8X0/WSBDKqa0mmKmeicMzW2azIP3IRFfQx/0fs8Eo+dRb7Y96hoxuIvs5yt29R41VCqvdNr30AgR1TL6ya2IaSQ2HBpfyMZTZAzlaIMqvhYdTNGcgud8DxtFjp9CMnns+0gNR7A1EtMtB7Z3iYpNJO+9SOvcw3oSZYo0OluKcazwHQ2Fl0TfXFpS4YM/NqFuypBE86kY5OnbN3dVJk4YSIRIPv8bOc+O26aJNqhRMol0qTJJCH+M0ludKQe20gpOLSSliJhYabWYsqifjNsZTeI3H9BJGF8LJYe+Zt92nh93uzt+coqAipPTAFw1qd8eblpioc2I3jFexs1v6BKQZxrKU3ye/C/a5GwsmZjKA5t4HSmtI4iyI0LKAkHfl94XQMcZA2SBCTljxxaeTBkRujRkwS6C5MYOhF3JmVJdfKLD/V48obu10EKAMXHEBDpopCyMqARzs4MjUzi6eXTxN+ow1s+lkz7qCZ1VJlUBCI4ufWvl/yMVzx46dw71J30LZ8gxOBAmnGCAdEibeHqyS5umBQdzdCYJMiYQuCTARQiUkAYlCaZnZes9iQzvJT2wnq4F9UXNmjUjN3PGpBUWCKCfyCCCC1HF4WLG1y/pCJuTbdaP7/jxNQQZ46RBTkQOKG2x31nKQdnKz26b8fVAl9Zoy4u3GxFfl5Z0UgBEHLWcO144BxT8pX4ju8nop6+UVBKdtI09D0/AKFsK1SLcc4Kv4O8hOi17/ojvobbODJIlgYwkh27Y+6AoHVexMIPCyhFhpv/zhn3tElHU/8gGmSkpMHKeScTt+RhKdt5Ir1NPKbaus8nv3G/dzn1a6sQtdDrCHMEGie5GHQX0qQ25/ViFJSz2seJ08tMl2xnn22U1aidGrEwbM8cLplu5NIiErKSD7riydOF8P1eudrvNld9Sab8at3WJerbmxFXCYnJ/jpsJaVMSKp6hufVkt9Y8lfVccRSlLs9kZ2WZdBqeyT9ibgmmpwcAP+u0r85mO+GZoe4sQs5ZPJSxFcEcb5D0hHoSd36YHerIE56RE4XjjbBCbQRivgJ7kq7ifQiNca2PT3m02WatUxc7FaaQUKAXmTruyttMrFvWMkHhA6V1ul4HGcOE4uc88h56QM7M2w/p6NJWWZ6IEZ4XpgqjT1zjPbSFewJaoWPFULeRqYak7l2lWvxpwkJ7S97iBKHnC4asA7K1MK4AY8ZBW5hacHobJYc5YEuf50ojBn0j6Jv+RwkZovWRBEDsS5hnwgg4FqxL/dzkGl1VHCip/Q3lWnKuASXiPkdKcIRMaQwOvTSTXjroo0kE/8BDQgc4D+qbc3tZExiamBtqyYVKkIreGb01LrEYdUmhxUnAuOViVOY4iUOlp8YADbPEpoZaEyQKx9Yj2rNQOF0gLGykGDXvWQQ2EfI9rDaPlnqiiZjmzbLnoVffXsfCR+EApU+ltwdCCqsnzVmkzPrtrF4OaaRg4HhylgWF0tut6DtRN1dY13at7NtRozwjPkgO4UkiO5REfcYONOTrV2zGly+7d14rJQaGwXB4Z8H8mdZin9OlUtxXJwzMVFjArVFXwziRfsTQqA+jwC2fI204ImfBqEFu9yIB8vKCAj/8k5RVPS59zWrJzgRTgYlC5HFCweYUiBSsDuaInStbh4GWpqJEMozsUWXAXcOkf5wWPvm9B2yWckk23e14HV/zrc6Se0UOHGc4M14q6RGnFp1fE3koJsboBA7Yqc7YF29wiXbz6z4XI+ouGOUJ15S5A9tZ280kcR3m31F/Mq6lgl9Wk/YaVpqHFZAFZfK7D1pD5ckEFpMkBSLdwdQguwsk2ZLhpEmffrKDTvHcn/zO7bqDZ30hxVdpJeAmatklsj1WWzjTOnbpVoSYlvZs/Drt8NemdSubVS3XliyWigy84R+wUKkuhoTJAGbGxvO132Zq4zlHXn7qu36zOcZuz0HH/5CT2TIRas5eQxXHxjKx5xEjI6MIx1gp45BQ6Sud+M0ZcCRGf0GHGEcxchxrk+FejZfs0Ur5cFu4PX2m1JU4d5ADE2YbtIxOt9RP1KIl0S3uMwrUmiyBMjDHx+prW+1B5+qJ2eSoH0iVLqHqPtIiDjBf6iQSDlM9Wpv9UfIOJ9Spa+NsD4WCAUKf0FSh8QqaLGgGwi2aqB3ky/D8j9PtjB2a6yy42n5kDnRyjy65DoeyaEtY0yKjar/Axs0tsP6ddWC1+h6te7b8qQIEkjY4JCBiOziU8FJNKLgdp9/hNzpmdhrUDyWxDhy4SEXsdkA4TgAgxqyNGM2BOig1T1sadofHCqlP2Jbj5jPt7/JmvO2TCcoUPtvjPGZJNz1AsTIwocM3ayivJI6tl+pCEtdjn0+y45WT7iUZokFyNOT3fjHRc9PdIE/M0I+ApCDkWYp5O1Kn+W5z6yBnmr/raJ8LNEaMztgRM0V4o6wJRREiLG4+07Uyvxg+zTpusb9lKb3PMtzDkTIqSQlEas/ddrX73tcBoIpRC8geFgpSNQ4gtdtv7qrCoXefoMTHu7orOsyNfJN1lWT5jwFHWtYTbZ3oF0gl6JKZGEY1qa0jz0lJKpIuaskdP0MnUP+hwzpJT0VwNR6O2KmwIWHvm6Uz0n65dh8n9EhJ5I6s03kb63SK4sK0CQkL1U/f1hE07fpdkyDqkKSVSdEyDhDlqJqEc4qDPzHptEU/nTCrD3XlIMPhrMPuP01n291pi8WMM3RcTWMlkSY7Cng49C7BoPuO1nSX/pGDiHDBvTnlTDJDxweNH3iDM8Fh95xkS4k/0z+O6MFmSXLnxjrFG8k4va4yw7//rA0e0E/nxT3nTJh3tDrkfEl4f7Xvz+vloQl5Oo2g7bHXi4nJW1RwnSlV8VTZ7jLqN9VmYYJ7q3Y/7xnfoCzXDq0aEjFjCoidwLciuCnnoemDv7aeTbKsWeu2SZiWFzXBY9rbcovNbEF2Uxs2Zbb1bNNIm0psQUGyLVRXnrxdM7nIj7TawgcSBhPHiiqv72aN7Eo5h3EYMXSDsCEYiq9TMTmYIHbvAlF4vAxhhneJPuAhTT20OhTWJLGo5+/W0v6p00Ee+nqK545cKHqAjeuZ47opZ6WOnFGfkXzIws/mdleF+hzUs4GjQ5xuOXfz/qxw2oIWJ14CLNncQwdglnXEmO79YpI73OHsAl3qrbPlOulcOJK6t5UQQHzv+6JZHN2DhgiTCqYUmDq5Jl+WdzgJnQcofq52hnKkqt1oTaovgsUJWzf1ECaO4mkp/PldoQpHiN6xuUcNSi+BWeFcR70OawZmma12h02eawtz2lmPrh0L11MRABQZ7kb3I+lFCeBARJBwZrEFFYcKyBziVwLxjMTpSNWAQZikqTiKNFM2fyQwdjQgPGcjwaxwtWUOkMwuVngARlt2hT2kajhJO6JeiYMT6QbIi7qjtsRwFsYRMnATQI5Eh8oCb0h2j+yyiLWBCDEO2A/H72ynkwZekaH6YZ16gNGaM+IOU+iCLyj1gd1U0xxlWkiYFANCRUxSxE6MfMa8xfbO2GV263WHOCiKE5z1jTWBSO24257WPuM6m/rzJ9Z0i92sQG78nhCYAkOGMcvmhkSDHYuTt2vIexEGR4hAxxNvs0lSx+UpMXKT3f6ijP1tZEt7yyUq4rtylM0/221y/9+G6tf5AAAOc0lEQVTe2cBYVVxx/CzfuIQvpQhExBaRgrZ8qTSFakU+YrGtJkUaY8NSQayaNKZWbUERURNbY8XQYorSUBGqidSqqdqCCqg1Jq1QU6vVKFpgi3yYhQWERfr/zb3z9rmyq/vug73AuQb3vfvuzJ35z5nzn3PmzMzeEEl52jUP2MY/zw9zan2VJ4RYt1vn8qUuy9M0Z/XB6mW2XQutIbjuQyeEY2HYleYALp+0I4ZOCwHWaEPnJmQvcYkmSreeuNPqqT7Mf7GTPwEmWFGn6uTw6hWLwnlsPRSc0mv8FSGKlPKzk8q2V54IgR5ht5BwUkLqmcCdq3VsnCjOMT6QdjvVF+ENm0vryUD2InLu1e3WobDtK0PdQnCLPqNpuw+9wAbfsDwEoLANWV8dMHv88G8lbmSVgYNSqfcOnZyOa7jXGJ1sroNZsQq5WEvXTmWpP8YHbZ1Qf6K3k3m3Dc89aFdN0kBC85x12vWkdfEAIIGn0f8jO6Tp0rmzff288fb7Fb+xef1P1AHCbDAdlTK4KHBHHXGcIp6/KyIhyvCriiLEsmut56YoXB5Px9NaGN1Xv01VP/6tzl/EGoPksKA4xgblzwCZZUHdpCeYlx8p9+EoWYcofCwf+uZ0nSUH0bGOdqs2aBimwfBEnWLCgaeQCHqIK+gtfWZAzPlpjV3IS1xLFmWHZ/lMTmEZggbRtdsYJFkoB2XF0kLXMLBHV+BOhYTZLKKrvuOuZS1clerPgJ3IR47YQSet0HIo1vEl1nDi8m1N0I728STY7pEpg8MypvdEkLPHn6wTvrVQXGqJOlWKvDqJPOMOK4kdGgocfmdQ0FEbMy95+X0bfk6VndhTJ5+nbR/6U4pPY3gcK/crNtzytaTXlFhjgkXaix1YgD1hgc7jkkAjyNfIMiP6ETM9EI6kKOouBBjSoxFoDKw9BIpGQ3gKGzaHkiWNxQgIYeFZ5v/IC2HjnZcO76kz6HoFck4sq/oGjukQVsrAuxHWRIhbhUNQlyhCi4XeT804w87SLiv8Tt6MoHp27mizH1tnb/eZYMuWLA5yRrnzZMGBIVZlmzZtbOniRTb1tvttxMzHdE6WdhvRb5EAA94oaZEZIe8o6HAOWzqKxzKCIHB7YY0d0F6PWB4Ed9BJ2SGfZzlQlItd/Amnh3iwrNAUuCJZr8bF+3gPc2/gBrF8rOjC4qNpwoMlXpwdB0HvUFj9a3Mnihz6B6uq99hpYWurENEpksAtyLwf5WYNHuTMvNe/75lip4uAOHpnv57HYkkUiKwO1TvUF0XB/SAxqoMwZUBQrECwRnkHdcVNGRVMuK98sAgBh8jK/R9xWGpK0pQPfFIrObQHawT1dCuRZPXK34XF4rXvrtVyjCeChc3aQxM5Y9m1E/ab/rHC2j89x9ases46i6S4miOblDWWd9P/Ntu40SPtV2MUGdmvuzw69RZP7Kv0ZaKbg0WWritL+rUsH/UxlvrgxWFg2kl9Og5uUdRMJzDXhLVEfrgB6dMMfiFBdAX9n99Bm+hI+jv9ljyZUkA3lOPCAor9YpLOtsMLNHZAdy1d6Bs2kGfpQdhsgulrME3LgI5BpzDwTaZHkm3+akSue1UHGg9dM1leI7xE7OiE5RhkK+SES1hypDyYWgEDiJf6U3d0IAvBIXuOBXpFA/j7Jp0qV27PEHmJyxcsKkVub1bX2NQ/bbXHV66xL53Sr9DXy4HP0ZJHwUVZaoUQVBoLgmKExflqfEcgdopMmNSlQYuvYiuQ+4zo4tEVWIf8TqfjKnQs3UO4k8hJRauJPDfX7AuLIi+SaY+1RueLk7MxPXmFdFrrxsV3ykb2sVgIKqNSTh5POl/iHuimrcOefb3aHl3f3p5cNFcjVSlyKdVYpmIlFzJvwYtRO5128mVVtvQPD9vqZXfYkClzdOr0B0ldC0pVrkYWd4uEGlpEybEtPC8FhMUnhOqklEP4Pwoai4Xf0gAPNjv+WGeZJc9jKaZtllqN3K/T4aMHdiZKKYyVCepo0L6lwhbyUZ3bVnaTy/BCBWnoyJkgN7RsIkN1irqMCjx5d7IonQXtvTXf2LG3FoZzArjKhRs31A+LVQQfSLvBBS7h2VQ++Tk8L4JkHRxBN/XykeTzkay9+BxkGcuDpVtMiFjZ5IXbM8oWZIw7lNMcIDX9EP6yrGKfliu8v+wme+iumda1a9cgm8hBob4NC9/Id95F2t4nKhLxhpvsxpnT7Y9XnhWsB0L2YwAXzzH/zrpR2jLZPzYhK+Bgvmn7Ln3Xf4gP0ZWhP+sf1t8HkoPioAvWy1JW+iTQxznxUHfdxyqDIKG7mGexKsnS/4rTsuyJeTVCQ8J79JIa1YX6FF/8FsvPEqgttfVuduYEk4E8XrB9mler1Dl4OiYqnU8r1ktgRZ3BZPOOJCAlYhDfBwQQHwvAsQxZPM8zuFBDe0hOrnv0Dau69hfW/4unlNz2jYjEUXM7swUHEggpgszIBXOeERnCkUUAPwvh+E5GifjIC0oD4iruBU1kBBF31kiIbbuIRkKo+QvJda9sb//a8KFdtvQtm7vgIZt08Xc+Mfd2KOvWRJGb/CkGvlRv2mjnjx1vH4643AZMnCGS42BHddwi11VzlWCTL27BH0M9RLi4FPkLMQXybkIIglKV1YSbtm4XRA+Z60LzNJHucFYzbPcl6w53J4TG/COLwPncJrhL6+xvt33PfnrR2Xb7nb/8hGuyqbo3Vgdkh3/048uv+rFVa8eVxT/UmkMpYXYPQdmSL9jFq5T3NPb+lryPlYgliT7AKg1BdCXKQexXDJoh+Bip3RzRohxYr1h36CL0W5jT1Od2us/cW9X9L1v7sybbg4sWJhZmGBwlbdSSWObt3RXv3TyyXmJLLB18QibRtcAIiAngzBk3UZ7COyUMvCt+byLJp34iDSMiyU246MSsq+FI+SfXbbTrn9pk1869x66cNtXqFBnYWi7A2MlL7QCfKkQZbhQrnaCkRGRrX33VLpn8fds68GIbeMn1qqgiJfdobif0tDK8NDdZJC0frBsujWyxsBKJbKyQShODXD7z2cbyONT3IRNNyOAj41I5mTdsqwNid274j/3z3mk2Y8Iwm/frBYGYuKJMNlc2o1KOAySwmfyDqbblhYdt/uTBdtLx2qWjll0+DnWdWyZ/CIW6IUkQfCm6pGHJ0StZ9BLlicsdsA4pF9Gnm3fssR89tNY6DLnQHln6oLXRvGvYCShOM5RIzA3Lf7R8r9h2x6ijVGw/fxNFlymj9/Wba2zes+/Yqu1d7M5599mFF4wvWG55JLeGtURZxfm4999bb1OrquzF6laK6LvOvjBoZOpek1uksAC5YQ7+PV8ISOGK2Bg07tH+l+tXLLFdqx+wWVdPsZ/c8LOCy7w5824Hq18cJMW/uNuunznbHl94l11xZlebdOZJ2rKLg4KTI12OeaVxMBDLfK9AuBq01e7Za8v//l+796Utdv6lV9vdd94udZVYnaW4pctc1NxmV/GX6QOPbVlV7fFvb9xea6vf2mbrdnezM8ddbLfOnmU9e/QouH6OFHKLo/c4H0MQ0ML58+zehYvtnVa9rNPg86xLn/4h0KRgyh1VFl1u+1rzCia5DB1TluleBflseeMVa/vuCzbq1B52y+ybbchw3IefXq7SXOvtYIWKFiGkueqFl+zWOXNspxbNn9PngA05WXPVCjLBqsiLO/dgdTji7zFQlQAw1bN2/VZ7foPmmvuNsBt/PsvGjTk3daMmVnsclJSj7Y943BpUoGLs6LOPTYILtU6itYjEqzyhjw0fNsK+PXGCnT7oywGmOiIT03mr6MbJuwAUC3skOcq8fdtWe/Kx5fbimlX29oYtIZotNrzzW/5aNRHPZJOBExROP/Qrg+3cMePtG988LxQ2kls5lVqx7PA5urt531PP/NWeWfm8vfn6a1anvTT3a/u2RG70fxeg8gqQsKf9mSNuXdndBgw6w8acO1repAmFtqfds1rt5S10PnOrqNlRe2wSXOyUEqY2WubAVkXxipGS0a/N/XIqkkMtCk0pKt69b+9e/UuiSg91WTz/bAgQANPhOO2ek2ZTP99GUEES4MVP5ZTPKD/kGwZ25J8G4uCi3LVbkdJx0io8lBbO/5QHAQAXpqwXPa5DOxFZeuoGxEd7pMEkxf28PC8++nLRHrlCzK8gOMXEhhBFYTpS4SnuACjGaNH5yO/Ia1EW8XIx3xJlk+/lJLaGqET5L+4bzVlE3jA//14aAvRb2uBwtn1pJc1fqgopPie4onY5XMrjcIpCsaI6nO/1d5UXgZaQzeJBUvxc3lp5bp8HgZZo+89Trrw/4xZc3lvIy+cIOAKOgCNQEgLpCteS0noiR8ARcAQcAUcgtwg4weW2abxgjoAj4Ag4AlkQcILLgp6ndQQcAUfAEcgtAk5wuW0aL5gj4Ag4Ao5AFgSc4LKg52kdAUfAEXAEcouAE1xum8YL5gg4Ao6AI5AFASe4LOh5WkfAEXAEHIHcIuAEl9um8YI5Ao6AI+AIZEHACS4Lep7WEXAEHAFHILcIOMHltmm8YI6AI+AIOAJZEHCCy4Kep3UEHAFHwBHILQJOcLltGi+YI+AIOAKOQBYEnOCyoOdpHQFHwBFwBHKLgBNcbpvGC+YIOAKOgCOQBQEnuCzoeVpHwBFwBByB3CLgBJfbpvGCOQKOgCPgCGRBwAkuC3qe1hFwBBwBRyC3CDjB5bZpvGCOgCPgCDgCWRBwgsuCnqd1BBwBR8ARyC0CTnC5bRovmCPgCDgCjkAWBJzgsqDnaR0BR8ARcARyi4ATXG6bxgvmCDgCjoAjkAUBJ7gs6HlaR8ARcAQcgdwi4ASX26bxgjkCjoAj4AhkQcAJLgt6ntYRcAQcAUcgtwg4weW2abxgjoAj4Ag4AlkQcILLgp6ndQQcAUfAEcgtAk5wuW0aL5gj4Ag4Ao5AFgT+D4KN1oxKi4AuAAAAAElFTkSuQmCC)"
   ]
  },
  {
   "cell_type": "markdown",
   "metadata": {
    "cell_id": "00081-e1ce9daa-53b7-4f8b-b40a-4eefd9732bf1",
    "deepnote_cell_type": "markdown",
    "id": "wIQzbu4Omm3e",
    "tags": []
   },
   "source": [
    "![image-20211213-164419.png](data:image/png;base64,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)"
   ]
  },
  {
   "cell_type": "markdown",
   "metadata": {
    "cell_id": "00082-f689a54d-7a6a-4deb-b9a1-db9c9698af4a",
    "deepnote_cell_type": "markdown",
    "id": "JSmWM_eImm3e",
    "tags": []
   },
   "source": [
    "![image-20211213-164321.png](data:image/png;base64,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)"
   ]
  },
  {
   "cell_type": "markdown",
   "metadata": {
    "cell_id": "00078-4b8c51fe-faca-4072-8eba-e26a7c447592",
    "deepnote_cell_type": "markdown",
    "id": "At9_1UkCmm3e",
    "tags": []
   },
   "source": [
    "But, if we give a look to the Decision tree obtained by Trepan, the erroneous decision is based on the fact that the stalk below the ring is yellow or not, which is the least important feature for this model, and, moreover, there are more more other color for the stalk below the ring. \n",
    "\n",
    "This is the reason why the model misclassifies these instances, in fact, we can see that all these misclassified mushrooms have 1 on the feature 'odor_n' and have 0 on the feature 'spore-print-color_r', so all the decision is based on the feature 'stalk-color-below-ring_y'."
   ]
  },
  {
   "cell_type": "markdown",
   "metadata": {
    "cell_id": "00003-3b4f6bec-7f5c-484e-a9bf-e557792bfdf2",
    "deepnote_cell_type": "markdown",
    "id": "whEk9JYPmm3e",
    "tags": []
   },
   "source": [
    "## Explanation of Decision Tree"
   ]
  },
  {
   "cell_type": "markdown",
   "metadata": {
    "cell_id": "00083-177fbfb6-7062-45ab-b952-ab698a79cdb7",
    "deepnote_cell_type": "markdown",
    "id": "n3BNtIXimm3e",
    "tags": []
   },
   "source": [
    "In this section, we are going to analyze the explainablity of DT model with and without SHAP.\n",
    "\n",
    "The features below (plus 'edible') are the ones identified by the RFE in the classification task."
   ]
  },
  {
   "cell_type": "code",
   "execution_count": null,
   "metadata": {
    "cell_id": "00066-d80b110f-2585-47f4-bb7a-d8e416511ba0",
    "deepnote_cell_type": "code",
    "deepnote_to_be_reexecuted": false,
    "execution_millis": 63,
    "execution_start": 1639414711341,
    "id": "TFQKLQkFmm3e",
    "source_hash": "c0f0d100",
    "tags": []
   },
   "outputs": [],
   "source": [
    "dt_features = [\n",
    "    'edible',\n",
    "\t'bruises', # yes/no blue spot\n",
    "\t'odor_n', # no odor\n",
    "\t'odor_p', # pungent\n",
    "\t'spore-print-color_h', # chocolate\n",
    "\t'spore-print-color_r', # green\n",
    "\t'habitat_u' #urban\n",
    "]\n",
    "\n",
    "mushrooms_ohe = pd.read_csv('/content/drive/MyDrive/BDA/explanation/mushrooms_ohe.csv')\n",
    "mushrooms_ohe = mushrooms_ohe[dt_features]\n",
    "label = mushrooms_ohe.pop('edible')"
   ]
  },
  {
   "cell_type": "markdown",
   "metadata": {
    "cell_id": "00084-789efe98-7d66-47b3-8d56-5b32fb353ac1",
    "deepnote_cell_type": "markdown",
    "id": "OBNSd7yDmm3f",
    "tags": []
   },
   "source": [
    "Let's split the dataset into train and test."
   ]
  },
  {
   "cell_type": "code",
   "execution_count": null,
   "metadata": {
    "cell_id": "00067-bb1d7e3d-5602-4af4-9c67-b8a31b0edef3",
    "deepnote_cell_type": "code",
    "deepnote_to_be_reexecuted": false,
    "execution_millis": 8,
    "execution_start": 1639414711413,
    "id": "kPMDpCubmm3f",
    "source_hash": "5a755eee",
    "tags": []
   },
   "outputs": [],
   "source": [
    "train_set, test_set, train_label, test_label = \\\n",
    "    train_test_split(\n",
    "        mushrooms_ohe, label, stratify=label, test_size=0.3, random_state=42\n",
    "    )"
   ]
  },
  {
   "cell_type": "markdown",
   "metadata": {
    "cell_id": "00068-498cc908-1bc6-4d49-9b61-3c6c5ae7ea16",
    "deepnote_cell_type": "markdown",
    "id": "snaMdNfXmm3f",
    "tags": []
   },
   "source": [
    "### Best DT model"
   ]
  },
  {
   "cell_type": "markdown",
   "metadata": {
    "cell_id": "00087-99e529b0-b9d1-49e2-8bd4-a7a6b2138763",
    "deepnote_cell_type": "markdown",
    "id": "wxmBR6Jhmm3f",
    "tags": []
   },
   "source": [
    "Let's train the model with its best configuration from classification notebook."
   ]
  },
  {
   "cell_type": "code",
   "execution_count": null,
   "metadata": {
    "cell_id": "00068-18189922-cfc2-4e02-a35f-e148312da04d",
    "deepnote_cell_type": "code",
    "deepnote_output_heights": [
     21.199996948242188
    ],
    "deepnote_to_be_reexecuted": false,
    "execution_millis": 4,
    "execution_start": 1639414711435,
    "id": "vu5XLP79mm3g",
    "source_hash": "7e0ea9e5",
    "tags": []
   },
   "outputs": [],
   "source": [
    "best_dt_params = {\n",
    "    'max_depth': 8\n",
    "}\n",
    "\n",
    "in_attribs = [\n",
    "    feature for feature in mushrooms_ohe.columns\n",
    "    if feature in dt_features and feature != 'edible'\n",
    "]\n",
    "\n",
    "dt = DecisionTreeClassifier(**best_dt_params).fit(train_set, train_label)"
   ]
  },
  {
   "cell_type": "markdown",
   "metadata": {
    "cell_id": "00070-542c9e37-5fac-41e4-b3de-010d245425fc",
    "deepnote_cell_type": "markdown",
    "id": "Yyv-jRc5mm3g",
    "tags": []
   },
   "source": [
    "### Feature Importance for Global Interpretability"
   ]
  },
  {
   "cell_type": "markdown",
   "metadata": {
    "cell_id": "00090-72c31c02-ec1f-47cf-9fa2-9258a5e68c7c",
    "deepnote_cell_type": "markdown",
    "id": "XBnnsI1Bmm3g",
    "tags": []
   },
   "source": [
    "The **DT** computes the importance of a feature as the (normalized) total reduction of the criterion brought by that feature. It is also known as the Gini importance."
   ]
  },
  {
   "cell_type": "code",
   "execution_count": null,
   "metadata": {
    "cell_id": "00069-fd04c324-f804-455d-bd1b-6e830c05fa2c",
    "deepnote_cell_type": "code",
    "deepnote_to_be_reexecuted": false,
    "execution_millis": 7,
    "execution_start": 1639414711445,
    "id": "umfqQbO3mm3g",
    "source_hash": "c06e6d47",
    "tags": []
   },
   "outputs": [],
   "source": [
    "for importance, feature in zip(dt.feature_importances_, in_attribs):\n",
    "  print(round(importance, 2), feature)"
   ]
  },
  {
   "cell_type": "markdown",
   "metadata": {
    "cell_id": "00072-4028a2fd-6023-499b-9439-18868a740158",
    "deepnote_cell_type": "markdown",
    "id": "97kUr7mPmm3g",
    "tags": []
   },
   "source": [
    "### Feature Importance Plot for Global Interpretability using SHAP "
   ]
  },
  {
   "cell_type": "markdown",
   "metadata": {
    "cell_id": "00093-19e15c31-33fc-403b-bdb9-f317fef1f67a",
    "deepnote_cell_type": "markdown",
    "id": "CL97OAC9mm3h",
    "tags": []
   },
   "source": [
    "Since **DT is a tree-based model**, it may be explained using **TreeExplainer with SHAP**."
   ]
  },
  {
   "cell_type": "code",
   "execution_count": null,
   "metadata": {
    "cell_id": "00071-c06d8352-3cd0-4780-b52b-162d4daf7cc5",
    "deepnote_cell_type": "code",
    "deepnote_output_heights": [
     256.4499969482422,
     373
    ],
    "deepnote_to_be_reexecuted": false,
    "execution_millis": 675,
    "execution_start": 1639414711456,
    "id": "MLMFeFd3mm3h",
    "source_hash": "4ce41184",
    "tags": []
   },
   "outputs": [],
   "source": [
    "dt_shap_values = shap.TreeExplainer(dt).shap_values(test_set)\n",
    "shap.summary_plot(dt_shap_values, test_set, plot_type=\"bar\", class_inds=[1])\n",
    "simple_SHAP(dt_shap_values[1], test_set)"
   ]
  },
  {
   "cell_type": "markdown",
   "metadata": {
    "cell_id": "00095-56eface5-bc79-49f5-882d-8c09a8d86a5b",
    "deepnote_cell_type": "markdown",
    "id": "Adzrjnkamm3h",
    "tags": []
   },
   "source": [
    "In the bar plot above we see the mean absolute shap value for each feature, from the most important (odor_n) to the least one (habitat_u). The red color of the \n",
    "\n",
    "As for the SHAP values for the KNN, the first two most important features are 'odor_n' and 'bruises', but the third one is 'odor_p' and not 'odor_f' because the latter is not present in the RFE features."
   ]
  },
  {
   "cell_type": "markdown",
   "metadata": {
    "cell_id": "00073-efa2b7c3-f2ac-4885-a52d-f5af3b768c6b",
    "deepnote_cell_type": "markdown",
    "id": "EBavYD_lmm3h",
    "tags": []
   },
   "source": [
    "### Plot decision tree for Local Explanability"
   ]
  },
  {
   "cell_type": "markdown",
   "metadata": {
    "cell_id": "00097-8127e928-1bd9-44cb-bf5f-6f32cfc08079",
    "deepnote_cell_type": "markdown",
    "id": "eZsy8JGSmm3h",
    "tags": []
   },
   "source": [
    "Let's show the Decsion Tree's structure to describe the rules it is composed of for local explanability "
   ]
  },
  {
   "cell_type": "code",
   "execution_count": null,
   "metadata": {
    "cell_id": "00069-245ed6c7-1d45-4892-841f-1e789ed505b9",
    "deepnote_cell_type": "code",
    "deepnote_output_heights": [
     449.816650390625
    ],
    "deepnote_to_be_reexecuted": false,
    "execution_millis": 411,
    "execution_start": 1639414712188,
    "id": "gKwXFel8mm3h",
    "source_hash": "162f9596",
    "tags": []
   },
   "outputs": [],
   "source": [
    "dot_data = tree.export_graphviz(dt, out_file=None,\n",
    "                                feature_names=in_attribs,\n",
    "                                filled=True, rounded=True,\n",
    "                                special_characters=True)\n",
    "graph = pydotplus.graph_from_dot_data(dot_data) \n",
    "Image(graph.create_png())"
   ]
  },
  {
   "cell_type": "markdown",
   "metadata": {
    "cell_id": "00099-7b60bfef-77d3-41ef-9be2-55a228964505",
    "deepnote_cell_type": "markdown",
    "id": "Je1yTimxmm3i",
    "tags": []
   },
   "source": [
    "Here we can see the rules followed by decision tree to make predictions. \n",
    "\n",
    "The orange/red nodes represent samples classified as poisonous, and the blue nodes represent instances classified as edible. \n",
    "\n",
    "As we can see, in the left subtree all the samples are correctly classified either as edible or poisonous, while in the right subtree, 37 records are misclassfied. In particular, these records are **true poisonous classified as edible**.\n",
    "\n",
    "#### Most correct relevant rule:\n",
    "\n",
    "- **any odor, no bruises** => 2277 poisonous mushrooms\n",
    "\n",
    "#### Dangerous rules that produces false edible:\n",
    "\n",
    "- **no odor, spore_print_color_r ≠ green, bruises** => 1339 edible but also **7 false edible** \n",
    " \n",
    "- **no odor, spore_print_color_r/h ≠ green/chocolate, no bruises, habitat ≠ urban**  => 950 edible but also **30 false edible** "
   ]
  },
  {
   "cell_type": "markdown",
   "metadata": {
    "cell_id": "00101-9a22836e-0ea7-43b5-b837-977c8b906dcf",
    "deepnote_cell_type": "markdown",
    "id": "05GEfc_rmm3i",
    "tags": []
   },
   "source": [
    "![image-20211214-112949.png](data:image/png;base64,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)"
   ]
  },
  {
   "cell_type": "code",
   "execution_count": null,
   "metadata": {
    "id": "DyfoU1hnnGUF"
   },
   "outputs": [],
   "source": [
    "jovian.commit()"
   ]
  },
  {
   "cell_type": "code",
   "execution_count": null,
   "metadata": {
    "id": "RJmia4fFp2IM"
   },
   "outputs": [],
   "source": []
  }
 ],
 "metadata": {
  "colab": {
   "name": "explanation.ipynb",
   "provenance": []
  },
  "deepnote": {
   "is_reactive": false
  },
  "deepnote_execution_queue": [],
  "deepnote_notebook_id": "9f06a7a8-925c-4c94-b1b8-ffe41a627f71",
  "language_info": {
   "name": "python"
  },
  "widgets": {
   "application/vnd.jupyter.widget-state+json": {
    "08904dc98cbf45a99a1c66241ef4dd99": {
     "model_module": "@jupyter-widgets/base",
     "model_module_version": "1.2.0",
     "model_name": "LayoutModel",
     "state": {
      "_model_module": "@jupyter-widgets/base",
      "_model_module_version": "1.2.0",
      "_model_name": "LayoutModel",
      "_view_count": null,
      "_view_module": "@jupyter-widgets/base",
      "_view_module_version": "1.2.0",
      "_view_name": "LayoutView",
      "align_content": null,
      "align_items": null,
      "align_self": null,
      "border": null,
      "bottom": null,
      "display": null,
      "flex": null,
      "flex_flow": null,
      "grid_area": null,
      "grid_auto_columns": null,
      "grid_auto_flow": null,
      "grid_auto_rows": null,
      "grid_column": null,
      "grid_gap": null,
      "grid_row": null,
      "grid_template_areas": null,
      "grid_template_columns": null,
      "grid_template_rows": null,
      "height": null,
      "justify_content": null,
      "justify_items": null,
      "left": null,
      "margin": null,
      "max_height": null,
      "max_width": null,
      "min_height": null,
      "min_width": null,
      "object_fit": null,
      "object_position": null,
      "order": null,
      "overflow": null,
      "overflow_x": null,
      "overflow_y": null,
      "padding": null,
      "right": null,
      "top": null,
      "visibility": null,
      "width": null
     }
    },
    "0ae63f9a1eb64499be9f838be4b5adc5": {
     "model_module": "@jupyter-widgets/controls",
     "model_module_version": "1.5.0",
     "model_name": "HTMLModel",
     "state": {
      "_dom_classes": [],
      "_model_module": "@jupyter-widgets/controls",
      "_model_module_version": "1.5.0",
      "_model_name": "HTMLModel",
      "_view_count": null,
      "_view_module": "@jupyter-widgets/controls",
      "_view_module_version": "1.5.0",
      "_view_name": "HTMLView",
      "description": "",
      "description_tooltip": null,
      "layout": "IPY_MODEL_6bfe0882901c401c9c21a22e11dfe022",
      "placeholder": "​",
      "style": "IPY_MODEL_3bd4655a4a0341998ee6ab9949a8870c",
      "value": " 26%"
     }
    },
    "0da12c42cf8042caa87a0a6459e93365": {
     "model_module": "@jupyter-widgets/base",
     "model_module_version": "1.2.0",
     "model_name": "LayoutModel",
     "state": {
      "_model_module": "@jupyter-widgets/base",
      "_model_module_version": "1.2.0",
      "_model_name": "LayoutModel",
      "_view_count": null,
      "_view_module": "@jupyter-widgets/base",
      "_view_module_version": "1.2.0",
      "_view_name": "LayoutView",
      "align_content": null,
      "align_items": null,
      "align_self": null,
      "border": null,
      "bottom": null,
      "display": null,
      "flex": null,
      "flex_flow": null,
      "grid_area": null,
      "grid_auto_columns": null,
      "grid_auto_flow": null,
      "grid_auto_rows": null,
      "grid_column": null,
      "grid_gap": null,
      "grid_row": null,
      "grid_template_areas": null,
      "grid_template_columns": null,
      "grid_template_rows": null,
      "height": null,
      "justify_content": null,
      "justify_items": null,
      "left": null,
      "margin": null,
      "max_height": null,
      "max_width": null,
      "min_height": null,
      "min_width": null,
      "object_fit": null,
      "object_position": null,
      "order": null,
      "overflow": null,
      "overflow_x": null,
      "overflow_y": null,
      "padding": null,
      "right": null,
      "top": null,
      "visibility": null,
      "width": null
     }
    },
    "2c935cd1f6764a53bf03c444a43d68c0": {
     "model_module": "@jupyter-widgets/controls",
     "model_module_version": "1.5.0",
     "model_name": "HBoxModel",
     "state": {
      "_dom_classes": [],
      "_model_module": "@jupyter-widgets/controls",
      "_model_module_version": "1.5.0",
      "_model_name": "HBoxModel",
      "_view_count": null,
      "_view_module": "@jupyter-widgets/controls",
      "_view_module_version": "1.5.0",
      "_view_name": "HBoxView",
      "box_style": "",
      "children": [
       "IPY_MODEL_68e732db36774257aee3a9e60b7dbf2e",
       "IPY_MODEL_7757893f3eb849e19645ac43eab1ad21",
       "IPY_MODEL_2cdf7489ffd3450bbd0a2d0fa5fbcffe"
      ],
      "layout": "IPY_MODEL_7ed1aba40f1c4d359b334ec1faa4689d"
     }
    },
    "2cdf7489ffd3450bbd0a2d0fa5fbcffe": {
     "model_module": "@jupyter-widgets/controls",
     "model_module_version": "1.5.0",
     "model_name": "HTMLModel",
     "state": {
      "_dom_classes": [],
      "_model_module": "@jupyter-widgets/controls",
      "_model_module_version": "1.5.0",
      "_model_name": "HTMLModel",
      "_view_count": null,
      "_view_module": "@jupyter-widgets/controls",
      "_view_module_version": "1.5.0",
      "_view_name": "HTMLView",
      "description": "",
      "description_tooltip": null,
      "layout": "IPY_MODEL_7323e186040c4caf8c16e84d0effc37b",
      "placeholder": "​",
      "style": "IPY_MODEL_e47e82eae6ec43dbb00b52c2894e33c1",
      "value": " 100/100 [00:48&lt;00:00,  2.85it/s]"
     }
    },
    "2fb4c43efb3a4391ac255e1a442644b5": {
     "model_module": "@jupyter-widgets/controls",
     "model_module_version": "1.5.0",
     "model_name": "ProgressStyleModel",
     "state": {
      "_model_module": "@jupyter-widgets/controls",
      "_model_module_version": "1.5.0",
      "_model_name": "ProgressStyleModel",
      "_view_count": null,
      "_view_module": "@jupyter-widgets/base",
      "_view_module_version": "1.2.0",
      "_view_name": "StyleView",
      "bar_color": null,
      "description_width": ""
     }
    },
    "36ad999a0b7440f2942f6e1c3eac7ede": {
     "model_module": "@jupyter-widgets/controls",
     "model_module_version": "1.5.0",
     "model_name": "FloatProgressModel",
     "state": {
      "_dom_classes": [],
      "_model_module": "@jupyter-widgets/controls",
      "_model_module_version": "1.5.0",
      "_model_name": "FloatProgressModel",
      "_view_count": null,
      "_view_module": "@jupyter-widgets/controls",
      "_view_module_version": "1.5.0",
      "_view_name": "ProgressView",
      "bar_style": "",
      "description": "",
      "description_tooltip": null,
      "layout": "IPY_MODEL_f426d12609a74cf7a1a9995a5e9bb0f0",
      "max": 100,
      "min": 0,
      "orientation": "horizontal",
      "style": "IPY_MODEL_2fb4c43efb3a4391ac255e1a442644b5",
      "value": 26
     }
    },
    "3bd4655a4a0341998ee6ab9949a8870c": {
     "model_module": "@jupyter-widgets/controls",
     "model_module_version": "1.5.0",
     "model_name": "DescriptionStyleModel",
     "state": {
      "_model_module": "@jupyter-widgets/controls",
      "_model_module_version": "1.5.0",
      "_model_name": "DescriptionStyleModel",
      "_view_count": null,
      "_view_module": "@jupyter-widgets/base",
      "_view_module_version": "1.2.0",
      "_view_name": "StyleView",
      "description_width": ""
     }
    },
    "44300a14c5044a9789dc75722d9bd25f": {
     "model_module": "@jupyter-widgets/base",
     "model_module_version": "1.2.0",
     "model_name": "LayoutModel",
     "state": {
      "_model_module": "@jupyter-widgets/base",
      "_model_module_version": "1.2.0",
      "_model_name": "LayoutModel",
      "_view_count": null,
      "_view_module": "@jupyter-widgets/base",
      "_view_module_version": "1.2.0",
      "_view_name": "LayoutView",
      "align_content": null,
      "align_items": null,
      "align_self": null,
      "border": null,
      "bottom": null,
      "display": null,
      "flex": null,
      "flex_flow": null,
      "grid_area": null,
      "grid_auto_columns": null,
      "grid_auto_flow": null,
      "grid_auto_rows": null,
      "grid_column": null,
      "grid_gap": null,
      "grid_row": null,
      "grid_template_areas": null,
      "grid_template_columns": null,
      "grid_template_rows": null,
      "height": null,
      "justify_content": null,
      "justify_items": null,
      "left": null,
      "margin": null,
      "max_height": null,
      "max_width": null,
      "min_height": null,
      "min_width": null,
      "object_fit": null,
      "object_position": null,
      "order": null,
      "overflow": null,
      "overflow_x": null,
      "overflow_y": null,
      "padding": null,
      "right": null,
      "top": null,
      "visibility": null,
      "width": null
     }
    },
    "68e732db36774257aee3a9e60b7dbf2e": {
     "model_module": "@jupyter-widgets/controls",
     "model_module_version": "1.5.0",
     "model_name": "HTMLModel",
     "state": {
      "_dom_classes": [],
      "_model_module": "@jupyter-widgets/controls",
      "_model_module_version": "1.5.0",
      "_model_name": "HTMLModel",
      "_view_count": null,
      "_view_module": "@jupyter-widgets/controls",
      "_view_module_version": "1.5.0",
      "_view_name": "HTMLView",
      "description": "",
      "description_tooltip": null,
      "layout": "IPY_MODEL_08904dc98cbf45a99a1c66241ef4dd99",
      "placeholder": "​",
      "style": "IPY_MODEL_a6d80599ec004cac90a0f4ab97481289",
      "value": "100%"
     }
    },
    "6bfe0882901c401c9c21a22e11dfe022": {
     "model_module": "@jupyter-widgets/base",
     "model_module_version": "1.2.0",
     "model_name": "LayoutModel",
     "state": {
      "_model_module": "@jupyter-widgets/base",
      "_model_module_version": "1.2.0",
      "_model_name": "LayoutModel",
      "_view_count": null,
      "_view_module": "@jupyter-widgets/base",
      "_view_module_version": "1.2.0",
      "_view_name": "LayoutView",
      "align_content": null,
      "align_items": null,
      "align_self": null,
      "border": null,
      "bottom": null,
      "display": null,
      "flex": null,
      "flex_flow": null,
      "grid_area": null,
      "grid_auto_columns": null,
      "grid_auto_flow": null,
      "grid_auto_rows": null,
      "grid_column": null,
      "grid_gap": null,
      "grid_row": null,
      "grid_template_areas": null,
      "grid_template_columns": null,
      "grid_template_rows": null,
      "height": null,
      "justify_content": null,
      "justify_items": null,
      "left": null,
      "margin": null,
      "max_height": null,
      "max_width": null,
      "min_height": null,
      "min_width": null,
      "object_fit": null,
      "object_position": null,
      "order": null,
      "overflow": null,
      "overflow_x": null,
      "overflow_y": null,
      "padding": null,
      "right": null,
      "top": null,
      "visibility": null,
      "width": null
     }
    },
    "7323e186040c4caf8c16e84d0effc37b": {
     "model_module": "@jupyter-widgets/base",
     "model_module_version": "1.2.0",
     "model_name": "LayoutModel",
     "state": {
      "_model_module": "@jupyter-widgets/base",
      "_model_module_version": "1.2.0",
      "_model_name": "LayoutModel",
      "_view_count": null,
      "_view_module": "@jupyter-widgets/base",
      "_view_module_version": "1.2.0",
      "_view_name": "LayoutView",
      "align_content": null,
      "align_items": null,
      "align_self": null,
      "border": null,
      "bottom": null,
      "display": null,
      "flex": null,
      "flex_flow": null,
      "grid_area": null,
      "grid_auto_columns": null,
      "grid_auto_flow": null,
      "grid_auto_rows": null,
      "grid_column": null,
      "grid_gap": null,
      "grid_row": null,
      "grid_template_areas": null,
      "grid_template_columns": null,
      "grid_template_rows": null,
      "height": null,
      "justify_content": null,
      "justify_items": null,
      "left": null,
      "margin": null,
      "max_height": null,
      "max_width": null,
      "min_height": null,
      "min_width": null,
      "object_fit": null,
      "object_position": null,
      "order": null,
      "overflow": null,
      "overflow_x": null,
      "overflow_y": null,
      "padding": null,
      "right": null,
      "top": null,
      "visibility": null,
      "width": null
     }
    },
    "7757893f3eb849e19645ac43eab1ad21": {
     "model_module": "@jupyter-widgets/controls",
     "model_module_version": "1.5.0",
     "model_name": "FloatProgressModel",
     "state": {
      "_dom_classes": [],
      "_model_module": "@jupyter-widgets/controls",
      "_model_module_version": "1.5.0",
      "_model_name": "FloatProgressModel",
      "_view_count": null,
      "_view_module": "@jupyter-widgets/controls",
      "_view_module_version": "1.5.0",
      "_view_name": "ProgressView",
      "bar_style": "success",
      "description": "",
      "description_tooltip": null,
      "layout": "IPY_MODEL_44300a14c5044a9789dc75722d9bd25f",
      "max": 100,
      "min": 0,
      "orientation": "horizontal",
      "style": "IPY_MODEL_c1bf2349edaf4a52b1b2cf3f56b3bc67",
      "value": 100
     }
    },
    "7ed1aba40f1c4d359b334ec1faa4689d": {
     "model_module": "@jupyter-widgets/base",
     "model_module_version": "1.2.0",
     "model_name": "LayoutModel",
     "state": {
      "_model_module": "@jupyter-widgets/base",
      "_model_module_version": "1.2.0",
      "_model_name": "LayoutModel",
      "_view_count": null,
      "_view_module": "@jupyter-widgets/base",
      "_view_module_version": "1.2.0",
      "_view_name": "LayoutView",
      "align_content": null,
      "align_items": null,
      "align_self": null,
      "border": null,
      "bottom": null,
      "display": null,
      "flex": null,
      "flex_flow": null,
      "grid_area": null,
      "grid_auto_columns": null,
      "grid_auto_flow": null,
      "grid_auto_rows": null,
      "grid_column": null,
      "grid_gap": null,
      "grid_row": null,
      "grid_template_areas": null,
      "grid_template_columns": null,
      "grid_template_rows": null,
      "height": null,
      "justify_content": null,
      "justify_items": null,
      "left": null,
      "margin": null,
      "max_height": null,
      "max_width": null,
      "min_height": null,
      "min_width": null,
      "object_fit": null,
      "object_position": null,
      "order": null,
      "overflow": null,
      "overflow_x": null,
      "overflow_y": null,
      "padding": null,
      "right": null,
      "top": null,
      "visibility": null,
      "width": null
     }
    },
    "a6d80599ec004cac90a0f4ab97481289": {
     "model_module": "@jupyter-widgets/controls",
     "model_module_version": "1.5.0",
     "model_name": "DescriptionStyleModel",
     "state": {
      "_model_module": "@jupyter-widgets/controls",
      "_model_module_version": "1.5.0",
      "_model_name": "DescriptionStyleModel",
      "_view_count": null,
      "_view_module": "@jupyter-widgets/base",
      "_view_module_version": "1.2.0",
      "_view_name": "StyleView",
      "description_width": ""
     }
    },
    "ae5dd1f57d6044f5a2c6eb4c66800cb2": {
     "model_module": "@jupyter-widgets/controls",
     "model_module_version": "1.5.0",
     "model_name": "HTMLModel",
     "state": {
      "_dom_classes": [],
      "_model_module": "@jupyter-widgets/controls",
      "_model_module_version": "1.5.0",
      "_model_name": "HTMLModel",
      "_view_count": null,
      "_view_module": "@jupyter-widgets/controls",
      "_view_module_version": "1.5.0",
      "_view_name": "HTMLView",
      "description": "",
      "description_tooltip": null,
      "layout": "IPY_MODEL_d2d1c9209637425eb4f8831989072970",
      "placeholder": "​",
      "style": "IPY_MODEL_f17de656a61d4f6a816e5098c31cee74",
      "value": " 26/100 [00:05&lt;00:15,  4.63it/s]"
     }
    },
    "c00a729d50654742b405dec72382e84a": {
     "model_module": "@jupyter-widgets/controls",
     "model_module_version": "1.5.0",
     "model_name": "HBoxModel",
     "state": {
      "_dom_classes": [],
      "_model_module": "@jupyter-widgets/controls",
      "_model_module_version": "1.5.0",
      "_model_name": "HBoxModel",
      "_view_count": null,
      "_view_module": "@jupyter-widgets/controls",
      "_view_module_version": "1.5.0",
      "_view_name": "HBoxView",
      "box_style": "",
      "children": [
       "IPY_MODEL_0ae63f9a1eb64499be9f838be4b5adc5",
       "IPY_MODEL_36ad999a0b7440f2942f6e1c3eac7ede",
       "IPY_MODEL_ae5dd1f57d6044f5a2c6eb4c66800cb2"
      ],
      "layout": "IPY_MODEL_0da12c42cf8042caa87a0a6459e93365"
     }
    },
    "c1bf2349edaf4a52b1b2cf3f56b3bc67": {
     "model_module": "@jupyter-widgets/controls",
     "model_module_version": "1.5.0",
     "model_name": "ProgressStyleModel",
     "state": {
      "_model_module": "@jupyter-widgets/controls",
      "_model_module_version": "1.5.0",
      "_model_name": "ProgressStyleModel",
      "_view_count": null,
      "_view_module": "@jupyter-widgets/base",
      "_view_module_version": "1.2.0",
      "_view_name": "StyleView",
      "bar_color": null,
      "description_width": ""
     }
    },
    "d2d1c9209637425eb4f8831989072970": {
     "model_module": "@jupyter-widgets/base",
     "model_module_version": "1.2.0",
     "model_name": "LayoutModel",
     "state": {
      "_model_module": "@jupyter-widgets/base",
      "_model_module_version": "1.2.0",
      "_model_name": "LayoutModel",
      "_view_count": null,
      "_view_module": "@jupyter-widgets/base",
      "_view_module_version": "1.2.0",
      "_view_name": "LayoutView",
      "align_content": null,
      "align_items": null,
      "align_self": null,
      "border": null,
      "bottom": null,
      "display": null,
      "flex": null,
      "flex_flow": null,
      "grid_area": null,
      "grid_auto_columns": null,
      "grid_auto_flow": null,
      "grid_auto_rows": null,
      "grid_column": null,
      "grid_gap": null,
      "grid_row": null,
      "grid_template_areas": null,
      "grid_template_columns": null,
      "grid_template_rows": null,
      "height": null,
      "justify_content": null,
      "justify_items": null,
      "left": null,
      "margin": null,
      "max_height": null,
      "max_width": null,
      "min_height": null,
      "min_width": null,
      "object_fit": null,
      "object_position": null,
      "order": null,
      "overflow": null,
      "overflow_x": null,
      "overflow_y": null,
      "padding": null,
      "right": null,
      "top": null,
      "visibility": null,
      "width": null
     }
    },
    "e47e82eae6ec43dbb00b52c2894e33c1": {
     "model_module": "@jupyter-widgets/controls",
     "model_module_version": "1.5.0",
     "model_name": "DescriptionStyleModel",
     "state": {
      "_model_module": "@jupyter-widgets/controls",
      "_model_module_version": "1.5.0",
      "_model_name": "DescriptionStyleModel",
      "_view_count": null,
      "_view_module": "@jupyter-widgets/base",
      "_view_module_version": "1.2.0",
      "_view_name": "StyleView",
      "description_width": ""
     }
    },
    "f17de656a61d4f6a816e5098c31cee74": {
     "model_module": "@jupyter-widgets/controls",
     "model_module_version": "1.5.0",
     "model_name": "DescriptionStyleModel",
     "state": {
      "_model_module": "@jupyter-widgets/controls",
      "_model_module_version": "1.5.0",
      "_model_name": "DescriptionStyleModel",
      "_view_count": null,
      "_view_module": "@jupyter-widgets/base",
      "_view_module_version": "1.2.0",
      "_view_name": "StyleView",
      "description_width": ""
     }
    },
    "f426d12609a74cf7a1a9995a5e9bb0f0": {
     "model_module": "@jupyter-widgets/base",
     "model_module_version": "1.2.0",
     "model_name": "LayoutModel",
     "state": {
      "_model_module": "@jupyter-widgets/base",
      "_model_module_version": "1.2.0",
      "_model_name": "LayoutModel",
      "_view_count": null,
      "_view_module": "@jupyter-widgets/base",
      "_view_module_version": "1.2.0",
      "_view_name": "LayoutView",
      "align_content": null,
      "align_items": null,
      "align_self": null,
      "border": null,
      "bottom": null,
      "display": null,
      "flex": null,
      "flex_flow": null,
      "grid_area": null,
      "grid_auto_columns": null,
      "grid_auto_flow": null,
      "grid_auto_rows": null,
      "grid_column": null,
      "grid_gap": null,
      "grid_row": null,
      "grid_template_areas": null,
      "grid_template_columns": null,
      "grid_template_rows": null,
      "height": null,
      "justify_content": null,
      "justify_items": null,
      "left": null,
      "margin": null,
      "max_height": null,
      "max_width": null,
      "min_height": null,
      "min_width": null,
      "object_fit": null,
      "object_position": null,
      "order": null,
      "overflow": null,
      "overflow_x": null,
      "overflow_y": null,
      "padding": null,
      "right": null,
      "top": null,
      "visibility": null,
      "width": null
     }
    }
   }
  }
 },
 "nbformat": 4,
 "nbformat_minor": 0
}
